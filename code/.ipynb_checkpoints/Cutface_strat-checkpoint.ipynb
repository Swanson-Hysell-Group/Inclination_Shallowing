{
 "cells": [
  {
   "cell_type": "markdown",
   "metadata": {},
   "source": [
    "# Cutface Creek stratigraphy compilation using Pystrat"
   ]
  },
  {
   "cell_type": "code",
   "execution_count": 1,
   "metadata": {},
   "outputs": [],
   "source": [
    "# standard modules\n",
    "import pandas as pd\n",
    "import numpy as np\n",
    "import matplotlib.pyplot as plt\n",
    "from IPython.display import display\n",
    "# pystrat\n",
    "from pystrat import pystrat"
   ]
  },
  {
   "cell_type": "markdown",
   "metadata": {},
   "source": [
    "## import strat data"
   ]
  },
  {
   "cell_type": "code",
   "execution_count": 2,
   "metadata": {},
   "outputs": [
    {
     "data": {
      "text/html": [
       "<div>\n",
       "<style scoped>\n",
       "    .dataframe tbody tr th:only-of-type {\n",
       "        vertical-align: middle;\n",
       "    }\n",
       "\n",
       "    .dataframe tbody tr th {\n",
       "        vertical-align: top;\n",
       "    }\n",
       "\n",
       "    .dataframe thead th {\n",
       "        text-align: right;\n",
       "    }\n",
       "</style>\n",
       "<table border=\"1\" class=\"dataframe\">\n",
       "  <thead>\n",
       "    <tr style=\"text-align: right;\">\n",
       "      <th></th>\n",
       "      <th>thickness</th>\n",
       "      <th>lithology</th>\n",
       "      <th>grain size</th>\n",
       "      <th>structure</th>\n",
       "      <th>note</th>\n",
       "    </tr>\n",
       "  </thead>\n",
       "  <tbody>\n",
       "    <tr>\n",
       "      <th>0</th>\n",
       "      <td>3.2</td>\n",
       "      <td>basalt</td>\n",
       "      <td>igneous</td>\n",
       "      <td>NaN</td>\n",
       "      <td>massive</td>\n",
       "    </tr>\n",
       "    <tr>\n",
       "      <th>1</th>\n",
       "      <td>3.9</td>\n",
       "      <td>basalt</td>\n",
       "      <td>igneous</td>\n",
       "      <td>NaN</td>\n",
       "      <td>amygdaoidal</td>\n",
       "    </tr>\n",
       "    <tr>\n",
       "      <th>2</th>\n",
       "      <td>0.6</td>\n",
       "      <td>basalt</td>\n",
       "      <td>igneous</td>\n",
       "      <td>NaN</td>\n",
       "      <td>NaN</td>\n",
       "    </tr>\n",
       "    <tr>\n",
       "      <th>3</th>\n",
       "      <td>0.9</td>\n",
       "      <td>conglomerate</td>\n",
       "      <td>C</td>\n",
       "      <td>NaN</td>\n",
       "      <td>NaN</td>\n",
       "    </tr>\n",
       "    <tr>\n",
       "      <th>4</th>\n",
       "      <td>1.7</td>\n",
       "      <td>arkose</td>\n",
       "      <td>M</td>\n",
       "      <td>ripple</td>\n",
       "      <td>NaN</td>\n",
       "    </tr>\n",
       "  </tbody>\n",
       "</table>\n",
       "</div>"
      ],
      "text/plain": [
       "   thickness     lithology grain size structure         note\n",
       "0        3.2        basalt    igneous       NaN      massive\n",
       "1        3.9        basalt    igneous       NaN  amygdaoidal\n",
       "2        0.6        basalt    igneous       NaN          NaN\n",
       "3        0.9  conglomerate          C       NaN          NaN\n",
       "4        1.7        arkose          M    ripple          NaN"
      ]
     },
     "metadata": {},
     "output_type": "display_data"
    }
   ],
   "source": [
    "# read in your lithostratigraphy data\n",
    "strat = pd.read_csv('../data/strat/strat.csv')\n",
    "# color = pd.read_csv('../data/strat/color.csv')\n",
    "# width = pd.read_csv('../data/strat/width.csv')\n",
    "\n",
    "display(strat.head())\n",
    "# display(color.head())\n",
    "# display(width.head())"
   ]
  },
  {
   "cell_type": "code",
   "execution_count": 3,
   "metadata": {},
   "outputs": [
    {
     "data": {
      "text/plain": [
       "array(['basalt', 'conglomerate', 'arkose', 'cover', 'sandstone', 'tuff',\n",
       "       'siltstone'], dtype=object)"
      ]
     },
     "execution_count": 3,
     "metadata": {},
     "output_type": "execute_result"
    }
   ],
   "source": [
    "strat.lithology.unique()"
   ]
  },
  {
   "cell_type": "code",
   "execution_count": 4,
   "metadata": {},
   "outputs": [
    {
     "data": {
      "text/plain": [
       "array(['igneous', 'C', 'M', 'cover', 'F', 'VF'], dtype=object)"
      ]
     },
     "execution_count": 4,
     "metadata": {},
     "output_type": "execute_result"
    }
   ],
   "source": [
    "strat['grain size'].unique()"
   ]
  },
  {
   "cell_type": "code",
   "execution_count": 5,
   "metadata": {},
   "outputs": [
    {
     "data": {
      "text/plain": [
       "basalt                grey\n",
       "conglomerate    darkorange\n",
       "arkose              orange\n",
       "cover                white\n",
       "sandstone           yellow\n",
       "siltstone             peru\n",
       "tuff             lightgrey\n",
       "dtype: object"
      ]
     },
     "execution_count": 5,
     "metadata": {},
     "output_type": "execute_result"
    }
   ],
   "source": [
    "lithology = ['basalt', 'conglomerate', 'arkose', 'cover', 'sandstone', 'siltstone', 'tuff']\n",
    "color = ['grey', 'darkorange', 'orange', 'white', 'yellow', 'peru', 'lightgrey']\n",
    "color_chart = pd.Series(index=lithology, data = color)\n",
    "color_chart"
   ]
  },
  {
   "cell_type": "code",
   "execution_count": 6,
   "metadata": {},
   "outputs": [
    {
     "data": {
      "text/plain": [
       "igneous    1.0\n",
       "C          0.8\n",
       "M          0.6\n",
       "cover      0.0\n",
       "F          0.4\n",
       "VF         0.2\n",
       "dtype: float64"
      ]
     },
     "execution_count": 6,
     "metadata": {},
     "output_type": "execute_result"
    }
   ],
   "source": [
    "grain_size = ['igneous', 'C', 'M', 'cover', 'F', 'VF']\n",
    "widths = [1, 0.8, 0.6, 0, 0.4, 0.2]\n",
    "width_chart = pd.Series(index=grain_size, data = widths)\n",
    "width_chart"
   ]
  },
  {
   "cell_type": "code",
   "execution_count": 7,
   "metadata": {},
   "outputs": [
    {
     "data": {
      "text/html": [
       "<div>\n",
       "<style scoped>\n",
       "    .dataframe tbody tr th:only-of-type {\n",
       "        vertical-align: middle;\n",
       "    }\n",
       "\n",
       "    .dataframe tbody tr th {\n",
       "        vertical-align: top;\n",
       "    }\n",
       "\n",
       "    .dataframe thead th {\n",
       "        text-align: right;\n",
       "    }\n",
       "</style>\n",
       "<table border=\"1\" class=\"dataframe\">\n",
       "  <thead>\n",
       "    <tr style=\"text-align: right;\">\n",
       "      <th></th>\n",
       "      <th>thickness</th>\n",
       "      <th>lithology</th>\n",
       "      <th>grain size</th>\n",
       "      <th>structure</th>\n",
       "      <th>note</th>\n",
       "      <th>color</th>\n",
       "      <th>width</th>\n",
       "    </tr>\n",
       "  </thead>\n",
       "  <tbody>\n",
       "    <tr>\n",
       "      <th>0</th>\n",
       "      <td>3.2</td>\n",
       "      <td>basalt</td>\n",
       "      <td>igneous</td>\n",
       "      <td>NaN</td>\n",
       "      <td>massive</td>\n",
       "      <td>grey</td>\n",
       "      <td>1.0</td>\n",
       "    </tr>\n",
       "    <tr>\n",
       "      <th>1</th>\n",
       "      <td>3.9</td>\n",
       "      <td>basalt</td>\n",
       "      <td>igneous</td>\n",
       "      <td>NaN</td>\n",
       "      <td>amygdaoidal</td>\n",
       "      <td>grey</td>\n",
       "      <td>1.0</td>\n",
       "    </tr>\n",
       "    <tr>\n",
       "      <th>2</th>\n",
       "      <td>0.6</td>\n",
       "      <td>basalt</td>\n",
       "      <td>igneous</td>\n",
       "      <td>NaN</td>\n",
       "      <td>NaN</td>\n",
       "      <td>grey</td>\n",
       "      <td>1.0</td>\n",
       "    </tr>\n",
       "    <tr>\n",
       "      <th>3</th>\n",
       "      <td>0.9</td>\n",
       "      <td>conglomerate</td>\n",
       "      <td>C</td>\n",
       "      <td>NaN</td>\n",
       "      <td>NaN</td>\n",
       "      <td>darkorange</td>\n",
       "      <td>0.8</td>\n",
       "    </tr>\n",
       "    <tr>\n",
       "      <th>4</th>\n",
       "      <td>1.7</td>\n",
       "      <td>arkose</td>\n",
       "      <td>M</td>\n",
       "      <td>ripple</td>\n",
       "      <td>NaN</td>\n",
       "      <td>orange</td>\n",
       "      <td>0.6</td>\n",
       "    </tr>\n",
       "    <tr>\n",
       "      <th>5</th>\n",
       "      <td>0.6</td>\n",
       "      <td>cover</td>\n",
       "      <td>cover</td>\n",
       "      <td>NaN</td>\n",
       "      <td>NaN</td>\n",
       "      <td>white</td>\n",
       "      <td>0.0</td>\n",
       "    </tr>\n",
       "    <tr>\n",
       "      <th>6</th>\n",
       "      <td>1.0</td>\n",
       "      <td>arkose</td>\n",
       "      <td>M</td>\n",
       "      <td>NaN</td>\n",
       "      <td>NaN</td>\n",
       "      <td>orange</td>\n",
       "      <td>0.6</td>\n",
       "    </tr>\n",
       "    <tr>\n",
       "      <th>7</th>\n",
       "      <td>0.7</td>\n",
       "      <td>cover</td>\n",
       "      <td>cover</td>\n",
       "      <td>NaN</td>\n",
       "      <td>NaN</td>\n",
       "      <td>white</td>\n",
       "      <td>0.0</td>\n",
       "    </tr>\n",
       "    <tr>\n",
       "      <th>8</th>\n",
       "      <td>3.4</td>\n",
       "      <td>arkose</td>\n",
       "      <td>F</td>\n",
       "      <td>NaN</td>\n",
       "      <td>NaN</td>\n",
       "      <td>orange</td>\n",
       "      <td>0.4</td>\n",
       "    </tr>\n",
       "    <tr>\n",
       "      <th>9</th>\n",
       "      <td>0.2</td>\n",
       "      <td>arkose</td>\n",
       "      <td>M</td>\n",
       "      <td>trough x-bed</td>\n",
       "      <td>NaN</td>\n",
       "      <td>orange</td>\n",
       "      <td>0.6</td>\n",
       "    </tr>\n",
       "  </tbody>\n",
       "</table>\n",
       "</div>"
      ],
      "text/plain": [
       "   thickness     lithology grain size     structure         note       color  \\\n",
       "0        3.2        basalt    igneous           NaN      massive        grey   \n",
       "1        3.9        basalt    igneous           NaN  amygdaoidal        grey   \n",
       "2        0.6        basalt    igneous           NaN          NaN        grey   \n",
       "3        0.9  conglomerate          C           NaN          NaN  darkorange   \n",
       "4        1.7        arkose          M        ripple          NaN      orange   \n",
       "5        0.6         cover      cover           NaN          NaN       white   \n",
       "6        1.0        arkose          M           NaN          NaN      orange   \n",
       "7        0.7         cover      cover           NaN          NaN       white   \n",
       "8        3.4        arkose          F           NaN          NaN      orange   \n",
       "9        0.2        arkose          M  trough x-bed          NaN      orange   \n",
       "\n",
       "   width  \n",
       "0    1.0  \n",
       "1    1.0  \n",
       "2    1.0  \n",
       "3    0.8  \n",
       "4    0.6  \n",
       "5    0.0  \n",
       "6    0.6  \n",
       "7    0.0  \n",
       "8    0.4  \n",
       "9    0.6  "
      ]
     },
     "execution_count": 7,
     "metadata": {},
     "output_type": "execute_result"
    }
   ],
   "source": [
    "strat['color'] = [color_chart[i] for i in strat['lithology']]\n",
    "strat['width'] = [width_chart[i] for i in strat['grain size']]\n",
    "strat.head(10)"
   ]
  },
  {
   "cell_type": "markdown",
   "metadata": {},
   "source": [
    "## rough strat column"
   ]
  },
  {
   "cell_type": "code",
   "execution_count": 8,
   "metadata": {},
   "outputs": [
    {
     "data": {
      "image/png": "[encoded data removed]",
      "text/plain": [
       "<Figure size 216x848.376 with 1 Axes>"
      ]
     },
     "metadata": {
      "needs_background": "light"
     },
     "output_type": "display_data"
    }
   ],
   "source": [
    "# create a pystrat Section from the lithostratigraphy data\n",
    "section = pystrat.Section(strat['thickness'], strat['lithology'])\n",
    "\n",
    "# create a pystrat Style from the styling files\n",
    "style = pystrat.Style('facies',strat['lithology'],strat['color'],\n",
    "                         'facies',strat['lithology'],strat['width'],\n",
    "                         0.1, 2)\n",
    "\n",
    "# plot the Section using the Style\n",
    "fig, ax = pystrat.plot_stratigraphy(section, style)\n",
    "# ax.set_xlabel(['VF', 'F', 'M', 'C'])\n",
    "plt.show(fig)"
   ]
  },
  {
   "cell_type": "markdown",
   "metadata": {},
   "source": [
    "## "
   ]
  },
  {
   "cell_type": "markdown",
   "metadata": {},
   "source": [
    "## add specimen strat level info"
   ]
  },
  {
   "cell_type": "code",
   "execution_count": 9,
   "metadata": {},
   "outputs": [
    {
     "data": {
      "text/html": [
       "<div>\n",
       "<style scoped>\n",
       "    .dataframe tbody tr th:only-of-type {\n",
       "        vertical-align: middle;\n",
       "    }\n",
       "\n",
       "    .dataframe tbody tr th {\n",
       "        vertical-align: top;\n",
       "    }\n",
       "\n",
       "    .dataframe thead th {\n",
       "        text-align: right;\n",
       "    }\n",
       "</style>\n",
       "<table border=\"1\" class=\"dataframe\">\n",
       "  <thead>\n",
       "    <tr style=\"text-align: right;\">\n",
       "      <th></th>\n",
       "      <th>sample_name</th>\n",
       "      <th>strat_level</th>\n",
       "    </tr>\n",
       "  </thead>\n",
       "  <tbody>\n",
       "    <tr>\n",
       "      <th>0</th>\n",
       "      <td>1a</td>\n",
       "      <td>1.1</td>\n",
       "    </tr>\n",
       "    <tr>\n",
       "      <th>1</th>\n",
       "      <td>2a</td>\n",
       "      <td>1.5</td>\n",
       "    </tr>\n",
       "    <tr>\n",
       "      <th>2</th>\n",
       "      <td>3a</td>\n",
       "      <td>1.8</td>\n",
       "    </tr>\n",
       "    <tr>\n",
       "      <th>3</th>\n",
       "      <td>4a</td>\n",
       "      <td>2.2</td>\n",
       "    </tr>\n",
       "    <tr>\n",
       "      <th>4</th>\n",
       "      <td>5a</td>\n",
       "      <td>2.6</td>\n",
       "    </tr>\n",
       "  </tbody>\n",
       "</table>\n",
       "</div>"
      ],
      "text/plain": [
       "  sample_name  strat_level\n",
       "0          1a          1.1\n",
       "1          2a          1.5\n",
       "2          3a          1.8\n",
       "3          4a          2.2\n",
       "4          5a          2.6"
      ]
     },
     "execution_count": 9,
     "metadata": {},
     "output_type": "execute_result"
    }
   ],
   "source": [
    "specimen_level = pd.read_csv('../data/specimen_strat_height.csv')\n",
    "specimen_level.head()"
   ]
  },
  {
   "cell_type": "code",
   "execution_count": 10,
   "metadata": {},
   "outputs": [
    {
     "data": {
      "image/png": "[encoded data removed]",
      "text/plain": [
       "<Figure size 324x848.376 with 2 Axes>"
      ]
     },
     "metadata": {
      "needs_background": "light"
     },
     "output_type": "display_data"
    }
   ],
   "source": [
    "\n",
    "fig, ax = pystrat.plot_stratigraphy(section, style, ncols = 2)\n",
    "\n",
    "ax[1].scatter(np.zeros(len(specimen_level['strat_level']))+np.random.uniform(low=-1, high=1, size=len(specimen_level['strat_level']))/10, specimen_level['strat_level'], 25, marker = '^')\n",
    "ax[1].set_xlim(-1,1)\n",
    "ax[1].set_xlabel('$\\delta^{13}$C')\n",
    "\n",
    "plt.show()"
   ]
  },
  {
   "cell_type": "code",
   "execution_count": null,
   "metadata": {},
   "outputs": [],
   "source": []
  },
  {
   "cell_type": "code",
   "execution_count": null,
   "metadata": {},
   "outputs": [],
   "source": []
  },
  {
   "cell_type": "code",
   "execution_count": null,
   "metadata": {},
   "outputs": [],
   "source": []
  },
  {
   "cell_type": "code",
   "execution_count": null,
   "metadata": {},
   "outputs": [],
   "source": []
  },
  {
   "cell_type": "code",
   "execution_count": null,
   "metadata": {},
   "outputs": [],
   "source": []
  },
  {
   "cell_type": "code",
   "execution_count": null,
   "metadata": {},
   "outputs": [],
   "source": []
  },
  {
   "cell_type": "code",
   "execution_count": null,
   "metadata": {},
   "outputs": [],
   "source": []
  }
 ],
 "metadata": {
  "kernelspec": {
   "display_name": "Python 3",
   "language": "python",
   "name": "python3"
  },
  "language_info": {
   "codemirror_mode": {
    "name": "ipython",
    "version": 3
   },
   "file_extension": ".py",
   "mimetype": "text/x-python",
   "name": "python",
   "nbconvert_exporter": "python",
   "pygments_lexer": "ipython3",
   "version": "3.7.6"
  }
 },
 "nbformat": 4,
 "nbformat_minor": 4
}
