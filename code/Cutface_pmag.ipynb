{
 "cells": [
  {
   "cell_type": "markdown",
   "metadata": {},
   "source": [
    "# Notebook for Curface Creek Sandstone pmag compilation"
   ]
  },
  {
   "cell_type": "markdown",
   "metadata": {},
   "source": [
    "## import packages"
   ]
  },
  {
   "cell_type": "code",
   "execution_count": null,
   "metadata": {},
   "outputs": [],
   "source": [
    "import numpy as np\n",
    "import pandas as pd\n",
    "pd.set_option('display.max_columns', None)\n",
    "\n",
    "import pmagpy.ipmag as ipmag\n",
    "import pmagpy.pmag as pmag\n",
    "\n",
    "import matplotlib.pyplot as plt\n",
    "from IPython.display import display\n",
    "import matplotlib as mpl\n",
    "from matplotlib import cm\n",
    "\n",
    "%config InlineBackend.figure_format = 'retina'"
   ]
  },
  {
   "cell_type": "code",
   "execution_count": null,
   "metadata": {},
   "outputs": [],
   "source": [
    "Cutface_specimens = pd.read_csv('../data/Pmag/cutface/specimens.txt', sep='\\t', header=1)\n",
    "\n",
    "Cutface_lat = 47.73055\n",
    "Cutface_lon = -90.44128"
   ]
  },
  {
   "cell_type": "markdown",
   "metadata": {},
   "source": [
    "## Plot directions"
   ]
  },
  {
   "cell_type": "code",
   "execution_count": null,
   "metadata": {},
   "outputs": [],
   "source": [
    "specimens_lt_geo = Cutface_specimens[(Cutface_specimens['dir_comp']=='lt') & (Cutface_specimens['dir_tilt_correction']==0)]\n",
    "specimens_lt_tc = Cutface_specimens[(Cutface_specimens['dir_comp']=='lt') & (Cutface_specimens['dir_tilt_correction']==100)]\n",
    "\n",
    "specimens_mt_geo = Cutface_specimens[(Cutface_specimens['dir_comp']=='mt') & (Cutface_specimens['dir_tilt_correction']==0)]\n",
    "specimens_mt_tc = Cutface_specimens[(Cutface_specimens['dir_comp']=='mt') & (Cutface_specimens['dir_tilt_correction']==100)]\n",
    "\n",
    "specimens_ht_geo = Cutface_specimens[(Cutface_specimens['dir_comp']=='ht') & (Cutface_specimens['dir_tilt_correction']==0)]\n",
    "specimens_ht_tc = Cutface_specimens[(Cutface_specimens['dir_comp']=='ht') & (Cutface_specimens['dir_tilt_correction']==100)]"
   ]
  },
  {
   "cell_type": "code",
   "execution_count": null,
   "metadata": {},
   "outputs": [],
   "source": [
    "specimens_lt_geo.head()"
   ]
  },
  {
   "cell_type": "code",
   "execution_count": null,
   "metadata": {},
   "outputs": [],
   "source": [
    "mean_lt = ipmag.fisher_mean(specimens_lt_geo['dir_dec'].tolist(),specimens_lt_geo['dir_inc'].tolist())\n",
    "mean_lt"
   ]
  },
  {
   "cell_type": "code",
   "execution_count": null,
   "metadata": {},
   "outputs": [],
   "source": [
    "mean_mt = ipmag.fisher_mean(specimens_mt_tc['dir_dec'].tolist(),specimens_mt_tc['dir_inc'].tolist())\n",
    "mean_mt"
   ]
  },
  {
   "cell_type": "code",
   "execution_count": null,
   "metadata": {},
   "outputs": [],
   "source": [
    "mean_ht = ipmag.fisher_mean(specimens_ht_tc['dir_dec'].tolist(),specimens_ht_tc['dir_inc'].tolist())\n",
    "mean_ht"
   ]
  },
  {
   "cell_type": "code",
   "execution_count": null,
   "metadata": {},
   "outputs": [],
   "source": [
    "fignum = 1\n",
    "plt.figure(num=fignum,figsize=(6,6))\n",
    "ipmag.plot_net(fignum)\n",
    "\n",
    "ipmag.plot_di(specimens_lt_geo['dir_dec'].tolist(),specimens_lt_geo['dir_inc'].tolist(),color='lightblue',label='low temp directions')\n",
    "ipmag.plot_di(specimens_mt_tc['dir_dec'].tolist(),specimens_mt_tc['dir_inc'].tolist(),color='tomato',label='mid temp directions')\n",
    "ipmag.plot_di(specimens_ht_tc['dir_dec'].tolist(),specimens_ht_tc['dir_inc'].tolist(),color='lightgreen',label='high temp directions')\n",
    "\n",
    "ipmag.plot_di_mean(mean_lt['dec'],mean_lt['inc'],mean_lt['alpha95'],\n",
    "                   color='darkblue', marker = 's', label='low temp component mean (geographic)')\n",
    "ipmag.plot_di_mean(mean_mt['dec'],mean_mt['inc'],mean_mt['alpha95'],\n",
    "                   color='darkred', marker = 's', label='mid temp component (tilt-corrected)')\n",
    "ipmag.plot_di_mean(mean_ht['dec'],mean_ht['inc'],mean_ht['alpha95'],\n",
    "                   color='darkgreen', marker = 's', label='high temp component (tilt-corrected)')\n",
    "\n",
    "plt.legend(loc=8)\n",
    "plt.savefig('code_output/specimen_directions.pdf')\n",
    "plt.show()"
   ]
  },
  {
   "cell_type": "code",
   "execution_count": null,
   "metadata": {},
   "outputs": [],
   "source": [
    "fignum = 1\n",
    "plt.figure(num=fignum,figsize=(6,6))\n",
    "ipmag.plot_net(fignum)\n",
    "\n",
    "ipmag.plot_di_mean(mean_lt['dec'],mean_lt['inc'],mean_lt['alpha95'],\n",
    "                   color='purple', marker = 's', label='low temp component (geographic)')\n",
    "ipmag.plot_di_mean(mean_mt['dec'],mean_mt['inc'],mean_mt['alpha95'],\n",
    "                   color='orange', marker = 's', label='mid temp component (tilt-corrected)')\n",
    "ipmag.plot_di_mean(mean_ht['dec'],mean_ht['inc'],mean_ht['alpha95'],\n",
    "                   color='green', marker = 's', label='high temp component (tilt-corrected)')\n",
    "\n",
    "plt.legend(loc=8)\n",
    "plt.title('component means')\n",
    "plt.show()"
   ]
  },
  {
   "cell_type": "markdown",
   "metadata": {},
   "source": [
    "## Plot IGRF, dipole, CF, and NSVG together"
   ]
  },
  {
   "cell_type": "markdown",
   "metadata": {},
   "source": [
    "### Local geomagnetic field \n",
    "\n",
    "Calculate the local geomagnetic field at the study site both using the IGRF model and the long-term dipole field using the dipole equation."
   ]
  },
  {
   "cell_type": "code",
   "execution_count": null,
   "metadata": {},
   "outputs": [],
   "source": [
    "local_igrf = ipmag.igrf([2020.7664, 188, Cutface_lat, Cutface_lon])\n",
    "local_igrf_dec = local_igrf[0]\n",
    "local_igrf_inc = local_igrf[1]\n",
    "\n",
    "local_dipole_dec = 0\n",
    "local_dipole_inc = ipmag.inc_from_lat(Cutface_lat)"
   ]
  },
  {
   "cell_type": "markdown",
   "metadata": {},
   "source": [
    "## Expected direction from NSVG\n",
    "\n",
    "Here we take the NSVG upper northeast sequence pole as calculated in Swanson-Hysell et al. 2019 and determine the predicted direction for the Cutface Creek section."
   ]
  },
  {
   "cell_type": "code",
   "execution_count": null,
   "metadata": {},
   "outputs": [],
   "source": [
    "NSVG_pole_lat = 31.1 \n",
    "NSVG_pole_lon = 181.7\n",
    "NSVG_A95 = 4.2\n",
    "\n",
    "NSVG_dec, NSVG_inc = pmag.vgp_di(NSVG_pole_lat,NSVG_pole_lon,Cutface_lat, Cutface_lon)"
   ]
  },
  {
   "cell_type": "code",
   "execution_count": null,
   "metadata": {},
   "outputs": [],
   "source": [
    "cf_igrf_nsvg_stereonet=plt.figure(num=fignum,figsize=(6,6))\n",
    "ipmag.plot_net(fignum)\n",
    "\n",
    "ipmag.plot_di_mean(NSVG_dec, NSVG_inc, NSVG_A95, label='NSVG Direction') #need to replace with direction A95\n",
    "ipmag.plot_di([local_igrf_dec],[local_igrf_inc], marker = '*', label='IGRF local field direction', markersize=80, color='mediumorchid')\n",
    "ipmag.plot_di([local_dipole_dec],[local_dipole_inc], marker = '^',label='dipole field direction',markersize=80, color='turquoise')\n",
    "\n",
    "ipmag.plot_di_mean(mean_lt['dec'],mean_lt['inc'],mean_lt['alpha95'],\n",
    "                   color='darkblue', marker = 's', label='low temp component (geographic)')\n",
    "ipmag.plot_di_mean(mean_mt['dec'],mean_mt['inc'],mean_mt['alpha95'],\n",
    "                   color='darkred', marker = 's', label='mid temp component (tilt-corrected)')\n",
    "ipmag.plot_di_mean(mean_ht['dec'],mean_ht['inc'],mean_ht['alpha95'],\n",
    "                   color='darkgreen', marker = 's', label='high temp component (tilt-corrected)')\n",
    "\n",
    "plt.legend(loc=8)\n",
    "cf_igrf_nsvg_stereonet.savefig('code_output/cf_igrf_nsvg_stereonet.pdf', bbox_inches='tight')\n",
    "plt.show()"
   ]
  },
  {
   "cell_type": "markdown",
   "metadata": {},
   "source": [
    "## Empirical flattening factor determination\n",
    "\n",
    "$tan(I_{observed}) = f*tan(I_{field})$\n",
    "\n",
    "$I_{observed}$ : inclination of sedimentary rock \\\n",
    "$I_{field}$ : inclination of local magnetic field when rock was magnetized \\\n",
    "$f$ : flattening factor\n",
    "\n",
    "$f = tan(I_{observed})/tan(I_{field})$"
   ]
  },
  {
   "cell_type": "code",
   "execution_count": null,
   "metadata": {},
   "outputs": [],
   "source": [
    "f_factor_ht_mt = np.tan(np.deg2rad(mean_ht['inc']))/np.tan(np.deg2rad(mean_mt['inc']))\n",
    "f_factor_ht_mt"
   ]
  },
  {
   "cell_type": "code",
   "execution_count": null,
   "metadata": {},
   "outputs": [],
   "source": [
    "f_factor_ht_NSVG = np.tan(np.deg2rad(mean_ht['inc']))/np.tan(np.deg2rad(NSVG_inc))\n",
    "f_factor_ht_NSVG"
   ]
  },
  {
   "cell_type": "markdown",
   "metadata": {},
   "source": [
    "**We need to progressive unflattening the ht directions and conduct common mean tests with the population of NSVG NE directions to determine the range of f factors.**"
   ]
  },
  {
   "cell_type": "code",
   "execution_count": null,
   "metadata": {},
   "outputs": [],
   "source": []
  },
  {
   "cell_type": "code",
   "execution_count": null,
   "metadata": {},
   "outputs": [],
   "source": [
    "ht_incs_NSVG_unsquish = ipmag.unsquish(specimens_ht_tc['dir_inc'].tolist(), f_factor_ht_NSVG)\n",
    "# calculate mean direction of high temp component after unsquishing\n",
    "ht_mean_NSVG_unsquish = ipmag.fisher_mean(dec=specimens_ht_tc['dir_dec'].tolist(), inc=ht_incs_NSVG_unsquish)"
   ]
  },
  {
   "cell_type": "code",
   "execution_count": null,
   "metadata": {},
   "outputs": [],
   "source": [
    "cf_igrf_nsvg_stereonet=plt.figure(num=fignum,figsize=(5,5))\n",
    "ipmag.plot_net(fignum)\n",
    "\n",
    "ipmag.plot_di_mean(NSVG_dec, NSVG_inc, NSVG_A95, label='NSVG Direction') #need to replace with direction A95\n",
    "\n",
    "ipmag.plot_di_mean(mean_mt['dec'],mean_mt['inc'],mean_mt['alpha95'],\n",
    "                   color='darkred', marker = 's', label='mid temp component (tilt-corrected)')\n",
    "ipmag.plot_di_mean(mean_ht['dec'],mean_ht['inc'],mean_ht['alpha95'],\n",
    "                   color='darkgreen', marker = 's', label='high temp component (tilt-corrected)')\n",
    "\n",
    "unsquish_label = 'high temp component (f=' + str(np.round(f_factor_ht_NSVG,2)) +  ' corrected)'\n",
    "ipmag.plot_di_mean(ht_mean_NSVG_unsquish['dec'],ht_mean_NSVG_unsquish['inc'],ht_mean_NSVG_unsquish['alpha95'],\n",
    "                   color='mediumseagreen', marker = 's', label=unsquish_label)\n",
    "\n",
    "plt.legend(loc=8)\n",
    "plt.show()"
   ]
  },
  {
   "cell_type": "code",
   "execution_count": null,
   "metadata": {},
   "outputs": [],
   "source": []
  },
  {
   "cell_type": "code",
   "execution_count": null,
   "metadata": {},
   "outputs": [],
   "source": []
  },
  {
   "cell_type": "markdown",
   "metadata": {},
   "source": [
    "## let's try different unsquishing factors"
   ]
  },
  {
   "cell_type": "code",
   "execution_count": null,
   "metadata": {},
   "outputs": [],
   "source": [
    "def unsquish_factors(decs, incs, n=5):\n",
    "    # this function explores different unsquishing factors upon CF ht directions\n",
    "    fignum = 1\n",
    "    plt.figure(num=fignum,figsize=(8,8))\n",
    "    ipmag.plot_net(fignum)\n",
    "    factors = np.linspace(0.1,1, num=n)\n",
    "    \n",
    "    undquished_mean_list = [] \n",
    "    for i in range(len(factors)):\n",
    "        unsquished_incs = ipmag.unsquish(incs , factors[i])\n",
    "        unsquished_mean = ipmag.fisher_mean(decs, unsquished_incs)\n",
    "        undquished_mean_list.append(unsquished_mean)\n",
    "        ipmag.plot_di_mean(unsquished_mean['dec'],unsquished_mean['inc'],unsquished_mean['alpha95'],\n",
    "                   color='C'+str(i), marker = 'd', label='high temp component unsquished with factor '+str(round(factors[i], 1)))\n",
    "    plt.legend(loc=8)\n",
    "    return undquished_mean_list\n",
    "# calculate mean direction of high temp component after unsquishing"
   ]
  },
  {
   "cell_type": "code",
   "execution_count": null,
   "metadata": {},
   "outputs": [],
   "source": [
    "CF_undquished_mean_list = unsquish_factors(specimens_ht_tc['dir_dec'].tolist(), specimens_ht_tc['dir_inc'].tolist(), n=10) \n",
    "ipmag.plot_di_mean(mean_mt['dec'],mean_mt['inc'],mean_mt['alpha95'],\n",
    "                   color='black', marker = 's', label='mid temp component (tilt-corrected)')"
   ]
  },
  {
   "cell_type": "code",
   "execution_count": null,
   "metadata": {},
   "outputs": [],
   "source": [
    "CF_undquished_mean_list[:5]"
   ]
  },
  {
   "cell_type": "markdown",
   "metadata": {},
   "source": [
    "## plot everything as poles"
   ]
  },
  {
   "cell_type": "code",
   "execution_count": null,
   "metadata": {},
   "outputs": [],
   "source": [
    "NSVG_NE_plon = 181.7\n",
    "NSVG_NE_plat = 31.1\n",
    "\n",
    "CF_lat = 47.7\n",
    "CF_lon = -90.44\n",
    "\n",
    "    \n",
    "plt.figure(figsize=(5, 5))\n",
    "map_axis=ipmag.make_orthographic_map(central_longitude=200,central_latitude=20)\n",
    "\n",
    "ipmag.plot_pole(map_axis,188,28,2.5,label='Schroeder Lutsen Basalts', marker='s',color='Blue')\n",
    "ipmag.plot_pole(map_axis,182,31,4.2,label='North Shore Volcanic Group (upper NE)',marker='s',color='Red')\n",
    "\n",
    "for i, mean_dir in enumerate(CF_undquished_mean_list):\n",
    "    plon, plat, dp, dm = pmag.dia_vgp(mean_dir['dec'], mean_dir['inc'], mean_dir['alpha95'], CF_lat, CF_lon)\n",
    "    \n",
    "    ipmag.plot_pole(map_axis,plon,plat, mean_dir['alpha95'],label='CF pole unsquished by: '+ str(i/len(CF_undquished_mean_list)),\n",
    "               marker='s',color='C'+str(i))\n",
    "\n",
    "plt.legend()\n",
    "plt.show()"
   ]
  },
  {
   "cell_type": "markdown",
   "metadata": {},
   "source": [
    "## Plot theoretical expected inclination vs observed inclination"
   ]
  },
  {
   "cell_type": "code",
   "execution_count": null,
   "metadata": {},
   "outputs": [],
   "source": [
    "expected_incs = np.linspace(0,90,91)\n",
    "expected_incs_rad = expected_incs*(np.pi/180)\n",
    "measured_inc_f_9 = (180/np.pi)*np.arctan(np.tan(expected_incs_rad)*.9)\n",
    "measured_inc_f_8 = (180/np.pi)*np.arctan(np.tan(expected_incs_rad)*.8)\n",
    "measured_inc_f_7 = (180/np.pi)*np.arctan(np.tan(expected_incs_rad)*.7)\n",
    "measured_inc_f_6 = (180/np.pi)*np.arctan(np.tan(expected_incs_rad)*.6)\n",
    "measured_inc_f_5 = (180/np.pi)*np.arctan(np.tan(expected_incs_rad)*.5)\n",
    "measured_inc_f_4 = (180/np.pi)*np.arctan(np.tan(expected_incs_rad)*.4)\n",
    "measured_inc_f_3 = (180/np.pi)*np.arctan(np.tan(expected_incs_rad)*.3)\n",
    "measured_inc_f_2 = (180/np.pi)*np.arctan(np.tan(expected_incs_rad)*.2)\n",
    "measured_inc_f_1 = (180/np.pi)*np.arctan(np.tan(expected_incs_rad)*.1)\n",
    "measured_inc_f_05 = (180/np.pi)*np.arctan(np.tan(expected_incs_rad)*.05)"
   ]
  },
  {
   "cell_type": "code",
   "execution_count": null,
   "metadata": {},
   "outputs": [],
   "source": [
    "NE_NSVG_inc = 40.3\n",
    "\n",
    "nsvg_f_9 = ipmag.squish(NE_NSVG_inc,.9)\n",
    "nsvg_f_8 = ipmag.squish(NE_NSVG_inc,.8)\n",
    "nsvg_f_7 = ipmag.squish(NE_NSVG_inc,.7)\n",
    "nsvg_f_6 = ipmag.squish(NE_NSVG_inc,.6)\n",
    "nsvg_f_5 = ipmag.squish(NE_NSVG_inc,.5)\n",
    "nsvg_f_4 = ipmag.squish(NE_NSVG_inc,.4)\n",
    "nsvg_f_3 = ipmag.squish(NE_NSVG_inc,.3)"
   ]
  },
  {
   "cell_type": "code",
   "execution_count": null,
   "metadata": {},
   "outputs": [],
   "source": [
    "viridis = cm.get_cmap('viridis', 7)"
   ]
  },
  {
   "cell_type": "code",
   "execution_count": null,
   "metadata": {},
   "outputs": [],
   "source": [
    "obs_vs_measure_plot = plt.figure(figsize=(5,5))\n",
    "plt.plot([0,90],[0,90], label='No flattening', color='black')\n",
    "plt.scatter(NE_NSVG_inc,NE_NSVG_inc,color='black',edgecolors='black',zorder=100)\n",
    "plt.plot(expected_incs,measured_inc_f_9, label='0.9', color=viridis(0))\n",
    "plt.scatter(NE_NSVG_inc,nsvg_f_9,color=viridis(0),edgecolors='black',zorder=100)\n",
    "plt.plot(expected_incs,measured_inc_f_8, label='0.8', color=viridis(1))\n",
    "plt.scatter(NE_NSVG_inc,nsvg_f_8,color=viridis(1),edgecolors='black',zorder=100)\n",
    "plt.plot(expected_incs,measured_inc_f_7, label='0.7', color=viridis(2))\n",
    "plt.scatter(NE_NSVG_inc,nsvg_f_7,color=viridis(2),edgecolors='black',zorder=100)\n",
    "plt.plot(expected_incs,measured_inc_f_6, label='0.6', color=viridis(3))\n",
    "plt.scatter(NE_NSVG_inc,nsvg_f_6,color=viridis(3),edgecolors='black',zorder=100)\n",
    "plt.plot(expected_incs,measured_inc_f_5, label='0.5', color=viridis(4))\n",
    "plt.scatter(NE_NSVG_inc,nsvg_f_5,color=viridis(4),edgecolors='black',zorder=100)\n",
    "plt.plot(expected_incs,measured_inc_f_4, label='0.4', color=viridis(5))\n",
    "plt.scatter(NE_NSVG_inc,nsvg_f_4,color=viridis(5),edgecolors='black',zorder=100)\n",
    "plt.plot(expected_incs,measured_inc_f_3, label='0.3', color=viridis(6))\n",
    "plt.scatter(NE_NSVG_inc,nsvg_f_3,color=viridis(6),edgecolors='black',zorder=100)\n",
    "#plt.plot(expected_incs,measured_inc_f_2)\n",
    "#plt.plot(expected_incs,measured_inc_f_1)\n",
    "#plt.plot(expected_incs,measured_inc_f_05)\n",
    "#plt.title('Corrected vs Observed Inclination')\n",
    "plt.legend(title='flattening factor (f)')\n",
    "plt.xlim(0,90)\n",
    "plt.ylim(0,90)\n",
    "plt.xlabel('field inclination')\n",
    "plt.ylabel('observed inclination')\n",
    "obs_vs_measure_plot.savefig('code_output/field_vs_measure_plot.pdf', bbox_inches='tight')\n",
    "plt.show()"
   ]
  },
  {
   "cell_type": "code",
   "execution_count": null,
   "metadata": {},
   "outputs": [],
   "source": [
    "upper_nsvg_shallowing = plt.figure(num=fignum,figsize=(4.5,4.5))\n",
    "ipmag.plot_net(fignum)\n",
    "ipmag.plot_di(291.3, 40.3, label='1.0: NSVG Direction' )\n",
    "ipmag.plot_di(291.3, nsvg_f_9, color=viridis(0), label='0.9',edge='black')\n",
    "ipmag.plot_di(291.3, nsvg_f_8, color=viridis(1), label='0.8',edge='black')\n",
    "ipmag.plot_di(291.3, nsvg_f_7, color=viridis(2), label='0.7',edge='black')\n",
    "ipmag.plot_di(291.3, nsvg_f_6, color=viridis(3), label='0.6',edge='black')\n",
    "ipmag.plot_di(291.3, nsvg_f_5, color=viridis(4), label='0.5',edge='black')\n",
    "ipmag.plot_di(291.3, nsvg_f_4, color=viridis(5), label='0.4',edge='black')\n",
    "ipmag.plot_di(291.3, nsvg_f_3, color=viridis(6), label='0.3',edge='black')\n",
    "plt.legend(loc=8,title='flattening factor (f)',bbox_to_anchor=(0.75,0.02))\n",
    "#plt.title('Shallowing of the Upper Northeast Sequence NSVG Direction', size=16)\n",
    "upper_nsvg_shallowing.savefig('code_output/upper_nsvg_shallowing.pdf', bbox_inches='tight')\n",
    "plt.show()"
   ]
  },
  {
   "cell_type": "markdown",
   "metadata": {},
   "source": [
    "## Simulate draws from a Fisher distribution and squish them"
   ]
  },
  {
   "cell_type": "code",
   "execution_count": null,
   "metadata": {},
   "outputs": [],
   "source": [
    "NSVG_sim = ipmag.fishrot(k=30,n=100,dec=291.3,inc=40.3)\n",
    "NSVG_sim_dec, NSVG_sim_inc, mag_moment = ipmag.unpack_di_block(NSVG_sim)\n",
    "\n",
    "NSVG_sim_inc_squished = ipmag.squish(NSVG_sim_inc, 0.6)"
   ]
  },
  {
   "cell_type": "code",
   "execution_count": null,
   "metadata": {},
   "outputs": [],
   "source": [
    "plt.figure(num=fignum,figsize=(5,5))\n",
    "ipmag.plot_net(fignum)\n",
    "ipmag.plot_di(NSVG_sim_dec, NSVG_sim_inc)\n",
    "ipmag.plot_di(NSVG_sim_dec, NSVG_sim_inc_squished,color=viridis(3))"
   ]
  },
  {
   "cell_type": "code",
   "execution_count": null,
   "metadata": {},
   "outputs": [],
   "source": [
    "NSVG_sim_mean = ipmag.fisher_mean(NSVG_sim_dec, NSVG_sim_inc)\n",
    "NSVG_sim_mean"
   ]
  },
  {
   "cell_type": "code",
   "execution_count": null,
   "metadata": {},
   "outputs": [],
   "source": [
    "NSVG_sim_squished_mean = ipmag.fisher_mean(NSVG_sim_dec, NSVG_sim_inc_squished)\n",
    "NSVG_sim_squished_mean"
   ]
  },
  {
   "cell_type": "code",
   "execution_count": null,
   "metadata": {},
   "outputs": [],
   "source": [
    "plt.figure(num=fignum,figsize=(5,5))\n",
    "ipmag.plot_net(fignum)\n",
    "ipmag.plot_di_mean(NSVG_sim_mean['dec'],NSVG_sim_mean['inc'],NSVG_sim_mean['alpha95'])\n",
    "ipmag.plot_di_mean(NSVG_sim_squished_mean['dec'],NSVG_sim_squished_mean['inc'],\n",
    "                   NSVG_sim_squished_mean['alpha95'],color=viridis(3))"
   ]
  },
  {
   "cell_type": "code",
   "execution_count": null,
   "metadata": {},
   "outputs": [],
   "source": []
  }
 ],
 "metadata": {
  "kernelspec": {
   "display_name": "Python 3",
   "language": "python",
   "name": "python3"
  },
  "language_info": {
   "codemirror_mode": {
    "name": "ipython",
    "version": 3
   },
   "file_extension": ".py",
   "mimetype": "text/x-python",
   "name": "python",
   "nbconvert_exporter": "python",
   "pygments_lexer": "ipython3",
   "version": "3.8.3"
  },
  "toc-autonumbering": false
 },
 "nbformat": 4,
 "nbformat_minor": 4
}
