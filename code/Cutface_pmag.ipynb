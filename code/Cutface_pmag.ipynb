{
 "cells": [
  {
   "cell_type": "markdown",
   "metadata": {},
   "source": [
    "# Notebook for Curface Creek Sandstone pmag compilation"
   ]
  },
  {
   "cell_type": "markdown",
   "metadata": {},
   "source": [
    "## import packages"
   ]
  },
  {
   "cell_type": "code",
   "execution_count": null,
   "metadata": {},
   "outputs": [],
   "source": [
    "import numpy as np\n",
    "import pandas as pd\n",
    "import pmagpy.ipmag as ipmag\n",
    "import pmagpy.pmag as pmag\n",
    "\n",
    "import matplotlib.pyplot as plt\n",
    "from IPython.display import display\n",
    "import matplotlib as mpl\n",
    "# mpl.rcParams['figure.dpi'] = 250\n",
    "%matplotlib inline\n",
    "%config InlineBackend.figure_format = 'retina'"
   ]
  },
  {
   "cell_type": "code",
   "execution_count": null,
   "metadata": {},
   "outputs": [],
   "source": [
    "# read in magic tables\n",
    "\n",
    "Cutface_specimens = pd.read_csv('../data/Pmag/2020_thermal_demag_1/specimens.txt', sep='\\t', header=1)\n",
    "Cutface_sites = pd.read_csv('../data/Pmag/2020_thermal_demag_1/sites.txt', sep='\\t', header=1)\n",
    "\n",
    "display(Cutface_specimens.head())\n",
    "# display(Cutafce_sites.head())"
   ]
  },
  {
   "cell_type": "markdown",
   "metadata": {},
   "source": [
    "## first plot site mean directions of differnt components"
   ]
  },
  {
   "cell_type": "code",
   "execution_count": null,
   "metadata": {},
   "outputs": [],
   "source": [
    "# filter site level data by component and tilt correction\n",
    "Cutface_sites_lt = Cutface_sites[(Cutface_sites['dir_comp_name']=='lt') & (Cutface_sites['dir_tilt_correction']==100)]\n",
    "Cutface_sites_mt = Cutface_sites[(Cutface_sites['dir_comp_name']=='mt') & (Cutface_sites['dir_tilt_correction']==100)]\n",
    "Cutface_sites_ht = Cutface_sites[(Cutface_sites['dir_comp_name']=='ht') & (Cutface_sites['dir_tilt_correction']==100)]"
   ]
  },
  {
   "cell_type": "code",
   "execution_count": null,
   "metadata": {},
   "outputs": [],
   "source": [
    "# pre tilt correction site mean directions\n",
    "fignum = 1\n",
    "plt.figure(num=fignum,figsize=(8,8))\n",
    "ipmag.plot_net(fignum)\n",
    "\n",
    "ipmag.plot_di_mean(Cutface_sites_lt['dir_dec'].tolist()[0],Cutface_sites_lt['dir_inc'].tolist()[0],Cutface_sites_lt['dir_alpha95'].tolist()[0],\n",
    "                   color='purple', marker = 's', label='low temp component')\n",
    "ipmag.plot_di_mean(Cutface_sites_mt['dir_dec'].tolist()[0],Cutface_sites_mt['dir_inc'].tolist()[0],Cutface_sites_mt['dir_alpha95'].tolist()[0],\n",
    "                   color='orange', marker = 's', label='mid temp component')\n",
    "ipmag.plot_di_mean(Cutface_sites_ht['dir_dec'].tolist()[0],Cutface_sites_ht['dir_inc'].tolist()[0],Cutface_sites_ht['dir_alpha95'].tolist()[0],\n",
    "                   color='green', marker = 's', label='high temp component')\n",
    "\n",
    "plt.legend(loc=8)\n",
    "plt.title('tilt corrected directions')\n",
    "plt.show()"
   ]
  },
  {
   "cell_type": "markdown",
   "metadata": {},
   "source": [
    "## second plot specimen directions"
   ]
  },
  {
   "cell_type": "code",
   "execution_count": null,
   "metadata": {},
   "outputs": [],
   "source": [
    "Cutface_specimens_lt = Cutface_specimens[(Cutface_specimens['dir_comp']=='lt') & (Cutface_specimens['dir_tilt_correction']==100)]\n",
    "Cutface_specimens_mt = Cutface_specimens[(Cutface_specimens['dir_comp']=='mt') & (Cutface_specimens['dir_tilt_correction']==100)]\n",
    "Cutface_specimens_ht = Cutface_specimens[(Cutface_specimens['dir_comp']=='ht') & (Cutface_specimens['dir_tilt_correction']==100)]"
   ]
  },
  {
   "cell_type": "code",
   "execution_count": null,
   "metadata": {},
   "outputs": [],
   "source": [
    "# pre tilt correction site mean directions\n",
    "fignum = 1\n",
    "plt.figure(num=fignum,figsize=(8,8))\n",
    "ipmag.plot_net(fignum)\n",
    "\n",
    "ipmag.plot_di(Cutface_specimens_lt['dir_dec'].tolist(),Cutface_specimens_lt['dir_inc'].tolist(),color='purple')\n",
    "ipmag.plot_di(Cutface_specimens_mt['dir_dec'].tolist(),Cutface_specimens_mt['dir_inc'].tolist(),color='orange')\n",
    "ipmag.plot_di(Cutface_specimens_ht['dir_dec'].tolist(),Cutface_specimens_ht['dir_inc'].tolist(),color='green')\n",
    "\n",
    "\n",
    "ipmag.plot_di_mean(Cutface_sites_lt['dir_dec'].tolist()[0],Cutface_sites_lt['dir_inc'].tolist()[0],Cutface_sites_lt['dir_alpha95'].tolist()[0],\n",
    "                   color='purple', marker = 's', label='low temp component')\n",
    "ipmag.plot_di_mean(Cutface_sites_mt['dir_dec'].tolist()[0],Cutface_sites_mt['dir_inc'].tolist()[0],Cutface_sites_mt['dir_alpha95'].tolist()[0],\n",
    "                   color='orange', marker = 's', label='mid temp component')\n",
    "ipmag.plot_di_mean(Cutface_sites_ht['dir_dec'].tolist()[0],Cutface_sites_ht['dir_inc'].tolist()[0],Cutface_sites_ht['dir_alpha95'].tolist()[0],\n",
    "                   color='green', marker = 's', label='high temp component')\n",
    "\n",
    "plt.legend(loc=8)\n",
    "plt.title('tilt corrected specimen directions')\n",
    "plt.show()"
   ]
  },
  {
   "cell_type": "markdown",
   "metadata": {},
   "source": [
    "## look at the mt and ht components in detail (unsquish by 0.6 ?!)"
   ]
  },
  {
   "cell_type": "code",
   "execution_count": null,
   "metadata": {},
   "outputs": [],
   "source": [
    "fignum = 1\n",
    "plt.figure(num=fignum,figsize=(8,8))\n",
    "ipmag.plot_net(fignum)\n",
    "\n",
    "ipmag.plot_di(Cutface_specimens_mt['dir_dec'].tolist(),Cutface_specimens_mt['dir_inc'].tolist(),color='orange')\n",
    "ipmag.plot_di(Cutface_specimens_ht['dir_dec'].tolist(),Cutface_specimens_ht['dir_inc'].tolist(),color='green')\n",
    "\n",
    "ipmag.plot_di_mean(Cutface_sites_mt['dir_dec'].tolist()[0],Cutface_sites_mt['dir_inc'].tolist()[0],Cutface_sites_mt['dir_alpha95'].tolist()[0],\n",
    "                   color='orange', marker = 's', label='mid temp component')\n",
    "ipmag.plot_di_mean(Cutface_sites_ht['dir_dec'].tolist()[0],Cutface_sites_ht['dir_inc'].tolist()[0],Cutface_sites_ht['dir_alpha95'].tolist()[0],\n",
    "                   color='green', marker = 's', label='high temp component')\n",
    "\n",
    "plt.legend(loc=8)\n",
    "plt.title('tilt corrected specimen directions')\n",
    "plt.show()"
   ]
  },
  {
   "cell_type": "code",
   "execution_count": null,
   "metadata": {},
   "outputs": [],
   "source": [
    "unsquished_ht_incs = ipmag.unsquish(Cutface_specimens_ht['dir_inc'].tolist(), 0.6)\n",
    "\n",
    "# calculate mean direction of high temp component after unsquishing\n",
    "unsquished_ht_mean = ipmag.fisher_mean(dec=Cutface_specimens_ht['dir_dec'].tolist(), inc=unsquished_ht_incs)\n",
    "unsquished_ht_mean"
   ]
  },
  {
   "cell_type": "code",
   "execution_count": null,
   "metadata": {},
   "outputs": [],
   "source": [
    "fignum = 1\n",
    "plt.figure(num=fignum,figsize=(8,8))\n",
    "ipmag.plot_net(fignum)\n",
    "\n",
    "ipmag.plot_di(Cutface_specimens_mt['dir_dec'].tolist(),Cutface_specimens_mt['dir_inc'].tolist(),color='orange')\n",
    "ipmag.plot_di(Cutface_specimens_ht['dir_dec'].tolist(),Cutface_specimens_ht['dir_inc'].tolist(),color='blue')\n",
    "ipmag.plot_di(Cutface_specimens_ht['dir_dec'].tolist(),unsquished_ht_incs,color='darkgreen')\n",
    "\n",
    "\n",
    "ipmag.plot_di_mean(Cutface_sites_ht['dir_dec'].tolist()[0],Cutface_sites_ht['dir_inc'].tolist()[0],Cutface_sites_ht['dir_alpha95'].tolist()[0],\n",
    "                   color='blue', marker = 's', label='high temp component')\n",
    "ipmag.plot_di_mean(unsquished_ht_mean['dec'],unsquished_ht_mean['inc'],unsquished_ht_mean['alpha95'],\n",
    "                   color='darkgreen', marker = 'd', label='high temp component unsquished')\n",
    "ipmag.plot_di_mean(Cutface_sites_mt['dir_dec'].tolist()[0],Cutface_sites_mt['dir_inc'].tolist()[0],Cutface_sites_mt['dir_alpha95'].tolist()[0],\n",
    "                   color='orange', marker = 's', label='mid temp component')\n",
    "\n",
    "plt.legend(loc=8)\n",
    "plt.title('tilt corrected specimen directions \\n high temperature component unsquished')\n",
    "plt.show()"
   ]
  },
  {
   "cell_type": "code",
   "execution_count": null,
   "metadata": {},
   "outputs": [],
   "source": [
    "fignum = 1\n",
    "plt.figure(num=fignum,figsize=(8,8))\n",
    "ipmag.plot_net(fignum)\n",
    "\n",
    "ipmag.plot_di_mean(Cutface_sites_ht['dir_dec'].tolist()[0],Cutface_sites_ht['dir_inc'].tolist()[0],Cutface_sites_ht['dir_alpha95'].tolist()[0],\n",
    "                   color='blue', marker = 's', label='high temp component')\n",
    "ipmag.plot_di_mean(unsquished_ht_mean['dec'],unsquished_ht_mean['inc'],unsquished_ht_mean['alpha95'],\n",
    "                   color='darkgreen', marker = 'd', label='high temp component unsquished')\n",
    "ipmag.plot_di_mean(Cutface_sites_mt['dir_dec'].tolist()[0],Cutface_sites_mt['dir_inc'].tolist()[0],Cutface_sites_mt['dir_alpha95'].tolist()[0],\n",
    "                   color='orange', marker = 's', label='mid temp component')\n",
    "\n",
    "plt.legend(loc=8)\n",
    "plt.title('tilt corrected specimen directions \\n high temperature component unsquished')\n",
    "plt.show()"
   ]
  },
  {
   "cell_type": "markdown",
   "metadata": {},
   "source": [
    "## let's try different unsquishing factors"
   ]
  },
  {
   "cell_type": "code",
   "execution_count": null,
   "metadata": {},
   "outputs": [],
   "source": [
    "def unsquish_factors(decs, incs, n=5):\n",
    "    # this function explores different unsquishing factors upon CF ht directions\n",
    "    fignum = 1\n",
    "    plt.figure(num=fignum,figsize=(8,8))\n",
    "    ipmag.plot_net(fignum)\n",
    "    factors = np.linspace(0.1,1, num=n)\n",
    "    \n",
    "    undquished_mean_list = [] \n",
    "    for i in range(len(factors)):\n",
    "        unsquished_incs = ipmag.unsquish(incs , factors[i])\n",
    "        unsquished_mean = ipmag.fisher_mean(decs, unsquished_incs)\n",
    "        undquished_mean_list.append(unsquished_mean)\n",
    "        ipmag.plot_di_mean(unsquished_mean['dec'],unsquished_mean['inc'],unsquished_mean['alpha95'],\n",
    "                   color='C'+str(i), marker = 'd', label='high temp component unsquished with factor '+str(round(factors[i], 1)))\n",
    "    plt.legend(loc=8)\n",
    "    return undquished_mean_list\n",
    "# calculate mean direction of high temp component after unsquishing\n"
   ]
  },
  {
   "cell_type": "code",
   "execution_count": null,
   "metadata": {},
   "outputs": [],
   "source": [
    "CF_undquished_mean_list = unsquish_factors(Cutface_specimens_ht['dir_dec'].tolist(), Cutface_specimens_ht['dir_inc'].tolist(), n=10) "
   ]
  },
  {
   "cell_type": "code",
   "execution_count": null,
   "metadata": {},
   "outputs": [],
   "source": [
    "CF_undquished_mean_list[:5]"
   ]
  },
  {
   "cell_type": "markdown",
   "metadata": {},
   "source": [
    "## plot everything as poles"
   ]
  },
  {
   "cell_type": "code",
   "execution_count": null,
   "metadata": {},
   "outputs": [],
   "source": [
    "NSVG_NE_plon = 181.7\n",
    "NSVG_NE_plat = 31.1\n",
    "\n",
    "CF_lat = 47.7\n",
    "CF_lon = -90.44\n",
    "\n",
    "    \n",
    "plt.figure(figsize=(5, 5))\n",
    "map_axis=ipmag.make_orthographic_map(central_longitude=200,central_latitude=20)\n",
    "\n",
    "# ipmag.plot_pole(map_axis,188,28,2.5,label='Schroeder Lutsen Basalts', marker='s',color='Blue')\n",
    "# ipmag.plot_pole(map_axis,182,31,4.2,label='North Shore Volcanic Group (upper NE)',marker='s',color='Red')\n",
    "\n",
    "# for i, mean_dir in enumerate(CF_undquished_mean_list):\n",
    "#     plon, plat, dp, dm = pmag.dia_vgp(mean_dir['dec'], mean_dir['inc'], mean_dir['alpha95'], CF_lat, CF_lon)\n",
    "    \n",
    "#     ipmag.plot_pole(map_axis,plon,plat, mean_dir['alpha95'],label='CF pole unsquished by: '+ str(i/len(CF_undquished_mean_list)),\n",
    "#                marker='s',color='C'+srt(i))\n",
    "\n",
    "plt.legend()\n",
    "plt.show()"
   ]
  },
  {
   "cell_type": "code",
   "execution_count": null,
   "metadata": {},
   "outputs": [],
   "source": []
  },
  {
   "cell_type": "code",
   "execution_count": null,
   "metadata": {},
   "outputs": [],
   "source": []
  },
  {
   "cell_type": "code",
   "execution_count": null,
   "metadata": {},
   "outputs": [],
   "source": []
  }
 ],
 "metadata": {
  "kernelspec": {
   "display_name": "Python 3",
   "language": "python",
   "name": "python3"
  },
  "language_info": {
   "codemirror_mode": {
    "name": "ipython",
    "version": 3
   },
   "file_extension": ".py",
   "mimetype": "text/x-python",
   "name": "python",
   "nbconvert_exporter": "python",
   "pygments_lexer": "ipython3",
   "version": "3.7.6"
  },
  "toc-autonumbering": false
 },
 "nbformat": 4,
 "nbformat_minor": 4
}
