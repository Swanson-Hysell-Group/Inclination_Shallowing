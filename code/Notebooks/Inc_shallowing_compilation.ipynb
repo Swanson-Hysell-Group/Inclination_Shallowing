{
 "cells": [
  {
   "cell_type": "markdown",
   "metadata": {
    "tags": []
   },
   "source": [
    "# Notebook for compiling inclination shallowing data"
   ]
  },
  {
   "cell_type": "code",
   "execution_count": 1,
   "metadata": {},
   "outputs": [],
   "source": [
    "import numpy as np\n",
    "import pandas as pd\n",
    "import pmagpy.pmag as pmag"
   ]
  },
  {
   "cell_type": "markdown",
   "metadata": {},
   "source": [
    "Let's create an empty dataframe that will be populated with pole means called 'pole_means'.\n",
    "\n",
    "<b>formation | lithology | f | f_min | f_max | ref | mineralogy | method | n | N |</b>\n",
    "\n",
    "<b>formation</b> = Name of formation for which f was estimated <br>\n",
    "<b>lithology</b> = lithology type with categories of 'siliciclastic', 'carbonate', and 'mixed'<br>\n",
    "<b>f</b> = estimated f factor<br>\n",
    "<b>f_min</b> = lower bound on 95% confidence of f<br>\n",
    "<b>f_max</b> = upper bound on 95% confidence of f<br>\n",
    "<b>ref</b> = reference<br>\n",
    "<b>mineralogy</b> = magnetic mineralogy with categories of 'magnetite', 'hematite', and 'greigite'<br>\n",
    "<b>method</b> = method used to estimate f<br>\n",
    "<b>n</b> = number of samples used (for E/I method)<br>"
   ]
  },
  {
   "cell_type": "code",
   "execution_count": 2,
   "metadata": {},
   "outputs": [],
   "source": [
    "f_compilation = pd.DataFrame(columns=['formation','lithology','f','f_min','f_max','ref',\n",
    "                                   'mineralogy','method','n'])"
   ]
  },
  {
   "cell_type": "code",
   "execution_count": 3,
   "metadata": {},
   "outputs": [],
   "source": [
    "def f_calc(Io,Ilow,IEI,Ihigh):\n",
    "    f_EI = [np.round(np.tan(np.radians(Io[i]))/np.tan(np.radians(IEI[i])),2) for i in range(len(Io))]\n",
    "    f_max = [np.round(np.tan(np.radians(Io[i]))/np.tan(np.radians(Ilow[i])),2) for i in range(len(Io))]\n",
    "    f_min = [np.round(np.tan(np.radians(Io[i]))/np.tan(np.radians(Ihigh[i])),2) for i in range(len(Io))]\n",
    "    print(f_EI,f_min,f_max)\n",
    "    return f_EI,f_min,f_max"
   ]
  },
  {
   "cell_type": "markdown",
   "metadata": {},
   "source": [
    "## Li et al. 2022\n",
    "\n",
    "*New paleomagnetic results of the Upper Cretaceous to Lower Eocene sedimentary rocks from the Xigaze forearc basin and their tectonic implications*\n",
    "\n",
    "> \"the magnetic minerals in the samples are mainly magnetite and titanomagnetite.\""
   ]
  },
  {
   "cell_type": "code",
   "execution_count": 4,
   "metadata": {},
   "outputs": [
    {
     "name": "stdout",
     "output_type": "stream",
     "text": [
      "[0.81] [0.62] [0.99]\n"
     ]
    }
   ],
   "source": [
    "Io = [35.7]\n",
    "Ilow = [36.0]\n",
    "IEI = [41.6]\n",
    "Ihigh = [49.0]\n",
    "n = [87]\n",
    "\n",
    "f_EI,f_min,f_max = f_calc(Io,Ilow,IEI,Ihigh)"
   ]
  },
  {
   "cell_type": "code",
   "execution_count": 5,
   "metadata": {},
   "outputs": [],
   "source": [
    "f_compilation.loc['Li2022'] = pd.Series({'formation' : 'Qubeiya and Jialazi Fms',\n",
    "                                          'lithology' : 'mixed',\n",
    "                                           'f' : f_EI[0],\n",
    "                                           'f_min' : f_min[0],\n",
    "                                           'f_max' : f_max[0],\n",
    "                                           'ref' : 'Li et al., 2022',\n",
    "                                           'mineralogy' : 'magnetite',\n",
    "                                           'method' : 'EI',\n",
    "                                           'n' : 87})"
   ]
  },
  {
   "cell_type": "markdown",
   "metadata": {},
   "source": [
    "## Tauxe and Kent, 2004\n"
   ]
  },
  {
   "cell_type": "code",
   "execution_count": 6,
   "metadata": {},
   "outputs": [
    {
     "name": "stdout",
     "output_type": "stream",
     "text": [
      "[0.49] [0.37] [0.64]\n"
     ]
    }
   ],
   "source": [
    "Io = [43.7]\n",
    "Ilow = [56]\n",
    "IEI = [63]\n",
    "Ihigh = [69]\n",
    "n = []\n",
    "\n",
    "Tauxe2004_f = f_calc(Io,Ilow,IEI,Ihigh)"
   ]
  },
  {
   "cell_type": "code",
   "execution_count": 7,
   "metadata": {},
   "outputs": [],
   "source": [
    "f_compilation.loc['Tauxe2004'] = pd.Series({'formation' : 'Subei Fm',\n",
    "                                          'lithology' : 'red beds',\n",
    "                                           'f' : Tauxe2004_f[0][0],\n",
    "                                           'f_min' : Tauxe2004_f[1][0],\n",
    "                                           'f_max' : Tauxe2004_f[2][0],\n",
    "                                           'ref' : 'Tauxe and Kent, 2004',\n",
    "                                           'mineralogy' : 'hematite',\n",
    "                                           'method' : 'EI',\n",
    "                                           'n' : 222})"
   ]
  },
  {
   "cell_type": "markdown",
   "metadata": {},
   "source": [
    "## Vaes et al., 2021"
   ]
  },
  {
   "cell_type": "code",
   "execution_count": 8,
   "metadata": {},
   "outputs": [
    {
     "name": "stdout",
     "output_type": "stream",
     "text": [
      "[0.46, 0.56, 0.64, 0.47, 0.48, 0.44, 0.2, 0.52, 0.65] [0.32, 0.43, 0.48, 0.35, 0.33, 0.31, 0.15, 0.41, 0.51] [0.68, 0.8, 0.84, 0.64, 0.69, 0.62, 0.53, 0.7, 0.84]\n"
     ]
    }
   ],
   "source": [
    "Io = [21.5,25.7, 28.6, 27.4, 27.5, 27.1, 37.0, 26.0, 29.5]\n",
    "Ilow = [30.1, 31.0, 32.9, 39.0, 36.9, 39.4, 54.9, 34.9, 34.0]\n",
    "IEI = [40.8, 40.8, 40.6, 47.8, 47.1, 49.4, 74.8, 43.0, 41.0]\n",
    "Ihigh = [50.5, 48.5, 48.8, 56.3, 57.4, 58.7, 78.4, 50.1, 48.1]\n",
    "n = [128,145,129,137,156,133,113,167,167]\n",
    "\n",
    "Vaes2021_f = f_calc(Io,Ilow,IEI,Ihigh)"
   ]
  },
  {
   "cell_type": "code",
   "execution_count": 9,
   "metadata": {},
   "outputs": [],
   "source": [
    "for i in range(len(Io)):\n",
    "    f_compilation.loc['Vaes2021_'+str(i+1)] = pd.Series({'formation' : 'Gonjo Basin Fm'+str(i+1),\n",
    "                                          'lithology' : 'red beds',\n",
    "                                           'f' : Vaes2021_f[0][i],\n",
    "                                           'f_min' : Vaes2021_f[1][i],\n",
    "                                           'f_max' : Vaes2021_f[2][i],\n",
    "                                           'ref' : 'Vaes et al., 2021',\n",
    "                                           'mineralogy' : 'hematite',\n",
    "                                           'method' : 'EI',\n",
    "                                           'n' : n[i]})"
   ]
  },
  {
   "cell_type": "markdown",
   "metadata": {},
   "source": [
    "## Dupont-Nivet et al., 2008"
   ]
  },
  {
   "cell_type": "code",
   "execution_count": 10,
   "metadata": {},
   "outputs": [
    {
     "name": "stdout",
     "output_type": "stream",
     "text": [
      "[0.78, 0.9, 0.68, 0.63, 0.49, 0.69, 0.91]\n",
      "[1.0, 1.04, 0.78, 0.75, 0.65, 0.9, 0.71]\n",
      "[0.51, 0.72, 0.54, 0.51, 0.37, 0.49, 1.25]\n"
     ]
    }
   ],
   "source": [
    "Io = [45,50,43,44,44,9,-10]\n",
    "Ilow = [45,49,50,52,56,10,-14]\n",
    "IEI = [52,53,54,57,63,13,-11]\n",
    "Ihigh = [63,59,60,62,69,18,-8]\n",
    "\n",
    "print([np.round(np.tan(np.radians(Io[i]))/np.tan(np.radians(IEI[i])),2) for i in range(len(Io))])\n",
    "print([np.round(np.tan(np.radians(Io[i]))/np.tan(np.radians(Ilow[i])),2) for i in range(len(Io))])\n",
    "print([np.round(np.tan(np.radians(Io[i]))/np.tan(np.radians(Ihigh[i])),2) for i in range(len(Io))])"
   ]
  },
  {
   "cell_type": "code",
   "execution_count": null,
   "metadata": {},
   "outputs": [],
   "source": []
  },
  {
   "cell_type": "markdown",
   "metadata": {},
   "source": [
    "## Tauxe 2005 Potwar"
   ]
  },
  {
   "cell_type": "code",
   "execution_count": 11,
   "metadata": {},
   "outputs": [
    {
     "name": "stdout",
     "output_type": "stream",
     "text": [
      "[0.77]\n",
      "[1.11]\n",
      "[0.58]\n"
     ]
    }
   ],
   "source": [
    "Io = [33.7]\n",
    "Ilow = [31]\n",
    "IEI = [41]\n",
    "Ihigh = [49]\n",
    "\n",
    "print([np.round(np.tan(np.radians(Io[i]))/np.tan(np.radians(IEI[i])),2) for i in range(len(Io))])\n",
    "print([np.round(np.tan(np.radians(Io[i]))/np.tan(np.radians(Ilow[i])),2) for i in range(len(Io))])\n",
    "print([np.round(np.tan(np.radians(Io[i]))/np.tan(np.radians(Ihigh[i])),2) for i in range(len(Io))])"
   ]
  },
  {
   "cell_type": "code",
   "execution_count": 12,
   "metadata": {},
   "outputs": [
    {
     "name": "stdout",
     "output_type": "stream",
     "text": [
      "[0.77] [0.58] [1.11]\n"
     ]
    }
   ],
   "source": [
    "Tauxe2005_f = f_calc(Io,Ilow,IEI,Ihigh)"
   ]
  },
  {
   "cell_type": "code",
   "execution_count": 13,
   "metadata": {},
   "outputs": [],
   "source": [
    "f_compilation.loc['Tauxe2005'] = pd.Series({'formation' : 'Potwar',\n",
    "                                          'lithology' : 'red beds',\n",
    "                                           'f' : Tauxe2005_f[0][0],\n",
    "                                           'f_min' : Tauxe2005_f[1][0],\n",
    "                                           'f_max' : Tauxe2005_f[2][0],\n",
    "                                           'ref' : 'Tauxe, 2005',\n",
    "                                           'mineralogy' : 'hematite',\n",
    "                                           'method' : 'EI',\n",
    "                                           'n' : 0})"
   ]
  },
  {
   "cell_type": "markdown",
   "metadata": {},
   "source": [
    "## Kirscher et al., 2014 Kyrgyzstan\n"
   ]
  },
  {
   "cell_type": "code",
   "execution_count": 14,
   "metadata": {},
   "outputs": [
    {
     "name": "stdout",
     "output_type": "stream",
     "text": [
      "[0.58]\n",
      "[0.79]\n",
      "[0.44]\n"
     ]
    }
   ],
   "source": [
    "Io = [-35]\n",
    "Ilow = [-41.4]\n",
    "IEI = [-50.3]\n",
    "Ihigh = [-57.9]\n",
    "\n",
    "print([np.round(np.tan(np.radians(Io[i]))/np.tan(np.radians(IEI[i])),2) for i in range(len(Io))])\n",
    "print([np.round(np.tan(np.radians(Io[i]))/np.tan(np.radians(Ilow[i])),2) for i in range(len(Io))])\n",
    "print([np.round(np.tan(np.radians(Io[i]))/np.tan(np.radians(Ihigh[i])),2) for i in range(len(Io))])"
   ]
  },
  {
   "cell_type": "code",
   "execution_count": 15,
   "metadata": {},
   "outputs": [
    {
     "name": "stdout",
     "output_type": "stream",
     "text": [
      "[0.58] [0.44] [0.79]\n"
     ]
    }
   ],
   "source": [
    "Kirsheretal2014_f = f_calc(Io,Ilow,IEI,Ihigh)"
   ]
  },
  {
   "cell_type": "code",
   "execution_count": 16,
   "metadata": {},
   "outputs": [],
   "source": [
    "f_compilation.loc['Kirsher2014'] = pd.Series({'formation' : 'Sonkuk Basin (DUN)',\n",
    "                                          'lithology' : 'red beds',\n",
    "                                           'f' : Kirsheretal2014_f[0][0],\n",
    "                                           'f_min' : Kirsheretal2014_f[1][0],\n",
    "                                           'f_max' : Kirsheretal2014_f[2][0],\n",
    "                                           'ref' : 'Kirsher et al, 2014',\n",
    "                                           'mineralogy' : 'hematite/magnetite',\n",
    "                                           'method' : 'EI',\n",
    "                                           'n' : 100})"
   ]
  },
  {
   "cell_type": "markdown",
   "metadata": {
    "tags": []
   },
   "source": [
    "## Tan et al., 2010 Lhasa block"
   ]
  },
  {
   "cell_type": "code",
   "execution_count": 17,
   "metadata": {},
   "outputs": [
    {
     "name": "stdout",
     "output_type": "stream",
     "text": [
      "[0.48]\n",
      "[0.52]\n",
      "[0.44]\n"
     ]
    }
   ],
   "source": [
    "Io = [23.5]\n",
    "Ilow = [39.9]\n",
    "IEI = [42.0]\n",
    "Ihigh = [44.5]\n",
    "\n",
    "print([np.round(np.tan(np.radians(Io[i]))/np.tan(np.radians(IEI[i])),2) for i in range(len(Io))])\n",
    "print([np.round(np.tan(np.radians(Io[i]))/np.tan(np.radians(Ilow[i])),2) for i in range(len(Io))])\n",
    "print([np.round(np.tan(np.radians(Io[i]))/np.tan(np.radians(Ihigh[i])),2) for i in range(len(Io))])"
   ]
  },
  {
   "cell_type": "code",
   "execution_count": 18,
   "metadata": {},
   "outputs": [
    {
     "name": "stdout",
     "output_type": "stream",
     "text": [
      "[0.48] [0.44] [0.52]\n"
     ]
    }
   ],
   "source": [
    "Tanetal2010_f = f_calc(Io,Ilow,IEI,Ihigh)"
   ]
  },
  {
   "cell_type": "code",
   "execution_count": 19,
   "metadata": {},
   "outputs": [],
   "source": [
    "f_compilation.loc['Tanetal2010'] = pd.Series({'formation' : 'Shexing',\n",
    "                                          'lithology' : 'red beds',\n",
    "                                           'f' : Tanetal2010_f[0][0],\n",
    "                                           'f_min' : Tanetal2010_f[1][0],\n",
    "                                           'f_max' : Tanetal2010_f[2][0],\n",
    "                                           'ref' : 'Tan et al, 2010',\n",
    "                                           'mineralogy' : 'hematite',\n",
    "                                           'method' : 'EI',\n",
    "                                           'n' : 377})"
   ]
  },
  {
   "cell_type": "markdown",
   "metadata": {},
   "source": [
    "## Kent and Tauxe 2005 Late Triassic Latitudes"
   ]
  },
  {
   "cell_type": "code",
   "execution_count": 20,
   "metadata": {},
   "outputs": [
    {
     "name": "stdout",
     "output_type": "stream",
     "text": [
      "[0.59, 0.57, 0.4, 0.63, 0.66, 0.63, 0.49, 0.49, 0.68, 0.58]\n",
      "[0.74, 1.04, 0.54, 0.76, 0.73, 0.73, 0.59, 0.59, 1.02, 0.81]\n",
      "[0.49, 0.39, 0.33, 0.54, 0.57, 0.53, 0.42, 0.42, 0.59, 0.47]\n"
     ]
    }
   ],
   "source": [
    "Io = [5.9,5.2,8.8,13,14.2,15.7,17.5,18.2,33.4,45.1]\n",
    "Ilow = [8,5,16,17,19,21,28,29,33,51]\n",
    "IEI = [10,9,21,20,21,24,33,34,44,60]\n",
    "Ihigh = [12,13,25,23,24,28,37,38,48,65]\n",
    "n=[333,148,194,308,336,309,246,302,27,222]\n",
    "locality=['Dan River','Princeton','Nursery','Titusville','Rutgers','Somerset','Weston','Martinsville',\"St. Audrie's Bay\",'Jameson Land']\n",
    "\n",
    "print([np.round(np.tan(np.radians(Io[i]))/np.tan(np.radians(IEI[i])),2) for i in range(len(Io))])\n",
    "print([np.round(np.tan(np.radians(Io[i]))/np.tan(np.radians(Ilow[i])),2) for i in range(len(Io))])\n",
    "print([np.round(np.tan(np.radians(Io[i]))/np.tan(np.radians(Ihigh[i])),2) for i in range(len(Io))])"
   ]
  },
  {
   "cell_type": "code",
   "execution_count": 21,
   "metadata": {},
   "outputs": [
    {
     "name": "stdout",
     "output_type": "stream",
     "text": [
      "[0.59, 0.57, 0.4, 0.63, 0.66, 0.63, 0.49, 0.49, 0.68, 0.58] [0.49, 0.39, 0.33, 0.54, 0.57, 0.53, 0.42, 0.42, 0.59, 0.47] [0.74, 1.04, 0.54, 0.76, 0.73, 0.73, 0.59, 0.59, 1.02, 0.81]\n"
     ]
    }
   ],
   "source": [
    "KentTauxe2005_f = f_calc(Io,Ilow,IEI,Ihigh)"
   ]
  },
  {
   "cell_type": "code",
   "execution_count": 22,
   "metadata": {},
   "outputs": [],
   "source": [
    "for i in range(len(Io)):\n",
    "    f_compilation.loc['KentTauxe2005_'+str(i+1)] = pd.Series({'formation' : locality[i],\n",
    "                                          'lithology' : 'red beds',\n",
    "                                           'f' : KentTauxe2005_f[0][i],\n",
    "                                           'f_min' : KentTauxe2005_f[1][i],\n",
    "                                           'f_max' : KentTauxe2005_f[2][i],\n",
    "                                           'ref' : 'Kent and Tauxe, 2005',\n",
    "                                           'mineralogy' : 'hematite',\n",
    "                                           'method' : 'EI',\n",
    "                                           'n' : n[i]})"
   ]
  },
  {
   "cell_type": "markdown",
   "metadata": {
    "tags": []
   },
   "source": [
    "## Hunag et al., 2013 Linzizong"
   ]
  },
  {
   "cell_type": "code",
   "execution_count": 23,
   "metadata": {},
   "outputs": [
    {
     "name": "stdout",
     "output_type": "stream",
     "text": [
      "[0.45]\n",
      "[0.57]\n",
      "[0.32]\n"
     ]
    }
   ],
   "source": [
    "Io = [20.5]\n",
    "Ilow = [33.1]\n",
    "IEI = [40.0]\n",
    "Ihigh = [49.5]\n",
    "\n",
    "print([np.round(np.tan(np.radians(Io[i]))/np.tan(np.radians(IEI[i])),2) for i in range(len(Io))])\n",
    "print([np.round(np.tan(np.radians(Io[i]))/np.tan(np.radians(Ilow[i])),2) for i in range(len(Io))])\n",
    "print([np.round(np.tan(np.radians(Io[i]))/np.tan(np.radians(Ihigh[i])),2) for i in range(len(Io))])"
   ]
  },
  {
   "cell_type": "markdown",
   "metadata": {
    "tags": []
   },
   "source": [
    "## Krijgsman and Tauxe 2004 "
   ]
  },
  {
   "cell_type": "code",
   "execution_count": 24,
   "metadata": {},
   "outputs": [
    {
     "name": "stdout",
     "output_type": "stream",
     "text": [
      "[0.73]\n",
      "[0.84]\n",
      "[0.63]\n"
     ]
    }
   ],
   "source": [
    "Io = [44]\n",
    "Ilow = [49]\n",
    "IEI = [53]\n",
    "Ihigh = [57]\n",
    "\n",
    "print([np.round(np.tan(np.radians(Io[i]))/np.tan(np.radians(IEI[i])),2) for i in range(len(Io))])\n",
    "print([np.round(np.tan(np.radians(Io[i]))/np.tan(np.radians(Ilow[i])),2) for i in range(len(Io))])\n",
    "print([np.round(np.tan(np.radians(Io[i]))/np.tan(np.radians(Ihigh[i])),2) for i in range(len(Io))])"
   ]
  },
  {
   "cell_type": "code",
   "execution_count": 25,
   "metadata": {},
   "outputs": [
    {
     "name": "stdout",
     "output_type": "stream",
     "text": [
      "[0.73] [0.63] [0.84]\n"
     ]
    }
   ],
   "source": [
    "KrijgsmanTauxe2004_f_1 = f_calc(Io,Ilow,IEI,Ihigh)"
   ]
  },
  {
   "cell_type": "code",
   "execution_count": 26,
   "metadata": {},
   "outputs": [],
   "source": [
    "f_compilation.loc['KrijgsmanTauxe2004_1'] = pd.Series({'formation' : 'Calatayud basin',\n",
    "                                          'lithology' : 'red beds',\n",
    "                                           'f' : KrijgsmanTauxe2004_f_1[0][0],\n",
    "                                           'f_min' : KrijgsmanTauxe2004_f_1[1][0],\n",
    "                                           'f_max' : KrijgsmanTauxe2004_f_1[2][0],\n",
    "                                           'ref' : 'Krijgsman and Tauxe, 2004',\n",
    "                                           'mineralogy' : 'mixed',\n",
    "                                           'method' : 'EI',\n",
    "                                           'n': 648})"
   ]
  },
  {
   "cell_type": "code",
   "execution_count": 27,
   "metadata": {},
   "outputs": [
    {
     "name": "stdout",
     "output_type": "stream",
     "text": [
      "[0.74]\n",
      "[0.86]\n",
      "[0.61]\n"
     ]
    }
   ],
   "source": [
    "Io = [45.6]\n",
    "Ilow = [50]\n",
    "IEI = [54]\n",
    "Ihigh = [59]\n",
    "\n",
    "print([np.round(np.tan(np.radians(Io[i]))/np.tan(np.radians(IEI[i])),2) for i in range(len(Io))])\n",
    "print([np.round(np.tan(np.radians(Io[i]))/np.tan(np.radians(Ilow[i])),2) for i in range(len(Io))])\n",
    "print([np.round(np.tan(np.radians(Io[i]))/np.tan(np.radians(Ihigh[i])),2) for i in range(len(Io))])"
   ]
  },
  {
   "cell_type": "code",
   "execution_count": 28,
   "metadata": {},
   "outputs": [
    {
     "name": "stdout",
     "output_type": "stream",
     "text": [
      "[0.74] [0.61] [0.86]\n"
     ]
    }
   ],
   "source": [
    "KrijgsmanTauxe2004_f_2 = f_calc(Io,Ilow,IEI,Ihigh)"
   ]
  },
  {
   "cell_type": "code",
   "execution_count": 29,
   "metadata": {},
   "outputs": [],
   "source": [
    "f_compilation.loc['KrijgsmanTauxe2004_2'] = pd.Series({'formation' : 'Calatayud basin',\n",
    "                                          'lithology' : 'red beds',\n",
    "                                           'f' : KrijgsmanTauxe2004_f_2[0][0],\n",
    "                                           'f_min' : KrijgsmanTauxe2004_f_2[1][0],\n",
    "                                           'f_max' : KrijgsmanTauxe2004_f_2[2][0],\n",
    "                                           'ref' : 'Krijgsman and Tauxe, 2004',\n",
    "                                           'mineralogy' : 'mixed',\n",
    "                                           'method' : 'EI',\n",
    "                                           'n': 686})"
   ]
  },
  {
   "cell_type": "markdown",
   "metadata": {},
   "source": [
    "## Chen et al., 2017"
   ]
  },
  {
   "cell_type": "code",
   "execution_count": 30,
   "metadata": {},
   "outputs": [
    {
     "name": "stdout",
     "output_type": "stream",
     "text": [
      "[0.61]\n",
      "[0.76]\n",
      "[0.49]\n"
     ]
    }
   ],
   "source": [
    "Io = [34.2]\n",
    "Ilow = [41.9]\n",
    "IEI = [47.9]\n",
    "Ihigh = [54.3]\n",
    "\n",
    "print([np.round(np.tan(np.radians(Io[i]))/np.tan(np.radians(IEI[i])),2) for i in range(len(Io))])\n",
    "print([np.round(np.tan(np.radians(Io[i]))/np.tan(np.radians(Ilow[i])),2) for i in range(len(Io))])\n",
    "print([np.round(np.tan(np.radians(Io[i]))/np.tan(np.radians(Ihigh[i])),2) for i in range(len(Io))])"
   ]
  },
  {
   "cell_type": "code",
   "execution_count": 31,
   "metadata": {},
   "outputs": [
    {
     "name": "stdout",
     "output_type": "stream",
     "text": [
      "[0.61] [0.49] [0.76]\n"
     ]
    }
   ],
   "source": [
    "Chenetal2017_f = f_calc(Io,Ilow,IEI,Ihigh)"
   ]
  },
  {
   "cell_type": "code",
   "execution_count": 32,
   "metadata": {},
   "outputs": [],
   "source": [
    "f_compilation.loc['Chenetal2015'] = pd.Series({'formation' : 'Calatayud basin',\n",
    "                                          'lithology' : 'red beds',\n",
    "                                           'f' : Chenetal2017_f[0][0],\n",
    "                                           'f_min' : Chenetal2017_f[1][0],\n",
    "                                           'f_max' : Chenetal2017_f[2][0],\n",
    "                                           'ref' : 'Chen et al, 2017',\n",
    "                                           'mineralogy' : 'mixed',\n",
    "                                           'method' : 'EI',\n",
    "                                           'n':174})"
   ]
  },
  {
   "cell_type": "markdown",
   "metadata": {},
   "source": [
    "## Tauxe et al., 2008"
   ]
  },
  {
   "cell_type": "code",
   "execution_count": 33,
   "metadata": {},
   "outputs": [
    {
     "name": "stdout",
     "output_type": "stream",
     "text": [
      "[0.84]\n",
      "[1.01]\n",
      "[0.5]\n"
     ]
    }
   ],
   "source": [
    "Io = [51.2]\n",
    "Ilow = [50.8]\n",
    "IEI = [56.1]\n",
    "Ihigh = [68.2]\n",
    "\n",
    "print([np.round(np.tan(np.radians(Io[i]))/np.tan(np.radians(IEI[i])),2) for i in range(len(Io))])\n",
    "print([np.round(np.tan(np.radians(Io[i]))/np.tan(np.radians(Ilow[i])),2) for i in range(len(Io))])\n",
    "print([np.round(np.tan(np.radians(Io[i]))/np.tan(np.radians(Ihigh[i])),2) for i in range(len(Io))])"
   ]
  },
  {
   "cell_type": "code",
   "execution_count": 34,
   "metadata": {},
   "outputs": [
    {
     "name": "stdout",
     "output_type": "stream",
     "text": [
      "[0.84] [0.5] [1.01]\n"
     ]
    }
   ],
   "source": [
    "Tauxeetal2008_f = f_calc(Io,Ilow,IEI,Ihigh)"
   ]
  },
  {
   "cell_type": "code",
   "execution_count": 35,
   "metadata": {},
   "outputs": [],
   "source": [
    "f_compilation.loc['Tauxeetal2008'] = pd.Series({'formation' : 'Nacimiento',\n",
    "                                          'lithology' : 'red beds',\n",
    "                                           'f' : Tauxeetal2008_f[0][0],\n",
    "                                           'f_min' : Tauxeetal2008_f[1][0],\n",
    "                                           'f_max' : Tauxeetal2008_f[2][0],\n",
    "                                           'ref' : 'Chen et al, 2015',\n",
    "                                           'mineralogy' : 'mixed',\n",
    "                                           'method' : 'EI',\n",
    "                                           'n':102})"
   ]
  },
  {
   "cell_type": "markdown",
   "metadata": {},
   "source": [
    "## Gong et al., 2008"
   ]
  },
  {
   "cell_type": "code",
   "execution_count": 36,
   "metadata": {},
   "outputs": [
    {
     "name": "stdout",
     "output_type": "stream",
     "text": [
      "[0.94, 0.93, 0.95, 0.94, 0.96, 0.95, 0.95, 0.97, 0.93]\n",
      "[1.01, 1.03, 1.01, 1.01, 1.03, 1.01, 1.01, 1.01, 1.0]\n",
      "[0.56, 0.61, 0.6, 0.69, 0.7, 0.61, 0.6, 0.63, 0.5]\n"
     ]
    }
   ],
   "source": [
    "Io = [45.4,45.9,45.2,49.9,55.3,55.1,52.9,56.7,57.2]\n",
    "Ilow = [45,45.1,44.9,49.7,54.4,54.8,52.7,56.4,57.3]\n",
    "IEI = [47.2,48.1,46.8,51.7,56.3,56.5,54.3,57.5,59.1]\n",
    "Ihigh = [61.2,59.6,59.3,59.9,64.2,67,65.6,67.6,72.3]\n",
    "\n",
    "print([np.round(np.tan(np.radians(Io[i]))/np.tan(np.radians(IEI[i])),2) for i in range(len(Io))])\n",
    "print([np.round(np.tan(np.radians(Io[i]))/np.tan(np.radians(Ilow[i])),2) for i in range(len(Io))])\n",
    "print([np.round(np.tan(np.radians(Io[i]))/np.tan(np.radians(Ihigh[i])),2) for i in range(len(Io))])"
   ]
  },
  {
   "cell_type": "markdown",
   "metadata": {},
   "source": [
    "## Costa et al., 2009"
   ]
  },
  {
   "cell_type": "code",
   "execution_count": 37,
   "metadata": {},
   "outputs": [
    {
     "name": "stdout",
     "output_type": "stream",
     "text": [
      "[0.58]\n",
      "[0.77]\n",
      "[0.42]\n"
     ]
    }
   ],
   "source": [
    "Io = [41]\n",
    "Ilow = [48.4]\n",
    "IEI = [56.2]\n",
    "Ihigh = [64.2]\n",
    "\n",
    "print([np.round(np.tan(np.radians(Io[i]))/np.tan(np.radians(IEI[i])),2) for i in range(len(Io))])\n",
    "print([np.round(np.tan(np.radians(Io[i]))/np.tan(np.radians(Ilow[i])),2) for i in range(len(Io))])\n",
    "print([np.round(np.tan(np.radians(Io[i]))/np.tan(np.radians(Ihigh[i])),2) for i in range(len(Io))])"
   ]
  },
  {
   "cell_type": "code",
   "execution_count": 38,
   "metadata": {},
   "outputs": [
    {
     "name": "stdout",
     "output_type": "stream",
     "text": [
      "[0.58] [0.42] [0.77]\n"
     ]
    }
   ],
   "source": [
    "Costaetal2009_f = f_calc(Io,Ilow,IEI,Ihigh)"
   ]
  },
  {
   "cell_type": "code",
   "execution_count": 39,
   "metadata": {},
   "outputs": [],
   "source": [
    "f_compilation.loc['Costaetal2009'] = pd.Series({'formation' : 'Artes',\n",
    "                                          'lithology' : 'red beds',\n",
    "                                           'f' : Costaetal2009_f[0][0],\n",
    "                                           'f_min' : Costaetal2009_f[1][0],\n",
    "                                           'f_max' : Costaetal2009_f[2][0],\n",
    "                                           'ref' : 'Costa et al, 2009',\n",
    "                                           'mineralogy' : 'hematite',\n",
    "                                           'method' : 'EI',\n",
    "                                           'n':221})"
   ]
  },
  {
   "cell_type": "markdown",
   "metadata": {},
   "source": [
    "## Agnini et al., 2011"
   ]
  },
  {
   "cell_type": "code",
   "execution_count": 41,
   "metadata": {},
   "outputs": [
    {
     "name": "stdout",
     "output_type": "stream",
     "text": [
      "[0.62]\n",
      "[0.92]\n",
      "[0.32]\n"
     ]
    }
   ],
   "source": [
    "Io = [39.5]\n",
    "Ilow = [42]\n",
    "IEI = [53]\n",
    "Ihigh = [69]\n",
    "\n",
    "print([np.round(np.tan(np.radians(Io[i]))/np.tan(np.radians(IEI[i])),2) for i in range(len(Io))])\n",
    "print([np.round(np.tan(np.radians(Io[i]))/np.tan(np.radians(Ilow[i])),2) for i in range(len(Io))])\n",
    "print([np.round(np.tan(np.radians(Io[i]))/np.tan(np.radians(Ihigh[i])),2) for i in range(len(Io))])"
   ]
  },
  {
   "cell_type": "code",
   "execution_count": 42,
   "metadata": {},
   "outputs": [
    {
     "name": "stdout",
     "output_type": "stream",
     "text": [
      "[0.62] [0.32] [0.92]\n"
     ]
    }
   ],
   "source": [
    "Costaetal2009_f = f_calc(Io,Ilow,IEI,Ihigh)"
   ]
  },
  {
   "cell_type": "code",
   "execution_count": 43,
   "metadata": {},
   "outputs": [],
   "source": [
    "f_compilation.loc['Costaetal2009'] = pd.Series({'formation' : 'Alano section',\n",
    "                                          'lithology' : 'carbonates',\n",
    "                                           'f' : Costaetal2009_f[0][0],\n",
    "                                           'f_min' : Costaetal2009_f[1][0],\n",
    "                                           'f_max' : Costaetal2009_f[2][0],\n",
    "                                           'ref' : 'Costa et al, 2009',\n",
    "                                           'mineralogy' : 'magnetite',\n",
    "                                           'method' : 'EI',\n",
    "                                           'n':159})"
   ]
  },
  {
   "cell_type": "markdown",
   "metadata": {},
   "source": [
    "## Borgh et al., 2013"
   ]
  },
  {
   "cell_type": "code",
   "execution_count": 8,
   "metadata": {},
   "outputs": [
    {
     "name": "stdout",
     "output_type": "stream",
     "text": [
      "[0.74]\n",
      "[0.97]\n",
      "[0.34]\n"
     ]
    }
   ],
   "source": [
    "Io = [58.5]\n",
    "Ilow = [59.3]\n",
    "IEI = [65.5]\n",
    "Ihigh = [78.1]\n",
    "\n",
    "print([np.round(np.tan(np.radians(Io[i]))/np.tan(np.radians(IEI[i])),2) for i in range(len(Io))])\n",
    "print([np.round(np.tan(np.radians(Io[i]))/np.tan(np.radians(Ilow[i])),2) for i in range(len(Io))])\n",
    "print([np.round(np.tan(np.radians(Io[i]))/np.tan(np.radians(Ihigh[i])),2) for i in range(len(Io))])"
   ]
  },
  {
   "cell_type": "markdown",
   "metadata": {},
   "source": [
    "## Huang et al., 2015"
   ]
  },
  {
   "cell_type": "code",
   "execution_count": 9,
   "metadata": {},
   "outputs": [
    {
     "name": "stdout",
     "output_type": "stream",
     "text": [
      "[0.51]\n",
      "[0.65]\n",
      "[0.39]\n"
     ]
    }
   ],
   "source": [
    "Io = [16.6]\n",
    "Ilow = [24.8]\n",
    "IEI = [30.2]\n",
    "Ihigh = [37.3]\n",
    "\n",
    "print([np.round(np.tan(np.radians(Io[i]))/np.tan(np.radians(IEI[i])),2) for i in range(len(Io))])\n",
    "print([np.round(np.tan(np.radians(Io[i]))/np.tan(np.radians(Ilow[i])),2) for i in range(len(Io))])\n",
    "print([np.round(np.tan(np.radians(Io[i]))/np.tan(np.radians(Ihigh[i])),2) for i in range(len(Io))])"
   ]
  },
  {
   "cell_type": "markdown",
   "metadata": {},
   "source": [
    "## Lanci et al., 2013"
   ]
  },
  {
   "cell_type": "code",
   "execution_count": 10,
   "metadata": {},
   "outputs": [
    {
     "name": "stdout",
     "output_type": "stream",
     "text": [
      "[0.7]\n",
      "[0.9]\n",
      "[0.41]\n"
     ]
    }
   ],
   "source": [
    "Io = [53]\n",
    "Ilow = [56]\n",
    "IEI = [62.2]\n",
    "Ihigh = [73]\n",
    "\n",
    "print([np.round(np.tan(np.radians(Io[i]))/np.tan(np.radians(IEI[i])),2) for i in range(len(Io))])\n",
    "print([np.round(np.tan(np.radians(Io[i]))/np.tan(np.radians(Ilow[i])),2) for i in range(len(Io))])\n",
    "print([np.round(np.tan(np.radians(Io[i]))/np.tan(np.radians(Ihigh[i])),2) for i in range(len(Io))])"
   ]
  },
  {
   "cell_type": "markdown",
   "metadata": {
    "tags": []
   },
   "source": [
    "## Kent and Olsen, 2008"
   ]
  },
  {
   "cell_type": "code",
   "execution_count": 11,
   "metadata": {},
   "outputs": [
    {
     "name": "stdout",
     "output_type": "stream",
     "text": [
      "[0.54]\n",
      "[0.62]\n",
      "[0.48]\n"
     ]
    }
   ],
   "source": [
    "Io = [21.1]\n",
    "Ilow = [32]\n",
    "IEI = [35.5]\n",
    "Ihigh = [39]\n",
    "\n",
    "print([np.round(np.tan(np.radians(Io[i]))/np.tan(np.radians(IEI[i])),2) for i in range(len(Io))])\n",
    "print([np.round(np.tan(np.radians(Io[i]))/np.tan(np.radians(Ilow[i])),2) for i in range(len(Io))])\n",
    "print([np.round(np.tan(np.radians(Io[i]))/np.tan(np.radians(Ihigh[i])),2) for i in range(len(Io))])"
   ]
  },
  {
   "cell_type": "markdown",
   "metadata": {
    "tags": []
   },
   "source": [
    "## Tong et al., 2013"
   ]
  },
  {
   "cell_type": "code",
   "execution_count": 12,
   "metadata": {},
   "outputs": [
    {
     "name": "stdout",
     "output_type": "stream",
     "text": [
      "[0.45]\n",
      "[0.55]\n",
      "[0.38]\n"
     ]
    }
   ],
   "source": [
    "Io = [23.6]\n",
    "Ilow = [38.3]\n",
    "IEI = [44.1]\n",
    "Ihigh = [49.3]\n",
    "\n",
    "print([np.round(np.tan(np.radians(Io[i]))/np.tan(np.radians(IEI[i])),2) for i in range(len(Io))])\n",
    "print([np.round(np.tan(np.radians(Io[i]))/np.tan(np.radians(Ilow[i])),2) for i in range(len(Io))])\n",
    "print([np.round(np.tan(np.radians(Io[i]))/np.tan(np.radians(Ihigh[i])),2) for i in range(len(Io))])"
   ]
  },
  {
   "cell_type": "markdown",
   "metadata": {
    "tags": []
   },
   "source": [
    "## Channell et al., 2010"
   ]
  },
  {
   "cell_type": "code",
   "execution_count": 17,
   "metadata": {},
   "outputs": [
    {
     "name": "stdout",
     "output_type": "stream",
     "text": [
      "[0.76, 0.99, 0.95, 0.91, 0.89, 0.89, 0.84, 0.84, 0.96]\n"
     ]
    }
   ],
   "source": [
    "Io = [29.9, 54.5, 54.6, 34.8,28.5,36.3, 35,30,30.7]\n",
    "Plat_EI = [20.6,35.4,36.5,20.9,17,22.4,22.7,19,17.2]\n",
    "IEI = pmag.pinc(Plat_EI)\n",
    "print([np.round(np.tan(np.radians(Io[i]))/np.tan(np.radians(IEI[i])),2) for i in range(len(Io))])"
   ]
  },
  {
   "cell_type": "markdown",
   "metadata": {
    "tags": []
   },
   "source": [
    "## Hunag et al., 2015b"
   ]
  },
  {
   "cell_type": "code",
   "execution_count": 18,
   "metadata": {},
   "outputs": [
    {
     "name": "stdout",
     "output_type": "stream",
     "text": [
      "[0.96]\n",
      "[1.04]\n",
      "[0.7]\n"
     ]
    }
   ],
   "source": [
    "Io = [-42]\n",
    "Ilow = [-40.8]\n",
    "IEI = [-43.2]\n",
    "Ihigh = [-52]\n",
    "\n",
    "print([np.round(np.tan(np.radians(Io[i]))/np.tan(np.radians(IEI[i])),2) for i in range(len(Io))])\n",
    "print([np.round(np.tan(np.radians(Io[i]))/np.tan(np.radians(Ilow[i])),2) for i in range(len(Io))])\n",
    "print([np.round(np.tan(np.radians(Io[i]))/np.tan(np.radians(Ihigh[i])),2) for i in range(len(Io))])"
   ]
  },
  {
   "cell_type": "markdown",
   "metadata": {
    "tags": []
   },
   "source": [
    "## Bilardello and Kodama2010b"
   ]
  },
  {
   "cell_type": "code",
   "execution_count": 19,
   "metadata": {},
   "outputs": [
    {
     "name": "stdout",
     "output_type": "stream",
     "text": [
      "[0.76]\n",
      "[1.03]\n",
      "[0.52]\n"
     ]
    }
   ],
   "source": [
    "Io = [33.7]\n",
    "Ilow = [33]\n",
    "IEI = [41.1]\n",
    "Ihigh = [52]\n",
    "\n",
    "print([np.round(np.tan(np.radians(Io[i]))/np.tan(np.radians(IEI[i])),2) for i in range(len(Io))])\n",
    "print([np.round(np.tan(np.radians(Io[i]))/np.tan(np.radians(Ilow[i])),2) for i in range(len(Io))])\n",
    "print([np.round(np.tan(np.radians(Io[i]))/np.tan(np.radians(Ihigh[i])),2) for i in range(len(Io))])"
   ]
  },
  {
   "cell_type": "markdown",
   "metadata": {
    "tags": []
   },
   "source": [
    "## van Hisbergen et al., 2007"
   ]
  },
  {
   "cell_type": "code",
   "execution_count": 20,
   "metadata": {},
   "outputs": [
    {
     "name": "stdout",
     "output_type": "stream",
     "text": [
      "[0.84, 0.59]\n",
      "[1.03, 0.89]\n",
      "[0.46, 0.37]\n"
     ]
    }
   ],
   "source": [
    "Io = [48.4,-42.1]\n",
    "Ilow = [47.6,-45.5]\n",
    "IEI = [53.4,-56.9]\n",
    "Ihigh = [67.9,-67.5]\n",
    "\n",
    "print([np.round(np.tan(np.radians(Io[i]))/np.tan(np.radians(IEI[i])),2) for i in range(len(Io))])\n",
    "print([np.round(np.tan(np.radians(Io[i]))/np.tan(np.radians(Ilow[i])),2) for i in range(len(Io))])\n",
    "print([np.round(np.tan(np.radians(Io[i]))/np.tan(np.radians(Ihigh[i])),2) for i in range(len(Io))])"
   ]
  },
  {
   "cell_type": "markdown",
   "metadata": {
    "tags": []
   },
   "source": [
    "## Maron et al., 2015"
   ]
  },
  {
   "cell_type": "code",
   "execution_count": 21,
   "metadata": {},
   "outputs": [
    {
     "name": "stdout",
     "output_type": "stream",
     "text": [
      "[0.58]\n",
      "[0.79]\n",
      "[0.47]\n"
     ]
    }
   ],
   "source": [
    "Io = [32.5]\n",
    "Ilow = [39]\n",
    "IEI = [47.7]\n",
    "Ihigh = [53.7]\n",
    "\n",
    "print([np.round(np.tan(np.radians(Io[i]))/np.tan(np.radians(IEI[i])),2) for i in range(len(Io))])\n",
    "print([np.round(np.tan(np.radians(Io[i]))/np.tan(np.radians(Ilow[i])),2) for i in range(len(Io))])\n",
    "print([np.round(np.tan(np.radians(Io[i]))/np.tan(np.radians(Ihigh[i])),2) for i in range(len(Io))])"
   ]
  },
  {
   "cell_type": "markdown",
   "metadata": {
    "tags": []
   },
   "source": [
    "## Vasiliev et al., 2007"
   ]
  },
  {
   "cell_type": "code",
   "execution_count": 22,
   "metadata": {},
   "outputs": [
    {
     "name": "stdout",
     "output_type": "stream",
     "text": [
      "[0.44, 0.57]\n",
      "[0.84, 0.88]\n",
      "[0.25, 0.31]\n"
     ]
    }
   ],
   "source": [
    "Io = [50.5, 52.7]\n",
    "Ilow = [55.3, 56.2]\n",
    "IEI = [69.9, 66.6]\n",
    "Ihigh = [78.4,76.8]\n",
    "\n",
    "print([np.round(np.tan(np.radians(Io[i]))/np.tan(np.radians(IEI[i])),2) for i in range(len(Io))])\n",
    "print([np.round(np.tan(np.radians(Io[i]))/np.tan(np.radians(Ilow[i])),2) for i in range(len(Io))])\n",
    "print([np.round(np.tan(np.radians(Io[i]))/np.tan(np.radians(Ihigh[i])),2) for i in range(len(Io))])"
   ]
  },
  {
   "cell_type": "markdown",
   "metadata": {
    "tags": []
   },
   "source": [
    "## Yu et al., 2014"
   ]
  },
  {
   "cell_type": "code",
   "execution_count": 23,
   "metadata": {},
   "outputs": [
    {
     "name": "stdout",
     "output_type": "stream",
     "text": [
      "[0.82]\n",
      "[0.99]\n",
      "[0.65]\n"
     ]
    }
   ],
   "source": [
    "Io = [46]\n",
    "Ilow = [46.4]\n",
    "IEI = [51.7]\n",
    "Ihigh = [57.7]\n",
    "\n",
    "print([np.round(np.tan(np.radians(Io[i]))/np.tan(np.radians(IEI[i])),2) for i in range(len(Io))])\n",
    "print([np.round(np.tan(np.radians(Io[i]))/np.tan(np.radians(Ilow[i])),2) for i in range(len(Io))])\n",
    "print([np.round(np.tan(np.radians(Io[i]))/np.tan(np.radians(Ihigh[i])),2) for i in range(len(Io))])"
   ]
  },
  {
   "cell_type": "markdown",
   "metadata": {
    "tags": []
   },
   "source": [
    "## Tong et al., 2017"
   ]
  },
  {
   "cell_type": "code",
   "execution_count": 24,
   "metadata": {},
   "outputs": [
    {
     "name": "stdout",
     "output_type": "stream",
     "text": [
      "[0.62, 0.73]\n",
      "[0.78, 0.94]\n",
      "[0.52, 0.58]\n"
     ]
    }
   ],
   "source": [
    "Io = [27.8, 31.8]\n",
    "Ilow = [34,33.5]\n",
    "IEI = [40.3,40.4]\n",
    "Ihigh = [45.3,46.7]\n",
    "\n",
    "print([np.round(np.tan(np.radians(Io[i]))/np.tan(np.radians(IEI[i])),2) for i in range(len(Io))])\n",
    "print([np.round(np.tan(np.radians(Io[i]))/np.tan(np.radians(Ilow[i])),2) for i in range(len(Io))])\n",
    "print([np.round(np.tan(np.radians(Io[i]))/np.tan(np.radians(Ihigh[i])),2) for i in range(len(Io))])"
   ]
  },
  {
   "cell_type": "markdown",
   "metadata": {
    "tags": []
   },
   "source": [
    "## Krijgsman and Tauxe, 2006"
   ]
  },
  {
   "cell_type": "code",
   "execution_count": 25,
   "metadata": {},
   "outputs": [
    {
     "name": "stdout",
     "output_type": "stream",
     "text": [
      "[0.7]\n",
      "[0.9]\n",
      "[0.57]\n"
     ]
    }
   ],
   "source": [
    "Io = [57]\n",
    "Ilow = [56]\n",
    "IEI = [58]\n",
    "Ihigh = [64]\n",
    "\n",
    "print([np.round(np.tan(np.radians(Io[i]))/np.tan(np.radians(IEI[i])),2) for i in range(len(Io))])\n",
    "print([np.round(np.tan(np.radians(Io[i]))/np.tan(np.radians(Ilow[i])),2) for i in range(len(Io))])\n",
    "print([np.round(np.tan(np.radians(Io[i]))/np.tan(np.radians(Ihigh[i])),2) for i in range(len(Io))])"
   ]
  },
  {
   "cell_type": "code",
   "execution_count": 27,
   "metadata": {},
   "outputs": [
    {
     "name": "stdout",
     "output_type": "stream",
     "text": [
      "[0.7]\n",
      "[0.9]\n",
      "[0.57]\n"
     ]
    }
   ],
   "source": [
    "Io = [47]\n",
    "Ilow = [50]\n",
    "IEI = [57]\n",
    "Ihigh = [62]\n",
    "\n",
    "print([np.round(np.tan(np.radians(Io[i]))/np.tan(np.radians(IEI[i])),2) for i in range(len(Io))])\n",
    "print([np.round(np.tan(np.radians(Io[i]))/np.tan(np.radians(Ilow[i])),2) for i in range(len(Io))])\n",
    "print([np.round(np.tan(np.radians(Io[i]))/np.tan(np.radians(Ihigh[i])),2) for i in range(len(Io))])"
   ]
  },
  {
   "cell_type": "markdown",
   "metadata": {
    "tags": []
   },
   "source": [
    "## Yu et al., 2014"
   ]
  },
  {
   "cell_type": "code",
   "execution_count": 25,
   "metadata": {},
   "outputs": [
    {
     "name": "stdout",
     "output_type": "stream",
     "text": [
      "[0.7]\n",
      "[0.9]\n",
      "[0.57]\n"
     ]
    }
   ],
   "source": [
    "Io = [57]\n",
    "Ilow = [52]\n",
    "IEI = [57.1]\n",
    "Ihigh = [62]\n",
    "\n",
    "print([np.round(np.tan(np.radians(Io[i]))/np.tan(np.radians(IEI[i])),2) for i in range(len(Io))])\n",
    "print([np.round(np.tan(np.radians(Io[i]))/np.tan(np.radians(Ilow[i])),2) for i in range(len(Io))])\n",
    "print([np.round(np.tan(np.radians(Io[i]))/np.tan(np.radians(Ihigh[i])),2) for i in range(len(Io))])"
   ]
  },
  {
   "cell_type": "code",
   "execution_count": null,
   "metadata": {},
   "outputs": [],
   "source": []
  },
  {
   "cell_type": "code",
   "execution_count": null,
   "metadata": {},
   "outputs": [],
   "source": []
  },
  {
   "cell_type": "code",
   "execution_count": null,
   "metadata": {},
   "outputs": [],
   "source": []
  }
 ],
 "metadata": {
  "kernelspec": {
   "display_name": "Python 3",
   "language": "python",
   "name": "python3"
  },
  "language_info": {
   "codemirror_mode": {
    "name": "ipython",
    "version": 3
   },
   "file_extension": ".py",
   "mimetype": "text/x-python",
   "name": "python",
   "nbconvert_exporter": "python",
   "pygments_lexer": "ipython3",
   "version": "3.8.3"
  }
 },
 "nbformat": 4,
 "nbformat_minor": 5
}
