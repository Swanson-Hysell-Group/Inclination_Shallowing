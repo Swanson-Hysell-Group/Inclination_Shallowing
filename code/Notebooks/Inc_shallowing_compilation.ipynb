{
 "cells": [
  {
   "cell_type": "markdown",
   "metadata": {
    "tags": []
   },
   "source": [
    "# Notebook for compiling inclination shallowing data"
   ]
  },
  {
   "cell_type": "code",
   "execution_count": 1,
   "metadata": {},
   "outputs": [],
   "source": [
    "import numpy as np\n",
    "import pandas as pd\n",
    "import pmagpy.pmag as pmag"
   ]
  },
  {
   "cell_type": "markdown",
   "metadata": {},
   "source": [
    "Let's create an empty dataframe that will be populated with pole means called 'pole_means'.\n",
    "\n",
    "<b>formation | lithology | f | f_min | f_max | ref | mineralogy | method | n | N |</b>\n",
    "\n",
    "<b>formation</b> = Name of formation for which f was estimated <br>\n",
    "<b>lithology</b> = lithology type with categories of 'siliciclastic', 'carbonate', and 'mixed'<br>\n",
    "<b>f</b> = estimated f factor<br>\n",
    "<b>f_min</b> = lower bound on 95% confidence of f<br>\n",
    "<b>f_max</b> = upper bound on 95% confidence of f<br>\n",
    "<b>ref</b> = reference<br>\n",
    "<b>mineralogy</b> = magnetic mineralogy with categories of 'magnetite', 'hematite', and 'greigite'<br>\n",
    "<b>method</b> = method used to estimate f<br>\n",
    "<b>n</b> = number of samples used (for E/I method)<br>"
   ]
  },
  {
   "cell_type": "code",
   "execution_count": 2,
   "metadata": {},
   "outputs": [],
   "source": [
    "f_compilation = pd.DataFrame(columns=['formation','lithology','f','f_min','f_max','ref',\n",
    "                                   'mineralogy','method','n'])"
   ]
  },
  {
   "cell_type": "code",
   "execution_count": 3,
   "metadata": {},
   "outputs": [],
   "source": [
    "def f_calc(Io,Ilow,IEI,Ihigh):\n",
    "    f_EI = [np.round(np.tan(np.radians(Io[i]))/np.tan(np.radians(IEI[i])),2) for i in range(len(Io))]\n",
    "    f_max = [np.round(np.tan(np.radians(Io[i]))/np.tan(np.radians(Ilow[i])),2) for i in range(len(Io))]\n",
    "    f_min = [np.round(np.tan(np.radians(Io[i]))/np.tan(np.radians(Ihigh[i])),2) for i in range(len(Io))]\n",
    "    print(f_EI,f_min,f_max)\n",
    "    return f_EI,f_min,f_max"
   ]
  },
  {
   "cell_type": "markdown",
   "metadata": {},
   "source": [
    "## Li et al. 2022\n",
    "\n",
    "*New paleomagnetic results of the Upper Cretaceous to Lower Eocene sedimentary rocks from the Xigaze forearc basin and their tectonic implications*\n",
    "\n",
    "> \"the magnetic minerals in the samples are mainly magnetite and titanomagnetite.\""
   ]
  },
  {
   "cell_type": "code",
   "execution_count": 4,
   "metadata": {},
   "outputs": [
    {
     "name": "stdout",
     "output_type": "stream",
     "text": [
      "[0.81] [0.62] [0.99]\n"
     ]
    }
   ],
   "source": [
    "Io = [35.7]\n",
    "Ilow = [36.0]\n",
    "IEI = [41.6]\n",
    "Ihigh = [49.0]\n",
    "n = [87]\n",
    "\n",
    "f_EI,f_min,f_max = f_calc(Io,Ilow,IEI,Ihigh)"
   ]
  },
  {
   "cell_type": "code",
   "execution_count": 5,
   "metadata": {},
   "outputs": [],
   "source": [
    "f_compilation.loc['Li2022'] = pd.Series({'formation' : 'Qubeiya and Jialazi Fms',\n",
    "                                          'lithology' : 'mixed',\n",
    "                                           'f' : f_EI[0],\n",
    "                                           'f_min' : f_min[0],\n",
    "                                           'f_max' : f_max[0],\n",
    "                                           'ref' : 'Li et al., 2022',\n",
    "                                           'mineralogy' : 'magnetite',\n",
    "                                           'method' : 'EI',\n",
    "                                           'n' : 87})"
   ]
  },
  {
   "cell_type": "markdown",
   "metadata": {},
   "source": [
    "## Tauxe and Kent, 2004\n"
   ]
  },
  {
   "cell_type": "code",
   "execution_count": 6,
   "metadata": {},
   "outputs": [
    {
     "name": "stdout",
     "output_type": "stream",
     "text": [
      "[0.49] [0.37] [0.64]\n"
     ]
    }
   ],
   "source": [
    "Io = [43.7]\n",
    "Ilow = [56]\n",
    "IEI = [63]\n",
    "Ihigh = [69]\n",
    "n = []\n",
    "\n",
    "Tauxe2004_f = f_calc(Io,Ilow,IEI,Ihigh)"
   ]
  },
  {
   "cell_type": "code",
   "execution_count": 7,
   "metadata": {},
   "outputs": [],
   "source": [
    "f_compilation.loc['Tauxe2004'] = pd.Series({'formation' : 'Subei Fm',\n",
    "                                          'lithology' : 'red beds',\n",
    "                                           'f' : Tauxe2004_f[0][0],\n",
    "                                           'f_min' : Tauxe2004_f[1][0],\n",
    "                                           'f_max' : Tauxe2004_f[2][0],\n",
    "                                           'ref' : 'Tauxe and Kent, 2004',\n",
    "                                           'mineralogy' : 'hematite',\n",
    "                                           'method' : 'EI',\n",
    "                                           'n' : 222})"
   ]
  },
  {
   "cell_type": "markdown",
   "metadata": {},
   "source": [
    "## Vaes et al., 2021"
   ]
  },
  {
   "cell_type": "code",
   "execution_count": 8,
   "metadata": {},
   "outputs": [
    {
     "name": "stdout",
     "output_type": "stream",
     "text": [
      "[0.46, 0.56, 0.64, 0.47, 0.48, 0.44, 0.2, 0.52, 0.65] [0.32, 0.43, 0.48, 0.35, 0.33, 0.31, 0.15, 0.41, 0.51] [0.68, 0.8, 0.84, 0.64, 0.69, 0.62, 0.53, 0.7, 0.84]\n"
     ]
    }
   ],
   "source": [
    "Io = [21.5,25.7, 28.6, 27.4, 27.5, 27.1, 37.0, 26.0, 29.5]\n",
    "Ilow = [30.1, 31.0, 32.9, 39.0, 36.9, 39.4, 54.9, 34.9, 34.0]\n",
    "IEI = [40.8, 40.8, 40.6, 47.8, 47.1, 49.4, 74.8, 43.0, 41.0]\n",
    "Ihigh = [50.5, 48.5, 48.8, 56.3, 57.4, 58.7, 78.4, 50.1, 48.1]\n",
    "n = [128,145,129,137,156,133,113,167,167]\n",
    "\n",
    "Vaes2021_f = f_calc(Io,Ilow,IEI,Ihigh)"
   ]
  },
  {
   "cell_type": "code",
   "execution_count": 9,
   "metadata": {},
   "outputs": [],
   "source": [
    "for i in range(len(Io)):\n",
    "    f_compilation.loc['Vaes2021_'+str(i+1)] = pd.Series({'formation' : 'Gonjo Basin Fm'+str(i+1),\n",
    "                                          'lithology' : 'red beds',\n",
    "                                           'f' : Vaes2021_f[0][i],\n",
    "                                           'f_min' : Vaes2021_f[1][i],\n",
    "                                           'f_max' : Vaes2021_f[2][i],\n",
    "                                           'ref' : 'Vaes et al., 2021',\n",
    "                                           'mineralogy' : 'hematite',\n",
    "                                           'method' : 'EI',\n",
    "                                           'n' : n[i]})"
   ]
  },
  {
   "cell_type": "markdown",
   "metadata": {},
   "source": [
    "## Dupont-Nivet et al., 2008"
   ]
  },
  {
   "cell_type": "code",
   "execution_count": 10,
   "metadata": {},
   "outputs": [
    {
     "name": "stdout",
     "output_type": "stream",
     "text": [
      "[0.78, 0.9, 0.68, 0.63, 0.49, 0.69, 0.91]\n",
      "[1.0, 1.04, 0.78, 0.75, 0.65, 0.9, 0.71]\n",
      "[0.51, 0.72, 0.54, 0.51, 0.37, 0.49, 1.25]\n"
     ]
    }
   ],
   "source": [
    "Io = [45,50,43,44,44,9,-10]\n",
    "Ilow = [45,49,50,52,56,10,-14]\n",
    "IEI = [52,53,54,57,63,13,-11]\n",
    "Ihigh = [63,59,60,62,69,18,-8]\n",
    "locality = ['Ctg-Xsh','Xiejia','Mahalagou','Guide','Subei','Zhongpu','Shongshan']\n",
    "n = [95,185,228,627,222,101,144]\n",
    "\n",
    "print([np.round(np.tan(np.radians(Io[i]))/np.tan(np.radians(IEI[i])),2) for i in range(len(Io))])\n",
    "print([np.round(np.tan(np.radians(Io[i]))/np.tan(np.radians(Ilow[i])),2) for i in range(len(Io))])\n",
    "print([np.round(np.tan(np.radians(Io[i]))/np.tan(np.radians(Ihigh[i])),2) for i in range(len(Io))])"
   ]
  },
  {
   "cell_type": "code",
   "execution_count": 11,
   "metadata": {},
   "outputs": [
    {
     "name": "stdout",
     "output_type": "stream",
     "text": [
      "[0.78, 0.9, 0.68, 0.63, 0.49, 0.69, 0.91] [0.51, 0.72, 0.54, 0.51, 0.37, 0.49, 1.25] [1.0, 1.04, 0.78, 0.75, 0.65, 0.9, 0.71]\n"
     ]
    }
   ],
   "source": [
    "DupontNivet2008_f = f_calc(Io,Ilow,IEI,Ihigh)"
   ]
  },
  {
   "cell_type": "code",
   "execution_count": 12,
   "metadata": {},
   "outputs": [],
   "source": [
    "for i in range(len(Io)):\n",
    "    f_compilation.loc['DupontNivet_2008_'+str(i+1)] = pd.Series({'formation' : locality[i],\n",
    "                                          'lithology' : '?',\n",
    "                                           'f' : DupontNivet2008_f[0][i],\n",
    "                                           'f_min' : DupontNivet2008_f[1][i],\n",
    "                                           'f_max' : DupontNivet2008_f[2][i],\n",
    "                                           'ref' : 'Dpont-Nivet et al, 2008',\n",
    "                                           'mineralogy' : 'hematite',\n",
    "                                           'method' : 'EI',\n",
    "                                           'n' : n[i]})"
   ]
  },
  {
   "cell_type": "markdown",
   "metadata": {},
   "source": [
    "## Tauxe 2005 Potwar"
   ]
  },
  {
   "cell_type": "code",
   "execution_count": null,
   "metadata": {},
   "outputs": [],
   "source": [
    "Io = [33.7]\n",
    "Ilow = [31]\n",
    "IEI = [41]\n",
    "Ihigh = [49]\n",
    "\n",
    "print([np.round(np.tan(np.radians(Io[i]))/np.tan(np.radians(IEI[i])),2) for i in range(len(Io))])\n",
    "print([np.round(np.tan(np.radians(Io[i]))/np.tan(np.radians(Ilow[i])),2) for i in range(len(Io))])\n",
    "print([np.round(np.tan(np.radians(Io[i]))/np.tan(np.radians(Ihigh[i])),2) for i in range(len(Io))])"
   ]
  },
  {
   "cell_type": "code",
   "execution_count": null,
   "metadata": {},
   "outputs": [],
   "source": [
    "Tauxe2005_f = f_calc(Io,Ilow,IEI,Ihigh)"
   ]
  },
  {
   "cell_type": "code",
   "execution_count": null,
   "metadata": {},
   "outputs": [],
   "source": [
    "f_compilation.loc['Tauxe2005'] = pd.Series({'formation' : 'Potwar',\n",
    "                                          'lithology' : 'red beds',\n",
    "                                           'f' : Tauxe2005_f[0][0],\n",
    "                                           'f_min' : Tauxe2005_f[1][0],\n",
    "                                           'f_max' : Tauxe2005_f[2][0],\n",
    "                                           'ref' : 'Tauxe, 2005',\n",
    "                                           'mineralogy' : 'hematite',\n",
    "                                           'method' : 'EI',\n",
    "                                           'n' : 0})"
   ]
  },
  {
   "cell_type": "markdown",
   "metadata": {},
   "source": [
    "## Kirscher et al., 2014 Kyrgyzstan\n"
   ]
  },
  {
   "cell_type": "code",
   "execution_count": null,
   "metadata": {},
   "outputs": [],
   "source": [
    "Io = [-35]\n",
    "Ilow = [-41.4]\n",
    "IEI = [-50.3]\n",
    "Ihigh = [-57.9]\n",
    "\n",
    "print([np.round(np.tan(np.radians(Io[i]))/np.tan(np.radians(IEI[i])),2) for i in range(len(Io))])\n",
    "print([np.round(np.tan(np.radians(Io[i]))/np.tan(np.radians(Ilow[i])),2) for i in range(len(Io))])\n",
    "print([np.round(np.tan(np.radians(Io[i]))/np.tan(np.radians(Ihigh[i])),2) for i in range(len(Io))])"
   ]
  },
  {
   "cell_type": "code",
   "execution_count": null,
   "metadata": {},
   "outputs": [],
   "source": [
    "Kirsheretal2014_f = f_calc(Io,Ilow,IEI,Ihigh)"
   ]
  },
  {
   "cell_type": "code",
   "execution_count": null,
   "metadata": {},
   "outputs": [],
   "source": [
    "f_compilation.loc['Kirsher2014'] = pd.Series({'formation' : 'Sonkuk Basin (DUN)',\n",
    "                                          'lithology' : 'red beds',\n",
    "                                           'f' : Kirsheretal2014_f[0][0],\n",
    "                                           'f_min' : Kirsheretal2014_f[1][0],\n",
    "                                           'f_max' : Kirsheretal2014_f[2][0],\n",
    "                                           'ref' : 'Kirsher et al, 2014',\n",
    "                                           'mineralogy' : 'hematite/magnetite',\n",
    "                                           'method' : 'EI',\n",
    "                                           'n' : 100})"
   ]
  },
  {
   "cell_type": "markdown",
   "metadata": {
    "tags": []
   },
   "source": [
    "## Tan et al., 2010 Lhasa block"
   ]
  },
  {
   "cell_type": "code",
   "execution_count": null,
   "metadata": {},
   "outputs": [],
   "source": [
    "Io = [23.5]\n",
    "Ilow = [39.9]\n",
    "IEI = [42.0]\n",
    "Ihigh = [44.5]\n",
    "\n",
    "print([np.round(np.tan(np.radians(Io[i]))/np.tan(np.radians(IEI[i])),2) for i in range(len(Io))])\n",
    "print([np.round(np.tan(np.radians(Io[i]))/np.tan(np.radians(Ilow[i])),2) for i in range(len(Io))])\n",
    "print([np.round(np.tan(np.radians(Io[i]))/np.tan(np.radians(Ihigh[i])),2) for i in range(len(Io))])"
   ]
  },
  {
   "cell_type": "code",
   "execution_count": null,
   "metadata": {},
   "outputs": [],
   "source": [
    "Tanetal2010_f = f_calc(Io,Ilow,IEI,Ihigh)"
   ]
  },
  {
   "cell_type": "code",
   "execution_count": null,
   "metadata": {},
   "outputs": [],
   "source": [
    "f_compilation.loc['Tanetal2010'] = pd.Series({'formation' : 'Shexing',\n",
    "                                          'lithology' : 'red beds',\n",
    "                                           'f' : Tanetal2010_f[0][0],\n",
    "                                           'f_min' : Tanetal2010_f[1][0],\n",
    "                                           'f_max' : Tanetal2010_f[2][0],\n",
    "                                           'ref' : 'Tan et al, 2010',\n",
    "                                           'mineralogy' : 'hematite',\n",
    "                                           'method' : 'EI',\n",
    "                                           'n' : 377})"
   ]
  },
  {
   "cell_type": "markdown",
   "metadata": {},
   "source": [
    "## Kent and Tauxe 2005 Late Triassic Latitudes"
   ]
  },
  {
   "cell_type": "code",
   "execution_count": null,
   "metadata": {},
   "outputs": [],
   "source": [
    "Io = [5.9,5.2,8.8,13,14.2,15.7,17.5,18.2,33.4,45.1]\n",
    "Ilow = [8,5,16,17,19,21,28,29,33,51]\n",
    "IEI = [10,9,21,20,21,24,33,34,44,60]\n",
    "Ihigh = [12,13,25,23,24,28,37,38,48,65]\n",
    "n=[333,148,194,308,336,309,246,302,27,222]\n",
    "locality=['Dan River','Princeton','Nursery','Titusville','Rutgers','Somerset','Weston','Martinsville',\"St. Audrie's Bay\",'Jameson Land']\n",
    "\n",
    "print([np.round(np.tan(np.radians(Io[i]))/np.tan(np.radians(IEI[i])),2) for i in range(len(Io))])\n",
    "print([np.round(np.tan(np.radians(Io[i]))/np.tan(np.radians(Ilow[i])),2) for i in range(len(Io))])\n",
    "print([np.round(np.tan(np.radians(Io[i]))/np.tan(np.radians(Ihigh[i])),2) for i in range(len(Io))])"
   ]
  },
  {
   "cell_type": "code",
   "execution_count": null,
   "metadata": {},
   "outputs": [],
   "source": [
    "KentTauxe2005_f = f_calc(Io,Ilow,IEI,Ihigh)"
   ]
  },
  {
   "cell_type": "code",
   "execution_count": null,
   "metadata": {},
   "outputs": [],
   "source": [
    "for i in range(len(Io)):\n",
    "    f_compilation.loc['KentTauxe2005_'+str(i+1)] = pd.Series({'formation' : locality[i],\n",
    "                                          'lithology' : 'red beds',\n",
    "                                           'f' : KentTauxe2005_f[0][i],\n",
    "                                           'f_min' : KentTauxe2005_f[1][i],\n",
    "                                           'f_max' : KentTauxe2005_f[2][i],\n",
    "                                           'ref' : 'Kent and Tauxe, 2005',\n",
    "                                           'mineralogy' : 'hematite',\n",
    "                                           'method' : 'EI',\n",
    "                                           'n' : n[i]})"
   ]
  },
  {
   "cell_type": "markdown",
   "metadata": {
    "tags": []
   },
   "source": [
    "## Huang et al., 2013 Linzizong"
   ]
  },
  {
   "cell_type": "code",
   "execution_count": 14,
   "metadata": {},
   "outputs": [
    {
     "name": "stdout",
     "output_type": "stream",
     "text": [
      "[0.45]\n",
      "[0.57]\n",
      "[0.32]\n"
     ]
    }
   ],
   "source": [
    "Io = [20.5]\n",
    "Ilow = [33.1]\n",
    "IEI = [40.0]\n",
    "Ihigh = [49.5]\n",
    "\n",
    "print([np.round(np.tan(np.radians(Io[i]))/np.tan(np.radians(IEI[i])),2) for i in range(len(Io))])\n",
    "print([np.round(np.tan(np.radians(Io[i]))/np.tan(np.radians(Ilow[i])),2) for i in range(len(Io))])\n",
    "print([np.round(np.tan(np.radians(Io[i]))/np.tan(np.radians(Ihigh[i])),2) for i in range(len(Io))])"
   ]
  },
  {
   "cell_type": "code",
   "execution_count": 15,
   "metadata": {},
   "outputs": [
    {
     "name": "stdout",
     "output_type": "stream",
     "text": [
      "[0.45] [0.32] [0.57]\n"
     ]
    }
   ],
   "source": [
    "Huangetal2013_f_1 = f_calc(Io,Ilow,IEI,Ihigh)"
   ]
  },
  {
   "cell_type": "code",
   "execution_count": 19,
   "metadata": {},
   "outputs": [],
   "source": [
    "f_compilation.loc['Huangetal2013'] = pd.Series({'formation' : 'Linzizong fm',\n",
    "                                          'lithology' : 'v. clastics, mudstones',\n",
    "                                           'f' : Huangetal2013_f_1[0][0],\n",
    "                                           'f_min' : Huangetal2013_f_1[1][0],\n",
    "                                           'f_max' : Huangetal2013_f_1[2][0],\n",
    "                                           'ref' : 'Huang et al, 2013',\n",
    "                                           'mineralogy' : 'titanomagnetite',\n",
    "                                           'method' : 'ani',\n",
    "                                           'n': 119})"
   ]
  },
  {
   "cell_type": "code",
   "execution_count": 18,
   "metadata": {},
   "outputs": [
    {
     "data": {
      "text/html": [
       "<div>\n",
       "<style scoped>\n",
       "    .dataframe tbody tr th:only-of-type {\n",
       "        vertical-align: middle;\n",
       "    }\n",
       "\n",
       "    .dataframe tbody tr th {\n",
       "        vertical-align: top;\n",
       "    }\n",
       "\n",
       "    .dataframe thead th {\n",
       "        text-align: right;\n",
       "    }\n",
       "</style>\n",
       "<table border=\"1\" class=\"dataframe\">\n",
       "  <thead>\n",
       "    <tr style=\"text-align: right;\">\n",
       "      <th></th>\n",
       "      <th>formation</th>\n",
       "      <th>lithology</th>\n",
       "      <th>f</th>\n",
       "      <th>f_min</th>\n",
       "      <th>f_max</th>\n",
       "      <th>ref</th>\n",
       "      <th>mineralogy</th>\n",
       "      <th>method</th>\n",
       "      <th>n</th>\n",
       "    </tr>\n",
       "  </thead>\n",
       "  <tbody>\n",
       "    <tr>\n",
       "      <th>Li2022</th>\n",
       "      <td>Qubeiya and Jialazi Fms</td>\n",
       "      <td>mixed</td>\n",
       "      <td>0.81</td>\n",
       "      <td>0.62</td>\n",
       "      <td>0.99</td>\n",
       "      <td>Li et al., 2022</td>\n",
       "      <td>magnetite</td>\n",
       "      <td>EI</td>\n",
       "      <td>87</td>\n",
       "    </tr>\n",
       "    <tr>\n",
       "      <th>Tauxe2004</th>\n",
       "      <td>Subei Fm</td>\n",
       "      <td>red beds</td>\n",
       "      <td>0.49</td>\n",
       "      <td>0.37</td>\n",
       "      <td>0.64</td>\n",
       "      <td>Tauxe and Kent, 2004</td>\n",
       "      <td>hematite</td>\n",
       "      <td>EI</td>\n",
       "      <td>222</td>\n",
       "    </tr>\n",
       "    <tr>\n",
       "      <th>Vaes2021_1</th>\n",
       "      <td>Gonjo Basin Fm1</td>\n",
       "      <td>red beds</td>\n",
       "      <td>0.46</td>\n",
       "      <td>0.32</td>\n",
       "      <td>0.68</td>\n",
       "      <td>Vaes et al., 2021</td>\n",
       "      <td>hematite</td>\n",
       "      <td>EI</td>\n",
       "      <td>128</td>\n",
       "    </tr>\n",
       "    <tr>\n",
       "      <th>Vaes2021_2</th>\n",
       "      <td>Gonjo Basin Fm2</td>\n",
       "      <td>red beds</td>\n",
       "      <td>0.56</td>\n",
       "      <td>0.43</td>\n",
       "      <td>0.80</td>\n",
       "      <td>Vaes et al., 2021</td>\n",
       "      <td>hematite</td>\n",
       "      <td>EI</td>\n",
       "      <td>145</td>\n",
       "    </tr>\n",
       "    <tr>\n",
       "      <th>Vaes2021_3</th>\n",
       "      <td>Gonjo Basin Fm3</td>\n",
       "      <td>red beds</td>\n",
       "      <td>0.64</td>\n",
       "      <td>0.48</td>\n",
       "      <td>0.84</td>\n",
       "      <td>Vaes et al., 2021</td>\n",
       "      <td>hematite</td>\n",
       "      <td>EI</td>\n",
       "      <td>129</td>\n",
       "    </tr>\n",
       "    <tr>\n",
       "      <th>Vaes2021_4</th>\n",
       "      <td>Gonjo Basin Fm4</td>\n",
       "      <td>red beds</td>\n",
       "      <td>0.47</td>\n",
       "      <td>0.35</td>\n",
       "      <td>0.64</td>\n",
       "      <td>Vaes et al., 2021</td>\n",
       "      <td>hematite</td>\n",
       "      <td>EI</td>\n",
       "      <td>137</td>\n",
       "    </tr>\n",
       "    <tr>\n",
       "      <th>Vaes2021_5</th>\n",
       "      <td>Gonjo Basin Fm5</td>\n",
       "      <td>red beds</td>\n",
       "      <td>0.48</td>\n",
       "      <td>0.33</td>\n",
       "      <td>0.69</td>\n",
       "      <td>Vaes et al., 2021</td>\n",
       "      <td>hematite</td>\n",
       "      <td>EI</td>\n",
       "      <td>156</td>\n",
       "    </tr>\n",
       "    <tr>\n",
       "      <th>Vaes2021_6</th>\n",
       "      <td>Gonjo Basin Fm6</td>\n",
       "      <td>red beds</td>\n",
       "      <td>0.44</td>\n",
       "      <td>0.31</td>\n",
       "      <td>0.62</td>\n",
       "      <td>Vaes et al., 2021</td>\n",
       "      <td>hematite</td>\n",
       "      <td>EI</td>\n",
       "      <td>133</td>\n",
       "    </tr>\n",
       "    <tr>\n",
       "      <th>Vaes2021_7</th>\n",
       "      <td>Gonjo Basin Fm7</td>\n",
       "      <td>red beds</td>\n",
       "      <td>0.20</td>\n",
       "      <td>0.15</td>\n",
       "      <td>0.53</td>\n",
       "      <td>Vaes et al., 2021</td>\n",
       "      <td>hematite</td>\n",
       "      <td>EI</td>\n",
       "      <td>113</td>\n",
       "    </tr>\n",
       "    <tr>\n",
       "      <th>Vaes2021_8</th>\n",
       "      <td>Gonjo Basin Fm8</td>\n",
       "      <td>red beds</td>\n",
       "      <td>0.52</td>\n",
       "      <td>0.41</td>\n",
       "      <td>0.70</td>\n",
       "      <td>Vaes et al., 2021</td>\n",
       "      <td>hematite</td>\n",
       "      <td>EI</td>\n",
       "      <td>167</td>\n",
       "    </tr>\n",
       "    <tr>\n",
       "      <th>Vaes2021_9</th>\n",
       "      <td>Gonjo Basin Fm9</td>\n",
       "      <td>red beds</td>\n",
       "      <td>0.65</td>\n",
       "      <td>0.51</td>\n",
       "      <td>0.84</td>\n",
       "      <td>Vaes et al., 2021</td>\n",
       "      <td>hematite</td>\n",
       "      <td>EI</td>\n",
       "      <td>167</td>\n",
       "    </tr>\n",
       "    <tr>\n",
       "      <th>DupontNivet_2008_1</th>\n",
       "      <td>Ctg-Xsh</td>\n",
       "      <td>?</td>\n",
       "      <td>0.78</td>\n",
       "      <td>0.51</td>\n",
       "      <td>1.00</td>\n",
       "      <td>Dpont-Nivet et al, 2008</td>\n",
       "      <td>hematite</td>\n",
       "      <td>EI</td>\n",
       "      <td>95</td>\n",
       "    </tr>\n",
       "    <tr>\n",
       "      <th>DupontNivet_2008_2</th>\n",
       "      <td>Xiejia</td>\n",
       "      <td>?</td>\n",
       "      <td>0.90</td>\n",
       "      <td>0.72</td>\n",
       "      <td>1.04</td>\n",
       "      <td>Dpont-Nivet et al, 2008</td>\n",
       "      <td>hematite</td>\n",
       "      <td>EI</td>\n",
       "      <td>185</td>\n",
       "    </tr>\n",
       "    <tr>\n",
       "      <th>DupontNivet_2008_3</th>\n",
       "      <td>Mahalagou</td>\n",
       "      <td>?</td>\n",
       "      <td>0.68</td>\n",
       "      <td>0.54</td>\n",
       "      <td>0.78</td>\n",
       "      <td>Dpont-Nivet et al, 2008</td>\n",
       "      <td>hematite</td>\n",
       "      <td>EI</td>\n",
       "      <td>228</td>\n",
       "    </tr>\n",
       "    <tr>\n",
       "      <th>DupontNivet_2008_4</th>\n",
       "      <td>Guide</td>\n",
       "      <td>?</td>\n",
       "      <td>0.63</td>\n",
       "      <td>0.51</td>\n",
       "      <td>0.75</td>\n",
       "      <td>Dpont-Nivet et al, 2008</td>\n",
       "      <td>hematite</td>\n",
       "      <td>EI</td>\n",
       "      <td>627</td>\n",
       "    </tr>\n",
       "    <tr>\n",
       "      <th>DupontNivet_2008_5</th>\n",
       "      <td>Subei</td>\n",
       "      <td>?</td>\n",
       "      <td>0.49</td>\n",
       "      <td>0.37</td>\n",
       "      <td>0.65</td>\n",
       "      <td>Dpont-Nivet et al, 2008</td>\n",
       "      <td>hematite</td>\n",
       "      <td>EI</td>\n",
       "      <td>222</td>\n",
       "    </tr>\n",
       "    <tr>\n",
       "      <th>DupontNivet_2008_6</th>\n",
       "      <td>Zhongpu</td>\n",
       "      <td>?</td>\n",
       "      <td>0.69</td>\n",
       "      <td>0.49</td>\n",
       "      <td>0.90</td>\n",
       "      <td>Dpont-Nivet et al, 2008</td>\n",
       "      <td>hematite</td>\n",
       "      <td>EI</td>\n",
       "      <td>101</td>\n",
       "    </tr>\n",
       "    <tr>\n",
       "      <th>DupontNivet_2008_7</th>\n",
       "      <td>Shongshan</td>\n",
       "      <td>?</td>\n",
       "      <td>0.91</td>\n",
       "      <td>1.25</td>\n",
       "      <td>0.71</td>\n",
       "      <td>Dpont-Nivet et al, 2008</td>\n",
       "      <td>hematite</td>\n",
       "      <td>EI</td>\n",
       "      <td>144</td>\n",
       "    </tr>\n",
       "    <tr>\n",
       "      <th>Huangetal2013</th>\n",
       "      <td>Linzizong fm</td>\n",
       "      <td>volc. clastics, mudstones</td>\n",
       "      <td>0.45</td>\n",
       "      <td>0.32</td>\n",
       "      <td>0.57</td>\n",
       "      <td>Huang et al, 2013</td>\n",
       "      <td>titanomagnetite</td>\n",
       "      <td>ani</td>\n",
       "      <td>119</td>\n",
       "    </tr>\n",
       "  </tbody>\n",
       "</table>\n",
       "</div>"
      ],
      "text/plain": [
       "                                  formation                  lithology     f  \\\n",
       "Li2022              Qubeiya and Jialazi Fms                      mixed  0.81   \n",
       "Tauxe2004                          Subei Fm                   red beds  0.49   \n",
       "Vaes2021_1                  Gonjo Basin Fm1                   red beds  0.46   \n",
       "Vaes2021_2                  Gonjo Basin Fm2                   red beds  0.56   \n",
       "Vaes2021_3                  Gonjo Basin Fm3                   red beds  0.64   \n",
       "Vaes2021_4                  Gonjo Basin Fm4                   red beds  0.47   \n",
       "Vaes2021_5                  Gonjo Basin Fm5                   red beds  0.48   \n",
       "Vaes2021_6                  Gonjo Basin Fm6                   red beds  0.44   \n",
       "Vaes2021_7                  Gonjo Basin Fm7                   red beds  0.20   \n",
       "Vaes2021_8                  Gonjo Basin Fm8                   red beds  0.52   \n",
       "Vaes2021_9                  Gonjo Basin Fm9                   red beds  0.65   \n",
       "DupontNivet_2008_1                  Ctg-Xsh                          ?  0.78   \n",
       "DupontNivet_2008_2                   Xiejia                          ?  0.90   \n",
       "DupontNivet_2008_3                Mahalagou                          ?  0.68   \n",
       "DupontNivet_2008_4                    Guide                          ?  0.63   \n",
       "DupontNivet_2008_5                    Subei                          ?  0.49   \n",
       "DupontNivet_2008_6                  Zhongpu                          ?  0.69   \n",
       "DupontNivet_2008_7                Shongshan                          ?  0.91   \n",
       "Huangetal2013                  Linzizong fm  volc. clastics, mudstones  0.45   \n",
       "\n",
       "                    f_min  f_max                      ref       mineralogy  \\\n",
       "Li2022               0.62   0.99          Li et al., 2022        magnetite   \n",
       "Tauxe2004            0.37   0.64     Tauxe and Kent, 2004         hematite   \n",
       "Vaes2021_1           0.32   0.68        Vaes et al., 2021         hematite   \n",
       "Vaes2021_2           0.43   0.80        Vaes et al., 2021         hematite   \n",
       "Vaes2021_3           0.48   0.84        Vaes et al., 2021         hematite   \n",
       "Vaes2021_4           0.35   0.64        Vaes et al., 2021         hematite   \n",
       "Vaes2021_5           0.33   0.69        Vaes et al., 2021         hematite   \n",
       "Vaes2021_6           0.31   0.62        Vaes et al., 2021         hematite   \n",
       "Vaes2021_7           0.15   0.53        Vaes et al., 2021         hematite   \n",
       "Vaes2021_8           0.41   0.70        Vaes et al., 2021         hematite   \n",
       "Vaes2021_9           0.51   0.84        Vaes et al., 2021         hematite   \n",
       "DupontNivet_2008_1   0.51   1.00  Dpont-Nivet et al, 2008         hematite   \n",
       "DupontNivet_2008_2   0.72   1.04  Dpont-Nivet et al, 2008         hematite   \n",
       "DupontNivet_2008_3   0.54   0.78  Dpont-Nivet et al, 2008         hematite   \n",
       "DupontNivet_2008_4   0.51   0.75  Dpont-Nivet et al, 2008         hematite   \n",
       "DupontNivet_2008_5   0.37   0.65  Dpont-Nivet et al, 2008         hematite   \n",
       "DupontNivet_2008_6   0.49   0.90  Dpont-Nivet et al, 2008         hematite   \n",
       "DupontNivet_2008_7   1.25   0.71  Dpont-Nivet et al, 2008         hematite   \n",
       "Huangetal2013        0.32   0.57        Huang et al, 2013  titanomagnetite   \n",
       "\n",
       "                   method    n  \n",
       "Li2022                 EI   87  \n",
       "Tauxe2004              EI  222  \n",
       "Vaes2021_1             EI  128  \n",
       "Vaes2021_2             EI  145  \n",
       "Vaes2021_3             EI  129  \n",
       "Vaes2021_4             EI  137  \n",
       "Vaes2021_5             EI  156  \n",
       "Vaes2021_6             EI  133  \n",
       "Vaes2021_7             EI  113  \n",
       "Vaes2021_8             EI  167  \n",
       "Vaes2021_9             EI  167  \n",
       "DupontNivet_2008_1     EI   95  \n",
       "DupontNivet_2008_2     EI  185  \n",
       "DupontNivet_2008_3     EI  228  \n",
       "DupontNivet_2008_4     EI  627  \n",
       "DupontNivet_2008_5     EI  222  \n",
       "DupontNivet_2008_6     EI  101  \n",
       "DupontNivet_2008_7     EI  144  \n",
       "Huangetal2013         ani  119  "
      ]
     },
     "execution_count": 18,
     "metadata": {},
     "output_type": "execute_result"
    }
   ],
   "source": [
    "f_compilation"
   ]
  },
  {
   "cell_type": "markdown",
   "metadata": {
    "tags": []
   },
   "source": [
    "## Krijgsman and Tauxe 2004 "
   ]
  },
  {
   "cell_type": "code",
   "execution_count": null,
   "metadata": {},
   "outputs": [],
   "source": [
    "Io = [44]\n",
    "Ilow = [49]\n",
    "IEI = [53]\n",
    "Ihigh = [57]\n",
    "\n",
    "print([np.round(np.tan(np.radians(Io[i]))/np.tan(np.radians(IEI[i])),2) for i in range(len(Io))])\n",
    "print([np.round(np.tan(np.radians(Io[i]))/np.tan(np.radians(Ilow[i])),2) for i in range(len(Io))])\n",
    "print([np.round(np.tan(np.radians(Io[i]))/np.tan(np.radians(Ihigh[i])),2) for i in range(len(Io))])"
   ]
  },
  {
   "cell_type": "code",
   "execution_count": null,
   "metadata": {},
   "outputs": [],
   "source": [
    "KrijgsmanTauxe2004_f_1 = f_calc(Io,Ilow,IEI,Ihigh)"
   ]
  },
  {
   "cell_type": "code",
   "execution_count": null,
   "metadata": {},
   "outputs": [],
   "source": [
    "f_compilation.loc['KrijgsmanTauxe2004_1'] = pd.Series({'formation' : 'Calatayud basin',\n",
    "                                          'lithology' : 'red beds',\n",
    "                                           'f' : KrijgsmanTauxe2004_f_1[0][0],\n",
    "                                           'f_min' : KrijgsmanTauxe2004_f_1[1][0],\n",
    "                                           'f_max' : KrijgsmanTauxe2004_f_1[2][0],\n",
    "                                           'ref' : 'Krijgsman and Tauxe, 2004',\n",
    "                                           'mineralogy' : 'mixed',\n",
    "                                           'method' : 'EI',\n",
    "                                           'n': 648})"
   ]
  },
  {
   "cell_type": "code",
   "execution_count": null,
   "metadata": {},
   "outputs": [],
   "source": [
    "Io = [45.6]\n",
    "Ilow = [50]\n",
    "IEI = [54]\n",
    "Ihigh = [59]\n",
    "\n",
    "print([np.round(np.tan(np.radians(Io[i]))/np.tan(np.radians(IEI[i])),2) for i in range(len(Io))])\n",
    "print([np.round(np.tan(np.radians(Io[i]))/np.tan(np.radians(Ilow[i])),2) for i in range(len(Io))])\n",
    "print([np.round(np.tan(np.radians(Io[i]))/np.tan(np.radians(Ihigh[i])),2) for i in range(len(Io))])"
   ]
  },
  {
   "cell_type": "code",
   "execution_count": null,
   "metadata": {},
   "outputs": [],
   "source": [
    "KrijgsmanTauxe2004_f_2 = f_calc(Io,Ilow,IEI,Ihigh)"
   ]
  },
  {
   "cell_type": "code",
   "execution_count": null,
   "metadata": {},
   "outputs": [],
   "source": [
    "f_compilation.loc['KrijgsmanTauxe2004_2'] = pd.Series({'formation' : 'Calatayud basin',\n",
    "                                          'lithology' : 'red beds',\n",
    "                                           'f' : KrijgsmanTauxe2004_f_2[0][0],\n",
    "                                           'f_min' : KrijgsmanTauxe2004_f_2[1][0],\n",
    "                                           'f_max' : KrijgsmanTauxe2004_f_2[2][0],\n",
    "                                           'ref' : 'Krijgsman and Tauxe, 2004',\n",
    "                                           'mineralogy' : 'mixed',\n",
    "                                           'method' : 'EI',\n",
    "                                           'n': 686})"
   ]
  },
  {
   "cell_type": "markdown",
   "metadata": {},
   "source": [
    "## Chen et al., 2017"
   ]
  },
  {
   "cell_type": "code",
   "execution_count": null,
   "metadata": {},
   "outputs": [],
   "source": [
    "Io = [34.2]\n",
    "Ilow = [41.9]\n",
    "IEI = [47.9]\n",
    "Ihigh = [54.3]\n",
    "\n",
    "print([np.round(np.tan(np.radians(Io[i]))/np.tan(np.radians(IEI[i])),2) for i in range(len(Io))])\n",
    "print([np.round(np.tan(np.radians(Io[i]))/np.tan(np.radians(Ilow[i])),2) for i in range(len(Io))])\n",
    "print([np.round(np.tan(np.radians(Io[i]))/np.tan(np.radians(Ihigh[i])),2) for i in range(len(Io))])"
   ]
  },
  {
   "cell_type": "code",
   "execution_count": null,
   "metadata": {},
   "outputs": [],
   "source": [
    "Chenetal2017_f = f_calc(Io,Ilow,IEI,Ihigh)"
   ]
  },
  {
   "cell_type": "code",
   "execution_count": null,
   "metadata": {},
   "outputs": [],
   "source": [
    "f_compilation.loc['Chenetal2015'] = pd.Series({'formation' : 'Calatayud basin',\n",
    "                                          'lithology' : 'red beds',\n",
    "                                           'f' : Chenetal2017_f[0][0],\n",
    "                                           'f_min' : Chenetal2017_f[1][0],\n",
    "                                           'f_max' : Chenetal2017_f[2][0],\n",
    "                                           'ref' : 'Chen et al, 2017',\n",
    "                                           'mineralogy' : 'mixed',\n",
    "                                           'method' : 'EI',\n",
    "                                           'n':174})"
   ]
  },
  {
   "cell_type": "markdown",
   "metadata": {},
   "source": [
    "## Tauxe et al., 2008"
   ]
  },
  {
   "cell_type": "code",
   "execution_count": null,
   "metadata": {},
   "outputs": [],
   "source": [
    "Io = [51.2]\n",
    "Ilow = [50.8]\n",
    "IEI = [56.1]\n",
    "Ihigh = [68.2]\n",
    "\n",
    "print([np.round(np.tan(np.radians(Io[i]))/np.tan(np.radians(IEI[i])),2) for i in range(len(Io))])\n",
    "print([np.round(np.tan(np.radians(Io[i]))/np.tan(np.radians(Ilow[i])),2) for i in range(len(Io))])\n",
    "print([np.round(np.tan(np.radians(Io[i]))/np.tan(np.radians(Ihigh[i])),2) for i in range(len(Io))])"
   ]
  },
  {
   "cell_type": "code",
   "execution_count": null,
   "metadata": {},
   "outputs": [],
   "source": [
    "Tauxeetal2008_f = f_calc(Io,Ilow,IEI,Ihigh)"
   ]
  },
  {
   "cell_type": "code",
   "execution_count": null,
   "metadata": {},
   "outputs": [],
   "source": [
    "f_compilation.loc['Tauxeetal2008'] = pd.Series({'formation' : 'Nacimiento',\n",
    "                                          'lithology' : 'red beds',\n",
    "                                           'f' : Tauxeetal2008_f[0][0],\n",
    "                                           'f_min' : Tauxeetal2008_f[1][0],\n",
    "                                           'f_max' : Tauxeetal2008_f[2][0],\n",
    "                                           'ref' : 'Chen et al, 2015',\n",
    "                                           'mineralogy' : 'mixed',\n",
    "                                           'method' : 'EI',\n",
    "                                           'n':102})"
   ]
  },
  {
   "cell_type": "markdown",
   "metadata": {},
   "source": [
    "## Gong et al., 2008"
   ]
  },
  {
   "cell_type": "code",
   "execution_count": null,
   "metadata": {},
   "outputs": [],
   "source": [
    "Io = [45.4,45.9,45.2,49.9,55.3,55.1,52.9,56.7,57.2]\n",
    "Ilow = [45,45.1,44.9,49.7,54.4,54.8,52.7,56.4,57.3]\n",
    "IEI = [47.2,48.1,46.8,51.7,56.3,56.5,54.3,57.5,59.1]\n",
    "Ihigh = [61.2,59.6,59.3,59.9,64.2,67,65.6,67.6,72.3]\n",
    "\n",
    "print([np.round(np.tan(np.radians(Io[i]))/np.tan(np.radians(IEI[i])),2) for i in range(len(Io))])\n",
    "print([np.round(np.tan(np.radians(Io[i]))/np.tan(np.radians(Ilow[i])),2) for i in range(len(Io))])\n",
    "print([np.round(np.tan(np.radians(Io[i]))/np.tan(np.radians(Ihigh[i])),2) for i in range(len(Io))])"
   ]
  },
  {
   "cell_type": "markdown",
   "metadata": {},
   "source": [
    "## Costa et al., 2009"
   ]
  },
  {
   "cell_type": "code",
   "execution_count": null,
   "metadata": {},
   "outputs": [],
   "source": [
    "Io = [41]\n",
    "Ilow = [48.4]\n",
    "IEI = [56.2]\n",
    "Ihigh = [64.2]\n",
    "\n",
    "print([np.round(np.tan(np.radians(Io[i]))/np.tan(np.radians(IEI[i])),2) for i in range(len(Io))])\n",
    "print([np.round(np.tan(np.radians(Io[i]))/np.tan(np.radians(Ilow[i])),2) for i in range(len(Io))])\n",
    "print([np.round(np.tan(np.radians(Io[i]))/np.tan(np.radians(Ihigh[i])),2) for i in range(len(Io))])"
   ]
  },
  {
   "cell_type": "code",
   "execution_count": null,
   "metadata": {},
   "outputs": [],
   "source": [
    "Costaetal2009_f = f_calc(Io,Ilow,IEI,Ihigh)"
   ]
  },
  {
   "cell_type": "code",
   "execution_count": null,
   "metadata": {},
   "outputs": [],
   "source": [
    "f_compilation.loc['Costaetal2009'] = pd.Series({'formation' : 'Artes',\n",
    "                                          'lithology' : 'red beds',\n",
    "                                           'f' : Costaetal2009_f[0][0],\n",
    "                                           'f_min' : Costaetal2009_f[1][0],\n",
    "                                           'f_max' : Costaetal2009_f[2][0],\n",
    "                                           'ref' : 'Costa et al, 2009',\n",
    "                                           'mineralogy' : 'hematite',\n",
    "                                           'method' : 'EI',\n",
    "                                           'n':221})"
   ]
  },
  {
   "cell_type": "markdown",
   "metadata": {},
   "source": [
    "## Agnini et al., 2011"
   ]
  },
  {
   "cell_type": "code",
   "execution_count": null,
   "metadata": {},
   "outputs": [],
   "source": [
    "Io = [39.5]\n",
    "Ilow = [42]\n",
    "IEI = [53]\n",
    "Ihigh = [69]\n",
    "\n",
    "print([np.round(np.tan(np.radians(Io[i]))/np.tan(np.radians(IEI[i])),2) for i in range(len(Io))])\n",
    "print([np.round(np.tan(np.radians(Io[i]))/np.tan(np.radians(Ilow[i])),2) for i in range(len(Io))])\n",
    "print([np.round(np.tan(np.radians(Io[i]))/np.tan(np.radians(Ihigh[i])),2) for i in range(len(Io))])"
   ]
  },
  {
   "cell_type": "code",
   "execution_count": null,
   "metadata": {},
   "outputs": [],
   "source": [
    "Agninietal2011_f = f_calc(Io,Ilow,IEI,Ihigh)"
   ]
  },
  {
   "cell_type": "code",
   "execution_count": null,
   "metadata": {},
   "outputs": [],
   "source": [
    "f_compilation.loc['Agninietal2011'] = pd.Series({'formation' : 'Alano section',\n",
    "                                          'lithology' : 'carbonates',\n",
    "                                           'f' : Agninietal2011_f[0][0],\n",
    "                                           'f_min' : Agninietal2011_f[1][0],\n",
    "                                           'f_max' : Agninietal2011_f[2][0],\n",
    "                                           'ref' : 'Agnini et al, 2011',\n",
    "                                           'mineralogy' : 'magnetite',\n",
    "                                           'method' : 'EI',\n",
    "                                           'n':159})"
   ]
  },
  {
   "cell_type": "markdown",
   "metadata": {},
   "source": [
    "## Borgh et al., 2013"
   ]
  },
  {
   "cell_type": "code",
   "execution_count": null,
   "metadata": {},
   "outputs": [],
   "source": [
    "Io = [58.5]\n",
    "Ilow = [59.3]\n",
    "IEI = [65.5]\n",
    "Ihigh = [78.1]\n",
    "\n",
    "print([np.round(np.tan(np.radians(Io[i]))/np.tan(np.radians(IEI[i])),2) for i in range(len(Io))])\n",
    "print([np.round(np.tan(np.radians(Io[i]))/np.tan(np.radians(Ilow[i])),2) for i in range(len(Io))])\n",
    "print([np.round(np.tan(np.radians(Io[i]))/np.tan(np.radians(Ihigh[i])),2) for i in range(len(Io))])"
   ]
  },
  {
   "cell_type": "code",
   "execution_count": null,
   "metadata": {},
   "outputs": [],
   "source": [
    "Borghetal2013_f = f_calc(Io,Ilow,IEI,Ihigh)"
   ]
  },
  {
   "cell_type": "code",
   "execution_count": null,
   "metadata": {},
   "outputs": [],
   "source": [
    "f_compilation.loc['Borghetal2013'] = pd.Series({'formation' : 'Pannonian basin',\n",
    "                                          'lithology' : 'mixed (marl/sand)',\n",
    "                                           'f' : Borghetal2013_f[0][0],\n",
    "                                           'f_min' : Borghetal2013_f[1][0],\n",
    "                                           'f_max' : Borghetal2013_f[2][0],\n",
    "                                           'ref' : 'Borgh et al, 2013',\n",
    "                                           'mineralogy' : 'magnetite',\n",
    "                                           'method' : 'EI',\n",
    "                                           'n':800})"
   ]
  },
  {
   "cell_type": "markdown",
   "metadata": {},
   "source": [
    "## Huang et al., 2015"
   ]
  },
  {
   "cell_type": "code",
   "execution_count": null,
   "metadata": {},
   "outputs": [],
   "source": [
    "Io = [16.6]\n",
    "Ilow = [24.8]\n",
    "IEI = [30.2]\n",
    "Ihigh = [37.3]\n",
    "\n",
    "print([np.round(np.tan(np.radians(Io[i]))/np.tan(np.radians(IEI[i])),2) for i in range(len(Io))])\n",
    "print([np.round(np.tan(np.radians(Io[i]))/np.tan(np.radians(Ilow[i])),2) for i in range(len(Io))])\n",
    "print([np.round(np.tan(np.radians(Io[i]))/np.tan(np.radians(Ihigh[i])),2) for i in range(len(Io))])"
   ]
  },
  {
   "cell_type": "code",
   "execution_count": null,
   "metadata": {},
   "outputs": [],
   "source": [
    "Huangetal2015_f = f_calc(Io,Ilow,IEI,Ihigh)"
   ]
  },
  {
   "cell_type": "code",
   "execution_count": null,
   "metadata": {},
   "outputs": [],
   "source": [
    "f_compilation.loc['Huangetal2015'] = pd.Series({'formation' : 'Pannonian basin',\n",
    "                                          'lithology' : 'red beds',\n",
    "                                           'f' : Huangetal2015_f[0][0],\n",
    "                                           'f_min' : Huangetal2015_f[1][0],\n",
    "                                           'f_max' : Huangetal2015_f[2][0],\n",
    "                                           'ref' : 'Huang et al, 2015',\n",
    "                                           'mineralogy' : 'hematite',\n",
    "                                           'method' : 'EI',\n",
    "                                           'n':64})"
   ]
  },
  {
   "cell_type": "markdown",
   "metadata": {},
   "source": [
    "## Lanci et al., 2013"
   ]
  },
  {
   "cell_type": "code",
   "execution_count": null,
   "metadata": {},
   "outputs": [],
   "source": [
    "Io = [53]\n",
    "Ilow = [56]\n",
    "IEI = [62.2]\n",
    "Ihigh = [73]\n",
    "\n",
    "print([np.round(np.tan(np.radians(Io[i]))/np.tan(np.radians(IEI[i])),2) for i in range(len(Io))])\n",
    "print([np.round(np.tan(np.radians(Io[i]))/np.tan(np.radians(Ilow[i])),2) for i in range(len(Io))])\n",
    "print([np.round(np.tan(np.radians(Io[i]))/np.tan(np.radians(Ihigh[i])),2) for i in range(len(Io))])"
   ]
  },
  {
   "cell_type": "code",
   "execution_count": null,
   "metadata": {},
   "outputs": [],
   "source": [
    "Lancietal2013_f = f_calc(Io,Ilow,IEI,Ihigh)"
   ]
  },
  {
   "cell_type": "code",
   "execution_count": null,
   "metadata": {},
   "outputs": [],
   "source": [
    "f_compilation.loc['Lancietal2013'] = pd.Series({'formation' : 'Waterford and Abrahamskraal',\n",
    "                                          'lithology' : 'mixed siliclastics',\n",
    "                                           'f' : Lancietal2013_f[0][0],\n",
    "                                           'f_min' : Lancietal2013_f[1][0],\n",
    "                                           'f_max' : Lancietal2013_f[2][0],\n",
    "                                           'ref' : 'Lanci et al, 2013',\n",
    "                                           'mineralogy' : 'magnetite',\n",
    "                                           'method' : 'EI',\n",
    "                                           'n':136})"
   ]
  },
  {
   "cell_type": "markdown",
   "metadata": {
    "tags": []
   },
   "source": [
    "## Kent and Olsen, 2008"
   ]
  },
  {
   "cell_type": "code",
   "execution_count": null,
   "metadata": {},
   "outputs": [],
   "source": [
    "Io = [21.1]\n",
    "Ilow = [32]\n",
    "IEI = [35.5]\n",
    "Ihigh = [39]\n",
    "\n",
    "print([np.round(np.tan(np.radians(Io[i]))/np.tan(np.radians(IEI[i])),2) for i in range(len(Io))])\n",
    "print([np.round(np.tan(np.radians(Io[i]))/np.tan(np.radians(Ilow[i])),2) for i in range(len(Io))])\n",
    "print([np.round(np.tan(np.radians(Io[i]))/np.tan(np.radians(Ihigh[i])),2) for i in range(len(Io))])"
   ]
  },
  {
   "cell_type": "code",
   "execution_count": null,
   "metadata": {},
   "outputs": [],
   "source": [
    "KentOlsen2008_f = f_calc(Io,Ilow,IEI,Ihigh)"
   ]
  },
  {
   "cell_type": "code",
   "execution_count": null,
   "metadata": {},
   "outputs": [],
   "source": [
    "f_compilation.loc['KentOlsen2008'] = pd.Series({'formation' : 'Shuttle Meadow, East Berline, and Portland',\n",
    "                                          'lithology' : 'mixed',\n",
    "                                           'f' : KentOlsen2008_f[0][0],\n",
    "                                           'f_min' : KentOlsen2008_f[1][0],\n",
    "                                           'f_max' : KentOlsen2008_f[2][0],\n",
    "                                           'ref' : 'Kent and Olsen, 2008',\n",
    "                                           'mineralogy' : 'hematite',\n",
    "                                           'method' : 'EI',\n",
    "                                           'n':315})"
   ]
  },
  {
   "cell_type": "markdown",
   "metadata": {
    "tags": []
   },
   "source": [
    "## Tong et al., 2013"
   ]
  },
  {
   "cell_type": "code",
   "execution_count": null,
   "metadata": {},
   "outputs": [],
   "source": [
    "Io = [23.6]\n",
    "Ilow = [38.3]\n",
    "IEI = [44.1]\n",
    "Ihigh = [49.3]\n",
    "\n",
    "print([np.round(np.tan(np.radians(Io[i]))/np.tan(np.radians(IEI[i])),2) for i in range(len(Io))])\n",
    "print([np.round(np.tan(np.radians(Io[i]))/np.tan(np.radians(Ilow[i])),2) for i in range(len(Io))])\n",
    "print([np.round(np.tan(np.radians(Io[i]))/np.tan(np.radians(Ihigh[i])),2) for i in range(len(Io))])"
   ]
  },
  {
   "cell_type": "code",
   "execution_count": null,
   "metadata": {},
   "outputs": [],
   "source": [
    "Tongetal2013_f = f_calc(Io,Ilow,IEI,Ihigh)"
   ]
  },
  {
   "cell_type": "code",
   "execution_count": null,
   "metadata": {},
   "outputs": [],
   "source": [
    "f_compilation.loc['Tongetal2013'] = pd.Series({'formation' : 'Mengban and Mengla',\n",
    "                                          'lithology' : 'red beds',\n",
    "                                           'f' : Tongetal2013_f[0][0],\n",
    "                                           'f_min' : Tongetal2013_f[1][0],\n",
    "                                           'f_max' : Tongetal2013_f[2][0],\n",
    "                                           'ref' : 'Tong et al, 2013',\n",
    "                                           'mineralogy' : 'hematite',\n",
    "                                           'method' : 'EI',\n",
    "                                           'n':23})\n",
    "\n",
    "#paper does not state number of samples. Only number of sites which is 23. They used far more in the e/i calculation, looking at the figure."
   ]
  },
  {
   "cell_type": "markdown",
   "metadata": {
    "tags": []
   },
   "source": [
    "## Channell et al., 2010"
   ]
  },
  {
   "cell_type": "code",
   "execution_count": null,
   "metadata": {},
   "outputs": [],
   "source": [
    "Io = [29.9, 54.5, 54.6, 34.8,28.5,36.3, 35,30,30.7]\n",
    "Plat_EI = [20.6,35.4,36.5,20.9,17,22.4,22.7,19,17.2]\n",
    "IEI = pmag.pinc(Plat_EI)\n",
    "n =[249,83,85,58,87,135,113,122,97]\n",
    "Ilow=[0,0,0,0,0,0,0,0,0]\n",
    "Ihigh=[0,0,0,0,0,0,0,0,0]\n",
    "locality=['Torre de Busi', 'Colle di Sogno','Colle di Sogno','Colme di Vignola','Colme di Vignola','Foza A','Frisoni A','Frisoni A','Sciapala']\n",
    "print([np.round(np.tan(np.radians(Io[i]))/np.tan(np.radians(IEI[i])),2) for i in range(len(Io))])"
   ]
  },
  {
   "cell_type": "code",
   "execution_count": null,
   "metadata": {},
   "outputs": [],
   "source": []
  },
  {
   "cell_type": "code",
   "execution_count": null,
   "metadata": {},
   "outputs": [],
   "source": [
    "Channelletal2010_f = f_calc(Io,Ilow,IEI,Ihigh)"
   ]
  },
  {
   "cell_type": "code",
   "execution_count": null,
   "metadata": {},
   "outputs": [],
   "source": [
    "for i in range(len(Io)):\n",
    "    f_compilation.loc['Channelletal2010_'+str(i+1)] = pd.Series({'formation' : locality[i],\n",
    "                                          'lithology' : 'red beds',\n",
    "                                           'f' : Channelletal2010_f[0][i],\n",
    "                                           'ref' : 'Channell et al, 2010',\n",
    "                                           'mineralogy' : 'hematite',\n",
    "                                           'method' : 'EI',\n",
    "                                           'n' : n[i]})"
   ]
  },
  {
   "cell_type": "code",
   "execution_count": null,
   "metadata": {},
   "outputs": [],
   "source": []
  },
  {
   "cell_type": "markdown",
   "metadata": {
    "tags": []
   },
   "source": [
    "## Hunag et al., 2015b"
   ]
  },
  {
   "cell_type": "code",
   "execution_count": null,
   "metadata": {},
   "outputs": [],
   "source": [
    "Io = [-42]\n",
    "Ilow = [-40.8]\n",
    "IEI = [-43.2]\n",
    "Ihigh = [-52]\n",
    "\n",
    "print([np.round(np.tan(np.radians(Io[i]))/np.tan(np.radians(IEI[i])),2) for i in range(len(Io))])\n",
    "print([np.round(np.tan(np.radians(Io[i]))/np.tan(np.radians(Ilow[i])),2) for i in range(len(Io))])\n",
    "print([np.round(np.tan(np.radians(Io[i]))/np.tan(np.radians(Ihigh[i])),2) for i in range(len(Io))])"
   ]
  },
  {
   "cell_type": "markdown",
   "metadata": {
    "tags": []
   },
   "source": [
    "## Bilardello and Kodama2010b"
   ]
  },
  {
   "cell_type": "code",
   "execution_count": null,
   "metadata": {},
   "outputs": [],
   "source": [
    "Io = [33.7]\n",
    "Ilow = [33]\n",
    "IEI = [41.1]\n",
    "Ihigh = [52]\n",
    "\n",
    "print([np.round(np.tan(np.radians(Io[i]))/np.tan(np.radians(IEI[i])),2) for i in range(len(Io))])\n",
    "print([np.round(np.tan(np.radians(Io[i]))/np.tan(np.radians(Ilow[i])),2) for i in range(len(Io))])\n",
    "print([np.round(np.tan(np.radians(Io[i]))/np.tan(np.radians(Ihigh[i])),2) for i in range(len(Io))])"
   ]
  },
  {
   "cell_type": "code",
   "execution_count": null,
   "metadata": {},
   "outputs": [],
   "source": [
    "BilardelloKodama2010b_f = f_calc(Io,Ilow,IEI,Ihigh)"
   ]
  },
  {
   "cell_type": "code",
   "execution_count": null,
   "metadata": {},
   "outputs": [],
   "source": [
    "f_compilation.loc['BilardelloKodama2010b'] = pd.Series({'formation' : 'Deer Lakle Group',\n",
    "                                          'lithology' : 'red beds',\n",
    "                                           'f' : BilardelloKodama2010b_f[0][0],\n",
    "                                           'f_min' : BilardelloKodama2010b_f[1][0],\n",
    "                                           'f_max' : BilardelloKodama2010b_f[2][0],\n",
    "                                           'ref' : 'Bilardello and Kodama, 2010b',\n",
    "                                           'mineralogy' : 'mixed',\n",
    "                                           'method' : 'EI',\n",
    "                                           'n':58})"
   ]
  },
  {
   "cell_type": "markdown",
   "metadata": {
    "tags": []
   },
   "source": [
    "## van Hisbergen et al., 2007"
   ]
  },
  {
   "cell_type": "code",
   "execution_count": null,
   "metadata": {},
   "outputs": [],
   "source": [
    "Io = [48.4,-42.1]\n",
    "Ilow = [47.6,-45.5]\n",
    "IEI = [53.4,-56.9]\n",
    "Ihigh = [67.9,-67.5]\n",
    "\n",
    "print([np.round(np.tan(np.radians(Io[i]))/np.tan(np.radians(IEI[i])),2) for i in range(len(Io))])\n",
    "print([np.round(np.tan(np.radians(Io[i]))/np.tan(np.radians(Ilow[i])),2) for i in range(len(Io))])\n",
    "print([np.round(np.tan(np.radians(Io[i]))/np.tan(np.radians(Ihigh[i])),2) for i in range(len(Io))])"
   ]
  },
  {
   "cell_type": "markdown",
   "metadata": {
    "tags": []
   },
   "source": [
    "## Maron et al., 2015"
   ]
  },
  {
   "cell_type": "code",
   "execution_count": null,
   "metadata": {},
   "outputs": [],
   "source": [
    "Io = [32.5]\n",
    "Ilow = [39]\n",
    "IEI = [47.7]\n",
    "Ihigh = [53.7]\n",
    "\n",
    "print([np.round(np.tan(np.radians(Io[i]))/np.tan(np.radians(IEI[i])),2) for i in range(len(Io))])\n",
    "print([np.round(np.tan(np.radians(Io[i]))/np.tan(np.radians(Ilow[i])),2) for i in range(len(Io))])\n",
    "print([np.round(np.tan(np.radians(Io[i]))/np.tan(np.radians(Ihigh[i])),2) for i in range(len(Io))])"
   ]
  },
  {
   "cell_type": "markdown",
   "metadata": {
    "tags": []
   },
   "source": [
    "## Vasiliev et al., 2007"
   ]
  },
  {
   "cell_type": "code",
   "execution_count": null,
   "metadata": {},
   "outputs": [],
   "source": [
    "Io = [50.5, 52.7]\n",
    "Ilow = [55.3, 56.2]\n",
    "IEI = [69.9, 66.6]\n",
    "Ihigh = [78.4,76.8]\n",
    "\n",
    "print([np.round(np.tan(np.radians(Io[i]))/np.tan(np.radians(IEI[i])),2) for i in range(len(Io))])\n",
    "print([np.round(np.tan(np.radians(Io[i]))/np.tan(np.radians(Ilow[i])),2) for i in range(len(Io))])\n",
    "print([np.round(np.tan(np.radians(Io[i]))/np.tan(np.radians(Ihigh[i])),2) for i in range(len(Io))])"
   ]
  },
  {
   "cell_type": "markdown",
   "metadata": {
    "tags": []
   },
   "source": [
    "## Yu et al., 2014"
   ]
  },
  {
   "cell_type": "code",
   "execution_count": null,
   "metadata": {},
   "outputs": [],
   "source": [
    "Io = [46]\n",
    "Ilow = [46.4]\n",
    "IEI = [51.7]\n",
    "Ihigh = [57.7]\n",
    "\n",
    "print([np.round(np.tan(np.radians(Io[i]))/np.tan(np.radians(IEI[i])),2) for i in range(len(Io))])\n",
    "print([np.round(np.tan(np.radians(Io[i]))/np.tan(np.radians(Ilow[i])),2) for i in range(len(Io))])\n",
    "print([np.round(np.tan(np.radians(Io[i]))/np.tan(np.radians(Ihigh[i])),2) for i in range(len(Io))])"
   ]
  },
  {
   "cell_type": "markdown",
   "metadata": {
    "tags": []
   },
   "source": [
    "## Tong et al., 2017"
   ]
  },
  {
   "cell_type": "code",
   "execution_count": null,
   "metadata": {},
   "outputs": [],
   "source": [
    "Io = [27.8, 31.8]\n",
    "Ilow = [34,33.5]\n",
    "IEI = [40.3,40.4]\n",
    "Ihigh = [45.3,46.7]\n",
    "\n",
    "print([np.round(np.tan(np.radians(Io[i]))/np.tan(np.radians(IEI[i])),2) for i in range(len(Io))])\n",
    "print([np.round(np.tan(np.radians(Io[i]))/np.tan(np.radians(Ilow[i])),2) for i in range(len(Io))])\n",
    "print([np.round(np.tan(np.radians(Io[i]))/np.tan(np.radians(Ihigh[i])),2) for i in range(len(Io))])"
   ]
  },
  {
   "cell_type": "markdown",
   "metadata": {
    "tags": []
   },
   "source": [
    "## Krijgsman and Tauxe, 2006"
   ]
  },
  {
   "cell_type": "code",
   "execution_count": null,
   "metadata": {},
   "outputs": [],
   "source": [
    "Io = [57]\n",
    "Ilow = [56]\n",
    "IEI = [58]\n",
    "Ihigh = [64]\n",
    "\n",
    "print([np.round(np.tan(np.radians(Io[i]))/np.tan(np.radians(IEI[i])),2) for i in range(len(Io))])\n",
    "print([np.round(np.tan(np.radians(Io[i]))/np.tan(np.radians(Ilow[i])),2) for i in range(len(Io))])\n",
    "print([np.round(np.tan(np.radians(Io[i]))/np.tan(np.radians(Ihigh[i])),2) for i in range(len(Io))])"
   ]
  },
  {
   "cell_type": "code",
   "execution_count": null,
   "metadata": {},
   "outputs": [],
   "source": [
    "Io = [47]\n",
    "Ilow = [50]\n",
    "IEI = [57]\n",
    "Ihigh = [62]\n",
    "\n",
    "print([np.round(np.tan(np.radians(Io[i]))/np.tan(np.radians(IEI[i])),2) for i in range(len(Io))])\n",
    "print([np.round(np.tan(np.radians(Io[i]))/np.tan(np.radians(Ilow[i])),2) for i in range(len(Io))])\n",
    "print([np.round(np.tan(np.radians(Io[i]))/np.tan(np.radians(Ihigh[i])),2) for i in range(len(Io))])"
   ]
  },
  {
   "cell_type": "markdown",
   "metadata": {
    "tags": []
   },
   "source": [
    "## Yu et al., 2014"
   ]
  },
  {
   "cell_type": "code",
   "execution_count": null,
   "metadata": {},
   "outputs": [],
   "source": [
    "Io = [57]\n",
    "Ilow = [52]\n",
    "IEI = [57.1]\n",
    "Ihigh = [62]\n",
    "\n",
    "print([np.round(np.tan(np.radians(Io[i]))/np.tan(np.radians(IEI[i])),2) for i in range(len(Io))])\n",
    "print([np.round(np.tan(np.radians(Io[i]))/np.tan(np.radians(Ilow[i])),2) for i in range(len(Io))])\n",
    "print([np.round(np.tan(np.radians(Io[i]))/np.tan(np.radians(Ihigh[i])),2) for i in range(len(Io))])"
   ]
  },
  {
   "cell_type": "code",
   "execution_count": null,
   "metadata": {},
   "outputs": [],
   "source": []
  },
  {
   "cell_type": "code",
   "execution_count": null,
   "metadata": {},
   "outputs": [],
   "source": []
  },
  {
   "cell_type": "code",
   "execution_count": null,
   "metadata": {},
   "outputs": [],
   "source": []
  }
 ],
 "metadata": {
  "kernelspec": {
   "display_name": "Python 3",
   "language": "python",
   "name": "python3"
  },
  "language_info": {
   "codemirror_mode": {
    "name": "ipython",
    "version": 3
   },
   "file_extension": ".py",
   "mimetype": "text/x-python",
   "name": "python",
   "nbconvert_exporter": "python",
   "pygments_lexer": "ipython3",
   "version": "3.8.3"
  }
 },
 "nbformat": 4,
 "nbformat_minor": 5
}
