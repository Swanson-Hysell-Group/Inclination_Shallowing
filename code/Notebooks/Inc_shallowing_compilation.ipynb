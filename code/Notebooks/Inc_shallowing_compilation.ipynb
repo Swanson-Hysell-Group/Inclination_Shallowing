{
 "cells": [
  {
   "cell_type": "markdown",
   "id": "8fc18771",
   "metadata": {
    "tags": []
   },
   "source": [
    "# Notebook for compiling inclination shallowing data"
   ]
  },
  {
   "cell_type": "code",
   "execution_count": 1,
   "id": "7c0a12af-7b1a-4c55-b5ef-f6c62774f604",
   "metadata": {},
   "outputs": [],
   "source": [
    "import numpy as np\n",
    "from scipy.stats import norm\n",
    "import scipy.stats as st\n",
    "\n",
    "import pandas as pd\n",
    "pd.set_option('display.max_rows', 500)\n",
    "import pmagpy.pmag as pmag\n",
    "\n",
    "import matplotlib.pyplot as plt"
   ]
  },
  {
   "cell_type": "markdown",
   "id": "e48d44e2",
   "metadata": {},
   "source": [
    "Let's create an empty dataframe that will be populated with pole means called 'pole_means'.\n",
    "\n",
    "<b>locality | lithology | f | f_min | f_max | ref | mineralogy | method | n | N |</b>\n",
    "\n",
    "<b>locality</b> = Name of loaclity of the study. this could be formation name of region name or locality of the <br>\n",
    "<b>lithology</b> = lithology type with categories of 'siliciclastic', 'carbonate', and 'mixed'<br>\n",
    "<b>f</b> = estimated f factor<br>\n",
    "<b>f_min</b> = lower bound on 95% confidence of f<br>\n",
    "<b>f_max</b> = upper bound on 95% confidence of f<br>\n",
    "<b>ref</b> = reference<br>\n",
    "<b>mineralogy</b> = magnetic mineralogy with categories of 'magnetite', 'hematite', and 'greigite'<br>\n",
    "<b>method</b> = method used to estimate f<br>\n",
    "<b>n</b> = number of samples used (for E/I method)<br>"
   ]
  },
  {
   "cell_type": "code",
   "execution_count": 2,
   "id": "35aa90f0-6ec5-4949-960a-da990066a310",
   "metadata": {},
   "outputs": [],
   "source": [
    "f_compilation = pd.DataFrame(columns=['locality','lithology','f','f_min','f_max','ref',\n",
    "                                   'mineralogy','method','n'])"
   ]
  },
  {
   "cell_type": "code",
   "execution_count": 3,
   "id": "51733dd2-c925-4af5-ab87-a5c59fb3dfa9",
   "metadata": {},
   "outputs": [],
   "source": [
    "def f_calc(Io,Ilow,IEI,Ihigh):\n",
    "    f_EI = [np.round(np.tan(np.radians(Io[i]))/np.tan(np.radians(IEI[i])),2) for i in range(len(Io))]\n",
    "    f_max = [np.round(np.tan(np.radians(Io[i]))/np.tan(np.radians(Ilow[i])),2) for i in range(len(Io))]\n",
    "    f_min = [np.round(np.tan(np.radians(Io[i]))/np.tan(np.radians(Ihigh[i])),2) for i in range(len(Io))]\n",
    "    print(f_EI,f_min,f_max)\n",
    "    return f_EI,f_min,f_max"
   ]
  },
  {
   "cell_type": "markdown",
   "id": "3c55867b-7913-4c43-92cc-b948b872cee0",
   "metadata": {},
   "source": [
    "## Tauxe and Kent, 2004\n",
    "\n",
    "*A Simplified Statistical Model for the Geomagnetic Field and the Detection of Shallow Bias in Paleomagnetic Inclinations: Was the Ancient Magnetic Field Dipolar?*\n",
    "\n",
    ">using Central Asian red beds of the Subei Fm, data from Gilder et al., 2001"
   ]
  },
  {
   "cell_type": "code",
   "execution_count": 4,
   "id": "e6c8c043-832e-4a1b-a4f3-7bbbfc0dd7ef",
   "metadata": {},
   "outputs": [
    {
     "name": "stdout",
     "output_type": "stream",
     "text": [
      "[0.49] [0.37] [0.64]\n"
     ]
    }
   ],
   "source": [
    "Io = [43.7]\n",
    "Ilow = [56]\n",
    "IEI = [63]\n",
    "Ihigh = [69]\n",
    "\n",
    "Tauxe2004_f = f_calc(Io,Ilow,IEI,Ihigh)"
   ]
  },
  {
   "cell_type": "code",
   "execution_count": 5,
   "id": "62cfd357-f245-449b-abac-29fc4b259347",
   "metadata": {},
   "outputs": [],
   "source": [
    "f_compilation.loc['Tauxe2004'] = pd.Series({'locality' : 'Subei',\n",
    "                                          'lithology' : 'red beds',\n",
    "                                           'f' : Tauxe2004_f[0][0],\n",
    "                                           'f_min' : Tauxe2004_f[1][0],\n",
    "                                           'f_max' : Tauxe2004_f[2][0],\n",
    "                                           'ref' : 'Tauxe and Kent, 2004',\n",
    "                                           'mineralogy' : 'hematite',\n",
    "                                           'method' : 'EI',\n",
    "                                           'n' : 222})"
   ]
  },
  {
   "cell_type": "markdown",
   "id": "3bc931f3-a01a-4fd6-bca8-22bcb389fe7d",
   "metadata": {},
   "source": [
    "## Tauxe 2005\n",
    "\n",
    "*Inclination flattening and the geocentric axial dipole hypothesis*\n",
    "\n",
    ">middle Miocene data from the Potwar Plateau of Tauxe and Opdyke"
   ]
  },
  {
   "cell_type": "code",
   "execution_count": 6,
   "id": "4780b2e8-c9cc-4dc1-9acd-229a9a3fe57f",
   "metadata": {},
   "outputs": [
    {
     "name": "stdout",
     "output_type": "stream",
     "text": [
      "[0.77] [0.58] [1.11]\n"
     ]
    }
   ],
   "source": [
    "Io = [33.7]\n",
    "Ilow = [31]\n",
    "IEI = [41]\n",
    "Ihigh = [49]\n",
    "\n",
    "Tauxe2005_f = f_calc(Io,Ilow,IEI,Ihigh)"
   ]
  },
  {
   "cell_type": "code",
   "execution_count": 7,
   "id": "ae04a3a9-9187-422e-ab9e-3c2fa29dfaab",
   "metadata": {},
   "outputs": [],
   "source": [
    "f_compilation.loc['Tauxe2005'] = pd.Series({'locality' : 'Potwar',\n",
    "                                          'lithology' : 'red beds',\n",
    "                                           'f' : Tauxe2005_f[0][0],\n",
    "                                           'f_min' : Tauxe2005_f[1][0],\n",
    "                                           'f_max' : Tauxe2005_f[2][0],\n",
    "                                           'ref' : 'Tauxe, 2005',\n",
    "                                           'mineralogy' : 'hematite',\n",
    "                                           'method' : 'EI',\n",
    "                                           'n' : 105})"
   ]
  },
  {
   "cell_type": "markdown",
   "id": "f0915256-4084-44a9-ba79-540de0b7e243",
   "metadata": {},
   "source": [
    "## Yan et al., 2005\n",
    "\n",
    "*Shallow bias in Neogene palaeomagnetic directions from the Guide Basin, NE Tibet, caused by inclination error*\n",
    "\n",
    ">The data was compiled and re-run by Dupont 2010, but we compile it here honoring the original publication"
   ]
  },
  {
   "cell_type": "code",
   "execution_count": 8,
   "id": "8487a527-683a-478f-9028-e6c58f646135",
   "metadata": {},
   "outputs": [
    {
     "name": "stdout",
     "output_type": "stream",
     "text": [
      "[0.63] [0.47] [0.73]\n"
     ]
    }
   ],
   "source": [
    "Io = [44]\n",
    "Ilow = [53]\n",
    "IEI = [57]\n",
    "Ihigh = [64]\n",
    "\n",
    "Yan2005_f = f_calc(Io,Ilow,IEI,Ihigh)"
   ]
  },
  {
   "cell_type": "code",
   "execution_count": 9,
   "id": "92958a7d-dd0d-49e7-9fb6-0944c903e570",
   "metadata": {},
   "outputs": [],
   "source": [
    "f_compilation.loc['Yan2005'] = pd.Series({'locality' : 'Gudie',\n",
    "                                          'lithology' : 'fluvial sediments',\n",
    "                                           'f' : Yan2005_f[0][0],\n",
    "                                           'f_min' : Yan2005_f[1][0],\n",
    "                                           'f_max' : Yan2005_f[2][0],\n",
    "                                           'ref' : 'Yan et al., 2005',\n",
    "                                           'mineralogy' : 'mixed',\n",
    "                                           'method' : 'EI',\n",
    "                                           'n' : 627})"
   ]
  },
  {
   "cell_type": "markdown",
   "id": "096abd2b-59f7-4717-83e9-f28c68ad46c8",
   "metadata": {},
   "source": [
    "## Kent and Tauxe 2005 \n",
    "\n",
    "*Corrected Late Triassic Latitudes for Continents Adjacent to the North Atlantic*\n",
    "\n",
    ">Note St. Audrie's Bay has only 27 directions and this was excluded by Vaes 2021"
   ]
  },
  {
   "cell_type": "code",
   "execution_count": 10,
   "id": "9751a5ba-8ca2-4c7f-a9be-a903fcea32fb",
   "metadata": {},
   "outputs": [
    {
     "name": "stdout",
     "output_type": "stream",
     "text": [
      "[0.59, 0.57, 0.4, 0.63, 0.66, 0.63, 0.49, 0.49, 0.68, 0.58] [0.49, 0.39, 0.33, 0.54, 0.57, 0.53, 0.42, 0.42, 0.59, 0.47] [0.74, 1.04, 0.54, 0.76, 0.73, 0.73, 0.59, 0.59, 1.02, 0.81]\n"
     ]
    }
   ],
   "source": [
    "Io = [5.9,5.2,8.8,13,14.2,15.7,17.5,18.2,33.4,45.1]\n",
    "Ilow = [8,5,16,17,19,21,28,29,33,51]\n",
    "IEI = [10,9,21,20,21,24,33,34,44,60]\n",
    "Ihigh = [12,13,25,23,24,28,37,38,48,65]\n",
    "n=[333,148,194,308,336,309,246,302,27,222]\n",
    "locality=['Dan River','Princeton','Nursery','Titusville','Rutgers','Somerset','Weston','Martinsville',\"St. Audrie's Bay\",'Jameson Land']\n",
    "mineralogy = ['mixed','hematite','hematite','hematite','hematite','hematite','hematite','hematite','hematite','hematite']\n",
    "lithology = ['red siltstone and gray/black mud', 'red beds', 'red beds', 'red beds','red beds','red beds','red beds','red beds','red beds','red beds']\n",
    "\n",
    "Kent2005_f = f_calc(Io,Ilow,IEI,Ihigh)"
   ]
  },
  {
   "cell_type": "code",
   "execution_count": 11,
   "id": "3094ae4b-0e05-4b8c-a95f-82863e2ad69f",
   "metadata": {},
   "outputs": [],
   "source": [
    "for i in range(len(Io)):\n",
    "    f_compilation.loc['Kent2005_'+str(i+1)] = pd.Series({'locality' : locality[i],\n",
    "                                          'lithology' : lithology[i],\n",
    "                                           'f' : Kent2005_f[0][i],\n",
    "                                           'f_min' : Kent2005_f[1][i],\n",
    "                                           'f_max' : Kent2005_f[2][i],\n",
    "                                           'ref' : 'Kent and Tauxe, 2005',\n",
    "                                           'mineralogy' : mineralogy[i],\n",
    "                                           'method' : 'EI',\n",
    "                                           'n' : n[i]})"
   ]
  },
  {
   "cell_type": "markdown",
   "id": "0978109a-fb65-493f-a667-0d61eaaf91a5",
   "metadata": {},
   "source": [
    "## Kent and Olson 2008\n",
    "\n",
    "*Early Jurassic magnetostratigraphy and paleolatitudes from the Hartford continental rift basin (eastern North America): Testing for polarity bias and abrupt polar wander in association with the central Atlantic magmatic province*\n"
   ]
  },
  {
   "cell_type": "code",
   "execution_count": 12,
   "id": "87131e13-d6a0-4b98-bb7b-3fdb7127536d",
   "metadata": {},
   "outputs": [
    {
     "name": "stdout",
     "output_type": "stream",
     "text": [
      "[0.54] [0.48] [0.62]\n"
     ]
    }
   ],
   "source": [
    "Io = [21.1]\n",
    "Ilow = [32]\n",
    "IEI = [35.5]\n",
    "Ihigh = [39]\n",
    "n=[315]\n",
    "\n",
    "KentTauxe2008_f = f_calc(Io,Ilow,IEI,Ihigh)"
   ]
  },
  {
   "cell_type": "code",
   "execution_count": 13,
   "id": "96ec28e5-0f3c-454a-b04a-7bb97f38c5a1",
   "metadata": {},
   "outputs": [],
   "source": [
    "f_compilation.loc['KentTauxe2008'] = pd.Series({'locality' : 'Hartford',\n",
    "                                          'lithology' : 'red beds',\n",
    "                                           'f' : KentTauxe2008_f[0][0],\n",
    "                                           'f_min' : KentTauxe2008_f[1][0],\n",
    "                                           'f_max' : KentTauxe2008_f[2][0],\n",
    "                                           'ref' : 'Kent and Olson, 2008',\n",
    "                                           'mineralogy' : 'hematite',\n",
    "                                           'method' : 'EI',\n",
    "                                           'n' : n[0]})"
   ]
  },
  {
   "cell_type": "markdown",
   "id": "f2dde603-a7ec-4332-861c-2dea6b5550ef",
   "metadata": {
    "tags": []
   },
   "source": [
    "## Krijgsman and Tauxe 2004 \n",
    "\n",
    "*Shallow bias in Mediterranean paleomagnetic directions caused by inclination error*\n",
    "\n",
    ">This study was not included in Vaes et al., 2021. We add it here\n",
    "\n",
    ">The lithology and mineralogy of the rocks are tricky! Original magnetostrat paper describes both clastic and carbonate rocks in the succession and both magnetite and hematite carry remanence. \n",
    "\n",
    ">The Crete rocks are dominantly marine carbonates and sandstones we do not include them here"
   ]
  },
  {
   "cell_type": "code",
   "execution_count": 14,
   "id": "6898604c-685f-44f1-97fe-44b8c0dc75a8",
   "metadata": {},
   "outputs": [
    {
     "name": "stdout",
     "output_type": "stream",
     "text": [
      "[0.73] [0.63] [0.84]\n"
     ]
    }
   ],
   "source": [
    "Io = [44]\n",
    "Ilow = [49]\n",
    "IEI = [53]\n",
    "Ihigh = [57]\n",
    "\n",
    "KrijgsmanTauxe2004_f_1 = f_calc(Io,Ilow,IEI,Ihigh)"
   ]
  },
  {
   "cell_type": "code",
   "execution_count": 15,
   "id": "55fef99c-4a53-4d01-887c-84570ccb2600",
   "metadata": {},
   "outputs": [],
   "source": [
    "f_compilation.loc['Krijgsman2004'] = pd.Series({'locality' : 'Calatayud basin',\n",
    "                                          'lithology' : 'fluvial and lacustrine sediments',\n",
    "                                           'f' : KrijgsmanTauxe2004_f_1[0][0],\n",
    "                                           'f_min' : KrijgsmanTauxe2004_f_1[1][0],\n",
    "                                           'f_max' : KrijgsmanTauxe2004_f_1[2][0],\n",
    "                                           'ref' : 'Krijgsman and Tauxe, 2004',\n",
    "                                           'mineralogy' : 'mixed',\n",
    "                                           'method' : 'EI',\n",
    "                                           'n': 648})"
   ]
  },
  {
   "cell_type": "markdown",
   "id": "1a520979-ab42-4427-81c2-e7741e128025",
   "metadata": {},
   "source": [
    "## Krijgsman and Tauxe 2006\n",
    "\n",
    "*E/I corrected paleolatitudes for the sedimentary rocks of the Baja British Columbia hypothesis*\n",
    "\n",
    ">Note in their table 1, data from two sedimentary formations are studied with E/I--- the Silverquick formation and the Nanaimo formation\n",
    "\n",
    ">Silverquick formation contains groups Mount Tatlow and Group Churn Creek\n",
    "\n",
    ">Nanaimo formation contains group Pender/Spray and Northumberland\n",
    "\n",
    ">both groups of Silverquick have N>100\n",
    "\n",
    ">the combined dataset for Nanaimo has N>100 \n",
    "\n",
    ">Following the approach of Vaes et al., 2021, we include data for the individual formations of Silverquick and include data of combined Nanaimo\n"
   ]
  },
  {
   "cell_type": "code",
   "execution_count": 16,
   "id": "eaf4050c-fbec-4342-800e-52a41a3e6c2b",
   "metadata": {},
   "outputs": [
    {
     "name": "stdout",
     "output_type": "stream",
     "text": [
      "[0.97, 0.85, 4.02] [0.79, 0.53, 0.55] [1.05, 0.99, 0.97]\n"
     ]
    }
   ],
   "source": [
    "Io = [57.2, 55.7, 47.1]\n",
    "Ilow = [56,56,48]\n",
    "IEI = [58,60,555]\n",
    "Ihigh = [63,70,63]\n",
    "n=[176,129,143]\n",
    "\n",
    "locality=['Mount Tatlow', 'Churn Creek', 'Nanaimo']\n",
    "lithology=['fluvial sediments', 'fluvial sediments','marine mud- and siltstones']\n",
    "\n",
    "Krijgsman2006_f = f_calc(Io,Ilow,IEI,Ihigh)"
   ]
  },
  {
   "cell_type": "code",
   "execution_count": 17,
   "id": "cf8501e3-d806-4a24-8121-b1a1739d5f79",
   "metadata": {},
   "outputs": [],
   "source": [
    "for i in range(len(Io)):\n",
    "    f_compilation.loc['Krijgsman2006'] = pd.Series({'locality' : locality[i],\n",
    "                                              'lithology' : lithology[i],\n",
    "                                               'f' : Krijgsman2006_f[0][0],\n",
    "                                               'f_min' : Krijgsman2006_f[1][0],\n",
    "                                               'f_max' : Krijgsman2006_f[2][0],\n",
    "                                               'ref' : 'Krijgsman and Tauxe, 2006',\n",
    "                                               'mineralogy' : 'magnetite',\n",
    "                                               'method' : 'EI',\n",
    "                                               'n' : n[i]})"
   ]
  },
  {
   "cell_type": "markdown",
   "id": "93ac37d3-fd63-4e19-a64a-bf1125b037ef",
   "metadata": {
    "tags": []
   },
   "source": [
    "## Van Hinsbergen et al., 2007\n",
    "\n"
   ]
  },
  {
   "cell_type": "code",
   "execution_count": 18,
   "id": "6165de24-3094-4602-90dc-58d4d9e0c28e",
   "metadata": {},
   "outputs": [
    {
     "name": "stdout",
     "output_type": "stream",
     "text": [
      "[0.84, 0.59] [0.46, 0.37] [1.03, 0.89]\n"
     ]
    }
   ],
   "source": [
    "Io = [48.4,-42.1]\n",
    "Ilow = [47.6,-45.5]\n",
    "IEI = [53.4,-56.9]\n",
    "Ihigh = [67.9,-67.5]\n",
    "\n",
    "Hinsbergen2007_f = f_calc(Io,Ilow,IEI,Ihigh)"
   ]
  },
  {
   "cell_type": "code",
   "execution_count": 19,
   "id": "fdb418a9-723d-4b72-a4d7-e5ea6d8265ba",
   "metadata": {},
   "outputs": [],
   "source": [
    "f_compilation.loc['Van-Hinsbergen2007_1'] = pd.Series({'locality' : 'Ag. Giorgios & Monolithos',\n",
    "                                          'lithology' : 'palustrine and lacustrine sediments',\n",
    "                                           'f' : Hinsbergen2007_f[0][0],\n",
    "                                           'f_min' : Hinsbergen2007_f[1][0],\n",
    "                                           'f_max' : Hinsbergen2007_f[2][0],\n",
    "                                           'ref' : 'Van Hinsbergen et al., 2007',\n",
    "                                           'mineralogy' : 'magnetite',\n",
    "                                           'method' : 'EI',\n",
    "                                           'n':42})"
   ]
  },
  {
   "cell_type": "code",
   "execution_count": 20,
   "id": "f5374e94-95f7-4dbc-8180-eb1a70c7af03",
   "metadata": {},
   "outputs": [],
   "source": [
    "f_compilation.loc['Van-Hinsbergen2007_2'] = pd.Series({'locality' : 'Kefala & Aspropetres',\n",
    "                                          'lithology' : 'palustrine and lacustrine sediments',\n",
    "                                           'f' : Hinsbergen2007_f[0][1],\n",
    "                                           'f_min' : Hinsbergen2007_f[1][1],\n",
    "                                           'f_max' : Hinsbergen2007_f[2][1],\n",
    "                                           'ref' : 'Van Hinsbergen et al., 2007',\n",
    "                                           'mineralogy' : 'magnetite',\n",
    "                                           'method' : 'EI',\n",
    "                                           'n':75})"
   ]
  },
  {
   "cell_type": "markdown",
   "id": "4e3d2355-207c-4073-b0c1-73f158e78acc",
   "metadata": {},
   "source": [
    "## Tauxe et al., 2008\n",
    "\n",
    "*Testing corrections for paleomagnetic inclination error in sedimentary rocks: A comparative approach*\n",
    "\n",
    ">Using data from titanohematite-bearing Paleocene sedimentary rocks from the Nacimiento Formation of New Mexico (Butler and Taylor, 1978; Kodama, 1997)."
   ]
  },
  {
   "cell_type": "code",
   "execution_count": 21,
   "id": "b884cdef-a324-45a0-be40-0a43d4fcd4d3",
   "metadata": {},
   "outputs": [
    {
     "name": "stdout",
     "output_type": "stream",
     "text": [
      "[0.84] [0.5] [1.01]\n"
     ]
    }
   ],
   "source": [
    "Io = [51.2]\n",
    "Ilow = [50.8]\n",
    "IEI = [56.1]\n",
    "Ihigh = [68.2]\n",
    "\n",
    "Tauxe2008_f = f_calc(Io,Ilow,IEI,Ihigh)"
   ]
  },
  {
   "cell_type": "code",
   "execution_count": 22,
   "id": "c4cac776-b424-4d7e-aca5-bef27aff90c9",
   "metadata": {},
   "outputs": [],
   "source": [
    "f_compilation.loc['Tauxe2008'] = pd.Series({'locality' : 'Nacimiento',\n",
    "                                          'lithology' : 'claystones and siltstones',\n",
    "                                           'f' : Tauxe2008_f[0][0],\n",
    "                                           'f_min' : Tauxe2008_f[1][0],\n",
    "                                           'f_max' : Tauxe2008_f[2][0],\n",
    "                                           'ref' : 'Tauxe et al., 2008',\n",
    "                                           'mineralogy' : 'hematite',\n",
    "                                           'method' : 'EI',\n",
    "                                           'n':102})"
   ]
  },
  {
   "cell_type": "markdown",
   "id": "dd3275dc-188a-4fe5-90f1-2e3a152bcb58",
   "metadata": {},
   "source": [
    "## Haldan et al., 2009\n",
    "\n",
    "*A comparison of detailed equatorial red bed records of secular variation during the Permo-Carboniferous Reversed Superchron*\n",
    "\n",
    ">from the hysteresis loops Dome de Barrot is domnantly hematite and Lodeve is dominated by a mix of magnetite and hematite\n",
    "\n",
    ">we use different dataset than selected by Vaes et al., 2021. the authors prefered to use the full dataset to show E/I results in the paper for Dome and use individual dataset for Lodeve\n",
    "\n",
    ">it is tricky to make use the lower inc bounds for Lodeve Kungurian - Wardian as it results in some possible negtive inclinations while the observed is positive inclinations. For our purposes we will consider the upper f bound set to 1"
   ]
  },
  {
   "cell_type": "code",
   "execution_count": 23,
   "id": "231a014b-b346-410f-bef8-b37b9870f13f",
   "metadata": {},
   "outputs": [
    {
     "name": "stdout",
     "output_type": "stream",
     "text": [
      "[0.9, 0.78, 0.83] [0.79, 0.37, 0.63] [1.03, 1.0, 1.16]\n"
     ]
    }
   ],
   "source": [
    "Io = [-15.9,2.1,-7.4]\n",
    "Ilow = [-15.4,2.1,-6.4]\n",
    "IEI = [-17.5,2.7,-8.9]\n",
    "Ihigh = [-19.8,5.7,-11.7]\n",
    "\n",
    "Haldan2009_f = f_calc(Io,Ilow,IEI,Ihigh)"
   ]
  },
  {
   "cell_type": "code",
   "execution_count": 24,
   "id": "fdbbc4e3-1d63-41ff-b49e-ab836d09016d",
   "metadata": {},
   "outputs": [],
   "source": [
    "f_compilation.loc['Haldan2009_1'] = pd.Series({'locality' : 'Dome de Barrot',\n",
    "                                          'lithology' : 'red mudstone and purple siltstone',\n",
    "                                           'f' : Haldan2009_f[0][0],\n",
    "                                           'f_min' : Haldan2009_f[1][0],\n",
    "                                           'f_max' : Haldan2009_f[2][0],\n",
    "                                           'ref' : 'Haldan et al., 2009',\n",
    "                                           'mineralogy' : 'hematite',\n",
    "                                           'method' : 'EI',\n",
    "                                           'n':411})"
   ]
  },
  {
   "cell_type": "code",
   "execution_count": 25,
   "id": "55488ad2-730e-488b-b9e0-97e59f65f451",
   "metadata": {},
   "outputs": [],
   "source": [
    "f_compilation.loc['Haldan2009_2'] = pd.Series({'locality' : 'Lodeve (Kungurian – Wordian)',\n",
    "                                          'lithology' : 'red siltstones and calcareous siltstone',\n",
    "                                           'f' : Haldan2009_f[0][1],\n",
    "                                           'f_min' : Haldan2009_f[1][1],\n",
    "                                           'f_max' : Haldan2009_f[2][1],\n",
    "                                           'ref' : 'Haldan et al., 2009',\n",
    "                                           'mineralogy' : 'mixed',\n",
    "                                           'method' : 'EI',\n",
    "                                           'n':146})"
   ]
  },
  {
   "cell_type": "code",
   "execution_count": 26,
   "id": "193b96c8-3682-4fc8-bc43-145be5f16d91",
   "metadata": {},
   "outputs": [],
   "source": [
    "f_compilation.loc['Haldan2009_3'] = pd.Series({'locality' : 'Lodeve (Sakmarian-Artinskian)',\n",
    "                                          'lithology' : 'red siltstones and calcareous siltstone',\n",
    "                                           'f' : Haldan2009_f[0][2],\n",
    "                                           'f_min' : Haldan2009_f[1][2],\n",
    "                                           'f_max' : Haldan2009_f[2][2],\n",
    "                                           'ref' : 'Haldan et al., 2009',\n",
    "                                           'mineralogy' : 'mixed',\n",
    "                                           'method' : 'EI',\n",
    "                                           'n':143})"
   ]
  },
  {
   "cell_type": "markdown",
   "id": "a350331e-8185-4cee-a08a-16aaf90aa91f",
   "metadata": {},
   "source": [
    "## Costa et al., 2009\n",
    "\n",
    "*Closing and continentalization of the South Pyrenean foreland basin (NE Spain): magnetochronological constraints*"
   ]
  },
  {
   "cell_type": "code",
   "execution_count": 27,
   "id": "8726e725-d3ab-488b-94e5-cda819597803",
   "metadata": {},
   "outputs": [
    {
     "name": "stdout",
     "output_type": "stream",
     "text": [
      "[0.58] [0.42] [0.77]\n"
     ]
    }
   ],
   "source": [
    "Io = [41]\n",
    "Ilow = [48.4]\n",
    "IEI = [56.2]\n",
    "Ihigh = [64.2]\n",
    "\n",
    "Costa2009_f = f_calc(Io,Ilow,IEI,Ihigh)"
   ]
  },
  {
   "cell_type": "code",
   "execution_count": 28,
   "id": "17ba2cb8-2e5a-4777-8abf-263262994872",
   "metadata": {},
   "outputs": [],
   "source": [
    "f_compilation.loc['Costa2009'] = pd.Series({'locality' : 'Artes',\n",
    "                                          'lithology' : 'red beds',\n",
    "                                           'f' : Costa2009_f[0][0],\n",
    "                                           'f_min' : Costa2009_f[1][0],\n",
    "                                           'f_max' : Costa2009_f[2][0],\n",
    "                                           'ref' : 'Costa et al., 2009',\n",
    "                                           'mineralogy' : 'mixed',\n",
    "                                           'method' : 'EI',\n",
    "                                           'n':221})"
   ]
  },
  {
   "cell_type": "markdown",
   "id": "edcd913c-4ccc-42af-8848-b98fa4ed807c",
   "metadata": {},
   "source": [
    "## Meijers et al., 2010\n",
    "\n",
    "*Late Cretaceous to Paleocene oroclinal bending in the central Pontides (Turkey)*\n",
    "\n",
    ">only inclding site TA5 here because TA2 is red pelagic limestone"
   ]
  },
  {
   "cell_type": "code",
   "execution_count": 29,
   "id": "30ab28f3-98f8-4a6f-afb0-a57008a0514b",
   "metadata": {},
   "outputs": [],
   "source": [
    "f_compilation.loc['Meijers2010'] = pd.Series({'locality' : 'TA5',\n",
    "                                          'lithology' : 'turbiditic volcanoclastics',\n",
    "                                           'f' : 0.94,\n",
    "                                           'f_min' : 0.68,\n",
    "                                           'f_max' : 1,\n",
    "                                           'ref' : 'Meijers et al., 2010',\n",
    "                                           'mineralogy' : 'magnetite',\n",
    "                                           'method' : 'EI',\n",
    "                                           'n':115})"
   ]
  },
  {
   "cell_type": "markdown",
   "id": "2d0b9f3e-8dd4-4a5f-a012-fdf904ec64a0",
   "metadata": {
    "tags": []
   },
   "source": [
    "## Dupont-Nivet et al., 2010\n",
    "\n",
    "*Persistently low Asian paleolatitudes: Implications for the India‐Asia collision history*\n",
    "\n",
    ">The Subei data was already corrected in the original E/I study of Tauxe 2004. We do not include it ehre. \n",
    "\n",
    ">The Guide data was not included by Vaes et al., 2021 but we include it here. \n",
    "\n",
    ">The Zongshan and Zongpu formations included in this paper are spelled wrong in the paper and are carbonates, so we do not include them here"
   ]
  },
  {
   "cell_type": "code",
   "execution_count": 30,
   "id": "2fddd599-7676-47aa-bd58-eca1bfc6f96a",
   "metadata": {},
   "outputs": [
    {
     "name": "stdout",
     "output_type": "stream",
     "text": [
      "[0.78, 0.9, 0.68] [0.51, 0.72, 0.54] [1.0, 1.04, 0.78]\n"
     ]
    }
   ],
   "source": [
    "Io = [45,50,43]\n",
    "Ilow = [45,49,50]\n",
    "IEI = [52,53,54]\n",
    "Ihigh = [63,59,60]\n",
    "n = [95,185,228]\n",
    "locality=['Ctg‐Xsh', 'Xiejia', 'Mahalagou']\n",
    "lithology=['red beds','red beds','red beds']\n",
    "\n",
    "Dupont2010_f = f_calc(Io,Ilow,IEI,Ihigh)"
   ]
  },
  {
   "cell_type": "code",
   "execution_count": 31,
   "id": "6bd15b06-c829-468b-acfe-91f8757623b3",
   "metadata": {},
   "outputs": [],
   "source": [
    "for i in range(len(Io)):\n",
    "    f_compilation.loc['Dupont2010_'+str(i+1)] = pd.Series({'locality' : locality[i],\n",
    "                                              'lithology' : lithology[i],\n",
    "                                               'f' : Dupont2010_f[0][i],\n",
    "                                               'f_min' : Dupont2010_f[1][i],\n",
    "                                               'f_max' : Dupont2010_f[2][i],\n",
    "                                               'ref' : 'Dupont-Nivet et al., 2010',\n",
    "                                               'mineralogy' : 'mixed',\n",
    "                                               'method' : 'EI',\n",
    "                                               'n' : n[i]})"
   ]
  },
  {
   "cell_type": "markdown",
   "id": "3f5ac3be-f03f-46ef-aa9d-d6bc3d00d148",
   "metadata": {},
   "source": [
    "## Tan et al., 2010\n",
    "\n",
    "*New paleomagnetic results from the Lhasa block: Revised estimation of latitudinal shortening across Tibet and implications for dating the India–Asia collision*\n",
    "\n",
    ">This is the Shexing Fm in the Lhasa block\n",
    "\n",
    ">Vaes used section A results but looks like we can use the combined A and B section E/I results which are very similar to that of A"
   ]
  },
  {
   "cell_type": "code",
   "execution_count": 32,
   "id": "66acf20c-868e-4867-a224-dae49ee73f01",
   "metadata": {},
   "outputs": [
    {
     "name": "stdout",
     "output_type": "stream",
     "text": [
      "[0.48] [0.44] [0.52]\n"
     ]
    }
   ],
   "source": [
    "Io = [23.5]\n",
    "Ilow = [39.9]\n",
    "IEI = [42]\n",
    "Ihigh = [44.5]\n",
    "\n",
    "Tan2010_f = f_calc(Io,Ilow,IEI,Ihigh)"
   ]
  },
  {
   "cell_type": "code",
   "execution_count": 33,
   "id": "0e12185f-cf91-43b4-853e-dcf51fa3a7eb",
   "metadata": {},
   "outputs": [],
   "source": [
    "f_compilation.loc['Tan2010'] = pd.Series({'locality' : 'Shexing',\n",
    "                                          'lithology' : 'red beds',\n",
    "                                           'f' : Tan2010_f[0][0],\n",
    "                                           'f_min' : Tan2010_f[1][0],\n",
    "                                           'f_max' : Tan2010_f[2][0],\n",
    "                                           'ref' : 'Tan et al., 2010',\n",
    "                                           'mineralogy' : 'hematite',\n",
    "                                           'method' : 'EI',\n",
    "                                           'n':377})"
   ]
  },
  {
   "cell_type": "markdown",
   "id": "66e44249-16fb-496c-8f3d-b6dd1e5ed114",
   "metadata": {
    "tags": []
   },
   "source": [
    "## Van Hinsbergen et al., 2010\n",
    "\n",
    "*Testing Miocene Remagnetization of Bey Dağları: Timing and Amount of Neogene Rotations in SW Turkey*\n",
    "\n"
   ]
  },
  {
   "cell_type": "code",
   "execution_count": 34,
   "id": "0cbb2d2b-710b-4e30-9d5d-6210f379ce5b",
   "metadata": {},
   "outputs": [],
   "source": [
    "f_compilation.loc['Van-Hinsbergen2010'] = pd.Series({'locality' : 'Korkuteli',\n",
    "                                          'lithology' : 'blue clays and turbiditic sandstone',\n",
    "                                           'f' : 0.67,\n",
    "                                           'f_min' : 0.53,\n",
    "                                           'f_max' : 0.83,\n",
    "                                           'ref' : 'Van Hinsbergen et al., 2010',\n",
    "                                           'mineralogy' : 'mixed',\n",
    "                                           'method' : 'EI',\n",
    "                                           'n':192})"
   ]
  },
  {
   "cell_type": "markdown",
   "id": "fd5e44ff-f14e-4414-a2f5-aef2f51aeb2b",
   "metadata": {
    "tags": []
   },
   "source": [
    "## Van Hinsbergen et al., 2012\n",
    "\n",
    "*Greater India Basin hypothesis and a two-stage Cenozoic collision between India and Asia*\n",
    "\n",
    ">This is interesting to look at in comparison with Tan et al., 2010 paper as both studies worked on the Shexing Fm but get quite different estimates of f"
   ]
  },
  {
   "cell_type": "code",
   "execution_count": 35,
   "id": "2f4da59e-8cf9-4411-813d-7f79e6470b6d",
   "metadata": {},
   "outputs": [],
   "source": [
    "f_compilation.loc['Van-Hinsbergen2012'] = pd.Series({'locality' : 'Shexing',\n",
    "                                          'lithology' : 'red beds',\n",
    "                                           'f' : 0.66,\n",
    "                                           'f_min' : 0.53,\n",
    "                                           'f_max' : 0.91,\n",
    "                                           'ref' : 'Van Hinsbergen et al., 2012',\n",
    "                                           'mineralogy' : 'hematite',\n",
    "                                           'method' : 'EI',\n",
    "                                           'n':100})"
   ]
  },
  {
   "cell_type": "markdown",
   "id": "19cc3e89-7d1a-4360-80b1-7e1a1b310add",
   "metadata": {
    "tags": []
   },
   "source": [
    "## Lanci et al., 2013\n",
    "\n",
    "*Upper Permian magnetic stratigraphy of the lower Beaufort Group, Karoo Basin*\n",
    "\n"
   ]
  },
  {
   "cell_type": "code",
   "execution_count": 36,
   "id": "a6052ffe-6e7c-4c96-bf63-ee287b386164",
   "metadata": {},
   "outputs": [
    {
     "name": "stdout",
     "output_type": "stream",
     "text": [
      "[0.7] [0.41] [0.9]\n"
     ]
    }
   ],
   "source": [
    "Io = [53]\n",
    "Ilow = [56]\n",
    "IEI = [62.2]\n",
    "Ihigh = [73]\n",
    "\n",
    "Lanci2013_f = f_calc(Io,Ilow,IEI,Ihigh)"
   ]
  },
  {
   "cell_type": "code",
   "execution_count": 37,
   "id": "dac5ba18-6e47-44a8-85f2-fbec8fcb9fc4",
   "metadata": {},
   "outputs": [],
   "source": [
    "f_compilation.loc['Lanci2013'] = pd.Series({'locality' : 'Karoo basin',\n",
    "                                          'lithology' : 'fluvial sand-, silt- and mudstone',\n",
    "                                           'f' : Lanci2013_f[0][0],\n",
    "                                           'f_min' : Lanci2013_f[1][0],\n",
    "                                           'f_max' : Lanci2013_f[2][0],\n",
    "                                           'ref' : 'Lanci et al., 2013',\n",
    "                                           'mineralogy' : 'magnetite',\n",
    "                                           'method' : 'EI',\n",
    "                                           'n':136})"
   ]
  },
  {
   "cell_type": "markdown",
   "id": "9782cdec-0f2e-482a-b9e5-e778c81ca2bd",
   "metadata": {
    "tags": []
   },
   "source": [
    "## Hunag et al., 2013 \n",
    "\n",
    "*Inclination shallowing in Eocene Linzizong sedimentary rocks from Southern Tibet: correction, possible causes and implications for reconstructing the India–Asia collision*"
   ]
  },
  {
   "cell_type": "code",
   "execution_count": 38,
   "id": "acc89ce0-275a-4a13-98fe-4b1868a59fe8",
   "metadata": {},
   "outputs": [
    {
     "name": "stdout",
     "output_type": "stream",
     "text": [
      "[0.43] [0.32] [0.57]\n"
     ]
    }
   ],
   "source": [
    "Io = [20.5]\n",
    "Ilow = [33.1]\n",
    "IEI = [41.1]\n",
    "Ihigh = [49.5]\n",
    "\n",
    "Huang2013_f = f_calc(Io,Ilow,IEI,Ihigh)"
   ]
  },
  {
   "cell_type": "code",
   "execution_count": 39,
   "id": "dfe08b21-d67f-44a5-8678-0f4fd813a078",
   "metadata": {},
   "outputs": [],
   "source": [
    "f_compilation.loc['Huang2013'] = pd.Series({'locality' : 'Linzizong',\n",
    "                                          'lithology' : 'volcaniclastics and mudstones',\n",
    "                                           'f' : Huang2013_f[0][0],\n",
    "                                           'f_min' : Huang2013_f[1][0],\n",
    "                                           'f_max' : Huang2013_f[2][0],\n",
    "                                           'ref' : 'Hunag et al., 2013 ',\n",
    "                                           'mineralogy' : 'magnetite',\n",
    "                                           'method' : 'EI',\n",
    "                                           'n':119})"
   ]
  },
  {
   "cell_type": "markdown",
   "id": "1a4f74f7-7f2d-4627-b296-d25ee7546857",
   "metadata": {
    "tags": []
   },
   "source": [
    "## Tong et al., 2013\n",
    "\n",
    "*Internal crustal deformation in the northern part of Shan-Thai Block: New evidence from paleomagnetic results of Cretaceous and Paleogene redbeds*"
   ]
  },
  {
   "cell_type": "code",
   "execution_count": 40,
   "id": "40180a8a-b8e4-4a98-a085-736939418b7e",
   "metadata": {},
   "outputs": [
    {
     "name": "stdout",
     "output_type": "stream",
     "text": [
      "[0.45] [0.38] [0.55]\n"
     ]
    }
   ],
   "source": [
    "Io = [23.6]\n",
    "Ilow = [38.3]\n",
    "IEI = [44.1]\n",
    "Ihigh = [49.3]\n",
    "\n",
    "Tong2013_f = f_calc(Io,Ilow,IEI,Ihigh)"
   ]
  },
  {
   "cell_type": "code",
   "execution_count": 41,
   "id": "0da03fa0-5ee5-45f4-8b71-01c1f290114c",
   "metadata": {},
   "outputs": [],
   "source": [
    "f_compilation.loc['Tong2013'] = pd.Series({'locality' : 'Mengla',\n",
    "                                          'lithology' : 'red beds',\n",
    "                                           'f' : Tong2013_f[0][0],\n",
    "                                           'f_min' : Tong2013_f[1][0],\n",
    "                                           'f_max' : Tong2013_f[2][0],\n",
    "                                           'ref' : 'Tong et al., 2013',\n",
    "                                           'mineralogy' : 'mixed',\n",
    "                                           'method' : 'EI',\n",
    "                                           'n':85})"
   ]
  },
  {
   "cell_type": "markdown",
   "id": "149791e0-c4e6-4526-a293-8e2d30316998",
   "metadata": {},
   "source": [
    "## Kirscher et al., 2014 \n",
    "\n",
    "*Correcting for inclination shallowing of early Carboniferous sedimentary rocks from Kyrgyzstan—indication of stable subtropical position of the North Tianshan Zone in the mid-late Palaeozoic*\n",
    "\n",
    ">samples have a hematite component and a magnetite component.\n",
    "\n",
    ">hematite component is flattened whereas magnetite component is not much\n",
    "\n",
    ">we record them separately here"
   ]
  },
  {
   "cell_type": "code",
   "execution_count": 42,
   "id": "ffa90f08-12e6-4f62-84dc-cb7f04ec04b3",
   "metadata": {},
   "outputs": [
    {
     "name": "stdout",
     "output_type": "stream",
     "text": [
      "[0.58, 0.86] [0.44, 0.63] [0.8, 1.02]\n"
     ]
    }
   ],
   "source": [
    "Io = [-35.1,-50.3]\n",
    "Ilow = [-41.4,-49.8]\n",
    "IEI = [-50.3,-54.5]\n",
    "Ihigh = [-57.9,-62.3]\n",
    "\n",
    "Kirsheretal2014_f = f_calc(Io,Ilow,IEI,Ihigh)"
   ]
  },
  {
   "cell_type": "code",
   "execution_count": 43,
   "id": "87c7b1cf-3250-4ae8-af65-4265ac6cc635",
   "metadata": {},
   "outputs": [],
   "source": [
    "f_compilation.loc['Kirsher2014_1'] = pd.Series({'locality' : 'Sonkul Basin (DUN)',\n",
    "                                          'lithology' : 'red beds',\n",
    "                                           'f' : Kirsheretal2014_f[0][0],\n",
    "                                           'f_min' : Kirsheretal2014_f[1][0],\n",
    "                                           'f_max' : Kirsheretal2014_f[2][0],\n",
    "                                           'ref' : 'Kirsher et al, 2014',\n",
    "                                           'mineralogy' : 'hematite',\n",
    "                                           'method' : 'EI',\n",
    "                                           'n' : 115})"
   ]
  },
  {
   "cell_type": "code",
   "execution_count": 44,
   "id": "6ce2e876-49eb-46e0-81ac-319194b7b547",
   "metadata": {},
   "outputs": [],
   "source": [
    "f_compilation.loc['Kirsher2014_2'] = pd.Series({'locality' : 'Sonkul Basin (DUN)',\n",
    "                                          'lithology' : 'red beds',\n",
    "                                           'f' : Kirsheretal2014_f[0][0],\n",
    "                                           'f_min' : Kirsheretal2014_f[1][0],\n",
    "                                           'f_max' : Kirsheretal2014_f[2][0],\n",
    "                                           'ref' : 'Kirsher et al, 2014',\n",
    "                                           'mineralogy' : 'magnetite',\n",
    "                                           'method' : 'EI',\n",
    "                                           'n' : 115})"
   ]
  },
  {
   "cell_type": "markdown",
   "id": "e7a18e9c-c70e-4c1c-8b11-bcd837f63a6e",
   "metadata": {},
   "source": [
    "## Ding et al., 2015\n",
    "\n",
    "*Paleomagnetism of the Oligocene Kangtuo Formation red beds (Central Tibet): Inclination shallowing and tectonic implications*\n",
    "\n",
    ">great work showing the grain size dependence of the inclination shallowing effect\n",
    "\n",
    ">we will compile the separate E/I application on data from the upper and lower section"
   ]
  },
  {
   "cell_type": "code",
   "execution_count": 45,
   "id": "0cd45340-10a2-4a24-b8fa-e449610bbae8",
   "metadata": {},
   "outputs": [
    {
     "name": "stdout",
     "output_type": "stream",
     "text": [
      "[0.53, 0.42] [0.46, 0.33] [0.6, 0.56]\n"
     ]
    }
   ],
   "source": [
    "Io = [28.9,21.1]\n",
    "Ilow = [42.5,34.7]\n",
    "IEI = [46.2,42.6]\n",
    "Ihigh = [50,49.8]\n",
    "\n",
    "Ding2015_f = f_calc(Io,Ilow,IEI,Ihigh)"
   ]
  },
  {
   "cell_type": "code",
   "execution_count": 46,
   "id": "63958b7a-8c86-4779-9287-a52e8a904870",
   "metadata": {},
   "outputs": [],
   "source": [
    "f_compilation.loc['Ding2015_1'] = pd.Series({'locality' : 'Kangtuo lower section',\n",
    "                                          'lithology' : 'red beds',\n",
    "                                           'f' : Ding2015_f[0][0],\n",
    "                                           'f_min' : Ding2015_f[1][0],\n",
    "                                           'f_max' : Ding2015_f[2][0],\n",
    "                                           'ref' : 'Ding et al., 2015',\n",
    "                                           'mineralogy' : 'hematite',\n",
    "                                           'method' : 'EI',\n",
    "                                           'n':414})"
   ]
  },
  {
   "cell_type": "code",
   "execution_count": 47,
   "id": "c7b3c9a2-a028-44a6-b51c-b11977b21d4a",
   "metadata": {},
   "outputs": [],
   "source": [
    "f_compilation.loc['Ding2015_2'] = pd.Series({'locality' : 'Kangtuo upper section',\n",
    "                                          'lithology' : 'red beds',\n",
    "                                           'f' : Ding2015_f[0][1],\n",
    "                                           'f_min' : Ding2015_f[1][1],\n",
    "                                           'f_max' : Ding2015_f[2][1],\n",
    "                                           'ref' : 'Ding et al., 2015',\n",
    "                                           'mineralogy' : 'hematite',\n",
    "                                           'method' : 'EI',\n",
    "                                           'n':137})"
   ]
  },
  {
   "cell_type": "markdown",
   "id": "4a948899-76a2-47ab-98f6-b5c1c62f1cdc",
   "metadata": {},
   "source": [
    "## Huang et al., 2015\n",
    "\n",
    "*Lower Cretaceous Xigaze ophiolites formed in the Gangdese forearc: Evidence from paleomagnetism, sediment provenance,\n",
    "and stratigraphy*\n",
    "\n"
   ]
  },
  {
   "cell_type": "code",
   "execution_count": 48,
   "id": "52f0ae61-ae00-4798-842f-49d5dd1e700c",
   "metadata": {},
   "outputs": [
    {
     "name": "stdout",
     "output_type": "stream",
     "text": [
      "[0.51] [0.4] [0.66]\n"
     ]
    }
   ],
   "source": [
    "Io = [16.9]\n",
    "Ilow = [24.8]\n",
    "IEI = [30.6]\n",
    "Ihigh = [37.3]\n",
    "\n",
    "Huang2015_f = f_calc(Io,Ilow,IEI,Ihigh)"
   ]
  },
  {
   "cell_type": "code",
   "execution_count": 49,
   "id": "29117924-3193-428f-8acb-72d545f46f2a",
   "metadata": {},
   "outputs": [],
   "source": [
    "f_compilation.loc['Huang2015'] = pd.Series({'locality' : 'Sangsang',\n",
    "                                          'lithology' : 'turbiditic sandstones',\n",
    "                                           'f' : Huang2015_f[0][0],\n",
    "                                           'f_min' : Huang2015_f[1][0],\n",
    "                                           'f_max' : Huang2015_f[2][0],\n",
    "                                           'ref' : 'Hunag et al., 2015',\n",
    "                                           'mineralogy' : 'magnetite',\n",
    "                                           'method' : 'EI',\n",
    "                                           'n':117})"
   ]
  },
  {
   "cell_type": "markdown",
   "id": "5b769380-807d-4df0-b572-af445b0fda54",
   "metadata": {},
   "source": [
    "## Chen et al., 2017\n",
    "\n",
    "*Combined paleomagnetic and geochronological study on Cretaceous strata of the Qiangtang terrane, central Tibet*"
   ]
  },
  {
   "cell_type": "code",
   "execution_count": 50,
   "id": "a1ef0a80-70fe-49db-aaca-5f2ea5543b39",
   "metadata": {},
   "outputs": [
    {
     "name": "stdout",
     "output_type": "stream",
     "text": [
      "[0.61] [0.49] [0.76]\n"
     ]
    }
   ],
   "source": [
    "Io = [34.2]\n",
    "Ilow = [41.9]\n",
    "IEI = [47.9]\n",
    "Ihigh = [54.3]\n",
    "\n",
    "Chenetal2017_f = f_calc(Io,Ilow,IEI,Ihigh)"
   ]
  },
  {
   "cell_type": "code",
   "execution_count": 51,
   "id": "64aca38d-cf1e-4346-aae3-c8baeecc0742",
   "metadata": {},
   "outputs": [],
   "source": [
    "f_compilation.loc['Chen2017'] = pd.Series({'locality' : 'Qushenla',\n",
    "                                          'lithology' : 'red beds',\n",
    "                                           'f' : Chenetal2017_f[0][0],\n",
    "                                           'f_min' : Chenetal2017_f[1][0],\n",
    "                                           'f_max' : Chenetal2017_f[2][0],\n",
    "                                           'ref' : 'Chen et al, 2017',\n",
    "                                           'mineralogy' : 'mixed',\n",
    "                                           'method' : 'EI',\n",
    "                                           'n':174})"
   ]
  },
  {
   "cell_type": "markdown",
   "id": "1b42ccc6-262d-40d3-a959-ea32256afacc",
   "metadata": {},
   "source": [
    "## Meng et al., 2017\n",
    "\n",
    "*Reduced convergence within the Tibetan Plateau by 26 Ma?*\n"
   ]
  },
  {
   "cell_type": "code",
   "execution_count": 52,
   "id": "931327d3-75c8-4890-9b5e-784153367de1",
   "metadata": {},
   "outputs": [],
   "source": [
    "f_compilation.loc['Meng2017'] = pd.Series({'locality' : 'Sangsang',\n",
    "                                          'lithology' : 'red beds',\n",
    "                                           'f' : 0.52,\n",
    "                                           'f_min' : 0.42,\n",
    "                                           'f_max' : 0.72,\n",
    "                                           'ref' : 'Meng et al., 2017',\n",
    "                                           'mineralogy' : 'mixed',\n",
    "                                           'method' : 'EI',\n",
    "                                           'n':223})"
   ]
  },
  {
   "cell_type": "markdown",
   "id": "27a8555d-18e5-4e66-923b-8d90759c3810",
   "metadata": {
    "tags": []
   },
   "source": [
    "## Tong et al., 2017\n",
    "\n",
    "*Paleomagnetism of Eocene red-beds in the eastern part of the Qiangtang Terrane and its implications for uplift and southward crustal extrusion in the southeastern edge of the Tibetan Plateau*"
   ]
  },
  {
   "cell_type": "code",
   "execution_count": 53,
   "id": "f6b8f6d5-14e6-4220-9880-4613145ba8e2",
   "metadata": {},
   "outputs": [
    {
     "name": "stdout",
     "output_type": "stream",
     "text": [
      "[0.62, 0.73] [0.52, 0.58] [0.78, 0.94]\n"
     ]
    }
   ],
   "source": [
    "Io = [27.8, 31.8]\n",
    "Ilow = [34,33.5]\n",
    "IEI = [40.3,40.4]\n",
    "Ihigh = [45.3,46.7]\n",
    "\n",
    "Tong2017_f = f_calc(Io,Ilow,IEI,Ihigh)"
   ]
  },
  {
   "cell_type": "code",
   "execution_count": 54,
   "id": "9f8905a0-e254-41bb-b5dc-ab27418121cd",
   "metadata": {},
   "outputs": [],
   "source": [
    "f_compilation.loc['Tong2017_1'] = pd.Series({'locality' : 'Gonjo NE limb',\n",
    "                                          'lithology' : 'red beds',\n",
    "                                           'f' : Tong2017_f[0][0],\n",
    "                                           'f_min' : Tong2017_f[1][0],\n",
    "                                           'f_max' : Tong2017_f[2][0],\n",
    "                                           'ref' : 'Tong et al., 2017',\n",
    "                                           'mineralogy' : 'mixed',\n",
    "                                           'method' : 'EI',\n",
    "                                           'n':102})"
   ]
  },
  {
   "cell_type": "code",
   "execution_count": 55,
   "id": "89b4f488-64c1-4eec-ad02-b629ba481025",
   "metadata": {},
   "outputs": [],
   "source": [
    "f_compilation.loc['Tong2017_2'] = pd.Series({'locality' : 'Gonjo SW limb',\n",
    "                                          'lithology' : 'red beds',\n",
    "                                           'f' : Tong2017_f[0][1],\n",
    "                                           'f_min' : Tong2017_f[1][1],\n",
    "                                           'f_max' : Tong2017_f[2][1],\n",
    "                                           'ref' : 'Tong et al., 2017',\n",
    "                                           'mineralogy' : 'mixed',\n",
    "                                           'method' : 'EI',\n",
    "                                           'n':203})"
   ]
  },
  {
   "cell_type": "markdown",
   "id": "0ab74d85-5cf1-4aeb-8b29-3c57b7d0084e",
   "metadata": {
    "tags": []
   },
   "source": [
    "## Zhang et al., 2018\n",
    "\n",
    "*53–43 Ma Deformation of Eastern Tibet Revealed by Three Stages of Tectonic Rotation in the Gongjue Basin*"
   ]
  },
  {
   "cell_type": "code",
   "execution_count": 56,
   "id": "92c33f17-9ac6-4af2-9864-26ea96016443",
   "metadata": {},
   "outputs": [],
   "source": [
    "f_compilation.loc['Zhang2018_1'] = pd.Series({'locality' : 'Gongjue',\n",
    "                                          'lithology' : 'red beds',\n",
    "                                           'f' : 0.66,\n",
    "                                           'f_min' : 0.54,\n",
    "                                           'f_max' : 0.81,\n",
    "                                           'ref' : 'Zhang et al., 2018',\n",
    "                                           'mineralogy' : 'mixed',\n",
    "                                           'method' : 'EI',\n",
    "                                           'n':150})"
   ]
  },
  {
   "cell_type": "code",
   "execution_count": 57,
   "id": "b45b4a13-6a2f-481b-9a70-0f5fb3c9ea20",
   "metadata": {},
   "outputs": [],
   "source": [
    "f_compilation.loc['Zhang2018_2'] = pd.Series({'locality' : 'Ranmugou',\n",
    "                                          'lithology' : 'red beds',\n",
    "                                           'f' : 0.55,\n",
    "                                           'f_min' : 0.47,\n",
    "                                           'f_max' : 0.64,\n",
    "                                           'ref' : 'Zhang et al., 2018',\n",
    "                                           'mineralogy' : 'mixed',\n",
    "                                           'method' : 'EI',\n",
    "                                           'n':178})"
   ]
  },
  {
   "cell_type": "markdown",
   "id": "1dfb6293-0b48-4dea-8cc0-5a3c289e6807",
   "metadata": {},
   "source": [
    "## Dallanave et al., 2018\n",
    "\n",
    "*Palaeomagnetic time and space constraints of the Early Cretaceous Rhenodanubian Flysch zone (Eastern Alps)*\n"
   ]
  },
  {
   "cell_type": "code",
   "execution_count": 58,
   "id": "be997ffd-a7cd-43fe-bd43-8d4966497a7d",
   "metadata": {},
   "outputs": [
    {
     "name": "stdout",
     "output_type": "stream",
     "text": [
      "[0.47, 0.77] [0.37, 0.59] [0.61, 0.98]\n"
     ]
    }
   ],
   "source": [
    "Io = [24.2, 40.4]\n",
    "Ilow = [36.4, 40.9]\n",
    "IEI = [43.7,47.8]\n",
    "Ihigh = [50.4,55.3]\n",
    "\n",
    "Dallanave2018_f = f_calc(Io,Ilow,IEI,Ihigh)"
   ]
  },
  {
   "cell_type": "code",
   "execution_count": 59,
   "id": "0c6b4736-8803-4273-b097-5c5a41cd8289",
   "metadata": {},
   "outputs": [],
   "source": [
    "f_compilation.loc['Dallanave2018_1'] = pd.Series({'locality' : 'Rehbrein Creek',\n",
    "                                          'lithology' : 'shales and quart-rich turbidites',\n",
    "                                           'f' : Dallanave2018_f[0][0],\n",
    "                                           'f_min' : Dallanave2018_f[1][0],\n",
    "                                           'f_max' : Dallanave2018_f[2][0],\n",
    "                                           'ref' : 'Dallanave et al., 2018',\n",
    "                                           'mineralogy' : 'magnetite',\n",
    "                                           'method' : 'EI',\n",
    "                                           'n':133})"
   ]
  },
  {
   "cell_type": "code",
   "execution_count": 60,
   "id": "1b322645-a9b4-417b-a47d-de5188bd7950",
   "metadata": {},
   "outputs": [],
   "source": [
    "f_compilation.loc['Dallanave2018_2'] = pd.Series({'locality' : 'Lainbach Valley',\n",
    "                                          'lithology' : 'claystone and calcarenites',\n",
    "                                           'f' : Dallanave2018_f[0][1],\n",
    "                                           'f_min' : Dallanave2018_f[1][1],\n",
    "                                           'f_max' : Dallanave2018_f[2][1],\n",
    "                                           'ref' : 'Dallanave et al., 2018',\n",
    "                                           'mineralogy' : 'magnetite',\n",
    "                                           'method' : 'EI',\n",
    "                                           'n':87})"
   ]
  },
  {
   "cell_type": "markdown",
   "id": "df4a328e-3a57-4548-8224-cf110c2fa84f",
   "metadata": {
    "tags": []
   },
   "source": [
    "## Westerweel et al., 2019\n",
    "\n",
    "*Burma Terrane part of the Trans-Tethyan arc during collision with India according to palaeomagnetic data*\n",
    "\n",
    ">The data do not pass a reversal test which can contribute to the elongation \n",
    "\n",
    ">The results from the E/I approach was not preferred by the author for the final reported inclination (they prefer to use anisotropy based methods)"
   ]
  },
  {
   "cell_type": "code",
   "execution_count": 61,
   "id": "716af628-15f7-4157-b2db-7b6e93d8ba6d",
   "metadata": {},
   "outputs": [
    {
     "name": "stdout",
     "output_type": "stream",
     "text": [
      "[0.62] [0.4] [1.29]\n"
     ]
    }
   ],
   "source": [
    "Io = [4.9]\n",
    "Ilow = [3.8]\n",
    "IEI = [7.9]\n",
    "Ihigh = [12.2]\n",
    "\n",
    "Westerweel2019_f = f_calc(Io,Ilow,IEI,Ihigh)"
   ]
  },
  {
   "cell_type": "code",
   "execution_count": 62,
   "id": "97785d46-822d-42fc-a7ac-cf0e579056dd",
   "metadata": {},
   "outputs": [],
   "source": [
    "f_compilation.loc['Westerweel2019'] = pd.Series({'locality' : 'Yaw',\n",
    "                                          'lithology' : 'mudstones, sandstones and siderite beds ',\n",
    "                                           'f' : Westerweel2019_f[0][0],\n",
    "                                           'f_min' : Westerweel2019_f[1][0],\n",
    "                                           'f_max' : Westerweel2019_f[2][0],\n",
    "                                           'ref' : 'Westerweel et al., 2019',\n",
    "                                           'mineralogy' : 'magnetite',\n",
    "                                           'method' : 'EI',\n",
    "                                           'n':168})"
   ]
  },
  {
   "cell_type": "markdown",
   "id": "41b9e5bc-21e8-4f3d-9759-4fb92e68033a",
   "metadata": {},
   "source": [
    "## Milanese et al., 2019\n",
    "\n",
    "*Late Cretaceous paleogeography of the Antarctic Peninsula: New T paleomagnetic pole from the James Ross Basin*\n",
    "\n",
    ">authors did not provide error bounds on f or inc"
   ]
  },
  {
   "cell_type": "code",
   "execution_count": 63,
   "id": "69ca46b8-1bef-4688-ac28-4df4d7e6b2e5",
   "metadata": {},
   "outputs": [],
   "source": [
    "f_compilation.loc['Milanese2019'] = pd.Series({'locality' : 'NW James Ross Island',\n",
    "                                          'lithology' : 'sandstones and mudstones',\n",
    "                                           'f' : 0.54,\n",
    "                                           'f_min' : None,\n",
    "                                           'f_max' : None,\n",
    "                                           'ref' : 'Milanese et al., 2019',\n",
    "                                           'mineralogy' : 'magnetite',\n",
    "                                           'method' : 'EI',\n",
    "                                           'n':119})"
   ]
  },
  {
   "cell_type": "markdown",
   "id": "3d8dbcd4-c411-46d3-8815-8264e3f91e00",
   "metadata": {},
   "source": [
    "## Vaes et al., 2021"
   ]
  },
  {
   "cell_type": "code",
   "execution_count": 64,
   "id": "667a7c7b-152a-4692-bfe6-96823376b003",
   "metadata": {},
   "outputs": [
    {
     "name": "stdout",
     "output_type": "stream",
     "text": [
      "[0.46, 0.56, 0.64, 0.47, 0.48, 0.44, 0.2, 0.52, 0.65] [0.32, 0.43, 0.48, 0.35, 0.33, 0.31, 0.15, 0.41, 0.51] [0.68, 0.8, 0.84, 0.64, 0.69, 0.62, 0.53, 0.7, 0.84]\n"
     ]
    }
   ],
   "source": [
    "Io = [21.5,25.7, 28.6, 27.4, 27.5, 27.1, 37.0, 26.0, 29.5]\n",
    "Ilow = [30.1, 31.0, 32.9, 39.0, 36.9, 39.4, 54.9, 34.9, 34.0]\n",
    "IEI = [40.8, 40.8, 40.6, 47.8, 47.1, 49.4, 74.8, 43.0, 41.0]\n",
    "Ihigh = [50.5, 48.5, 48.8, 56.3, 57.4, 58.7, 78.4, 50.1, 48.1]\n",
    "n = [128,145,129,137,156,133,113,167,167]\n",
    "\n",
    "Vaes2021_f = f_calc(Io,Ilow,IEI,Ihigh)"
   ]
  },
  {
   "cell_type": "code",
   "execution_count": 65,
   "id": "a416cf60-f4d9-48c2-8fa0-6e2d8dfd8040",
   "metadata": {},
   "outputs": [],
   "source": [
    "for i in range(len(Io)):\n",
    "    f_compilation.loc['Vaes2021_'+str(i+1)] = pd.Series({'locality' : 'Gonjo '+str(i+1),\n",
    "                                          'lithology' : 'red beds',\n",
    "                                           'f' : Vaes2021_f[0][i],\n",
    "                                           'f_min' : Vaes2021_f[1][i],\n",
    "                                           'f_max' : Vaes2021_f[2][i],\n",
    "                                           'ref' : 'Vaes et al., 2021',\n",
    "                                           'mineralogy' : 'hematite',\n",
    "                                           'method' : 'EI',\n",
    "                                           'n' : n[i]})"
   ]
  },
  {
   "cell_type": "markdown",
   "id": "fb4d7b53-bd0e-49fd-8fe6-37541bddb8e6",
   "metadata": {},
   "source": [
    "## Li et al. 2022\n",
    "\n",
    "*New paleomagnetic results of the Upper Cretaceous to Lower Eocene sedimentary rocks from the Xigaze forearc basin and their tectonic implications*\n",
    "\n",
    "> \"the magnetic minerals in the samples are mainly magnetite and titanomagnetite.\""
   ]
  },
  {
   "cell_type": "code",
   "execution_count": 66,
   "id": "f6bdf497-13e7-423c-8d5a-c2dbb84f2d25",
   "metadata": {},
   "outputs": [
    {
     "name": "stdout",
     "output_type": "stream",
     "text": [
      "[0.81] [0.62] [0.99]\n"
     ]
    }
   ],
   "source": [
    "Io = [35.7]\n",
    "Ilow = [36.0]\n",
    "IEI = [41.6]\n",
    "Ihigh = [49.0]\n",
    "n = [87]\n",
    "\n",
    "f_EI,f_min,f_max = f_calc(Io,Ilow,IEI,Ihigh)"
   ]
  },
  {
   "cell_type": "code",
   "execution_count": 67,
   "id": "523efa23-d85d-4114-86a1-abf64429054a",
   "metadata": {},
   "outputs": [],
   "source": [
    "f_compilation.loc['Li2022'] = pd.Series({'locality' : 'Qubeiya and Jialazi Fms',\n",
    "                                          'lithology' : 'sandstone, siltstone, wackestone',\n",
    "                                           'f' : f_EI[0],\n",
    "                                           'f_min' : f_min[0],\n",
    "                                           'f_max' : f_max[0],\n",
    "                                           'ref' : 'Li et al., 2022',\n",
    "                                           'mineralogy' : 'magnetite',\n",
    "                                           'method' : 'EI',\n",
    "                                           'n' : 87})"
   ]
  },
  {
   "cell_type": "markdown",
   "id": "ec063b70-606a-4eb3-8ea8-daf3b67d5a90",
   "metadata": {},
   "source": [
    "## Pierce et al., 2022\n",
    "\n",
    "*Quantifying inclination shallowing and representing flattening uncertainty in sedimentary paleomagnetic poles*"
   ]
  },
  {
   "cell_type": "code",
   "execution_count": 68,
   "id": "7efdea4c-b8b4-4c00-90f7-05d0e74eafda",
   "metadata": {},
   "outputs": [],
   "source": [
    "f_compilation.loc['Pierce2022'] = pd.Series({'locality' : 'Cut Face',\n",
    "                                          'lithology' : 'red beds',\n",
    "                                           'f' : 0.64,\n",
    "                                           'f_min' : 0.5,\n",
    "                                           'f_max' : 0.86,\n",
    "                                           'ref' : 'Pierce et al., 2022',\n",
    "                                           'mineralogy' : 'hematite',\n",
    "                                           'method' : 'EI',\n",
    "                                           'n' : 157})"
   ]
  },
  {
   "cell_type": "markdown",
   "id": "6dca1c94-f324-428f-b713-e6fceb5cc076",
   "metadata": {},
   "source": [
    "## below will be studies using anisotropy based correction factors\n",
    "\n",
    ">due to the different stratigy of measuring anisotropy factors of individual specimens instead of being a statistical method that utilzes a large number of specimens to do the trick, there will not be an uncertainty boundary associated with the f factor"
   ]
  },
  {
   "cell_type": "markdown",
   "id": "8981eeb6-c6b1-495e-8892-c4a5f72e71e2",
   "metadata": {
    "tags": []
   },
   "source": [
    "## Kodama and Davi, 1995\n",
    "\n",
    "*A compaction correction for the paleomagnetismof the Cretaceous Pigeon Point Formation of California*"
   ]
  },
  {
   "cell_type": "code",
   "execution_count": 69,
   "id": "f7f3024c-ee94-4e7d-80cd-d59e4fe669db",
   "metadata": {},
   "outputs": [],
   "source": [
    "f_compilation.loc['Kodama1995'] = pd.Series({'locality' : 'Pigeon Point',\n",
    "                                          'lithology' : 'mud- silt- and sandstone',\n",
    "                                           'f' : 0.71,\n",
    "                                           'f_min' : None,\n",
    "                                           'f_max' : None,\n",
    "                                           'ref' : 'Kodama and Davi, 1995',\n",
    "                                           'mineralogy' : 'magnetite',\n",
    "                                           'method' : 'anisotropy',\n",
    "                                           'n' : None})"
   ]
  },
  {
   "cell_type": "markdown",
   "id": "8edda809-4cdb-4672-8f87-1833c71fb5a6",
   "metadata": {},
   "source": [
    "## Kodama, 1997\n",
    "\n",
    "*A successful rock magnetic technique for correcting paleomagnetic inclination shallowing: Case study of the Nacimiento Formation, New Mexico*"
   ]
  },
  {
   "cell_type": "code",
   "execution_count": 70,
   "id": "7931491c-a40f-4b54-b26f-fc63d455fac3",
   "metadata": {},
   "outputs": [],
   "source": [
    "f_compilation.loc['Kodama1997'] = pd.Series({'locality' : 'Nacimiento',\n",
    "                                          'lithology' : 'claystones and shaless and siltstones and sandstones',\n",
    "                                           'f' : 0.79,\n",
    "                                           'f_min' : None,\n",
    "                                           'f_max' : None,\n",
    "                                           'ref' : 'Kodama, 1997',\n",
    "                                           'mineralogy' : 'magnetite',\n",
    "                                           'method' : 'anisotropy',\n",
    "                                           'n' : None})"
   ]
  },
  {
   "cell_type": "markdown",
   "id": "a1d2b074-1218-4496-8101-6e2631f59182",
   "metadata": {},
   "source": [
    "## Tan and Kodama, 1998\n",
    "\n",
    "*Compaction-corrected inclinations from southern California Cretaceous marine sedimentary rocks indicate no palcolatitudinal offset for the Peninsular Range terrane*"
   ]
  },
  {
   "cell_type": "code",
   "execution_count": 71,
   "id": "9d1921f6-ef12-4f66-abf5-df93f48999a9",
   "metadata": {},
   "outputs": [],
   "source": [
    "f_compilation.loc['Tan1998_1'] = pd.Series({'locality' : 'Ladd',\n",
    "                                          'lithology' : 'claystones and shaless and siltstones and sandstones',\n",
    "                                           'f' : 0.65,\n",
    "                                           'f_min' : None,\n",
    "                                           'f_max' : None,\n",
    "                                           'ref' : 'Tan and Kodama, 1998',\n",
    "                                           'mineralogy' : 'magnetite',\n",
    "                                           'method' : 'anisotropy',\n",
    "                                           'n' : None})"
   ]
  },
  {
   "cell_type": "code",
   "execution_count": 72,
   "id": "d9921ff7-7700-46a5-93a8-a9f651929fe4",
   "metadata": {},
   "outputs": [],
   "source": [
    "f_compilation.loc['Tan1998_2'] = pd.Series({'locality' : 'Point Loma',\n",
    "                                          'lithology' : 'claystones and shaless and siltstones and sandstones',\n",
    "                                           'f' : 0.56,\n",
    "                                           'f_min' : None,\n",
    "                                           'f_max' : None,\n",
    "                                           'ref' : 'Tan and Kodama, 1998',\n",
    "                                           'mineralogy' : 'magnetite',\n",
    "                                           'method' : 'anisotropy',\n",
    "                                           'n' : None})"
   ]
  },
  {
   "cell_type": "markdown",
   "id": "761e8c36-bad4-4a40-ac1d-c62baf89b43f",
   "metadata": {},
   "source": [
    "## Li et al., 2001\n",
    "\n",
    "*A Compaction-Corrected Inclination for the Middle Cretaceous Valle Group in Vizcaino Terrane, Baja California, Mexico: Preliminary Results. AGU Fall Meeting Abastract, 2001*"
   ]
  },
  {
   "cell_type": "code",
   "execution_count": 73,
   "id": "c4c41778-f4d7-4d87-bdf0-c2737801730f",
   "metadata": {},
   "outputs": [],
   "source": [
    "f_compilation.loc['Li2001'] = pd.Series({'locality' : 'Valle',\n",
    "                                          'lithology' : 'sandstone',\n",
    "                                           'f' : 0.69,\n",
    "                                           'f_min' : None,\n",
    "                                           'f_max' : None,\n",
    "                                           'ref' : 'Li et al., 2001',\n",
    "                                           'mineralogy' : 'magnetite',\n",
    "                                           'method' : 'anisotropy',\n",
    "                                           'n' : None})"
   ]
  },
  {
   "cell_type": "markdown",
   "id": "6151d109-0767-4a5b-9721-43dea57fe7de",
   "metadata": {},
   "source": [
    "## Tan and Kodama 2003\n",
    "\n",
    "*Paleomagnetism and magnetic anisotropy of Cretaceous red beds from the Tarim basin, northwest China: Evidence for a rock magnetic cause of anomalously shallow paleomagnetic inclinations from central Asia*"
   ]
  },
  {
   "cell_type": "code",
   "execution_count": 74,
   "id": "897e1634-9ef7-42ef-a3c6-385df95a9b37",
   "metadata": {},
   "outputs": [],
   "source": [
    "f_compilation.loc['Tan2003'] = pd.Series({'locality' : 'Kapusaliang',\n",
    "                                          'lithology' : 'red beds',\n",
    "                                           'f' : 0.43,\n",
    "                                           'f_min' : None,\n",
    "                                           'f_max' : None,\n",
    "                                           'ref' : 'Tan and Kodama, 2003',\n",
    "                                           'mineralogy' : 'hematite',\n",
    "                                           'method' : 'anisotropy',\n",
    "                                           'n' : None})"
   ]
  },
  {
   "cell_type": "markdown",
   "id": "c75a4ac6-5240-4542-9d29-1851f2987d74",
   "metadata": {},
   "source": [
    "## Kim and Kodama, 2004"
   ]
  },
  {
   "cell_type": "code",
   "execution_count": 75,
   "id": "558eb847-c082-455e-84b9-71aef218257c",
   "metadata": {},
   "outputs": [],
   "source": [
    "f_compilation.loc['Kim2004'] = pd.Series({'locality' : 'Nanaimo',\n",
    "                                          'lithology' : 'marine mud- and sandstones',\n",
    "                                           'f' : 0.7,\n",
    "                                           'f_min' : None,\n",
    "                                           'f_max' : None,\n",
    "                                           'ref' : 'Kim and Kodama, 2004',\n",
    "                                           'mineralogy' : 'magnetite',\n",
    "                                           'method' : 'anisotropy',\n",
    "                                           'n' : None})"
   ]
  },
  {
   "cell_type": "markdown",
   "id": "c4ccb552-0367-4807-b6cd-c62c412f05ce",
   "metadata": {
    "tags": []
   },
   "source": [
    "## Vaughn et al., 2005"
   ]
  },
  {
   "cell_type": "code",
   "execution_count": 76,
   "id": "bb9358c9-d6fa-4d5a-9e4a-cae5e2367ef9",
   "metadata": {},
   "outputs": [],
   "source": [
    "f_compilation.loc['Vaughn2005'] = pd.Series({'locality' : 'Perforada',\n",
    "                                          'lithology' : 'interbedded mudstone and sandstone',\n",
    "                                           'f' : 0.67,\n",
    "                                           'f_min' : None,\n",
    "                                           'f_max' : None,\n",
    "                                           'ref' : 'Vaughn et al., 2005',\n",
    "                                           'mineralogy' : 'magnetite',\n",
    "                                           'method' : 'anisotropy',\n",
    "                                           'n' : None})"
   ]
  },
  {
   "cell_type": "markdown",
   "id": "bde2405b-e9cf-42ef-840a-5c1d297680e8",
   "metadata": {},
   "source": [
    "## Kodama, 2009\n",
    "\n",
    "*Simplification of the anisotropy-based inclination correction technique for magnetite- and haematite-bearing rocks: a case study for the Carboniferous Glenshaw and Mauch Chunk Formations, North America*\n",
    "\n"
   ]
  },
  {
   "cell_type": "code",
   "execution_count": 77,
   "id": "e7ef6456-3e9d-44bd-bed3-c267190f9dc0",
   "metadata": {},
   "outputs": [],
   "source": [
    "f_compilation.loc['Kodama2009'] = pd.Series({'locality' : 'Glenshaw',\n",
    "                                          'lithology' : 'limestone and siltstone',\n",
    "                                           'f' : 0.65,\n",
    "                                           'f_min' : None,\n",
    "                                           'f_max' : None,\n",
    "                                           'ref' : 'Kodama, 2009',\n",
    "                                           'mineralogy' : 'magnetite',\n",
    "                                           'method' : 'anisotropy',\n",
    "                                           'n' : None})"
   ]
  },
  {
   "cell_type": "markdown",
   "id": "79e469e1-cd60-430c-a045-db12b7149730",
   "metadata": {},
   "source": [
    "## Bilardello and Kodama 2010a\n",
    "\n",
    "*A new inclination shallowing correction of the Mauch Chunk Formation of Pennsylvania, based on high-field AIR results: Implications for the Carboniferous North American APW path and Pangea reconstructions*"
   ]
  },
  {
   "cell_type": "code",
   "execution_count": 78,
   "id": "234fdcb1-55c7-43f1-abf5-c7f6dd2abc1d",
   "metadata": {},
   "outputs": [],
   "source": [
    "f_compilation.loc['Bilardello2010a'] = pd.Series({'locality' : 'Mauch Chunk',\n",
    "                                          'lithology' : 'calcareous mudstone and sandstone',\n",
    "                                           'f' : 0.49,\n",
    "                                           'f_min' : None,\n",
    "                                           'f_max' : None,\n",
    "                                           'ref' : 'Bilardello and Kodama 2010a',\n",
    "                                           'mineralogy' : 'hematite',\n",
    "                                           'method' : 'anisotropy',\n",
    "                                           'n' : None})"
   ]
  },
  {
   "cell_type": "markdown",
   "id": "3b4c250e-8af5-4cbf-a1ea-9ba607318cf5",
   "metadata": {},
   "source": [
    "## Bilardello and Kodama 2010b\n",
    "\n",
    "*Rock magnetic evidence for inclination shallowing in the early Carboniferous Deer Lake Group red beds of western Newfoundland*"
   ]
  },
  {
   "cell_type": "code",
   "execution_count": 79,
   "id": "4bd58acd-e9f8-4720-90df-7326795afaf4",
   "metadata": {},
   "outputs": [
    {
     "data": {
      "text/plain": [
       "0.54"
      ]
     },
     "execution_count": 79,
     "metadata": {},
     "output_type": "execute_result"
    }
   ],
   "source": [
    "Bilardello2010b_f = np.round(np.tan(np.radians(33.7))/np.tan(np.radians(50.9)),2)\n",
    "Bilardello2010b_f"
   ]
  },
  {
   "cell_type": "code",
   "execution_count": 80,
   "id": "3fccbc0d-1ddb-4724-9600-58561c973150",
   "metadata": {},
   "outputs": [],
   "source": [
    "f_compilation.loc['Bilardello2010b'] = pd.Series({'locality' : 'Deer Lake',\n",
    "                                          'lithology' : 'red beds',\n",
    "                                           'f' : Bilardello2010b_f,\n",
    "                                           'f_min' : None,\n",
    "                                           'f_max' : None,\n",
    "                                           'ref' : 'Bilardello and Kodama 2010b',\n",
    "                                           'mineralogy' : 'hematite',\n",
    "                                           'method' : 'anisotropy',\n",
    "                                           'n' : None})"
   ]
  },
  {
   "cell_type": "markdown",
   "id": "492d5208-ba03-43f1-9f7f-189dd86b6049",
   "metadata": {},
   "source": [
    "## Bilardello and Kodama 2010c\n",
    "\n",
    "*Palaeomagnetism and magnetic anisotropy of Carboniferous red beds from the Maritime Provinces of Canada: evidence for shallow palaeomagnetic inclinations and implications for North American apparent polar wander*\n",
    "\n",
    "The data are from Dario's thesis work, *A New Technique for Measuring the Magnetic Fabric of Hematite- Bearing Sedimentary Rocks, hf-AIR: Inclination Correction Case Studies of Carboniferous red beds from the Maritime Provinces of Canada, Ph.D. Thesis*"
   ]
  },
  {
   "cell_type": "code",
   "execution_count": 81,
   "id": "21535fb4-a104-4371-8c16-38a56674b46d",
   "metadata": {},
   "outputs": [],
   "source": [
    "f_compilation.loc['Bilardello2010c_1'] = pd.Series({'locality' : 'Shepody',\n",
    "                                          'lithology' : 'red beds',\n",
    "                                           'f' : 0.64,\n",
    "                                           'f_min' : None,\n",
    "                                           'f_max' : None,\n",
    "                                           'ref' : 'Bilardello and Kodama, 2010c',\n",
    "                                           'mineralogy' : 'hematite',\n",
    "                                           'method' : 'anisotropy',\n",
    "                                           'n' : None})"
   ]
  },
  {
   "cell_type": "code",
   "execution_count": 82,
   "id": "7e400051-8ad6-412c-994e-5c6192abe6c5",
   "metadata": {},
   "outputs": [],
   "source": [
    "f_compilation.loc['Bilardello2010c_2'] = pd.Series({'locality' : 'Maringouin',\n",
    "                                          'lithology' : 'red beds',\n",
    "                                           'f' : 0.83,\n",
    "                                           'f_min' : None,\n",
    "                                           'f_max' : None,\n",
    "                                           'ref' : 'Bilardello and Kodama, 2010c',\n",
    "                                           'mineralogy' : 'hematite',\n",
    "                                           'method' : 'anisotropy',\n",
    "                                           'n' : None})"
   ]
  },
  {
   "cell_type": "markdown",
   "id": "948d73cf-284f-4c6d-a4b4-a56f9fa36c55",
   "metadata": {},
   "source": [
    "## Bilardello et al. 2018\n",
    "\n",
    "*Evidence for Widespread Remagnetizations in South America, Case Study of the Itararé Group Rocks From the State of São Paulo, Brazil*"
   ]
  },
  {
   "cell_type": "code",
   "execution_count": 83,
   "id": "0a9a08d8-b4dc-4b44-9da6-2ea1911470cb",
   "metadata": {},
   "outputs": [],
   "source": [
    "f_compilation.loc['Bilardello2018'] = pd.Series({'locality' : 'Itarare',\n",
    "                                          'lithology' : 'marine rhythmites and diamictites and shale and sandstones',\n",
    "                                           'f' : 0.68,\n",
    "                                           'f_min' : None,\n",
    "                                           'f_max' : None,\n",
    "                                           'ref' : 'Bilardello et al. 2018',\n",
    "                                           'mineralogy' : 'mixed',\n",
    "                                           'method' : 'anisotropy',\n",
    "                                           'n' : None})"
   ]
  },
  {
   "cell_type": "markdown",
   "id": "24cf7472-1d01-4e3e-999f-5286422130d0",
   "metadata": {},
   "source": [
    "## manually input Gonjo basin direction group #7 following Vaes et al., 2021 table 2."
   ]
  },
  {
   "cell_type": "code",
   "execution_count": 84,
   "id": "10239e39-5ea8-4d1e-96b9-d95ce2d123de",
   "metadata": {},
   "outputs": [],
   "source": [
    "f_compilation.loc['Vaes2021_7'] = pd.Series({'locality' : 'Gonjo 7',\n",
    "                                          'lithology' : 'red beds',\n",
    "                                           'f' : 0.29,\n",
    "                                           'f_min' : 0.15,\n",
    "                                           'f_max' :  0.53,\n",
    "                                           'ref' : 'Vaes et al., 2021',\n",
    "                                           'mineralogy' : 'hematite',\n",
    "                                           'method' : 'EI',\n",
    "                                           'n' : 113})"
   ]
  },
  {
   "cell_type": "code",
   "execution_count": 85,
   "id": "842a5da4-c297-4959-ac6d-a2f942b7f43b",
   "metadata": {},
   "outputs": [
    {
     "data": {
      "text/html": [
       "<div>\n",
       "<style scoped>\n",
       "    .dataframe tbody tr th:only-of-type {\n",
       "        vertical-align: middle;\n",
       "    }\n",
       "\n",
       "    .dataframe tbody tr th {\n",
       "        vertical-align: top;\n",
       "    }\n",
       "\n",
       "    .dataframe thead th {\n",
       "        text-align: right;\n",
       "    }\n",
       "</style>\n",
       "<table border=\"1\" class=\"dataframe\">\n",
       "  <thead>\n",
       "    <tr style=\"text-align: right;\">\n",
       "      <th></th>\n",
       "      <th>locality</th>\n",
       "      <th>lithology</th>\n",
       "      <th>f</th>\n",
       "      <th>f_min</th>\n",
       "      <th>f_max</th>\n",
       "      <th>ref</th>\n",
       "      <th>mineralogy</th>\n",
       "      <th>method</th>\n",
       "      <th>n</th>\n",
       "    </tr>\n",
       "  </thead>\n",
       "  <tbody>\n",
       "    <tr>\n",
       "      <th>Tauxe2004</th>\n",
       "      <td>Subei</td>\n",
       "      <td>red beds</td>\n",
       "      <td>0.49</td>\n",
       "      <td>0.37</td>\n",
       "      <td>0.64</td>\n",
       "      <td>Tauxe and Kent, 2004</td>\n",
       "      <td>hematite</td>\n",
       "      <td>EI</td>\n",
       "      <td>222</td>\n",
       "    </tr>\n",
       "    <tr>\n",
       "      <th>Tauxe2005</th>\n",
       "      <td>Potwar</td>\n",
       "      <td>red beds</td>\n",
       "      <td>0.77</td>\n",
       "      <td>0.58</td>\n",
       "      <td>1.11</td>\n",
       "      <td>Tauxe, 2005</td>\n",
       "      <td>hematite</td>\n",
       "      <td>EI</td>\n",
       "      <td>105</td>\n",
       "    </tr>\n",
       "    <tr>\n",
       "      <th>Yan2005</th>\n",
       "      <td>Gudie</td>\n",
       "      <td>fluvial sediments</td>\n",
       "      <td>0.63</td>\n",
       "      <td>0.47</td>\n",
       "      <td>0.73</td>\n",
       "      <td>Yan et al., 2005</td>\n",
       "      <td>mixed</td>\n",
       "      <td>EI</td>\n",
       "      <td>627</td>\n",
       "    </tr>\n",
       "    <tr>\n",
       "      <th>Kent2005_1</th>\n",
       "      <td>Dan River</td>\n",
       "      <td>red siltstone and gray/black mud</td>\n",
       "      <td>0.59</td>\n",
       "      <td>0.49</td>\n",
       "      <td>0.74</td>\n",
       "      <td>Kent and Tauxe, 2005</td>\n",
       "      <td>mixed</td>\n",
       "      <td>EI</td>\n",
       "      <td>333</td>\n",
       "    </tr>\n",
       "    <tr>\n",
       "      <th>Kent2005_2</th>\n",
       "      <td>Princeton</td>\n",
       "      <td>red beds</td>\n",
       "      <td>0.57</td>\n",
       "      <td>0.39</td>\n",
       "      <td>1.04</td>\n",
       "      <td>Kent and Tauxe, 2005</td>\n",
       "      <td>hematite</td>\n",
       "      <td>EI</td>\n",
       "      <td>148</td>\n",
       "    </tr>\n",
       "    <tr>\n",
       "      <th>Kent2005_3</th>\n",
       "      <td>Nursery</td>\n",
       "      <td>red beds</td>\n",
       "      <td>0.40</td>\n",
       "      <td>0.33</td>\n",
       "      <td>0.54</td>\n",
       "      <td>Kent and Tauxe, 2005</td>\n",
       "      <td>hematite</td>\n",
       "      <td>EI</td>\n",
       "      <td>194</td>\n",
       "    </tr>\n",
       "    <tr>\n",
       "      <th>Kent2005_4</th>\n",
       "      <td>Titusville</td>\n",
       "      <td>red beds</td>\n",
       "      <td>0.63</td>\n",
       "      <td>0.54</td>\n",
       "      <td>0.76</td>\n",
       "      <td>Kent and Tauxe, 2005</td>\n",
       "      <td>hematite</td>\n",
       "      <td>EI</td>\n",
       "      <td>308</td>\n",
       "    </tr>\n",
       "    <tr>\n",
       "      <th>Kent2005_5</th>\n",
       "      <td>Rutgers</td>\n",
       "      <td>red beds</td>\n",
       "      <td>0.66</td>\n",
       "      <td>0.57</td>\n",
       "      <td>0.73</td>\n",
       "      <td>Kent and Tauxe, 2005</td>\n",
       "      <td>hematite</td>\n",
       "      <td>EI</td>\n",
       "      <td>336</td>\n",
       "    </tr>\n",
       "    <tr>\n",
       "      <th>Kent2005_6</th>\n",
       "      <td>Somerset</td>\n",
       "      <td>red beds</td>\n",
       "      <td>0.63</td>\n",
       "      <td>0.53</td>\n",
       "      <td>0.73</td>\n",
       "      <td>Kent and Tauxe, 2005</td>\n",
       "      <td>hematite</td>\n",
       "      <td>EI</td>\n",
       "      <td>309</td>\n",
       "    </tr>\n",
       "    <tr>\n",
       "      <th>Kent2005_7</th>\n",
       "      <td>Weston</td>\n",
       "      <td>red beds</td>\n",
       "      <td>0.49</td>\n",
       "      <td>0.42</td>\n",
       "      <td>0.59</td>\n",
       "      <td>Kent and Tauxe, 2005</td>\n",
       "      <td>hematite</td>\n",
       "      <td>EI</td>\n",
       "      <td>246</td>\n",
       "    </tr>\n",
       "    <tr>\n",
       "      <th>Kent2005_8</th>\n",
       "      <td>Martinsville</td>\n",
       "      <td>red beds</td>\n",
       "      <td>0.49</td>\n",
       "      <td>0.42</td>\n",
       "      <td>0.59</td>\n",
       "      <td>Kent and Tauxe, 2005</td>\n",
       "      <td>hematite</td>\n",
       "      <td>EI</td>\n",
       "      <td>302</td>\n",
       "    </tr>\n",
       "    <tr>\n",
       "      <th>Kent2005_9</th>\n",
       "      <td>St. Audrie's Bay</td>\n",
       "      <td>red beds</td>\n",
       "      <td>0.68</td>\n",
       "      <td>0.59</td>\n",
       "      <td>1.02</td>\n",
       "      <td>Kent and Tauxe, 2005</td>\n",
       "      <td>hematite</td>\n",
       "      <td>EI</td>\n",
       "      <td>27</td>\n",
       "    </tr>\n",
       "    <tr>\n",
       "      <th>Kent2005_10</th>\n",
       "      <td>Jameson Land</td>\n",
       "      <td>red beds</td>\n",
       "      <td>0.58</td>\n",
       "      <td>0.47</td>\n",
       "      <td>0.81</td>\n",
       "      <td>Kent and Tauxe, 2005</td>\n",
       "      <td>hematite</td>\n",
       "      <td>EI</td>\n",
       "      <td>222</td>\n",
       "    </tr>\n",
       "    <tr>\n",
       "      <th>KentTauxe2008</th>\n",
       "      <td>Hartford</td>\n",
       "      <td>red beds</td>\n",
       "      <td>0.54</td>\n",
       "      <td>0.48</td>\n",
       "      <td>0.62</td>\n",
       "      <td>Kent and Olson, 2008</td>\n",
       "      <td>hematite</td>\n",
       "      <td>EI</td>\n",
       "      <td>315</td>\n",
       "    </tr>\n",
       "    <tr>\n",
       "      <th>Krijgsman2004</th>\n",
       "      <td>Calatayud basin</td>\n",
       "      <td>fluvial and lacustrine sediments</td>\n",
       "      <td>0.73</td>\n",
       "      <td>0.63</td>\n",
       "      <td>0.84</td>\n",
       "      <td>Krijgsman and Tauxe, 2004</td>\n",
       "      <td>mixed</td>\n",
       "      <td>EI</td>\n",
       "      <td>648</td>\n",
       "    </tr>\n",
       "    <tr>\n",
       "      <th>Krijgsman2006</th>\n",
       "      <td>Nanaimo</td>\n",
       "      <td>marine mud- and siltstones</td>\n",
       "      <td>0.97</td>\n",
       "      <td>0.79</td>\n",
       "      <td>1.05</td>\n",
       "      <td>Krijgsman and Tauxe, 2006</td>\n",
       "      <td>magnetite</td>\n",
       "      <td>EI</td>\n",
       "      <td>143</td>\n",
       "    </tr>\n",
       "    <tr>\n",
       "      <th>Van-Hinsbergen2007_1</th>\n",
       "      <td>Ag. Giorgios &amp; Monolithos</td>\n",
       "      <td>palustrine and lacustrine sediments</td>\n",
       "      <td>0.84</td>\n",
       "      <td>0.46</td>\n",
       "      <td>1.03</td>\n",
       "      <td>Van Hinsbergen et al., 2007</td>\n",
       "      <td>magnetite</td>\n",
       "      <td>EI</td>\n",
       "      <td>42</td>\n",
       "    </tr>\n",
       "    <tr>\n",
       "      <th>Van-Hinsbergen2007_2</th>\n",
       "      <td>Kefala &amp; Aspropetres</td>\n",
       "      <td>palustrine and lacustrine sediments</td>\n",
       "      <td>0.59</td>\n",
       "      <td>0.37</td>\n",
       "      <td>0.89</td>\n",
       "      <td>Van Hinsbergen et al., 2007</td>\n",
       "      <td>magnetite</td>\n",
       "      <td>EI</td>\n",
       "      <td>75</td>\n",
       "    </tr>\n",
       "    <tr>\n",
       "      <th>Tauxe2008</th>\n",
       "      <td>Nacimiento</td>\n",
       "      <td>claystones and siltstones</td>\n",
       "      <td>0.84</td>\n",
       "      <td>0.5</td>\n",
       "      <td>1.01</td>\n",
       "      <td>Tauxe et al., 2008</td>\n",
       "      <td>hematite</td>\n",
       "      <td>EI</td>\n",
       "      <td>102</td>\n",
       "    </tr>\n",
       "    <tr>\n",
       "      <th>Haldan2009_1</th>\n",
       "      <td>Dome de Barrot</td>\n",
       "      <td>red mudstone and purple siltstone</td>\n",
       "      <td>0.90</td>\n",
       "      <td>0.79</td>\n",
       "      <td>1.03</td>\n",
       "      <td>Haldan et al., 2009</td>\n",
       "      <td>hematite</td>\n",
       "      <td>EI</td>\n",
       "      <td>411</td>\n",
       "    </tr>\n",
       "    <tr>\n",
       "      <th>Haldan2009_2</th>\n",
       "      <td>Lodeve (Kungurian – Wordian)</td>\n",
       "      <td>red siltstones and calcareous siltstone</td>\n",
       "      <td>0.78</td>\n",
       "      <td>0.37</td>\n",
       "      <td>1.0</td>\n",
       "      <td>Haldan et al., 2009</td>\n",
       "      <td>mixed</td>\n",
       "      <td>EI</td>\n",
       "      <td>146</td>\n",
       "    </tr>\n",
       "    <tr>\n",
       "      <th>Haldan2009_3</th>\n",
       "      <td>Lodeve (Sakmarian-Artinskian)</td>\n",
       "      <td>red siltstones and calcareous siltstone</td>\n",
       "      <td>0.83</td>\n",
       "      <td>0.63</td>\n",
       "      <td>1.16</td>\n",
       "      <td>Haldan et al., 2009</td>\n",
       "      <td>mixed</td>\n",
       "      <td>EI</td>\n",
       "      <td>143</td>\n",
       "    </tr>\n",
       "    <tr>\n",
       "      <th>Costa2009</th>\n",
       "      <td>Artes</td>\n",
       "      <td>red beds</td>\n",
       "      <td>0.58</td>\n",
       "      <td>0.42</td>\n",
       "      <td>0.77</td>\n",
       "      <td>Costa et al., 2009</td>\n",
       "      <td>mixed</td>\n",
       "      <td>EI</td>\n",
       "      <td>221</td>\n",
       "    </tr>\n",
       "    <tr>\n",
       "      <th>Meijers2010</th>\n",
       "      <td>TA5</td>\n",
       "      <td>turbiditic volcanoclastics</td>\n",
       "      <td>0.94</td>\n",
       "      <td>0.68</td>\n",
       "      <td>1.0</td>\n",
       "      <td>Meijers et al., 2010</td>\n",
       "      <td>magnetite</td>\n",
       "      <td>EI</td>\n",
       "      <td>115</td>\n",
       "    </tr>\n",
       "    <tr>\n",
       "      <th>Dupont2010_1</th>\n",
       "      <td>Ctg‐Xsh</td>\n",
       "      <td>red beds</td>\n",
       "      <td>0.78</td>\n",
       "      <td>0.51</td>\n",
       "      <td>1.0</td>\n",
       "      <td>Dupont-Nivet et al., 2010</td>\n",
       "      <td>mixed</td>\n",
       "      <td>EI</td>\n",
       "      <td>95</td>\n",
       "    </tr>\n",
       "    <tr>\n",
       "      <th>Dupont2010_2</th>\n",
       "      <td>Xiejia</td>\n",
       "      <td>red beds</td>\n",
       "      <td>0.90</td>\n",
       "      <td>0.72</td>\n",
       "      <td>1.04</td>\n",
       "      <td>Dupont-Nivet et al., 2010</td>\n",
       "      <td>mixed</td>\n",
       "      <td>EI</td>\n",
       "      <td>185</td>\n",
       "    </tr>\n",
       "    <tr>\n",
       "      <th>Dupont2010_3</th>\n",
       "      <td>Mahalagou</td>\n",
       "      <td>red beds</td>\n",
       "      <td>0.68</td>\n",
       "      <td>0.54</td>\n",
       "      <td>0.78</td>\n",
       "      <td>Dupont-Nivet et al., 2010</td>\n",
       "      <td>mixed</td>\n",
       "      <td>EI</td>\n",
       "      <td>228</td>\n",
       "    </tr>\n",
       "    <tr>\n",
       "      <th>Tan2010</th>\n",
       "      <td>Shexing</td>\n",
       "      <td>red beds</td>\n",
       "      <td>0.48</td>\n",
       "      <td>0.44</td>\n",
       "      <td>0.52</td>\n",
       "      <td>Tan et al., 2010</td>\n",
       "      <td>hematite</td>\n",
       "      <td>EI</td>\n",
       "      <td>377</td>\n",
       "    </tr>\n",
       "    <tr>\n",
       "      <th>Van-Hinsbergen2010</th>\n",
       "      <td>Korkuteli</td>\n",
       "      <td>blue clays and turbiditic sandstone</td>\n",
       "      <td>0.67</td>\n",
       "      <td>0.53</td>\n",
       "      <td>0.83</td>\n",
       "      <td>Van Hinsbergen et al., 2010</td>\n",
       "      <td>mixed</td>\n",
       "      <td>EI</td>\n",
       "      <td>192</td>\n",
       "    </tr>\n",
       "    <tr>\n",
       "      <th>Van-Hinsbergen2012</th>\n",
       "      <td>Shexing</td>\n",
       "      <td>red beds</td>\n",
       "      <td>0.66</td>\n",
       "      <td>0.53</td>\n",
       "      <td>0.91</td>\n",
       "      <td>Van Hinsbergen et al., 2012</td>\n",
       "      <td>hematite</td>\n",
       "      <td>EI</td>\n",
       "      <td>100</td>\n",
       "    </tr>\n",
       "    <tr>\n",
       "      <th>Lanci2013</th>\n",
       "      <td>Karoo basin</td>\n",
       "      <td>fluvial sand-, silt- and mudstone</td>\n",
       "      <td>0.70</td>\n",
       "      <td>0.41</td>\n",
       "      <td>0.9</td>\n",
       "      <td>Lanci et al., 2013</td>\n",
       "      <td>magnetite</td>\n",
       "      <td>EI</td>\n",
       "      <td>136</td>\n",
       "    </tr>\n",
       "    <tr>\n",
       "      <th>Huang2013</th>\n",
       "      <td>Linzizong</td>\n",
       "      <td>volcaniclastics and mudstones</td>\n",
       "      <td>0.43</td>\n",
       "      <td>0.32</td>\n",
       "      <td>0.57</td>\n",
       "      <td>Hunag et al., 2013</td>\n",
       "      <td>magnetite</td>\n",
       "      <td>EI</td>\n",
       "      <td>119</td>\n",
       "    </tr>\n",
       "    <tr>\n",
       "      <th>Tong2013</th>\n",
       "      <td>Mengla</td>\n",
       "      <td>red beds</td>\n",
       "      <td>0.45</td>\n",
       "      <td>0.38</td>\n",
       "      <td>0.55</td>\n",
       "      <td>Tong et al., 2013</td>\n",
       "      <td>mixed</td>\n",
       "      <td>EI</td>\n",
       "      <td>85</td>\n",
       "    </tr>\n",
       "    <tr>\n",
       "      <th>Kirsher2014_1</th>\n",
       "      <td>Sonkul Basin (DUN)</td>\n",
       "      <td>red beds</td>\n",
       "      <td>0.58</td>\n",
       "      <td>0.44</td>\n",
       "      <td>0.8</td>\n",
       "      <td>Kirsher et al, 2014</td>\n",
       "      <td>hematite</td>\n",
       "      <td>EI</td>\n",
       "      <td>115</td>\n",
       "    </tr>\n",
       "    <tr>\n",
       "      <th>Kirsher2014_2</th>\n",
       "      <td>Sonkul Basin (DUN)</td>\n",
       "      <td>red beds</td>\n",
       "      <td>0.58</td>\n",
       "      <td>0.44</td>\n",
       "      <td>0.8</td>\n",
       "      <td>Kirsher et al, 2014</td>\n",
       "      <td>magnetite</td>\n",
       "      <td>EI</td>\n",
       "      <td>115</td>\n",
       "    </tr>\n",
       "    <tr>\n",
       "      <th>Ding2015_1</th>\n",
       "      <td>Kangtuo lower section</td>\n",
       "      <td>red beds</td>\n",
       "      <td>0.53</td>\n",
       "      <td>0.46</td>\n",
       "      <td>0.6</td>\n",
       "      <td>Ding et al., 2015</td>\n",
       "      <td>hematite</td>\n",
       "      <td>EI</td>\n",
       "      <td>414</td>\n",
       "    </tr>\n",
       "    <tr>\n",
       "      <th>Ding2015_2</th>\n",
       "      <td>Kangtuo upper section</td>\n",
       "      <td>red beds</td>\n",
       "      <td>0.42</td>\n",
       "      <td>0.33</td>\n",
       "      <td>0.56</td>\n",
       "      <td>Ding et al., 2015</td>\n",
       "      <td>hematite</td>\n",
       "      <td>EI</td>\n",
       "      <td>137</td>\n",
       "    </tr>\n",
       "    <tr>\n",
       "      <th>Huang2015</th>\n",
       "      <td>Sangsang</td>\n",
       "      <td>turbiditic sandstones</td>\n",
       "      <td>0.51</td>\n",
       "      <td>0.4</td>\n",
       "      <td>0.66</td>\n",
       "      <td>Hunag et al., 2015</td>\n",
       "      <td>magnetite</td>\n",
       "      <td>EI</td>\n",
       "      <td>117</td>\n",
       "    </tr>\n",
       "    <tr>\n",
       "      <th>Chen2017</th>\n",
       "      <td>Qushenla</td>\n",
       "      <td>red beds</td>\n",
       "      <td>0.61</td>\n",
       "      <td>0.49</td>\n",
       "      <td>0.76</td>\n",
       "      <td>Chen et al, 2017</td>\n",
       "      <td>mixed</td>\n",
       "      <td>EI</td>\n",
       "      <td>174</td>\n",
       "    </tr>\n",
       "    <tr>\n",
       "      <th>Meng2017</th>\n",
       "      <td>Sangsang</td>\n",
       "      <td>red beds</td>\n",
       "      <td>0.52</td>\n",
       "      <td>0.42</td>\n",
       "      <td>0.72</td>\n",
       "      <td>Meng et al., 2017</td>\n",
       "      <td>mixed</td>\n",
       "      <td>EI</td>\n",
       "      <td>223</td>\n",
       "    </tr>\n",
       "    <tr>\n",
       "      <th>Tong2017_1</th>\n",
       "      <td>Gonjo NE limb</td>\n",
       "      <td>red beds</td>\n",
       "      <td>0.62</td>\n",
       "      <td>0.52</td>\n",
       "      <td>0.78</td>\n",
       "      <td>Tong et al., 2017</td>\n",
       "      <td>mixed</td>\n",
       "      <td>EI</td>\n",
       "      <td>102</td>\n",
       "    </tr>\n",
       "    <tr>\n",
       "      <th>Tong2017_2</th>\n",
       "      <td>Gonjo SW limb</td>\n",
       "      <td>red beds</td>\n",
       "      <td>0.73</td>\n",
       "      <td>0.58</td>\n",
       "      <td>0.94</td>\n",
       "      <td>Tong et al., 2017</td>\n",
       "      <td>mixed</td>\n",
       "      <td>EI</td>\n",
       "      <td>203</td>\n",
       "    </tr>\n",
       "    <tr>\n",
       "      <th>Zhang2018_1</th>\n",
       "      <td>Gongjue</td>\n",
       "      <td>red beds</td>\n",
       "      <td>0.66</td>\n",
       "      <td>0.54</td>\n",
       "      <td>0.81</td>\n",
       "      <td>Zhang et al., 2018</td>\n",
       "      <td>mixed</td>\n",
       "      <td>EI</td>\n",
       "      <td>150</td>\n",
       "    </tr>\n",
       "    <tr>\n",
       "      <th>Zhang2018_2</th>\n",
       "      <td>Ranmugou</td>\n",
       "      <td>red beds</td>\n",
       "      <td>0.55</td>\n",
       "      <td>0.47</td>\n",
       "      <td>0.64</td>\n",
       "      <td>Zhang et al., 2018</td>\n",
       "      <td>mixed</td>\n",
       "      <td>EI</td>\n",
       "      <td>178</td>\n",
       "    </tr>\n",
       "    <tr>\n",
       "      <th>Dallanave2018_1</th>\n",
       "      <td>Rehbrein Creek</td>\n",
       "      <td>shales and quart-rich turbidites</td>\n",
       "      <td>0.47</td>\n",
       "      <td>0.37</td>\n",
       "      <td>0.61</td>\n",
       "      <td>Dallanave et al., 2018</td>\n",
       "      <td>magnetite</td>\n",
       "      <td>EI</td>\n",
       "      <td>133</td>\n",
       "    </tr>\n",
       "    <tr>\n",
       "      <th>Dallanave2018_2</th>\n",
       "      <td>Lainbach Valley</td>\n",
       "      <td>claystone and calcarenites</td>\n",
       "      <td>0.77</td>\n",
       "      <td>0.59</td>\n",
       "      <td>0.98</td>\n",
       "      <td>Dallanave et al., 2018</td>\n",
       "      <td>magnetite</td>\n",
       "      <td>EI</td>\n",
       "      <td>87</td>\n",
       "    </tr>\n",
       "    <tr>\n",
       "      <th>Westerweel2019</th>\n",
       "      <td>Yaw</td>\n",
       "      <td>mudstones, sandstones and siderite beds</td>\n",
       "      <td>0.62</td>\n",
       "      <td>0.4</td>\n",
       "      <td>1.29</td>\n",
       "      <td>Westerweel et al., 2019</td>\n",
       "      <td>magnetite</td>\n",
       "      <td>EI</td>\n",
       "      <td>168</td>\n",
       "    </tr>\n",
       "    <tr>\n",
       "      <th>Milanese2019</th>\n",
       "      <td>NW James Ross Island</td>\n",
       "      <td>sandstones and mudstones</td>\n",
       "      <td>0.54</td>\n",
       "      <td>None</td>\n",
       "      <td>None</td>\n",
       "      <td>Milanese et al., 2019</td>\n",
       "      <td>magnetite</td>\n",
       "      <td>EI</td>\n",
       "      <td>119</td>\n",
       "    </tr>\n",
       "    <tr>\n",
       "      <th>Vaes2021_1</th>\n",
       "      <td>Gonjo 1</td>\n",
       "      <td>red beds</td>\n",
       "      <td>0.46</td>\n",
       "      <td>0.32</td>\n",
       "      <td>0.68</td>\n",
       "      <td>Vaes et al., 2021</td>\n",
       "      <td>hematite</td>\n",
       "      <td>EI</td>\n",
       "      <td>128</td>\n",
       "    </tr>\n",
       "    <tr>\n",
       "      <th>Vaes2021_2</th>\n",
       "      <td>Gonjo 2</td>\n",
       "      <td>red beds</td>\n",
       "      <td>0.56</td>\n",
       "      <td>0.43</td>\n",
       "      <td>0.8</td>\n",
       "      <td>Vaes et al., 2021</td>\n",
       "      <td>hematite</td>\n",
       "      <td>EI</td>\n",
       "      <td>145</td>\n",
       "    </tr>\n",
       "    <tr>\n",
       "      <th>Vaes2021_3</th>\n",
       "      <td>Gonjo 3</td>\n",
       "      <td>red beds</td>\n",
       "      <td>0.64</td>\n",
       "      <td>0.48</td>\n",
       "      <td>0.84</td>\n",
       "      <td>Vaes et al., 2021</td>\n",
       "      <td>hematite</td>\n",
       "      <td>EI</td>\n",
       "      <td>129</td>\n",
       "    </tr>\n",
       "    <tr>\n",
       "      <th>Vaes2021_4</th>\n",
       "      <td>Gonjo 4</td>\n",
       "      <td>red beds</td>\n",
       "      <td>0.47</td>\n",
       "      <td>0.35</td>\n",
       "      <td>0.64</td>\n",
       "      <td>Vaes et al., 2021</td>\n",
       "      <td>hematite</td>\n",
       "      <td>EI</td>\n",
       "      <td>137</td>\n",
       "    </tr>\n",
       "    <tr>\n",
       "      <th>Vaes2021_5</th>\n",
       "      <td>Gonjo 5</td>\n",
       "      <td>red beds</td>\n",
       "      <td>0.48</td>\n",
       "      <td>0.33</td>\n",
       "      <td>0.69</td>\n",
       "      <td>Vaes et al., 2021</td>\n",
       "      <td>hematite</td>\n",
       "      <td>EI</td>\n",
       "      <td>156</td>\n",
       "    </tr>\n",
       "    <tr>\n",
       "      <th>Vaes2021_6</th>\n",
       "      <td>Gonjo 6</td>\n",
       "      <td>red beds</td>\n",
       "      <td>0.44</td>\n",
       "      <td>0.31</td>\n",
       "      <td>0.62</td>\n",
       "      <td>Vaes et al., 2021</td>\n",
       "      <td>hematite</td>\n",
       "      <td>EI</td>\n",
       "      <td>133</td>\n",
       "    </tr>\n",
       "    <tr>\n",
       "      <th>Vaes2021_7</th>\n",
       "      <td>Gonjo 7</td>\n",
       "      <td>red beds</td>\n",
       "      <td>0.29</td>\n",
       "      <td>0.15</td>\n",
       "      <td>0.53</td>\n",
       "      <td>Vaes et al., 2021</td>\n",
       "      <td>hematite</td>\n",
       "      <td>EI</td>\n",
       "      <td>113</td>\n",
       "    </tr>\n",
       "    <tr>\n",
       "      <th>Vaes2021_8</th>\n",
       "      <td>Gonjo 8</td>\n",
       "      <td>red beds</td>\n",
       "      <td>0.52</td>\n",
       "      <td>0.41</td>\n",
       "      <td>0.7</td>\n",
       "      <td>Vaes et al., 2021</td>\n",
       "      <td>hematite</td>\n",
       "      <td>EI</td>\n",
       "      <td>167</td>\n",
       "    </tr>\n",
       "    <tr>\n",
       "      <th>Vaes2021_9</th>\n",
       "      <td>Gonjo 9</td>\n",
       "      <td>red beds</td>\n",
       "      <td>0.65</td>\n",
       "      <td>0.51</td>\n",
       "      <td>0.84</td>\n",
       "      <td>Vaes et al., 2021</td>\n",
       "      <td>hematite</td>\n",
       "      <td>EI</td>\n",
       "      <td>167</td>\n",
       "    </tr>\n",
       "    <tr>\n",
       "      <th>Li2022</th>\n",
       "      <td>Qubeiya and Jialazi Fms</td>\n",
       "      <td>sandstone, siltstone, wackestone</td>\n",
       "      <td>0.81</td>\n",
       "      <td>0.62</td>\n",
       "      <td>0.99</td>\n",
       "      <td>Li et al., 2022</td>\n",
       "      <td>magnetite</td>\n",
       "      <td>EI</td>\n",
       "      <td>87</td>\n",
       "    </tr>\n",
       "    <tr>\n",
       "      <th>Pierce2022</th>\n",
       "      <td>Cut Face</td>\n",
       "      <td>red beds</td>\n",
       "      <td>0.64</td>\n",
       "      <td>0.5</td>\n",
       "      <td>0.86</td>\n",
       "      <td>Pierce et al., 2022</td>\n",
       "      <td>hematite</td>\n",
       "      <td>EI</td>\n",
       "      <td>157</td>\n",
       "    </tr>\n",
       "    <tr>\n",
       "      <th>Kodama1995</th>\n",
       "      <td>Pigeon Point</td>\n",
       "      <td>mud- silt- and sandstone</td>\n",
       "      <td>0.71</td>\n",
       "      <td>None</td>\n",
       "      <td>None</td>\n",
       "      <td>Kodama and Davi, 1995</td>\n",
       "      <td>magnetite</td>\n",
       "      <td>anisotropy</td>\n",
       "      <td>None</td>\n",
       "    </tr>\n",
       "    <tr>\n",
       "      <th>Kodama1997</th>\n",
       "      <td>Nacimiento</td>\n",
       "      <td>claystones and shaless and siltstones and sand...</td>\n",
       "      <td>0.79</td>\n",
       "      <td>None</td>\n",
       "      <td>None</td>\n",
       "      <td>Kodama, 1997</td>\n",
       "      <td>magnetite</td>\n",
       "      <td>anisotropy</td>\n",
       "      <td>None</td>\n",
       "    </tr>\n",
       "    <tr>\n",
       "      <th>Tan1998_1</th>\n",
       "      <td>Ladd</td>\n",
       "      <td>claystones and shaless and siltstones and sand...</td>\n",
       "      <td>0.65</td>\n",
       "      <td>None</td>\n",
       "      <td>None</td>\n",
       "      <td>Tan and Kodama, 1998</td>\n",
       "      <td>magnetite</td>\n",
       "      <td>anisotropy</td>\n",
       "      <td>None</td>\n",
       "    </tr>\n",
       "    <tr>\n",
       "      <th>Tan1998_2</th>\n",
       "      <td>Point Loma</td>\n",
       "      <td>claystones and shaless and siltstones and sand...</td>\n",
       "      <td>0.56</td>\n",
       "      <td>None</td>\n",
       "      <td>None</td>\n",
       "      <td>Tan and Kodama, 1998</td>\n",
       "      <td>magnetite</td>\n",
       "      <td>anisotropy</td>\n",
       "      <td>None</td>\n",
       "    </tr>\n",
       "    <tr>\n",
       "      <th>Li2001</th>\n",
       "      <td>Valle</td>\n",
       "      <td>sandstone</td>\n",
       "      <td>0.69</td>\n",
       "      <td>None</td>\n",
       "      <td>None</td>\n",
       "      <td>Li et al., 2001</td>\n",
       "      <td>magnetite</td>\n",
       "      <td>anisotropy</td>\n",
       "      <td>None</td>\n",
       "    </tr>\n",
       "    <tr>\n",
       "      <th>Tan2003</th>\n",
       "      <td>Kapusaliang</td>\n",
       "      <td>red beds</td>\n",
       "      <td>0.43</td>\n",
       "      <td>None</td>\n",
       "      <td>None</td>\n",
       "      <td>Tan and Kodama, 2003</td>\n",
       "      <td>hematite</td>\n",
       "      <td>anisotropy</td>\n",
       "      <td>None</td>\n",
       "    </tr>\n",
       "    <tr>\n",
       "      <th>Kim2004</th>\n",
       "      <td>Nanaimo</td>\n",
       "      <td>marine mud- and sandstones</td>\n",
       "      <td>0.70</td>\n",
       "      <td>None</td>\n",
       "      <td>None</td>\n",
       "      <td>Kim and Kodama, 2004</td>\n",
       "      <td>magnetite</td>\n",
       "      <td>anisotropy</td>\n",
       "      <td>None</td>\n",
       "    </tr>\n",
       "    <tr>\n",
       "      <th>Vaughn2005</th>\n",
       "      <td>Perforada</td>\n",
       "      <td>interbedded mudstone and sandstone</td>\n",
       "      <td>0.67</td>\n",
       "      <td>None</td>\n",
       "      <td>None</td>\n",
       "      <td>Vaughn et al., 2005</td>\n",
       "      <td>magnetite</td>\n",
       "      <td>anisotropy</td>\n",
       "      <td>None</td>\n",
       "    </tr>\n",
       "    <tr>\n",
       "      <th>Kodama2009</th>\n",
       "      <td>Glenshaw</td>\n",
       "      <td>limestone and siltstone</td>\n",
       "      <td>0.65</td>\n",
       "      <td>None</td>\n",
       "      <td>None</td>\n",
       "      <td>Kodama, 2009</td>\n",
       "      <td>magnetite</td>\n",
       "      <td>anisotropy</td>\n",
       "      <td>None</td>\n",
       "    </tr>\n",
       "    <tr>\n",
       "      <th>Bilardello2010a</th>\n",
       "      <td>Mauch Chunk</td>\n",
       "      <td>calcareous mudstone and sandstone</td>\n",
       "      <td>0.49</td>\n",
       "      <td>None</td>\n",
       "      <td>None</td>\n",
       "      <td>Bilardello and Kodama 2010a</td>\n",
       "      <td>hematite</td>\n",
       "      <td>anisotropy</td>\n",
       "      <td>None</td>\n",
       "    </tr>\n",
       "    <tr>\n",
       "      <th>Bilardello2010b</th>\n",
       "      <td>Deer Lake</td>\n",
       "      <td>red beds</td>\n",
       "      <td>0.54</td>\n",
       "      <td>None</td>\n",
       "      <td>None</td>\n",
       "      <td>Bilardello and Kodama 2010b</td>\n",
       "      <td>hematite</td>\n",
       "      <td>anisotropy</td>\n",
       "      <td>None</td>\n",
       "    </tr>\n",
       "    <tr>\n",
       "      <th>Bilardello2010c_1</th>\n",
       "      <td>Shepody</td>\n",
       "      <td>red beds</td>\n",
       "      <td>0.64</td>\n",
       "      <td>None</td>\n",
       "      <td>None</td>\n",
       "      <td>Bilardello and Kodama, 2010c</td>\n",
       "      <td>hematite</td>\n",
       "      <td>anisotropy</td>\n",
       "      <td>None</td>\n",
       "    </tr>\n",
       "    <tr>\n",
       "      <th>Bilardello2010c_2</th>\n",
       "      <td>Maringouin</td>\n",
       "      <td>red beds</td>\n",
       "      <td>0.83</td>\n",
       "      <td>None</td>\n",
       "      <td>None</td>\n",
       "      <td>Bilardello and Kodama, 2010c</td>\n",
       "      <td>hematite</td>\n",
       "      <td>anisotropy</td>\n",
       "      <td>None</td>\n",
       "    </tr>\n",
       "    <tr>\n",
       "      <th>Bilardello2018</th>\n",
       "      <td>Itarare</td>\n",
       "      <td>marine rhythmites and diamictites and shale an...</td>\n",
       "      <td>0.68</td>\n",
       "      <td>None</td>\n",
       "      <td>None</td>\n",
       "      <td>Bilardello et al. 2018</td>\n",
       "      <td>mixed</td>\n",
       "      <td>anisotropy</td>\n",
       "      <td>None</td>\n",
       "    </tr>\n",
       "  </tbody>\n",
       "</table>\n",
       "</div>"
      ],
      "text/plain": [
       "                                           locality  \\\n",
       "Tauxe2004                                     Subei   \n",
       "Tauxe2005                                    Potwar   \n",
       "Yan2005                                       Gudie   \n",
       "Kent2005_1                                Dan River   \n",
       "Kent2005_2                                Princeton   \n",
       "Kent2005_3                                  Nursery   \n",
       "Kent2005_4                               Titusville   \n",
       "Kent2005_5                                  Rutgers   \n",
       "Kent2005_6                                 Somerset   \n",
       "Kent2005_7                                   Weston   \n",
       "Kent2005_8                             Martinsville   \n",
       "Kent2005_9                         St. Audrie's Bay   \n",
       "Kent2005_10                            Jameson Land   \n",
       "KentTauxe2008                              Hartford   \n",
       "Krijgsman2004                       Calatayud basin   \n",
       "Krijgsman2006                               Nanaimo   \n",
       "Van-Hinsbergen2007_1      Ag. Giorgios & Monolithos   \n",
       "Van-Hinsbergen2007_2           Kefala & Aspropetres   \n",
       "Tauxe2008                                Nacimiento   \n",
       "Haldan2009_1                         Dome de Barrot   \n",
       "Haldan2009_2           Lodeve (Kungurian – Wordian)   \n",
       "Haldan2009_3          Lodeve (Sakmarian-Artinskian)   \n",
       "Costa2009                                     Artes   \n",
       "Meijers2010                                     TA5   \n",
       "Dupont2010_1                                Ctg‐Xsh   \n",
       "Dupont2010_2                                 Xiejia   \n",
       "Dupont2010_3                              Mahalagou   \n",
       "Tan2010                                     Shexing   \n",
       "Van-Hinsbergen2010                        Korkuteli   \n",
       "Van-Hinsbergen2012                          Shexing   \n",
       "Lanci2013                               Karoo basin   \n",
       "Huang2013                                 Linzizong   \n",
       "Tong2013                                     Mengla   \n",
       "Kirsher2014_1                    Sonkul Basin (DUN)   \n",
       "Kirsher2014_2                    Sonkul Basin (DUN)   \n",
       "Ding2015_1                    Kangtuo lower section   \n",
       "Ding2015_2                    Kangtuo upper section   \n",
       "Huang2015                                  Sangsang   \n",
       "Chen2017                                   Qushenla   \n",
       "Meng2017                                   Sangsang   \n",
       "Tong2017_1                            Gonjo NE limb   \n",
       "Tong2017_2                            Gonjo SW limb   \n",
       "Zhang2018_1                                 Gongjue   \n",
       "Zhang2018_2                                Ranmugou   \n",
       "Dallanave2018_1                      Rehbrein Creek   \n",
       "Dallanave2018_2                     Lainbach Valley   \n",
       "Westerweel2019                                  Yaw   \n",
       "Milanese2019                   NW James Ross Island   \n",
       "Vaes2021_1                                  Gonjo 1   \n",
       "Vaes2021_2                                  Gonjo 2   \n",
       "Vaes2021_3                                  Gonjo 3   \n",
       "Vaes2021_4                                  Gonjo 4   \n",
       "Vaes2021_5                                  Gonjo 5   \n",
       "Vaes2021_6                                  Gonjo 6   \n",
       "Vaes2021_7                                  Gonjo 7   \n",
       "Vaes2021_8                                  Gonjo 8   \n",
       "Vaes2021_9                                  Gonjo 9   \n",
       "Li2022                      Qubeiya and Jialazi Fms   \n",
       "Pierce2022                                 Cut Face   \n",
       "Kodama1995                             Pigeon Point   \n",
       "Kodama1997                               Nacimiento   \n",
       "Tan1998_1                                      Ladd   \n",
       "Tan1998_2                                Point Loma   \n",
       "Li2001                                        Valle   \n",
       "Tan2003                                 Kapusaliang   \n",
       "Kim2004                                     Nanaimo   \n",
       "Vaughn2005                                Perforada   \n",
       "Kodama2009                                 Glenshaw   \n",
       "Bilardello2010a                         Mauch Chunk   \n",
       "Bilardello2010b                           Deer Lake   \n",
       "Bilardello2010c_1                           Shepody   \n",
       "Bilardello2010c_2                        Maringouin   \n",
       "Bilardello2018                              Itarare   \n",
       "\n",
       "                                                              lithology     f  \\\n",
       "Tauxe2004                                                      red beds  0.49   \n",
       "Tauxe2005                                                      red beds  0.77   \n",
       "Yan2005                                               fluvial sediments  0.63   \n",
       "Kent2005_1                             red siltstone and gray/black mud  0.59   \n",
       "Kent2005_2                                                     red beds  0.57   \n",
       "Kent2005_3                                                     red beds  0.40   \n",
       "Kent2005_4                                                     red beds  0.63   \n",
       "Kent2005_5                                                     red beds  0.66   \n",
       "Kent2005_6                                                     red beds  0.63   \n",
       "Kent2005_7                                                     red beds  0.49   \n",
       "Kent2005_8                                                     red beds  0.49   \n",
       "Kent2005_9                                                     red beds  0.68   \n",
       "Kent2005_10                                                    red beds  0.58   \n",
       "KentTauxe2008                                                  red beds  0.54   \n",
       "Krijgsman2004                          fluvial and lacustrine sediments  0.73   \n",
       "Krijgsman2006                                marine mud- and siltstones  0.97   \n",
       "Van-Hinsbergen2007_1                palustrine and lacustrine sediments  0.84   \n",
       "Van-Hinsbergen2007_2                palustrine and lacustrine sediments  0.59   \n",
       "Tauxe2008                                     claystones and siltstones  0.84   \n",
       "Haldan2009_1                          red mudstone and purple siltstone  0.90   \n",
       "Haldan2009_2                    red siltstones and calcareous siltstone  0.78   \n",
       "Haldan2009_3                    red siltstones and calcareous siltstone  0.83   \n",
       "Costa2009                                                      red beds  0.58   \n",
       "Meijers2010                                  turbiditic volcanoclastics  0.94   \n",
       "Dupont2010_1                                                   red beds  0.78   \n",
       "Dupont2010_2                                                   red beds  0.90   \n",
       "Dupont2010_3                                                   red beds  0.68   \n",
       "Tan2010                                                        red beds  0.48   \n",
       "Van-Hinsbergen2010                  blue clays and turbiditic sandstone  0.67   \n",
       "Van-Hinsbergen2012                                             red beds  0.66   \n",
       "Lanci2013                             fluvial sand-, silt- and mudstone  0.70   \n",
       "Huang2013                                 volcaniclastics and mudstones  0.43   \n",
       "Tong2013                                                       red beds  0.45   \n",
       "Kirsher2014_1                                                  red beds  0.58   \n",
       "Kirsher2014_2                                                  red beds  0.58   \n",
       "Ding2015_1                                                     red beds  0.53   \n",
       "Ding2015_2                                                     red beds  0.42   \n",
       "Huang2015                                         turbiditic sandstones  0.51   \n",
       "Chen2017                                                       red beds  0.61   \n",
       "Meng2017                                                       red beds  0.52   \n",
       "Tong2017_1                                                     red beds  0.62   \n",
       "Tong2017_2                                                     red beds  0.73   \n",
       "Zhang2018_1                                                    red beds  0.66   \n",
       "Zhang2018_2                                                    red beds  0.55   \n",
       "Dallanave2018_1                        shales and quart-rich turbidites  0.47   \n",
       "Dallanave2018_2                              claystone and calcarenites  0.77   \n",
       "Westerweel2019                 mudstones, sandstones and siderite beds   0.62   \n",
       "Milanese2019                                   sandstones and mudstones  0.54   \n",
       "Vaes2021_1                                                     red beds  0.46   \n",
       "Vaes2021_2                                                     red beds  0.56   \n",
       "Vaes2021_3                                                     red beds  0.64   \n",
       "Vaes2021_4                                                     red beds  0.47   \n",
       "Vaes2021_5                                                     red beds  0.48   \n",
       "Vaes2021_6                                                     red beds  0.44   \n",
       "Vaes2021_7                                                     red beds  0.29   \n",
       "Vaes2021_8                                                     red beds  0.52   \n",
       "Vaes2021_9                                                     red beds  0.65   \n",
       "Li2022                                 sandstone, siltstone, wackestone  0.81   \n",
       "Pierce2022                                                     red beds  0.64   \n",
       "Kodama1995                                     mud- silt- and sandstone  0.71   \n",
       "Kodama1997            claystones and shaless and siltstones and sand...  0.79   \n",
       "Tan1998_1             claystones and shaless and siltstones and sand...  0.65   \n",
       "Tan1998_2             claystones and shaless and siltstones and sand...  0.56   \n",
       "Li2001                                                        sandstone  0.69   \n",
       "Tan2003                                                        red beds  0.43   \n",
       "Kim2004                                      marine mud- and sandstones  0.70   \n",
       "Vaughn2005                           interbedded mudstone and sandstone  0.67   \n",
       "Kodama2009                                      limestone and siltstone  0.65   \n",
       "Bilardello2010a                       calcareous mudstone and sandstone  0.49   \n",
       "Bilardello2010b                                                red beds  0.54   \n",
       "Bilardello2010c_1                                              red beds  0.64   \n",
       "Bilardello2010c_2                                              red beds  0.83   \n",
       "Bilardello2018        marine rhythmites and diamictites and shale an...  0.68   \n",
       "\n",
       "                     f_min f_max                           ref mineralogy  \\\n",
       "Tauxe2004             0.37  0.64          Tauxe and Kent, 2004   hematite   \n",
       "Tauxe2005             0.58  1.11                   Tauxe, 2005   hematite   \n",
       "Yan2005               0.47  0.73              Yan et al., 2005      mixed   \n",
       "Kent2005_1            0.49  0.74          Kent and Tauxe, 2005      mixed   \n",
       "Kent2005_2            0.39  1.04          Kent and Tauxe, 2005   hematite   \n",
       "Kent2005_3            0.33  0.54          Kent and Tauxe, 2005   hematite   \n",
       "Kent2005_4            0.54  0.76          Kent and Tauxe, 2005   hematite   \n",
       "Kent2005_5            0.57  0.73          Kent and Tauxe, 2005   hematite   \n",
       "Kent2005_6            0.53  0.73          Kent and Tauxe, 2005   hematite   \n",
       "Kent2005_7            0.42  0.59          Kent and Tauxe, 2005   hematite   \n",
       "Kent2005_8            0.42  0.59          Kent and Tauxe, 2005   hematite   \n",
       "Kent2005_9            0.59  1.02          Kent and Tauxe, 2005   hematite   \n",
       "Kent2005_10           0.47  0.81          Kent and Tauxe, 2005   hematite   \n",
       "KentTauxe2008         0.48  0.62          Kent and Olson, 2008   hematite   \n",
       "Krijgsman2004         0.63  0.84     Krijgsman and Tauxe, 2004      mixed   \n",
       "Krijgsman2006         0.79  1.05     Krijgsman and Tauxe, 2006  magnetite   \n",
       "Van-Hinsbergen2007_1  0.46  1.03   Van Hinsbergen et al., 2007  magnetite   \n",
       "Van-Hinsbergen2007_2  0.37  0.89   Van Hinsbergen et al., 2007  magnetite   \n",
       "Tauxe2008              0.5  1.01            Tauxe et al., 2008   hematite   \n",
       "Haldan2009_1          0.79  1.03           Haldan et al., 2009   hematite   \n",
       "Haldan2009_2          0.37   1.0           Haldan et al., 2009      mixed   \n",
       "Haldan2009_3          0.63  1.16           Haldan et al., 2009      mixed   \n",
       "Costa2009             0.42  0.77            Costa et al., 2009      mixed   \n",
       "Meijers2010           0.68   1.0          Meijers et al., 2010  magnetite   \n",
       "Dupont2010_1          0.51   1.0     Dupont-Nivet et al., 2010      mixed   \n",
       "Dupont2010_2          0.72  1.04     Dupont-Nivet et al., 2010      mixed   \n",
       "Dupont2010_3          0.54  0.78     Dupont-Nivet et al., 2010      mixed   \n",
       "Tan2010               0.44  0.52              Tan et al., 2010   hematite   \n",
       "Van-Hinsbergen2010    0.53  0.83   Van Hinsbergen et al., 2010      mixed   \n",
       "Van-Hinsbergen2012    0.53  0.91   Van Hinsbergen et al., 2012   hematite   \n",
       "Lanci2013             0.41   0.9            Lanci et al., 2013  magnetite   \n",
       "Huang2013             0.32  0.57           Hunag et al., 2013   magnetite   \n",
       "Tong2013              0.38  0.55             Tong et al., 2013      mixed   \n",
       "Kirsher2014_1         0.44   0.8           Kirsher et al, 2014   hematite   \n",
       "Kirsher2014_2         0.44   0.8           Kirsher et al, 2014  magnetite   \n",
       "Ding2015_1            0.46   0.6             Ding et al., 2015   hematite   \n",
       "Ding2015_2            0.33  0.56             Ding et al., 2015   hematite   \n",
       "Huang2015              0.4  0.66            Hunag et al., 2015  magnetite   \n",
       "Chen2017              0.49  0.76              Chen et al, 2017      mixed   \n",
       "Meng2017              0.42  0.72             Meng et al., 2017      mixed   \n",
       "Tong2017_1            0.52  0.78             Tong et al., 2017      mixed   \n",
       "Tong2017_2            0.58  0.94             Tong et al., 2017      mixed   \n",
       "Zhang2018_1           0.54  0.81            Zhang et al., 2018      mixed   \n",
       "Zhang2018_2           0.47  0.64            Zhang et al., 2018      mixed   \n",
       "Dallanave2018_1       0.37  0.61        Dallanave et al., 2018  magnetite   \n",
       "Dallanave2018_2       0.59  0.98        Dallanave et al., 2018  magnetite   \n",
       "Westerweel2019         0.4  1.29       Westerweel et al., 2019  magnetite   \n",
       "Milanese2019          None  None         Milanese et al., 2019  magnetite   \n",
       "Vaes2021_1            0.32  0.68             Vaes et al., 2021   hematite   \n",
       "Vaes2021_2            0.43   0.8             Vaes et al., 2021   hematite   \n",
       "Vaes2021_3            0.48  0.84             Vaes et al., 2021   hematite   \n",
       "Vaes2021_4            0.35  0.64             Vaes et al., 2021   hematite   \n",
       "Vaes2021_5            0.33  0.69             Vaes et al., 2021   hematite   \n",
       "Vaes2021_6            0.31  0.62             Vaes et al., 2021   hematite   \n",
       "Vaes2021_7            0.15  0.53             Vaes et al., 2021   hematite   \n",
       "Vaes2021_8            0.41   0.7             Vaes et al., 2021   hematite   \n",
       "Vaes2021_9            0.51  0.84             Vaes et al., 2021   hematite   \n",
       "Li2022                0.62  0.99               Li et al., 2022  magnetite   \n",
       "Pierce2022             0.5  0.86           Pierce et al., 2022   hematite   \n",
       "Kodama1995            None  None         Kodama and Davi, 1995  magnetite   \n",
       "Kodama1997            None  None                  Kodama, 1997  magnetite   \n",
       "Tan1998_1             None  None          Tan and Kodama, 1998  magnetite   \n",
       "Tan1998_2             None  None          Tan and Kodama, 1998  magnetite   \n",
       "Li2001                None  None               Li et al., 2001  magnetite   \n",
       "Tan2003               None  None          Tan and Kodama, 2003   hematite   \n",
       "Kim2004               None  None          Kim and Kodama, 2004  magnetite   \n",
       "Vaughn2005            None  None           Vaughn et al., 2005  magnetite   \n",
       "Kodama2009            None  None                  Kodama, 2009  magnetite   \n",
       "Bilardello2010a       None  None   Bilardello and Kodama 2010a   hematite   \n",
       "Bilardello2010b       None  None   Bilardello and Kodama 2010b   hematite   \n",
       "Bilardello2010c_1     None  None  Bilardello and Kodama, 2010c   hematite   \n",
       "Bilardello2010c_2     None  None  Bilardello and Kodama, 2010c   hematite   \n",
       "Bilardello2018        None  None        Bilardello et al. 2018      mixed   \n",
       "\n",
       "                          method     n  \n",
       "Tauxe2004                     EI   222  \n",
       "Tauxe2005                     EI   105  \n",
       "Yan2005                       EI   627  \n",
       "Kent2005_1                    EI   333  \n",
       "Kent2005_2                    EI   148  \n",
       "Kent2005_3                    EI   194  \n",
       "Kent2005_4                    EI   308  \n",
       "Kent2005_5                    EI   336  \n",
       "Kent2005_6                    EI   309  \n",
       "Kent2005_7                    EI   246  \n",
       "Kent2005_8                    EI   302  \n",
       "Kent2005_9                    EI    27  \n",
       "Kent2005_10                   EI   222  \n",
       "KentTauxe2008                 EI   315  \n",
       "Krijgsman2004                 EI   648  \n",
       "Krijgsman2006                 EI   143  \n",
       "Van-Hinsbergen2007_1          EI    42  \n",
       "Van-Hinsbergen2007_2          EI    75  \n",
       "Tauxe2008                     EI   102  \n",
       "Haldan2009_1                  EI   411  \n",
       "Haldan2009_2                  EI   146  \n",
       "Haldan2009_3                  EI   143  \n",
       "Costa2009                     EI   221  \n",
       "Meijers2010                   EI   115  \n",
       "Dupont2010_1                  EI    95  \n",
       "Dupont2010_2                  EI   185  \n",
       "Dupont2010_3                  EI   228  \n",
       "Tan2010                       EI   377  \n",
       "Van-Hinsbergen2010            EI   192  \n",
       "Van-Hinsbergen2012            EI   100  \n",
       "Lanci2013                     EI   136  \n",
       "Huang2013                     EI   119  \n",
       "Tong2013                      EI    85  \n",
       "Kirsher2014_1                 EI   115  \n",
       "Kirsher2014_2                 EI   115  \n",
       "Ding2015_1                    EI   414  \n",
       "Ding2015_2                    EI   137  \n",
       "Huang2015                     EI   117  \n",
       "Chen2017                      EI   174  \n",
       "Meng2017                      EI   223  \n",
       "Tong2017_1                    EI   102  \n",
       "Tong2017_2                    EI   203  \n",
       "Zhang2018_1                   EI   150  \n",
       "Zhang2018_2                   EI   178  \n",
       "Dallanave2018_1               EI   133  \n",
       "Dallanave2018_2               EI    87  \n",
       "Westerweel2019                EI   168  \n",
       "Milanese2019                  EI   119  \n",
       "Vaes2021_1                    EI   128  \n",
       "Vaes2021_2                    EI   145  \n",
       "Vaes2021_3                    EI   129  \n",
       "Vaes2021_4                    EI   137  \n",
       "Vaes2021_5                    EI   156  \n",
       "Vaes2021_6                    EI   133  \n",
       "Vaes2021_7                    EI   113  \n",
       "Vaes2021_8                    EI   167  \n",
       "Vaes2021_9                    EI   167  \n",
       "Li2022                        EI    87  \n",
       "Pierce2022                    EI   157  \n",
       "Kodama1995            anisotropy  None  \n",
       "Kodama1997            anisotropy  None  \n",
       "Tan1998_1             anisotropy  None  \n",
       "Tan1998_2             anisotropy  None  \n",
       "Li2001                anisotropy  None  \n",
       "Tan2003               anisotropy  None  \n",
       "Kim2004               anisotropy  None  \n",
       "Vaughn2005            anisotropy  None  \n",
       "Kodama2009            anisotropy  None  \n",
       "Bilardello2010a       anisotropy  None  \n",
       "Bilardello2010b       anisotropy  None  \n",
       "Bilardello2010c_1     anisotropy  None  \n",
       "Bilardello2010c_2     anisotropy  None  \n",
       "Bilardello2018        anisotropy  None  "
      ]
     },
     "execution_count": 85,
     "metadata": {},
     "output_type": "execute_result"
    }
   ],
   "source": [
    "f_compilation"
   ]
  },
  {
   "cell_type": "code",
   "execution_count": 86,
   "id": "fca058b6-3c17-4f15-b811-e8efa0e463d6",
   "metadata": {},
   "outputs": [
    {
     "data": {
      "text/plain": [
       "(73, 9)"
      ]
     },
     "execution_count": 86,
     "metadata": {},
     "output_type": "execute_result"
    }
   ],
   "source": [
    "f_compilation.shape"
   ]
  },
  {
   "cell_type": "markdown",
   "id": "ec0587cd-5b1c-4992-8265-04ee74421399",
   "metadata": {},
   "source": [
    "## save compilation as a .csv file"
   ]
  },
  {
   "cell_type": "code",
   "execution_count": 87,
   "id": "c87bcb16-2f02-48eb-aa21-9c19765c60a7",
   "metadata": {},
   "outputs": [],
   "source": [
    "# f_compilation.to_csv('../../data/data_compiled/f_compilation.csv', index=1)"
   ]
  },
  {
   "cell_type": "markdown",
   "id": "b51e42ed-e7d3-473f-9dbd-44785426acf7",
   "metadata": {
    "tags": []
   },
   "source": [
    "## fit the f distribution with a normal distribution"
   ]
  },
  {
   "cell_type": "code",
   "execution_count": 88,
   "id": "1e73cda1-7a2f-45fe-9f0f-2842143d5912",
   "metadata": {},
   "outputs": [],
   "source": [
    "mu, std = norm.fit(f_compilation['f'])\n",
    "x = np.linspace(min(f_compilation['f']), max(f_compilation['f']), 100)\n",
    "p = norm.pdf(x, mu, std)"
   ]
  },
  {
   "cell_type": "markdown",
   "id": "e9820356-95de-4359-9b60-0a63dd5d7d6a",
   "metadata": {},
   "source": [
    "## perform the Kolmogorov-Smirnov test"
   ]
  },
  {
   "cell_type": "code",
   "execution_count": 89,
   "id": "4bbb20b1-691b-4cf8-8e81-fdd448c247c8",
   "metadata": {},
   "outputs": [
    {
     "data": {
      "text/plain": [
       "KstestResult(statistic=0.07030006216577933, pvalue=0.8634289031300871)"
      ]
     },
     "execution_count": 89,
     "metadata": {},
     "output_type": "execute_result"
    }
   ],
   "source": [
    "st.kstest(f_compilation['f'], norm(loc=mu, scale=std).cdf)"
   ]
  },
  {
   "cell_type": "markdown",
   "id": "83acd7c9-f848-45d9-84be-a45995be9ff5",
   "metadata": {
    "tags": []
   },
   "source": [
    "## it passes!!"
   ]
  },
  {
   "cell_type": "markdown",
   "id": "d169060f-04bd-4972-aa93-0ef7642ceb9e",
   "metadata": {},
   "source": [
    "# Now let's plot the ditributions"
   ]
  },
  {
   "cell_type": "code",
   "execution_count": 90,
   "id": "b9148bc0-aab5-4af5-af42-5b889b24db75",
   "metadata": {},
   "outputs": [],
   "source": [
    "f_compilation=f_compilation[(f_compilation['n']>=50) | (f_compilation['method']=='anisotropy')]"
   ]
  },
  {
   "cell_type": "code",
   "execution_count": 91,
   "id": "3db057b2-531f-4556-9015-fa78337b7a6c",
   "metadata": {},
   "outputs": [
    {
     "data": {
      "text/plain": [
       "(71, 9)"
      ]
     },
     "execution_count": 91,
     "metadata": {},
     "output_type": "execute_result"
    }
   ],
   "source": [
    "f_compilation.shape"
   ]
  },
  {
   "cell_type": "code",
   "execution_count": 92,
   "id": "ad79289f-ce79-45ad-b09a-63b5cd54e7a4",
   "metadata": {},
   "outputs": [],
   "source": [
    "f_compilation_hematite = f_compilation[f_compilation['mineralogy']=='hematite']\n",
    "f_compilation_magnetite = f_compilation[f_compilation['mineralogy']=='magnetite']\n",
    "f_compilation_mixed = f_compilation[f_compilation['mineralogy']=='mixed']\n",
    "f_compilation_other = f_compilation[f_compilation['mineralogy']!='hematite']"
   ]
  },
  {
   "cell_type": "code",
   "execution_count": 93,
   "id": "54f80bf5-8d91-4725-953c-0c579979a819",
   "metadata": {},
   "outputs": [],
   "source": [
    "all_mu, all_std = norm.fit(f_compilation['f'].tolist())\n",
    "all_x = np.linspace(0,1, 100)\n",
    "all_p = norm.pdf(all_x, all_mu, all_std)"
   ]
  },
  {
   "cell_type": "code",
   "execution_count": 94,
   "id": "b433c0c3-b05d-402a-86ea-91ea73b8fbc4",
   "metadata": {},
   "outputs": [],
   "source": [
    "hem_mu, hem_std = norm.fit(f_compilation_hematite['f'])\n",
    "hem_x = np.linspace(0,1, 100)\n",
    "hem_p = norm.pdf(hem_x, hem_mu, hem_std)"
   ]
  },
  {
   "cell_type": "code",
   "execution_count": 95,
   "id": "c8183845-2fe1-4282-b4e7-8a985878a437",
   "metadata": {},
   "outputs": [],
   "source": [
    "mag_mu, mag_std = norm.fit(f_compilation_magnetite['f'])\n",
    "mag_x = np.linspace(0,1, 100)\n",
    "mag_p = norm.pdf(mag_x, mag_mu, mag_std)"
   ]
  },
  {
   "cell_type": "code",
   "execution_count": 96,
   "id": "bcb4647b-5b67-4280-9c5c-8e511a471f59",
   "metadata": {},
   "outputs": [],
   "source": [
    "mix_mu, mix_std = norm.fit(f_compilation_mixed['f'])\n",
    "mix_x = np.linspace(0,1, 100)\n",
    "mix_p = norm.pdf(mix_x, mix_mu, mix_std)"
   ]
  },
  {
   "cell_type": "code",
   "execution_count": 97,
   "id": "886f2a6f-ef87-434a-a000-51140a17cc15",
   "metadata": {},
   "outputs": [
    {
     "data": {
      "image/png": "[encoded data removed]",
      "text/plain": [
       "<Figure size 288x576 with 1 Axes>"
      ]
     },
     "metadata": {
      "needs_background": "light"
     },
     "output_type": "display_data"
    }
   ],
   "source": [
    "plt.figure(figsize=(4, 8))\n",
    "plt.hist([f_compilation_hematite['f'].tolist(), f_compilation_other['f'].tolist()], \n",
    "         color=['red', 'blue'], edgecolor='k',stacked=1, \n",
    "         alpha=0.4, density=1, orientation='horizontal', label=['hematite' ,'all data'])\n",
    "# f_compilation['f'].hist(bins=np.arange(0, 1 + 0.05, 0.05), grid=0, alpha=0.6, density=1, orientation='horizontal')\n",
    "\n",
    "\n",
    "\n",
    "plt.text(.5,0.18, 'hematite\\n$\\mu$='+str(np.round(hem_mu,2))+'\\n$\\sigma$='+str(np.round(hem_std,2)), color='r', alpha=0.8, fontsize=16)\n",
    "plt.plot(hem_p, hem_x, 'r', alpha=0.8, linewidth=1)\n",
    "\n",
    "plt.text(2.2,0.18, 'all data\\n$\\mu$='+str(np.round(all_mu,2))+'\\n$\\sigma$='+str(np.round(all_std,2)), color='b', alpha=0.8, fontsize=16)\n",
    "plt.plot(all_p, all_x, 'b', alpha=0.8, linewidth=1)\n",
    "\n",
    "plt.xlabel('distribution', fontsize=16)\n",
    "plt.gca().yaxis.tick_right()\n",
    "plt.gca().yaxis.set_label_position(\"right\")\n",
    "plt.xticks(fontsize=16)\n",
    "plt.yticks(fontsize=12)\n",
    "plt.ylim(0,1)\n",
    "plt.legend(loc=8, fontsize=16)\n",
    "# plt.title('all f factors in compilation')\n",
    "# plt.savefig('../code_output/f_compilation.pdf', bbox_inches='tight')\n",
    "plt.show()"
   ]
  },
  {
   "cell_type": "code",
   "execution_count": 98,
   "id": "92974156-4dc6-472e-9ac4-246c93447389",
   "metadata": {},
   "outputs": [
    {
     "data": {
      "image/png": "[encoded data removed]",
      "text/plain": [
       "<Figure size 432x864 with 4 Axes>"
      ]
     },
     "metadata": {
      "needs_background": "light"
     },
     "output_type": "display_data"
    }
   ],
   "source": [
    "fig, (ax1, ax2, ax3, ax4) = plt.subplots(4, 1, sharex=True, sharey=True, figsize=(6,12), )\n",
    "ax1.hist(f_compilation_hematite['f'], density=1, edgecolor='k', color='red', alpha=0.4)\n",
    "ax2.hist(f_compilation_magnetite['f'], density=1, edgecolor='k', color='C0', alpha=0.4)\n",
    "ax3.hist(f_compilation_mixed['f'], density=1, edgecolor='k', color='orange', alpha=0.4)\n",
    "ax4.hist(f_compilation['f'], density=1, edgecolor='k',  color='b', alpha=0.4)\n",
    "\n",
    "ax1.plot(hem_x, hem_p, 'k', linewidth=1)\n",
    "ax2.plot(mag_x, mag_p, 'k', linewidth=1)\n",
    "ax3.plot(mix_x, mix_p, 'k', linewidth=1)\n",
    "ax4.plot(all_x, all_p, 'k', linewidth=1)\n",
    "\n",
    "ax1.text(.1,2, 'hematite\\n$\\mu$='+str(np.round(hem_mu,2))+'\\n$\\sigma$='+str(np.round(hem_std,2)), color='r', alpha=0.8, fontsize=16)\n",
    "ax2.text(.1,2, 'magnetite\\n$\\mu$='+str(np.round(mag_mu,2))+'\\n$\\sigma$='+str(np.round(mag_std,2)), color='C0', alpha=0.8, fontsize=16)\n",
    "ax3.text(.1,2, 'mixed mineralogy\\n$\\mu$='+str(np.round(mix_mu,2))+'\\n$\\sigma$='+str(np.round(mix_std,2)), color='orange', alpha=0.8, fontsize=16)\n",
    "ax4.text(.1,2, 'all data\\n$\\mu$='+str(np.round(all_mu,2))+'\\n$\\sigma$='+str(np.round(all_std,2)), color='b', alpha=0.8, fontsize=16)\n",
    "\n",
    "\n",
    "plt.xlabel('$f$ values', fontsize=16)\n",
    "ax1.set_ylabel('dsitribution', fontsize=16)\n",
    "ax2.set_ylabel('dsitribution', fontsize=16)\n",
    "ax3.set_ylabel('dsitribution', fontsize=16)\n",
    "ax4.set_ylabel('dsitribution', fontsize=16)\n",
    "\n",
    "ax1.set_yticks([0,1,2,3])\n",
    "ax2.set_yticks([0,1,2,3])\n",
    "ax3.set_yticks([0,1,2,3])\n",
    "ax4.set_yticks([0,1,2,3])\n",
    "\n",
    "fig.subplots_adjust(hspace=0)\n",
    "# plt.savefig('../../figures/f_compilation_SI.pdf', bbox_inches='tight')\n",
    "plt.show()"
   ]
  },
  {
   "cell_type": "code",
   "execution_count": null,
   "id": "da2ef398",
   "metadata": {},
   "outputs": [],
   "source": []
  }
 ],
 "metadata": {
  "kernelspec": {
   "display_name": "Python 3",
   "language": "python",
   "name": "python3"
  },
  "language_info": {
   "codemirror_mode": {
    "name": "ipython",
    "version": 3
   },
   "file_extension": ".py",
   "mimetype": "text/x-python",
   "name": "python",
   "nbconvert_exporter": "python",
   "pygments_lexer": "ipython3",
   "version": "3.7.6"
  }
 },
 "nbformat": 4,
 "nbformat_minor": 5
}
