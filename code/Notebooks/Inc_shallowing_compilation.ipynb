{
 "cells": [
  {
   "cell_type": "markdown",
   "metadata": {
    "tags": []
   },
   "source": [
    "# Notebook for compiling inclination shallowing data"
   ]
  },
  {
   "cell_type": "code",
   "execution_count": 1,
   "metadata": {},
   "outputs": [],
   "source": [
    "import numpy as np\n",
    "import pandas as pd\n",
    "import pmagpy.pmag as pmag"
   ]
  },
  {
   "cell_type": "markdown",
   "metadata": {},
   "source": [
    "Let's create an empty dataframe that will be populated with pole means called 'pole_means'.\n",
    "\n",
    "<b>formation | lithology | f | f_min | f_max | ref | mineralogy | method | n | N |</b>\n",
    "\n",
    "<b>formation</b> = Name of formation for which f was estimated <br>\n",
    "<b>lithology</b> = lithology type with categories of 'siliciclastic', 'carbonate', and 'mixed'<br>\n",
    "<b>f</b> = estimated f factor<br>\n",
    "<b>f_min</b> = lower bound on 95% confidence of f<br>\n",
    "<b>f_max</b> = upper bound on 95% confidence of f<br>\n",
    "<b>ref</b> = reference<br>\n",
    "<b>mineralogy</b> = magnetic mineralogy with categories of 'magnetite', 'hematite', and 'greigite'<br>\n",
    "<b>method</b> = method used to estimate f<br>\n",
    "<b>n</b> = number of samples used (for E/I method)<br>"
   ]
  },
  {
   "cell_type": "code",
   "execution_count": 2,
   "metadata": {},
   "outputs": [],
   "source": [
    "f_compilation = pd.DataFrame(columns=['formation','lithology','f','f_min','f_max','ref',\n",
    "                                   'mineralogy','method','n'])"
   ]
  },
  {
   "cell_type": "code",
   "execution_count": 3,
   "metadata": {},
   "outputs": [],
   "source": [
    "def f_calc(Io,Ilow,IEI,Ihigh):\n",
    "    f_EI = [np.round(np.tan(np.radians(Io[i]))/np.tan(np.radians(IEI[i])),2) for i in range(len(Io))]\n",
    "    f_max = [np.round(np.tan(np.radians(Io[i]))/np.tan(np.radians(Ilow[i])),2) for i in range(len(Io))]\n",
    "    f_min = [np.round(np.tan(np.radians(Io[i]))/np.tan(np.radians(Ihigh[i])),2) for i in range(len(Io))]\n",
    "    print(f_EI,f_min,f_max)\n",
    "    return f_EI,f_min,f_max"
   ]
  },
  {
   "cell_type": "markdown",
   "metadata": {},
   "source": [
    "## Li et al. 2022\n",
    "\n",
    "*New paleomagnetic results of the Upper Cretaceous to Lower Eocene sedimentary rocks from the Xigaze forearc basin and their tectonic implications*\n",
    "\n",
    "> \"the magnetic minerals in the samples are mainly magnetite and titanomagnetite.\""
   ]
  },
  {
   "cell_type": "code",
   "execution_count": 4,
   "metadata": {},
   "outputs": [
    {
     "name": "stdout",
     "output_type": "stream",
     "text": [
      "[0.81] [0.62] [0.99]\n"
     ]
    }
   ],
   "source": [
    "Io = [35.7]\n",
    "Ilow = [36.0]\n",
    "IEI = [41.6]\n",
    "Ihigh = [49.0]\n",
    "n = [87]\n",
    "\n",
    "f_EI,f_min,f_max = f_calc(Io,Ilow,IEI,Ihigh)"
   ]
  },
  {
   "cell_type": "code",
   "execution_count": 5,
   "metadata": {},
   "outputs": [],
   "source": [
    "f_compilation.loc['Li2022'] = pd.Series({'formation' : 'Qubeiya and Jialazi Fms',\n",
    "                                          'lithology' : 'mixed',\n",
    "                                           'f' : f_EI[0],\n",
    "                                           'f_min' : f_min[0],\n",
    "                                           'f_max' : f_max[0],\n",
    "                                           'ref' : 'Li et al., 2022',\n",
    "                                           'mineralogy' : 'magnetite',\n",
    "                                           'method' : 'EI',\n",
    "                                           'n' : 87})"
   ]
  },
  {
   "cell_type": "markdown",
   "metadata": {},
   "source": [
    "## Tauxe and Kent, 2004\n"
   ]
  },
  {
   "cell_type": "code",
   "execution_count": 6,
   "metadata": {},
   "outputs": [
    {
     "name": "stdout",
     "output_type": "stream",
     "text": [
      "[0.49] [0.37] [0.64]\n"
     ]
    }
   ],
   "source": [
    "Io = [43.7]\n",
    "Ilow = [56]\n",
    "IEI = [63]\n",
    "Ihigh = [69]\n",
    "n = []\n",
    "\n",
    "Tauxe2004_f = f_calc(Io,Ilow,IEI,Ihigh)"
   ]
  },
  {
   "cell_type": "code",
   "execution_count": 7,
   "metadata": {},
   "outputs": [],
   "source": [
    "f_compilation.loc['Tauxe2004'] = pd.Series({'formation' : 'Subei Fm',\n",
    "                                          'lithology' : 'red beds',\n",
    "                                           'f' : Tauxe2004_f[0][0],\n",
    "                                           'f_min' : Tauxe2004_f[1][0],\n",
    "                                           'f_max' : Tauxe2004_f[2][0],\n",
    "                                           'ref' : 'Tauxe and Kent, 2004',\n",
    "                                           'mineralogy' : 'hematite',\n",
    "                                           'method' : 'EI',\n",
    "                                           'n' : 222})"
   ]
  },
  {
   "cell_type": "markdown",
   "metadata": {},
   "source": [
    "## Vaes et al., 2021"
   ]
  },
  {
   "cell_type": "code",
   "execution_count": 8,
   "metadata": {},
   "outputs": [
    {
     "name": "stdout",
     "output_type": "stream",
     "text": [
      "[0.46, 0.56, 0.64, 0.47, 0.48, 0.44, 0.2, 0.52, 0.65] [0.32, 0.43, 0.48, 0.35, 0.33, 0.31, 0.15, 0.41, 0.51] [0.68, 0.8, 0.84, 0.64, 0.69, 0.62, 0.53, 0.7, 0.84]\n"
     ]
    }
   ],
   "source": [
    "Io = [21.5,25.7, 28.6, 27.4, 27.5, 27.1, 37.0, 26.0, 29.5]\n",
    "Ilow = [30.1, 31.0, 32.9, 39.0, 36.9, 39.4, 54.9, 34.9, 34.0]\n",
    "IEI = [40.8, 40.8, 40.6, 47.8, 47.1, 49.4, 74.8, 43.0, 41.0]\n",
    "Ihigh = [50.5, 48.5, 48.8, 56.3, 57.4, 58.7, 78.4, 50.1, 48.1]\n",
    "n = [128,145,129,137,156,133,113,167,167]\n",
    "\n",
    "Vaes2021_f = f_calc(Io,Ilow,IEI,Ihigh)"
   ]
  },
  {
   "cell_type": "code",
   "execution_count": 9,
   "metadata": {},
   "outputs": [],
   "source": [
    "for i in range(len(Io)):\n",
    "    f_compilation.loc['Vaes2021_'+str(i+1)] = pd.Series({'formation' : 'Gonjo Basin Fm'+str(i+1),\n",
    "                                          'lithology' : 'red beds',\n",
    "                                           'f' : Vaes2021_f[0][i],\n",
    "                                           'f_min' : Vaes2021_f[1][i],\n",
    "                                           'f_max' : Vaes2021_f[2][i],\n",
    "                                           'ref' : 'Vaes et al., 2021',\n",
    "                                           'mineralogy' : 'hematite',\n",
    "                                           'method' : 'EI',\n",
    "                                           'n' : n[i]})"
   ]
  },
  {
   "cell_type": "markdown",
   "metadata": {},
   "source": [
    "## Dupont-Nivet et al., 2008"
   ]
  },
  {
   "cell_type": "code",
   "execution_count": 10,
   "metadata": {},
   "outputs": [
    {
     "name": "stdout",
     "output_type": "stream",
     "text": [
      "[0.78, 0.9, 0.68, 0.63, 0.49, 0.69, 0.91]\n",
      "[1.0, 1.04, 0.78, 0.75, 0.65, 0.9, 0.71]\n",
      "[0.51, 0.72, 0.54, 0.51, 0.37, 0.49, 1.25]\n"
     ]
    }
   ],
   "source": [
    "Io = [45,50,43,44,44,9,-10]\n",
    "Ilow = [45,49,50,52,56,10,-14]\n",
    "IEI = [52,53,54,57,63,13,-11]\n",
    "Ihigh = [63,59,60,62,69,18,-8]\n",
    "\n",
    "print([np.round(np.tan(np.radians(Io[i]))/np.tan(np.radians(IEI[i])),2) for i in range(len(Io))])\n",
    "print([np.round(np.tan(np.radians(Io[i]))/np.tan(np.radians(Ilow[i])),2) for i in range(len(Io))])\n",
    "print([np.round(np.tan(np.radians(Io[i]))/np.tan(np.radians(Ihigh[i])),2) for i in range(len(Io))])"
   ]
  },
  {
   "cell_type": "code",
   "execution_count": null,
   "metadata": {},
   "outputs": [],
   "source": []
  },
  {
   "cell_type": "markdown",
   "metadata": {},
   "source": [
    "## Tauxe 2005 Potwar"
   ]
  },
  {
   "cell_type": "code",
   "execution_count": 11,
   "metadata": {},
   "outputs": [
    {
     "name": "stdout",
     "output_type": "stream",
     "text": [
      "[0.77]\n",
      "[1.11]\n",
      "[0.58]\n"
     ]
    }
   ],
   "source": [
    "Io = [33.7]\n",
    "Ilow = [31]\n",
    "IEI = [41]\n",
    "Ihigh = [49]\n",
    "\n",
    "print([np.round(np.tan(np.radians(Io[i]))/np.tan(np.radians(IEI[i])),2) for i in range(len(Io))])\n",
    "print([np.round(np.tan(np.radians(Io[i]))/np.tan(np.radians(Ilow[i])),2) for i in range(len(Io))])\n",
    "print([np.round(np.tan(np.radians(Io[i]))/np.tan(np.radians(Ihigh[i])),2) for i in range(len(Io))])"
   ]
  },
  {
   "cell_type": "code",
   "execution_count": 12,
   "metadata": {},
   "outputs": [
    {
     "name": "stdout",
     "output_type": "stream",
     "text": [
      "[0.77] [0.58] [1.11]\n"
     ]
    }
   ],
   "source": [
    "Tauxe2005_f = f_calc(Io,Ilow,IEI,Ihigh)"
   ]
  },
  {
   "cell_type": "code",
   "execution_count": 13,
   "metadata": {},
   "outputs": [],
   "source": [
    "f_compilation.loc['Tauxe2005'] = pd.Series({'formation' : 'Potwar',\n",
    "                                          'lithology' : 'red beds',\n",
    "                                           'f' : Tauxe2005_f[0][0],\n",
    "                                           'f_min' : Tauxe2005_f[1][0],\n",
    "                                           'f_max' : Tauxe2005_f[2][0],\n",
    "                                           'ref' : 'Tauxe, 2005',\n",
    "                                           'mineralogy' : 'hematite',\n",
    "                                           'method' : 'EI',\n",
    "                                           'n' : 0})"
   ]
  },
  {
   "cell_type": "markdown",
   "metadata": {},
   "source": [
    "## Kirscher et al., 2014 Kyrgyzstan\n"
   ]
  },
  {
   "cell_type": "code",
   "execution_count": 14,
   "metadata": {},
   "outputs": [
    {
     "name": "stdout",
     "output_type": "stream",
     "text": [
      "[0.58]\n",
      "[0.79]\n",
      "[0.44]\n"
     ]
    }
   ],
   "source": [
    "Io = [-35]\n",
    "Ilow = [-41.4]\n",
    "IEI = [-50.3]\n",
    "Ihigh = [-57.9]\n",
    "\n",
    "print([np.round(np.tan(np.radians(Io[i]))/np.tan(np.radians(IEI[i])),2) for i in range(len(Io))])\n",
    "print([np.round(np.tan(np.radians(Io[i]))/np.tan(np.radians(Ilow[i])),2) for i in range(len(Io))])\n",
    "print([np.round(np.tan(np.radians(Io[i]))/np.tan(np.radians(Ihigh[i])),2) for i in range(len(Io))])"
   ]
  },
  {
   "cell_type": "code",
   "execution_count": 15,
   "metadata": {},
   "outputs": [
    {
     "name": "stdout",
     "output_type": "stream",
     "text": [
      "[0.58] [0.44] [0.79]\n"
     ]
    }
   ],
   "source": [
    "Kirsheretal2014_f = f_calc(Io,Ilow,IEI,Ihigh)"
   ]
  },
  {
   "cell_type": "code",
   "execution_count": 16,
   "metadata": {},
   "outputs": [],
   "source": [
    "f_compilation.loc['Kirsher2014'] = pd.Series({'formation' : 'Sonkuk Basin (DUN)',\n",
    "                                          'lithology' : 'red beds',\n",
    "                                           'f' : Kirsheretal2014_f[0][0],\n",
    "                                           'f_min' : Kirsheretal2014_f[1][0],\n",
    "                                           'f_max' : Kirsheretal2014_f[2][0],\n",
    "                                           'ref' : 'Kirsher et al, 2014',\n",
    "                                           'mineralogy' : 'hematite/magnetite',\n",
    "                                           'method' : 'EI',\n",
    "                                           'n' : 100})"
   ]
  },
  {
   "cell_type": "markdown",
   "metadata": {
    "tags": []
   },
   "source": [
    "## Tan et al., 2010 Lhasa block"
   ]
  },
  {
   "cell_type": "code",
   "execution_count": 17,
   "metadata": {},
   "outputs": [
    {
     "name": "stdout",
     "output_type": "stream",
     "text": [
      "[0.48]\n",
      "[0.52]\n",
      "[0.44]\n"
     ]
    }
   ],
   "source": [
    "Io = [23.5]\n",
    "Ilow = [39.9]\n",
    "IEI = [42.0]\n",
    "Ihigh = [44.5]\n",
    "\n",
    "print([np.round(np.tan(np.radians(Io[i]))/np.tan(np.radians(IEI[i])),2) for i in range(len(Io))])\n",
    "print([np.round(np.tan(np.radians(Io[i]))/np.tan(np.radians(Ilow[i])),2) for i in range(len(Io))])\n",
    "print([np.round(np.tan(np.radians(Io[i]))/np.tan(np.radians(Ihigh[i])),2) for i in range(len(Io))])"
   ]
  },
  {
   "cell_type": "code",
   "execution_count": 18,
   "metadata": {},
   "outputs": [
    {
     "name": "stdout",
     "output_type": "stream",
     "text": [
      "[0.48] [0.44] [0.52]\n"
     ]
    }
   ],
   "source": [
    "Tanetal2010_f = f_calc(Io,Ilow,IEI,Ihigh)"
   ]
  },
  {
   "cell_type": "code",
   "execution_count": 19,
   "metadata": {},
   "outputs": [],
   "source": [
    "f_compilation.loc['Tanetal2010'] = pd.Series({'formation' : 'Shexing',\n",
    "                                          'lithology' : 'red beds',\n",
    "                                           'f' : Tanetal2010_f[0][0],\n",
    "                                           'f_min' : Tanetal2010_f[1][0],\n",
    "                                           'f_max' : Tanetal2010_f[2][0],\n",
    "                                           'ref' : 'Tan et al, 2010',\n",
    "                                           'mineralogy' : 'hematite',\n",
    "                                           'method' : 'EI',\n",
    "                                           'n' : 377})"
   ]
  },
  {
   "cell_type": "markdown",
   "metadata": {},
   "source": [
    "## Kent and Tauxe 2005 Late Triassic Latitudes"
   ]
  },
  {
   "cell_type": "code",
   "execution_count": 20,
   "metadata": {},
   "outputs": [
    {
     "name": "stdout",
     "output_type": "stream",
     "text": [
      "[0.59, 0.57, 0.4, 0.63, 0.66, 0.63, 0.49, 0.49, 0.68, 0.58]\n",
      "[0.74, 1.04, 0.54, 0.76, 0.73, 0.73, 0.59, 0.59, 1.02, 0.81]\n",
      "[0.49, 0.39, 0.33, 0.54, 0.57, 0.53, 0.42, 0.42, 0.59, 0.47]\n"
     ]
    }
   ],
   "source": [
    "Io = [5.9,5.2,8.8,13,14.2,15.7,17.5,18.2,33.4,45.1]\n",
    "Ilow = [8,5,16,17,19,21,28,29,33,51]\n",
    "IEI = [10,9,21,20,21,24,33,34,44,60]\n",
    "Ihigh = [12,13,25,23,24,28,37,38,48,65]\n",
    "n=[333,148,194,308,336,309,246,302,27,222]\n",
    "locality=['Dan River','Princeton','Nursery','Titusville','Rutgers','Somerset','Weston','Martinsville',\"St. Audrie's Bay\",'Jameson Land']\n",
    "\n",
    "print([np.round(np.tan(np.radians(Io[i]))/np.tan(np.radians(IEI[i])),2) for i in range(len(Io))])\n",
    "print([np.round(np.tan(np.radians(Io[i]))/np.tan(np.radians(Ilow[i])),2) for i in range(len(Io))])\n",
    "print([np.round(np.tan(np.radians(Io[i]))/np.tan(np.radians(Ihigh[i])),2) for i in range(len(Io))])"
   ]
  },
  {
   "cell_type": "code",
   "execution_count": 21,
   "metadata": {},
   "outputs": [
    {
     "name": "stdout",
     "output_type": "stream",
     "text": [
      "[0.59, 0.57, 0.4, 0.63, 0.66, 0.63, 0.49, 0.49, 0.68, 0.58] [0.49, 0.39, 0.33, 0.54, 0.57, 0.53, 0.42, 0.42, 0.59, 0.47] [0.74, 1.04, 0.54, 0.76, 0.73, 0.73, 0.59, 0.59, 1.02, 0.81]\n"
     ]
    }
   ],
   "source": [
    "KentTauxe2005_f = f_calc(Io,Ilow,IEI,Ihigh)"
   ]
  },
  {
   "cell_type": "code",
   "execution_count": 22,
   "metadata": {},
   "outputs": [],
   "source": [
    "for i in range(len(Io)):\n",
    "    f_compilation.loc['KentTauxe2005_'+str(i+1)] = pd.Series({'formation' : locality[i],\n",
    "                                          'lithology' : 'red beds',\n",
    "                                           'f' : KentTauxe2005_f[0][i],\n",
    "                                           'f_min' : KentTauxe2005_f[1][i],\n",
    "                                           'f_max' : KentTauxe2005_f[2][i],\n",
    "                                           'ref' : 'Kent and Tauxe, 2005',\n",
    "                                           'mineralogy' : 'hematite',\n",
    "                                           'method' : 'EI',\n",
    "                                           'n' : n[i]})"
   ]
  },
  {
   "cell_type": "markdown",
   "metadata": {
    "tags": []
   },
   "source": [
    "## Hunag et al., 2013 Linzizong"
   ]
  },
  {
   "cell_type": "code",
   "execution_count": 23,
   "metadata": {},
   "outputs": [
    {
     "name": "stdout",
     "output_type": "stream",
     "text": [
      "[0.45]\n",
      "[0.57]\n",
      "[0.32]\n"
     ]
    }
   ],
   "source": [
    "Io = [20.5]\n",
    "Ilow = [33.1]\n",
    "IEI = [40.0]\n",
    "Ihigh = [49.5]\n",
    "\n",
    "print([np.round(np.tan(np.radians(Io[i]))/np.tan(np.radians(IEI[i])),2) for i in range(len(Io))])\n",
    "print([np.round(np.tan(np.radians(Io[i]))/np.tan(np.radians(Ilow[i])),2) for i in range(len(Io))])\n",
    "print([np.round(np.tan(np.radians(Io[i]))/np.tan(np.radians(Ihigh[i])),2) for i in range(len(Io))])"
   ]
  },
  {
   "cell_type": "markdown",
   "metadata": {
    "tags": []
   },
   "source": [
    "## Krijgsman and Tauxe 2004 "
   ]
  },
  {
   "cell_type": "code",
   "execution_count": 24,
   "metadata": {},
   "outputs": [
    {
     "name": "stdout",
     "output_type": "stream",
     "text": [
      "[0.73]\n",
      "[0.84]\n",
      "[0.63]\n"
     ]
    }
   ],
   "source": [
    "Io = [44]\n",
    "Ilow = [49]\n",
    "IEI = [53]\n",
    "Ihigh = [57]\n",
    "\n",
    "print([np.round(np.tan(np.radians(Io[i]))/np.tan(np.radians(IEI[i])),2) for i in range(len(Io))])\n",
    "print([np.round(np.tan(np.radians(Io[i]))/np.tan(np.radians(Ilow[i])),2) for i in range(len(Io))])\n",
    "print([np.round(np.tan(np.radians(Io[i]))/np.tan(np.radians(Ihigh[i])),2) for i in range(len(Io))])"
   ]
  },
  {
   "cell_type": "code",
   "execution_count": 25,
   "metadata": {},
   "outputs": [
    {
     "name": "stdout",
     "output_type": "stream",
     "text": [
      "[0.73] [0.63] [0.84]\n"
     ]
    }
   ],
   "source": [
    "KrijgsmanTauxe2004_f_1 = f_calc(Io,Ilow,IEI,Ihigh)"
   ]
  },
  {
   "cell_type": "code",
   "execution_count": 26,
   "metadata": {},
   "outputs": [],
   "source": [
    "f_compilation.loc['KrijgsmanTauxe2004_1'] = pd.Series({'formation' : 'Calatayud basin',\n",
    "                                          'lithology' : 'red beds',\n",
    "                                           'f' : KrijgsmanTauxe2004_f_1[0][0],\n",
    "                                           'f_min' : KrijgsmanTauxe2004_f_1[1][0],\n",
    "                                           'f_max' : KrijgsmanTauxe2004_f_1[2][0],\n",
    "                                           'ref' : 'Krijgsman and Tauxe, 2004',\n",
    "                                           'mineralogy' : 'mixed',\n",
    "                                           'method' : 'EI',\n",
    "                                           'n': 648})"
   ]
  },
  {
   "cell_type": "code",
   "execution_count": 27,
   "metadata": {},
   "outputs": [
    {
     "name": "stdout",
     "output_type": "stream",
     "text": [
      "[0.74]\n",
      "[0.86]\n",
      "[0.61]\n"
     ]
    }
   ],
   "source": [
    "Io = [45.6]\n",
    "Ilow = [50]\n",
    "IEI = [54]\n",
    "Ihigh = [59]\n",
    "\n",
    "print([np.round(np.tan(np.radians(Io[i]))/np.tan(np.radians(IEI[i])),2) for i in range(len(Io))])\n",
    "print([np.round(np.tan(np.radians(Io[i]))/np.tan(np.radians(Ilow[i])),2) for i in range(len(Io))])\n",
    "print([np.round(np.tan(np.radians(Io[i]))/np.tan(np.radians(Ihigh[i])),2) for i in range(len(Io))])"
   ]
  },
  {
   "cell_type": "code",
   "execution_count": 28,
   "metadata": {},
   "outputs": [
    {
     "name": "stdout",
     "output_type": "stream",
     "text": [
      "[0.74] [0.61] [0.86]\n"
     ]
    }
   ],
   "source": [
    "KrijgsmanTauxe2004_f_2 = f_calc(Io,Ilow,IEI,Ihigh)"
   ]
  },
  {
   "cell_type": "code",
   "execution_count": 29,
   "metadata": {},
   "outputs": [],
   "source": [
    "f_compilation.loc['KrijgsmanTauxe2004_2'] = pd.Series({'formation' : 'Calatayud basin',\n",
    "                                          'lithology' : 'red beds',\n",
    "                                           'f' : KrijgsmanTauxe2004_f_2[0][0],\n",
    "                                           'f_min' : KrijgsmanTauxe2004_f_2[1][0],\n",
    "                                           'f_max' : KrijgsmanTauxe2004_f_2[2][0],\n",
    "                                           'ref' : 'Krijgsman and Tauxe, 2004',\n",
    "                                           'mineralogy' : 'mixed',\n",
    "                                           'method' : 'EI',\n",
    "                                           'n': 686})"
   ]
  },
  {
   "cell_type": "markdown",
   "metadata": {},
   "source": [
    "## Chen et al., 2017"
   ]
  },
  {
   "cell_type": "code",
   "execution_count": 30,
   "metadata": {},
   "outputs": [
    {
     "name": "stdout",
     "output_type": "stream",
     "text": [
      "[0.61]\n",
      "[0.76]\n",
      "[0.49]\n"
     ]
    }
   ],
   "source": [
    "Io = [34.2]\n",
    "Ilow = [41.9]\n",
    "IEI = [47.9]\n",
    "Ihigh = [54.3]\n",
    "\n",
    "print([np.round(np.tan(np.radians(Io[i]))/np.tan(np.radians(IEI[i])),2) for i in range(len(Io))])\n",
    "print([np.round(np.tan(np.radians(Io[i]))/np.tan(np.radians(Ilow[i])),2) for i in range(len(Io))])\n",
    "print([np.round(np.tan(np.radians(Io[i]))/np.tan(np.radians(Ihigh[i])),2) for i in range(len(Io))])"
   ]
  },
  {
   "cell_type": "code",
   "execution_count": 31,
   "metadata": {},
   "outputs": [
    {
     "name": "stdout",
     "output_type": "stream",
     "text": [
      "[0.61] [0.49] [0.76]\n"
     ]
    }
   ],
   "source": [
    "Chenetal2017_f = f_calc(Io,Ilow,IEI,Ihigh)"
   ]
  },
  {
   "cell_type": "code",
   "execution_count": 32,
   "metadata": {},
   "outputs": [],
   "source": [
    "f_compilation.loc['Chenetal2015'] = pd.Series({'formation' : 'Calatayud basin',\n",
    "                                          'lithology' : 'red beds',\n",
    "                                           'f' : Chenetal2017_f[0][0],\n",
    "                                           'f_min' : Chenetal2017_f[1][0],\n",
    "                                           'f_max' : Chenetal2017_f[2][0],\n",
    "                                           'ref' : 'Chen et al, 2017',\n",
    "                                           'mineralogy' : 'mixed',\n",
    "                                           'method' : 'EI',\n",
    "                                           'n':174})"
   ]
  },
  {
   "cell_type": "markdown",
   "metadata": {},
   "source": [
    "## Tauxe et al., 2008"
   ]
  },
  {
   "cell_type": "code",
   "execution_count": 33,
   "metadata": {},
   "outputs": [
    {
     "name": "stdout",
     "output_type": "stream",
     "text": [
      "[0.84]\n",
      "[1.01]\n",
      "[0.5]\n"
     ]
    }
   ],
   "source": [
    "Io = [51.2]\n",
    "Ilow = [50.8]\n",
    "IEI = [56.1]\n",
    "Ihigh = [68.2]\n",
    "\n",
    "print([np.round(np.tan(np.radians(Io[i]))/np.tan(np.radians(IEI[i])),2) for i in range(len(Io))])\n",
    "print([np.round(np.tan(np.radians(Io[i]))/np.tan(np.radians(Ilow[i])),2) for i in range(len(Io))])\n",
    "print([np.round(np.tan(np.radians(Io[i]))/np.tan(np.radians(Ihigh[i])),2) for i in range(len(Io))])"
   ]
  },
  {
   "cell_type": "code",
   "execution_count": 34,
   "metadata": {},
   "outputs": [
    {
     "name": "stdout",
     "output_type": "stream",
     "text": [
      "[0.84] [0.5] [1.01]\n"
     ]
    }
   ],
   "source": [
    "Tauxeetal2008_f = f_calc(Io,Ilow,IEI,Ihigh)"
   ]
  },
  {
   "cell_type": "code",
   "execution_count": 35,
   "metadata": {},
   "outputs": [],
   "source": [
    "f_compilation.loc['Tauxeetal2008'] = pd.Series({'formation' : 'Nacimiento',\n",
    "                                          'lithology' : 'red beds',\n",
    "                                           'f' : Tauxeetal2008_f[0][0],\n",
    "                                           'f_min' : Tauxeetal2008_f[1][0],\n",
    "                                           'f_max' : Tauxeetal2008_f[2][0],\n",
    "                                           'ref' : 'Chen et al, 2015',\n",
    "                                           'mineralogy' : 'mixed',\n",
    "                                           'method' : 'EI',\n",
    "                                           'n':102})"
   ]
  },
  {
   "cell_type": "markdown",
   "metadata": {},
   "source": [
    "## Gong et al., 2008"
   ]
  },
  {
   "cell_type": "code",
   "execution_count": 36,
   "metadata": {},
   "outputs": [
    {
     "name": "stdout",
     "output_type": "stream",
     "text": [
      "[0.94, 0.93, 0.95, 0.94, 0.96, 0.95, 0.95, 0.97, 0.93]\n",
      "[1.01, 1.03, 1.01, 1.01, 1.03, 1.01, 1.01, 1.01, 1.0]\n",
      "[0.56, 0.61, 0.6, 0.69, 0.7, 0.61, 0.6, 0.63, 0.5]\n"
     ]
    }
   ],
   "source": [
    "Io = [45.4,45.9,45.2,49.9,55.3,55.1,52.9,56.7,57.2]\n",
    "Ilow = [45,45.1,44.9,49.7,54.4,54.8,52.7,56.4,57.3]\n",
    "IEI = [47.2,48.1,46.8,51.7,56.3,56.5,54.3,57.5,59.1]\n",
    "Ihigh = [61.2,59.6,59.3,59.9,64.2,67,65.6,67.6,72.3]\n",
    "\n",
    "print([np.round(np.tan(np.radians(Io[i]))/np.tan(np.radians(IEI[i])),2) for i in range(len(Io))])\n",
    "print([np.round(np.tan(np.radians(Io[i]))/np.tan(np.radians(Ilow[i])),2) for i in range(len(Io))])\n",
    "print([np.round(np.tan(np.radians(Io[i]))/np.tan(np.radians(Ihigh[i])),2) for i in range(len(Io))])"
   ]
  },
  {
   "cell_type": "markdown",
   "metadata": {},
   "source": [
    "## Costa et al., 2009"
   ]
  },
  {
   "cell_type": "code",
   "execution_count": 37,
   "metadata": {},
   "outputs": [
    {
     "name": "stdout",
     "output_type": "stream",
     "text": [
      "[0.58]\n",
      "[0.77]\n",
      "[0.42]\n"
     ]
    }
   ],
   "source": [
    "Io = [41]\n",
    "Ilow = [48.4]\n",
    "IEI = [56.2]\n",
    "Ihigh = [64.2]\n",
    "\n",
    "print([np.round(np.tan(np.radians(Io[i]))/np.tan(np.radians(IEI[i])),2) for i in range(len(Io))])\n",
    "print([np.round(np.tan(np.radians(Io[i]))/np.tan(np.radians(Ilow[i])),2) for i in range(len(Io))])\n",
    "print([np.round(np.tan(np.radians(Io[i]))/np.tan(np.radians(Ihigh[i])),2) for i in range(len(Io))])"
   ]
  },
  {
   "cell_type": "code",
   "execution_count": 38,
   "metadata": {},
   "outputs": [
    {
     "name": "stdout",
     "output_type": "stream",
     "text": [
      "[0.58] [0.42] [0.77]\n"
     ]
    }
   ],
   "source": [
    "Costaetal2009_f = f_calc(Io,Ilow,IEI,Ihigh)"
   ]
  },
  {
   "cell_type": "code",
   "execution_count": 39,
   "metadata": {},
   "outputs": [],
   "source": [
    "f_compilation.loc['Costaetal2009'] = pd.Series({'formation' : 'Artes',\n",
    "                                          'lithology' : 'red beds',\n",
    "                                           'f' : Costaetal2009_f[0][0],\n",
    "                                           'f_min' : Costaetal2009_f[1][0],\n",
    "                                           'f_max' : Costaetal2009_f[2][0],\n",
    "                                           'ref' : 'Costa et al, 2009',\n",
    "                                           'mineralogy' : 'hematite',\n",
    "                                           'method' : 'EI',\n",
    "                                           'n':221})"
   ]
  },
  {
   "cell_type": "markdown",
   "metadata": {},
   "source": [
    "## Agnini et al., 2011"
   ]
  },
  {
   "cell_type": "code",
   "execution_count": 40,
   "metadata": {},
   "outputs": [
    {
     "name": "stdout",
     "output_type": "stream",
     "text": [
      "[0.62]\n",
      "[0.92]\n",
      "[0.32]\n"
     ]
    }
   ],
   "source": [
    "Io = [39.5]\n",
    "Ilow = [42]\n",
    "IEI = [53]\n",
    "Ihigh = [69]\n",
    "\n",
    "print([np.round(np.tan(np.radians(Io[i]))/np.tan(np.radians(IEI[i])),2) for i in range(len(Io))])\n",
    "print([np.round(np.tan(np.radians(Io[i]))/np.tan(np.radians(Ilow[i])),2) for i in range(len(Io))])\n",
    "print([np.round(np.tan(np.radians(Io[i]))/np.tan(np.radians(Ihigh[i])),2) for i in range(len(Io))])"
   ]
  },
  {
   "cell_type": "code",
   "execution_count": 41,
   "metadata": {},
   "outputs": [
    {
     "name": "stdout",
     "output_type": "stream",
     "text": [
      "[0.62] [0.32] [0.92]\n"
     ]
    }
   ],
   "source": [
    "Agninietal2011_f = f_calc(Io,Ilow,IEI,Ihigh)"
   ]
  },
  {
   "cell_type": "code",
   "execution_count": 42,
   "metadata": {},
   "outputs": [],
   "source": [
    "f_compilation.loc['Agninietal2011'] = pd.Series({'formation' : 'Alano section',\n",
    "                                          'lithology' : 'carbonates',\n",
    "                                           'f' : Agninietal2011_f[0][0],\n",
    "                                           'f_min' : Agninietal2011_f[1][0],\n",
    "                                           'f_max' : Agninietal2011_f[2][0],\n",
    "                                           'ref' : 'Agnini et al, 2011',\n",
    "                                           'mineralogy' : 'magnetite',\n",
    "                                           'method' : 'EI',\n",
    "                                           'n':159})"
   ]
  },
  {
   "cell_type": "markdown",
   "metadata": {},
   "source": [
    "## Borgh et al., 2013"
   ]
  },
  {
   "cell_type": "code",
   "execution_count": 43,
   "metadata": {},
   "outputs": [
    {
     "name": "stdout",
     "output_type": "stream",
     "text": [
      "[0.74]\n",
      "[0.97]\n",
      "[0.34]\n"
     ]
    }
   ],
   "source": [
    "Io = [58.5]\n",
    "Ilow = [59.3]\n",
    "IEI = [65.5]\n",
    "Ihigh = [78.1]\n",
    "\n",
    "print([np.round(np.tan(np.radians(Io[i]))/np.tan(np.radians(IEI[i])),2) for i in range(len(Io))])\n",
    "print([np.round(np.tan(np.radians(Io[i]))/np.tan(np.radians(Ilow[i])),2) for i in range(len(Io))])\n",
    "print([np.round(np.tan(np.radians(Io[i]))/np.tan(np.radians(Ihigh[i])),2) for i in range(len(Io))])"
   ]
  },
  {
   "cell_type": "code",
   "execution_count": 44,
   "metadata": {},
   "outputs": [
    {
     "name": "stdout",
     "output_type": "stream",
     "text": [
      "[0.74] [0.34] [0.97]\n"
     ]
    }
   ],
   "source": [
    "Borghetal2013_f = f_calc(Io,Ilow,IEI,Ihigh)"
   ]
  },
  {
   "cell_type": "code",
   "execution_count": 45,
   "metadata": {},
   "outputs": [],
   "source": [
    "f_compilation.loc['Borghetal2013'] = pd.Series({'formation' : 'Pannonian basin',\n",
    "                                          'lithology' : 'mixed (marl/sand)',\n",
    "                                           'f' : Borghetal2013_f[0][0],\n",
    "                                           'f_min' : Borghetal2013_f[1][0],\n",
    "                                           'f_max' : Borghetal2013_f[2][0],\n",
    "                                           'ref' : 'Borgh et al, 2013',\n",
    "                                           'mineralogy' : 'magnetite',\n",
    "                                           'method' : 'EI',\n",
    "                                           'n':800})"
   ]
  },
  {
   "cell_type": "markdown",
   "metadata": {},
   "source": [
    "## Huang et al., 2015"
   ]
  },
  {
   "cell_type": "code",
   "execution_count": 46,
   "metadata": {},
   "outputs": [
    {
     "name": "stdout",
     "output_type": "stream",
     "text": [
      "[0.51]\n",
      "[0.65]\n",
      "[0.39]\n"
     ]
    }
   ],
   "source": [
    "Io = [16.6]\n",
    "Ilow = [24.8]\n",
    "IEI = [30.2]\n",
    "Ihigh = [37.3]\n",
    "\n",
    "print([np.round(np.tan(np.radians(Io[i]))/np.tan(np.radians(IEI[i])),2) for i in range(len(Io))])\n",
    "print([np.round(np.tan(np.radians(Io[i]))/np.tan(np.radians(Ilow[i])),2) for i in range(len(Io))])\n",
    "print([np.round(np.tan(np.radians(Io[i]))/np.tan(np.radians(Ihigh[i])),2) for i in range(len(Io))])"
   ]
  },
  {
   "cell_type": "code",
   "execution_count": 47,
   "metadata": {},
   "outputs": [
    {
     "name": "stdout",
     "output_type": "stream",
     "text": [
      "[0.51] [0.39] [0.65]\n"
     ]
    }
   ],
   "source": [
    "Huangetal2015_f = f_calc(Io,Ilow,IEI,Ihigh)"
   ]
  },
  {
   "cell_type": "code",
   "execution_count": 48,
   "metadata": {},
   "outputs": [],
   "source": [
    "f_compilation.loc['Huangetal2015'] = pd.Series({'formation' : 'Pannonian basin',\n",
    "                                          'lithology' : 'red beds',\n",
    "                                           'f' : Huangetal2015_f[0][0],\n",
    "                                           'f_min' : Huangetal2015_f[1][0],\n",
    "                                           'f_max' : Huangetal2015_f[2][0],\n",
    "                                           'ref' : 'Huang et al, 2015',\n",
    "                                           'mineralogy' : 'hematite',\n",
    "                                           'method' : 'EI',\n",
    "                                           'n':64})"
   ]
  },
  {
   "cell_type": "markdown",
   "metadata": {},
   "source": [
    "## Lanci et al., 2013"
   ]
  },
  {
   "cell_type": "code",
   "execution_count": 49,
   "metadata": {},
   "outputs": [
    {
     "name": "stdout",
     "output_type": "stream",
     "text": [
      "[0.7]\n",
      "[0.9]\n",
      "[0.41]\n"
     ]
    }
   ],
   "source": [
    "Io = [53]\n",
    "Ilow = [56]\n",
    "IEI = [62.2]\n",
    "Ihigh = [73]\n",
    "\n",
    "print([np.round(np.tan(np.radians(Io[i]))/np.tan(np.radians(IEI[i])),2) for i in range(len(Io))])\n",
    "print([np.round(np.tan(np.radians(Io[i]))/np.tan(np.radians(Ilow[i])),2) for i in range(len(Io))])\n",
    "print([np.round(np.tan(np.radians(Io[i]))/np.tan(np.radians(Ihigh[i])),2) for i in range(len(Io))])"
   ]
  },
  {
   "cell_type": "code",
   "execution_count": 50,
   "metadata": {},
   "outputs": [
    {
     "name": "stdout",
     "output_type": "stream",
     "text": [
      "[0.7] [0.41] [0.9]\n"
     ]
    }
   ],
   "source": [
    "Lancietal2013_f = f_calc(Io,Ilow,IEI,Ihigh)"
   ]
  },
  {
   "cell_type": "code",
   "execution_count": 53,
   "metadata": {},
   "outputs": [],
   "source": [
    "f_compilation.loc['Lancietal2013'] = pd.Series({'formation' : 'Waterford and Abrahamskraal',\n",
    "                                          'lithology' : 'mixed siliclastics',\n",
    "                                           'f' : Lancietal2013_f[0][0],\n",
    "                                           'f_min' : Lancietal2013_f[1][0],\n",
    "                                           'f_max' : Lancietal2013_f[2][0],\n",
    "                                           'ref' : 'Lanci et al, 2013',\n",
    "                                           'mineralogy' : 'magnetite',\n",
    "                                           'method' : 'EI',\n",
    "                                           'n':136})"
   ]
  },
  {
   "cell_type": "markdown",
   "metadata": {
    "tags": []
   },
   "source": [
    "## Kent and Olsen, 2008"
   ]
  },
  {
   "cell_type": "code",
   "execution_count": 55,
   "metadata": {},
   "outputs": [
    {
     "name": "stdout",
     "output_type": "stream",
     "text": [
      "[0.54]\n",
      "[0.62]\n",
      "[0.48]\n"
     ]
    }
   ],
   "source": [
    "Io = [21.1]\n",
    "Ilow = [32]\n",
    "IEI = [35.5]\n",
    "Ihigh = [39]\n",
    "\n",
    "print([np.round(np.tan(np.radians(Io[i]))/np.tan(np.radians(IEI[i])),2) for i in range(len(Io))])\n",
    "print([np.round(np.tan(np.radians(Io[i]))/np.tan(np.radians(Ilow[i])),2) for i in range(len(Io))])\n",
    "print([np.round(np.tan(np.radians(Io[i]))/np.tan(np.radians(Ihigh[i])),2) for i in range(len(Io))])"
   ]
  },
  {
   "cell_type": "code",
   "execution_count": 56,
   "metadata": {},
   "outputs": [
    {
     "name": "stdout",
     "output_type": "stream",
     "text": [
      "[0.54] [0.48] [0.62]\n"
     ]
    }
   ],
   "source": [
    "KentOlsen2008_f = f_calc(Io,Ilow,IEI,Ihigh)"
   ]
  },
  {
   "cell_type": "code",
   "execution_count": 57,
   "metadata": {},
   "outputs": [],
   "source": [
    "f_compilation.loc['KentOlsen2008'] = pd.Series({'formation' : 'Shuttle Meadow, East Berline, and Portland',\n",
    "                                          'lithology' : 'mixed',\n",
    "                                           'f' : KentOlsen2008_f[0][0],\n",
    "                                           'f_min' : KentOlsen2008_f[1][0],\n",
    "                                           'f_max' : KentOlsen2008_f[2][0],\n",
    "                                           'ref' : 'Kent and Olsen, 2008',\n",
    "                                           'mineralogy' : 'hematite',\n",
    "                                           'method' : 'EI',\n",
    "                                           'n':315})"
   ]
  },
  {
   "cell_type": "markdown",
   "metadata": {
    "tags": []
   },
   "source": [
    "## Tong et al., 2013"
   ]
  },
  {
   "cell_type": "code",
   "execution_count": 59,
   "metadata": {},
   "outputs": [
    {
     "name": "stdout",
     "output_type": "stream",
     "text": [
      "[0.45]\n",
      "[0.55]\n",
      "[0.38]\n"
     ]
    }
   ],
   "source": [
    "Io = [23.6]\n",
    "Ilow = [38.3]\n",
    "IEI = [44.1]\n",
    "Ihigh = [49.3]\n",
    "\n",
    "print([np.round(np.tan(np.radians(Io[i]))/np.tan(np.radians(IEI[i])),2) for i in range(len(Io))])\n",
    "print([np.round(np.tan(np.radians(Io[i]))/np.tan(np.radians(Ilow[i])),2) for i in range(len(Io))])\n",
    "print([np.round(np.tan(np.radians(Io[i]))/np.tan(np.radians(Ihigh[i])),2) for i in range(len(Io))])"
   ]
  },
  {
   "cell_type": "code",
   "execution_count": 60,
   "metadata": {},
   "outputs": [
    {
     "name": "stdout",
     "output_type": "stream",
     "text": [
      "[0.45] [0.38] [0.55]\n"
     ]
    }
   ],
   "source": [
    "Tongetal2013_f = f_calc(Io,Ilow,IEI,Ihigh)"
   ]
  },
  {
   "cell_type": "code",
   "execution_count": 95,
   "metadata": {},
   "outputs": [],
   "source": [
    "f_compilation.loc['Tongetal2013'] = pd.Series({'formation' : 'Mengban and Mengla',\n",
    "                                          'lithology' : 'red beds',\n",
    "                                           'f' : Tongetal2013_f[0][0],\n",
    "                                           'f_min' : Tongetal2013_f[1][0],\n",
    "                                           'f_max' : Tongetal2013_f[2][0],\n",
    "                                           'ref' : 'Tong et al, 2013',\n",
    "                                           'mineralogy' : 'hematite',\n",
    "                                           'method' : 'EI',\n",
    "                                           'n':23})\n",
    "\n",
    "#paper does not state number of samples. Only number of sites which is 23. They used far more in the e/i calculation, looking at the figure."
   ]
  },
  {
   "cell_type": "markdown",
   "metadata": {
    "tags": []
   },
   "source": [
    "## Channell et al., 2010"
   ]
  },
  {
   "cell_type": "code",
   "execution_count": 96,
   "metadata": {},
   "outputs": [
    {
     "name": "stdout",
     "output_type": "stream",
     "text": [
      "[0.76, 0.99, 0.95, 0.91, 0.89, 0.89, 0.84, 0.84, 0.96]\n"
     ]
    }
   ],
   "source": [
    "Io = [29.9, 54.5, 54.6, 34.8,28.5,36.3, 35,30,30.7]\n",
    "Plat_EI = [20.6,35.4,36.5,20.9,17,22.4,22.7,19,17.2]\n",
    "IEI = pmag.pinc(Plat_EI)\n",
    "n =[249,83,85,58,87,135,113,122,97]\n",
    "Ilow=[0,0,0,0,0,0,0,0,0]\n",
    "Ihigh=[0,0,0,0,0,0,0,0,0]\n",
    "locality=['Torre de Busi', 'Colle di Sogno','Colle di Sogno','Colme di Vignola','Colme di Vignola','Foza A','Frisoni A','Frisoni A','Sciapala']\n",
    "print([np.round(np.tan(np.radians(Io[i]))/np.tan(np.radians(IEI[i])),2) for i in range(len(Io))])"
   ]
  },
  {
   "cell_type": "code",
   "execution_count": null,
   "metadata": {},
   "outputs": [],
   "source": []
  },
  {
   "cell_type": "code",
   "execution_count": 97,
   "metadata": {},
   "outputs": [
    {
     "name": "stdout",
     "output_type": "stream",
     "text": [
      "[0.76, 0.99, 0.95, 0.91, 0.89, 0.89, 0.84, 0.84, 0.96] [inf, inf, inf, inf, inf, inf, inf, inf, inf] [inf, inf, inf, inf, inf, inf, inf, inf, inf]\n"
     ]
    }
   ],
   "source": [
    "Channelletal2010_f = f_calc(Io,Ilow,IEI,Ihigh)"
   ]
  },
  {
   "cell_type": "code",
   "execution_count": 98,
   "metadata": {},
   "outputs": [],
   "source": [
    "for i in range(len(Io)):\n",
    "    f_compilation.loc['Channelletal2010_'+str(i+1)] = pd.Series({'formation' : locality[i],\n",
    "                                          'lithology' : 'red beds',\n",
    "                                           'f' : Channelletal2010_f[0][i],\n",
    "                                           'ref' : 'Channell et al, 2010',\n",
    "                                           'mineralogy' : 'hematite',\n",
    "                                           'method' : 'EI',\n",
    "                                           'n' : n[i]})"
   ]
  },
  {
   "cell_type": "code",
   "execution_count": 99,
   "metadata": {},
   "outputs": [
    {
     "data": {
      "text/html": [
       "<div>\n",
       "<style scoped>\n",
       "    .dataframe tbody tr th:only-of-type {\n",
       "        vertical-align: middle;\n",
       "    }\n",
       "\n",
       "    .dataframe tbody tr th {\n",
       "        vertical-align: top;\n",
       "    }\n",
       "\n",
       "    .dataframe thead th {\n",
       "        text-align: right;\n",
       "    }\n",
       "</style>\n",
       "<table border=\"1\" class=\"dataframe\">\n",
       "  <thead>\n",
       "    <tr style=\"text-align: right;\">\n",
       "      <th></th>\n",
       "      <th>formation</th>\n",
       "      <th>lithology</th>\n",
       "      <th>f</th>\n",
       "      <th>f_min</th>\n",
       "      <th>f_max</th>\n",
       "      <th>ref</th>\n",
       "      <th>mineralogy</th>\n",
       "      <th>method</th>\n",
       "      <th>n</th>\n",
       "    </tr>\n",
       "  </thead>\n",
       "  <tbody>\n",
       "    <tr>\n",
       "      <th>Li2022</th>\n",
       "      <td>Qubeiya and Jialazi Fms</td>\n",
       "      <td>mixed</td>\n",
       "      <td>0.81</td>\n",
       "      <td>0.62</td>\n",
       "      <td>0.99</td>\n",
       "      <td>Li et al., 2022</td>\n",
       "      <td>magnetite</td>\n",
       "      <td>EI</td>\n",
       "      <td>87</td>\n",
       "    </tr>\n",
       "    <tr>\n",
       "      <th>Tauxe2004</th>\n",
       "      <td>Subei Fm</td>\n",
       "      <td>red beds</td>\n",
       "      <td>0.49</td>\n",
       "      <td>0.37</td>\n",
       "      <td>0.64</td>\n",
       "      <td>Tauxe and Kent, 2004</td>\n",
       "      <td>hematite</td>\n",
       "      <td>EI</td>\n",
       "      <td>222</td>\n",
       "    </tr>\n",
       "    <tr>\n",
       "      <th>Vaes2021_1</th>\n",
       "      <td>Gonjo Basin Fm1</td>\n",
       "      <td>red beds</td>\n",
       "      <td>0.46</td>\n",
       "      <td>0.32</td>\n",
       "      <td>0.68</td>\n",
       "      <td>Vaes et al., 2021</td>\n",
       "      <td>hematite</td>\n",
       "      <td>EI</td>\n",
       "      <td>128</td>\n",
       "    </tr>\n",
       "    <tr>\n",
       "      <th>Vaes2021_2</th>\n",
       "      <td>Gonjo Basin Fm2</td>\n",
       "      <td>red beds</td>\n",
       "      <td>0.56</td>\n",
       "      <td>0.43</td>\n",
       "      <td>0.80</td>\n",
       "      <td>Vaes et al., 2021</td>\n",
       "      <td>hematite</td>\n",
       "      <td>EI</td>\n",
       "      <td>145</td>\n",
       "    </tr>\n",
       "    <tr>\n",
       "      <th>Vaes2021_3</th>\n",
       "      <td>Gonjo Basin Fm3</td>\n",
       "      <td>red beds</td>\n",
       "      <td>0.64</td>\n",
       "      <td>0.48</td>\n",
       "      <td>0.84</td>\n",
       "      <td>Vaes et al., 2021</td>\n",
       "      <td>hematite</td>\n",
       "      <td>EI</td>\n",
       "      <td>129</td>\n",
       "    </tr>\n",
       "    <tr>\n",
       "      <th>Vaes2021_4</th>\n",
       "      <td>Gonjo Basin Fm4</td>\n",
       "      <td>red beds</td>\n",
       "      <td>0.47</td>\n",
       "      <td>0.35</td>\n",
       "      <td>0.64</td>\n",
       "      <td>Vaes et al., 2021</td>\n",
       "      <td>hematite</td>\n",
       "      <td>EI</td>\n",
       "      <td>137</td>\n",
       "    </tr>\n",
       "    <tr>\n",
       "      <th>Vaes2021_5</th>\n",
       "      <td>Gonjo Basin Fm5</td>\n",
       "      <td>red beds</td>\n",
       "      <td>0.48</td>\n",
       "      <td>0.33</td>\n",
       "      <td>0.69</td>\n",
       "      <td>Vaes et al., 2021</td>\n",
       "      <td>hematite</td>\n",
       "      <td>EI</td>\n",
       "      <td>156</td>\n",
       "    </tr>\n",
       "    <tr>\n",
       "      <th>Vaes2021_6</th>\n",
       "      <td>Gonjo Basin Fm6</td>\n",
       "      <td>red beds</td>\n",
       "      <td>0.44</td>\n",
       "      <td>0.31</td>\n",
       "      <td>0.62</td>\n",
       "      <td>Vaes et al., 2021</td>\n",
       "      <td>hematite</td>\n",
       "      <td>EI</td>\n",
       "      <td>133</td>\n",
       "    </tr>\n",
       "    <tr>\n",
       "      <th>Vaes2021_7</th>\n",
       "      <td>Gonjo Basin Fm7</td>\n",
       "      <td>red beds</td>\n",
       "      <td>0.20</td>\n",
       "      <td>0.15</td>\n",
       "      <td>0.53</td>\n",
       "      <td>Vaes et al., 2021</td>\n",
       "      <td>hematite</td>\n",
       "      <td>EI</td>\n",
       "      <td>113</td>\n",
       "    </tr>\n",
       "    <tr>\n",
       "      <th>Vaes2021_8</th>\n",
       "      <td>Gonjo Basin Fm8</td>\n",
       "      <td>red beds</td>\n",
       "      <td>0.52</td>\n",
       "      <td>0.41</td>\n",
       "      <td>0.70</td>\n",
       "      <td>Vaes et al., 2021</td>\n",
       "      <td>hematite</td>\n",
       "      <td>EI</td>\n",
       "      <td>167</td>\n",
       "    </tr>\n",
       "    <tr>\n",
       "      <th>Vaes2021_9</th>\n",
       "      <td>Gonjo Basin Fm9</td>\n",
       "      <td>red beds</td>\n",
       "      <td>0.65</td>\n",
       "      <td>0.51</td>\n",
       "      <td>0.84</td>\n",
       "      <td>Vaes et al., 2021</td>\n",
       "      <td>hematite</td>\n",
       "      <td>EI</td>\n",
       "      <td>167</td>\n",
       "    </tr>\n",
       "    <tr>\n",
       "      <th>Tauxe2005</th>\n",
       "      <td>Potwar</td>\n",
       "      <td>red beds</td>\n",
       "      <td>0.77</td>\n",
       "      <td>0.58</td>\n",
       "      <td>1.11</td>\n",
       "      <td>Tauxe, 2005</td>\n",
       "      <td>hematite</td>\n",
       "      <td>EI</td>\n",
       "      <td>0</td>\n",
       "    </tr>\n",
       "    <tr>\n",
       "      <th>Kirsher2014</th>\n",
       "      <td>Sonkuk Basin (DUN)</td>\n",
       "      <td>red beds</td>\n",
       "      <td>0.58</td>\n",
       "      <td>0.44</td>\n",
       "      <td>0.79</td>\n",
       "      <td>Kirsher et al, 2014</td>\n",
       "      <td>hematite/magnetite</td>\n",
       "      <td>EI</td>\n",
       "      <td>100</td>\n",
       "    </tr>\n",
       "    <tr>\n",
       "      <th>Tanetal2010</th>\n",
       "      <td>Shexing</td>\n",
       "      <td>red beds</td>\n",
       "      <td>0.48</td>\n",
       "      <td>0.44</td>\n",
       "      <td>0.52</td>\n",
       "      <td>Tan et al, 2010</td>\n",
       "      <td>hematite</td>\n",
       "      <td>EI</td>\n",
       "      <td>377</td>\n",
       "    </tr>\n",
       "    <tr>\n",
       "      <th>KentTauxe2005_1</th>\n",
       "      <td>Dan River</td>\n",
       "      <td>red beds</td>\n",
       "      <td>0.59</td>\n",
       "      <td>0.49</td>\n",
       "      <td>0.74</td>\n",
       "      <td>Kent and Tauxe, 2005</td>\n",
       "      <td>hematite</td>\n",
       "      <td>EI</td>\n",
       "      <td>333</td>\n",
       "    </tr>\n",
       "    <tr>\n",
       "      <th>KentTauxe2005_2</th>\n",
       "      <td>Princeton</td>\n",
       "      <td>red beds</td>\n",
       "      <td>0.57</td>\n",
       "      <td>0.39</td>\n",
       "      <td>1.04</td>\n",
       "      <td>Kent and Tauxe, 2005</td>\n",
       "      <td>hematite</td>\n",
       "      <td>EI</td>\n",
       "      <td>148</td>\n",
       "    </tr>\n",
       "    <tr>\n",
       "      <th>KentTauxe2005_3</th>\n",
       "      <td>Nursery</td>\n",
       "      <td>red beds</td>\n",
       "      <td>0.40</td>\n",
       "      <td>0.33</td>\n",
       "      <td>0.54</td>\n",
       "      <td>Kent and Tauxe, 2005</td>\n",
       "      <td>hematite</td>\n",
       "      <td>EI</td>\n",
       "      <td>194</td>\n",
       "    </tr>\n",
       "    <tr>\n",
       "      <th>KentTauxe2005_4</th>\n",
       "      <td>Titusville</td>\n",
       "      <td>red beds</td>\n",
       "      <td>0.63</td>\n",
       "      <td>0.54</td>\n",
       "      <td>0.76</td>\n",
       "      <td>Kent and Tauxe, 2005</td>\n",
       "      <td>hematite</td>\n",
       "      <td>EI</td>\n",
       "      <td>308</td>\n",
       "    </tr>\n",
       "    <tr>\n",
       "      <th>KentTauxe2005_5</th>\n",
       "      <td>Rutgers</td>\n",
       "      <td>red beds</td>\n",
       "      <td>0.66</td>\n",
       "      <td>0.57</td>\n",
       "      <td>0.73</td>\n",
       "      <td>Kent and Tauxe, 2005</td>\n",
       "      <td>hematite</td>\n",
       "      <td>EI</td>\n",
       "      <td>336</td>\n",
       "    </tr>\n",
       "    <tr>\n",
       "      <th>KentTauxe2005_6</th>\n",
       "      <td>Somerset</td>\n",
       "      <td>red beds</td>\n",
       "      <td>0.63</td>\n",
       "      <td>0.53</td>\n",
       "      <td>0.73</td>\n",
       "      <td>Kent and Tauxe, 2005</td>\n",
       "      <td>hematite</td>\n",
       "      <td>EI</td>\n",
       "      <td>309</td>\n",
       "    </tr>\n",
       "    <tr>\n",
       "      <th>KentTauxe2005_7</th>\n",
       "      <td>Weston</td>\n",
       "      <td>red beds</td>\n",
       "      <td>0.49</td>\n",
       "      <td>0.42</td>\n",
       "      <td>0.59</td>\n",
       "      <td>Kent and Tauxe, 2005</td>\n",
       "      <td>hematite</td>\n",
       "      <td>EI</td>\n",
       "      <td>246</td>\n",
       "    </tr>\n",
       "    <tr>\n",
       "      <th>KentTauxe2005_8</th>\n",
       "      <td>Martinsville</td>\n",
       "      <td>red beds</td>\n",
       "      <td>0.49</td>\n",
       "      <td>0.42</td>\n",
       "      <td>0.59</td>\n",
       "      <td>Kent and Tauxe, 2005</td>\n",
       "      <td>hematite</td>\n",
       "      <td>EI</td>\n",
       "      <td>302</td>\n",
       "    </tr>\n",
       "    <tr>\n",
       "      <th>KentTauxe2005_9</th>\n",
       "      <td>St. Audrie's Bay</td>\n",
       "      <td>red beds</td>\n",
       "      <td>0.68</td>\n",
       "      <td>0.59</td>\n",
       "      <td>1.02</td>\n",
       "      <td>Kent and Tauxe, 2005</td>\n",
       "      <td>hematite</td>\n",
       "      <td>EI</td>\n",
       "      <td>27</td>\n",
       "    </tr>\n",
       "    <tr>\n",
       "      <th>KentTauxe2005_10</th>\n",
       "      <td>Jameson Land</td>\n",
       "      <td>red beds</td>\n",
       "      <td>0.58</td>\n",
       "      <td>0.47</td>\n",
       "      <td>0.81</td>\n",
       "      <td>Kent and Tauxe, 2005</td>\n",
       "      <td>hematite</td>\n",
       "      <td>EI</td>\n",
       "      <td>222</td>\n",
       "    </tr>\n",
       "    <tr>\n",
       "      <th>KrijgsmanTauxe2004_1</th>\n",
       "      <td>Calatayud basin</td>\n",
       "      <td>red beds</td>\n",
       "      <td>0.73</td>\n",
       "      <td>0.63</td>\n",
       "      <td>0.84</td>\n",
       "      <td>Krijgsman and Tauxe, 2004</td>\n",
       "      <td>mixed</td>\n",
       "      <td>EI</td>\n",
       "      <td>648</td>\n",
       "    </tr>\n",
       "    <tr>\n",
       "      <th>KrijgsmanTauxe2004_2</th>\n",
       "      <td>Calatayud basin</td>\n",
       "      <td>red beds</td>\n",
       "      <td>0.74</td>\n",
       "      <td>0.61</td>\n",
       "      <td>0.86</td>\n",
       "      <td>Krijgsman and Tauxe, 2004</td>\n",
       "      <td>mixed</td>\n",
       "      <td>EI</td>\n",
       "      <td>686</td>\n",
       "    </tr>\n",
       "    <tr>\n",
       "      <th>Chenetal2015</th>\n",
       "      <td>Calatayud basin</td>\n",
       "      <td>red beds</td>\n",
       "      <td>0.61</td>\n",
       "      <td>0.49</td>\n",
       "      <td>0.76</td>\n",
       "      <td>Chen et al, 2017</td>\n",
       "      <td>mixed</td>\n",
       "      <td>EI</td>\n",
       "      <td>174</td>\n",
       "    </tr>\n",
       "    <tr>\n",
       "      <th>Tauxeetal2008</th>\n",
       "      <td>Nacimiento</td>\n",
       "      <td>red beds</td>\n",
       "      <td>0.84</td>\n",
       "      <td>0.50</td>\n",
       "      <td>1.01</td>\n",
       "      <td>Chen et al, 2015</td>\n",
       "      <td>mixed</td>\n",
       "      <td>EI</td>\n",
       "      <td>102</td>\n",
       "    </tr>\n",
       "    <tr>\n",
       "      <th>Costaetal2009</th>\n",
       "      <td>Artes</td>\n",
       "      <td>red beds</td>\n",
       "      <td>0.58</td>\n",
       "      <td>0.42</td>\n",
       "      <td>0.77</td>\n",
       "      <td>Costa et al, 2009</td>\n",
       "      <td>hematite</td>\n",
       "      <td>EI</td>\n",
       "      <td>221</td>\n",
       "    </tr>\n",
       "    <tr>\n",
       "      <th>Agninietal2011</th>\n",
       "      <td>Alano section</td>\n",
       "      <td>carbonates</td>\n",
       "      <td>0.62</td>\n",
       "      <td>0.32</td>\n",
       "      <td>0.92</td>\n",
       "      <td>Agnini et al, 2011</td>\n",
       "      <td>magnetite</td>\n",
       "      <td>EI</td>\n",
       "      <td>159</td>\n",
       "    </tr>\n",
       "    <tr>\n",
       "      <th>Borghetal2013</th>\n",
       "      <td>Pannonian basin</td>\n",
       "      <td>mixed (marl/sand)</td>\n",
       "      <td>0.74</td>\n",
       "      <td>0.34</td>\n",
       "      <td>0.97</td>\n",
       "      <td>Borgh et al, 2013</td>\n",
       "      <td>magnetite</td>\n",
       "      <td>EI</td>\n",
       "      <td>800</td>\n",
       "    </tr>\n",
       "    <tr>\n",
       "      <th>Huangetal2015</th>\n",
       "      <td>Pannonian basin</td>\n",
       "      <td>red beds</td>\n",
       "      <td>0.51</td>\n",
       "      <td>0.39</td>\n",
       "      <td>0.65</td>\n",
       "      <td>Huang et al, 2015</td>\n",
       "      <td>hematite</td>\n",
       "      <td>EI</td>\n",
       "      <td>64</td>\n",
       "    </tr>\n",
       "    <tr>\n",
       "      <th>Lancietal2013</th>\n",
       "      <td>Waterford and Abrahamskraal</td>\n",
       "      <td>mixed siliclastics</td>\n",
       "      <td>0.70</td>\n",
       "      <td>0.41</td>\n",
       "      <td>0.90</td>\n",
       "      <td>Lanci et al, 2013</td>\n",
       "      <td>magnetite</td>\n",
       "      <td>EI</td>\n",
       "      <td>136</td>\n",
       "    </tr>\n",
       "    <tr>\n",
       "      <th>KentOlsen2008</th>\n",
       "      <td>Shuttle Meadow, East Berline, and Portland</td>\n",
       "      <td>mixed</td>\n",
       "      <td>0.54</td>\n",
       "      <td>0.48</td>\n",
       "      <td>0.62</td>\n",
       "      <td>Kent and Olsen, 2008</td>\n",
       "      <td>hematite</td>\n",
       "      <td>EI</td>\n",
       "      <td>315</td>\n",
       "    </tr>\n",
       "    <tr>\n",
       "      <th>Tongetal2013</th>\n",
       "      <td>Mengban and Mengla</td>\n",
       "      <td>red beds</td>\n",
       "      <td>0.45</td>\n",
       "      <td>0.38</td>\n",
       "      <td>0.55</td>\n",
       "      <td>Tong et al, 2013</td>\n",
       "      <td>hematite</td>\n",
       "      <td>EI</td>\n",
       "      <td>23</td>\n",
       "    </tr>\n",
       "    <tr>\n",
       "      <th>Channelletal2010_1</th>\n",
       "      <td>Torre de Busi</td>\n",
       "      <td>red beds</td>\n",
       "      <td>0.76</td>\n",
       "      <td>NaN</td>\n",
       "      <td>NaN</td>\n",
       "      <td>Channell et al, 2010</td>\n",
       "      <td>hematite</td>\n",
       "      <td>EI</td>\n",
       "      <td>249</td>\n",
       "    </tr>\n",
       "    <tr>\n",
       "      <th>Channelletal2010_2</th>\n",
       "      <td>Colle di Sogno</td>\n",
       "      <td>red beds</td>\n",
       "      <td>0.99</td>\n",
       "      <td>NaN</td>\n",
       "      <td>NaN</td>\n",
       "      <td>Channell et al, 2010</td>\n",
       "      <td>hematite</td>\n",
       "      <td>EI</td>\n",
       "      <td>83</td>\n",
       "    </tr>\n",
       "    <tr>\n",
       "      <th>Channelletal2010_3</th>\n",
       "      <td>Colle di Sogno</td>\n",
       "      <td>red beds</td>\n",
       "      <td>0.95</td>\n",
       "      <td>NaN</td>\n",
       "      <td>NaN</td>\n",
       "      <td>Channell et al, 2010</td>\n",
       "      <td>hematite</td>\n",
       "      <td>EI</td>\n",
       "      <td>85</td>\n",
       "    </tr>\n",
       "    <tr>\n",
       "      <th>Channelletal2010_4</th>\n",
       "      <td>Colme di Vignola</td>\n",
       "      <td>red beds</td>\n",
       "      <td>0.91</td>\n",
       "      <td>NaN</td>\n",
       "      <td>NaN</td>\n",
       "      <td>Channell et al, 2010</td>\n",
       "      <td>hematite</td>\n",
       "      <td>EI</td>\n",
       "      <td>58</td>\n",
       "    </tr>\n",
       "    <tr>\n",
       "      <th>Channelletal2010_5</th>\n",
       "      <td>Colme di Vignola</td>\n",
       "      <td>red beds</td>\n",
       "      <td>0.89</td>\n",
       "      <td>NaN</td>\n",
       "      <td>NaN</td>\n",
       "      <td>Channell et al, 2010</td>\n",
       "      <td>hematite</td>\n",
       "      <td>EI</td>\n",
       "      <td>87</td>\n",
       "    </tr>\n",
       "    <tr>\n",
       "      <th>Channelletal2010_6</th>\n",
       "      <td>Foza A</td>\n",
       "      <td>red beds</td>\n",
       "      <td>0.89</td>\n",
       "      <td>NaN</td>\n",
       "      <td>NaN</td>\n",
       "      <td>Channell et al, 2010</td>\n",
       "      <td>hematite</td>\n",
       "      <td>EI</td>\n",
       "      <td>135</td>\n",
       "    </tr>\n",
       "    <tr>\n",
       "      <th>Channelletal2010_7</th>\n",
       "      <td>Frisoni A</td>\n",
       "      <td>red beds</td>\n",
       "      <td>0.84</td>\n",
       "      <td>NaN</td>\n",
       "      <td>NaN</td>\n",
       "      <td>Channell et al, 2010</td>\n",
       "      <td>hematite</td>\n",
       "      <td>EI</td>\n",
       "      <td>113</td>\n",
       "    </tr>\n",
       "    <tr>\n",
       "      <th>Channelletal2010_8</th>\n",
       "      <td>Frisoni A</td>\n",
       "      <td>red beds</td>\n",
       "      <td>0.84</td>\n",
       "      <td>NaN</td>\n",
       "      <td>NaN</td>\n",
       "      <td>Channell et al, 2010</td>\n",
       "      <td>hematite</td>\n",
       "      <td>EI</td>\n",
       "      <td>122</td>\n",
       "    </tr>\n",
       "    <tr>\n",
       "      <th>Channelletal2010_9</th>\n",
       "      <td>Sciapala</td>\n",
       "      <td>red beds</td>\n",
       "      <td>0.96</td>\n",
       "      <td>NaN</td>\n",
       "      <td>NaN</td>\n",
       "      <td>Channell et al, 2010</td>\n",
       "      <td>hematite</td>\n",
       "      <td>EI</td>\n",
       "      <td>97</td>\n",
       "    </tr>\n",
       "  </tbody>\n",
       "</table>\n",
       "</div>"
      ],
      "text/plain": [
       "                                                       formation  \\\n",
       "Li2022                                   Qubeiya and Jialazi Fms   \n",
       "Tauxe2004                                               Subei Fm   \n",
       "Vaes2021_1                                       Gonjo Basin Fm1   \n",
       "Vaes2021_2                                       Gonjo Basin Fm2   \n",
       "Vaes2021_3                                       Gonjo Basin Fm3   \n",
       "Vaes2021_4                                       Gonjo Basin Fm4   \n",
       "Vaes2021_5                                       Gonjo Basin Fm5   \n",
       "Vaes2021_6                                       Gonjo Basin Fm6   \n",
       "Vaes2021_7                                       Gonjo Basin Fm7   \n",
       "Vaes2021_8                                       Gonjo Basin Fm8   \n",
       "Vaes2021_9                                       Gonjo Basin Fm9   \n",
       "Tauxe2005                                                 Potwar   \n",
       "Kirsher2014                                   Sonkuk Basin (DUN)   \n",
       "Tanetal2010                                              Shexing   \n",
       "KentTauxe2005_1                                        Dan River   \n",
       "KentTauxe2005_2                                        Princeton   \n",
       "KentTauxe2005_3                                          Nursery   \n",
       "KentTauxe2005_4                                       Titusville   \n",
       "KentTauxe2005_5                                          Rutgers   \n",
       "KentTauxe2005_6                                         Somerset   \n",
       "KentTauxe2005_7                                           Weston   \n",
       "KentTauxe2005_8                                     Martinsville   \n",
       "KentTauxe2005_9                                 St. Audrie's Bay   \n",
       "KentTauxe2005_10                                    Jameson Land   \n",
       "KrijgsmanTauxe2004_1                             Calatayud basin   \n",
       "KrijgsmanTauxe2004_2                             Calatayud basin   \n",
       "Chenetal2015                                     Calatayud basin   \n",
       "Tauxeetal2008                                         Nacimiento   \n",
       "Costaetal2009                                              Artes   \n",
       "Agninietal2011                                     Alano section   \n",
       "Borghetal2013                                    Pannonian basin   \n",
       "Huangetal2015                                    Pannonian basin   \n",
       "Lancietal2013                        Waterford and Abrahamskraal   \n",
       "KentOlsen2008         Shuttle Meadow, East Berline, and Portland   \n",
       "Tongetal2013                                  Mengban and Mengla   \n",
       "Channelletal2010_1                                 Torre de Busi   \n",
       "Channelletal2010_2                                Colle di Sogno   \n",
       "Channelletal2010_3                                Colle di Sogno   \n",
       "Channelletal2010_4                              Colme di Vignola   \n",
       "Channelletal2010_5                              Colme di Vignola   \n",
       "Channelletal2010_6                                        Foza A   \n",
       "Channelletal2010_7                                     Frisoni A   \n",
       "Channelletal2010_8                                     Frisoni A   \n",
       "Channelletal2010_9                                      Sciapala   \n",
       "\n",
       "                               lithology     f  f_min  f_max  \\\n",
       "Li2022                             mixed  0.81   0.62   0.99   \n",
       "Tauxe2004                       red beds  0.49   0.37   0.64   \n",
       "Vaes2021_1                      red beds  0.46   0.32   0.68   \n",
       "Vaes2021_2                      red beds  0.56   0.43   0.80   \n",
       "Vaes2021_3                      red beds  0.64   0.48   0.84   \n",
       "Vaes2021_4                      red beds  0.47   0.35   0.64   \n",
       "Vaes2021_5                      red beds  0.48   0.33   0.69   \n",
       "Vaes2021_6                      red beds  0.44   0.31   0.62   \n",
       "Vaes2021_7                      red beds  0.20   0.15   0.53   \n",
       "Vaes2021_8                      red beds  0.52   0.41   0.70   \n",
       "Vaes2021_9                      red beds  0.65   0.51   0.84   \n",
       "Tauxe2005                       red beds  0.77   0.58   1.11   \n",
       "Kirsher2014                     red beds  0.58   0.44   0.79   \n",
       "Tanetal2010                     red beds  0.48   0.44   0.52   \n",
       "KentTauxe2005_1                 red beds  0.59   0.49   0.74   \n",
       "KentTauxe2005_2                 red beds  0.57   0.39   1.04   \n",
       "KentTauxe2005_3                 red beds  0.40   0.33   0.54   \n",
       "KentTauxe2005_4                 red beds  0.63   0.54   0.76   \n",
       "KentTauxe2005_5                 red beds  0.66   0.57   0.73   \n",
       "KentTauxe2005_6                 red beds  0.63   0.53   0.73   \n",
       "KentTauxe2005_7                 red beds  0.49   0.42   0.59   \n",
       "KentTauxe2005_8                 red beds  0.49   0.42   0.59   \n",
       "KentTauxe2005_9                 red beds  0.68   0.59   1.02   \n",
       "KentTauxe2005_10                red beds  0.58   0.47   0.81   \n",
       "KrijgsmanTauxe2004_1            red beds  0.73   0.63   0.84   \n",
       "KrijgsmanTauxe2004_2            red beds  0.74   0.61   0.86   \n",
       "Chenetal2015                    red beds  0.61   0.49   0.76   \n",
       "Tauxeetal2008                   red beds  0.84   0.50   1.01   \n",
       "Costaetal2009                   red beds  0.58   0.42   0.77   \n",
       "Agninietal2011                carbonates  0.62   0.32   0.92   \n",
       "Borghetal2013          mixed (marl/sand)  0.74   0.34   0.97   \n",
       "Huangetal2015                   red beds  0.51   0.39   0.65   \n",
       "Lancietal2013         mixed siliclastics  0.70   0.41   0.90   \n",
       "KentOlsen2008                      mixed  0.54   0.48   0.62   \n",
       "Tongetal2013                    red beds  0.45   0.38   0.55   \n",
       "Channelletal2010_1              red beds  0.76    NaN    NaN   \n",
       "Channelletal2010_2              red beds  0.99    NaN    NaN   \n",
       "Channelletal2010_3              red beds  0.95    NaN    NaN   \n",
       "Channelletal2010_4              red beds  0.91    NaN    NaN   \n",
       "Channelletal2010_5              red beds  0.89    NaN    NaN   \n",
       "Channelletal2010_6              red beds  0.89    NaN    NaN   \n",
       "Channelletal2010_7              red beds  0.84    NaN    NaN   \n",
       "Channelletal2010_8              red beds  0.84    NaN    NaN   \n",
       "Channelletal2010_9              red beds  0.96    NaN    NaN   \n",
       "\n",
       "                                            ref          mineralogy method  \\\n",
       "Li2022                          Li et al., 2022           magnetite     EI   \n",
       "Tauxe2004                  Tauxe and Kent, 2004            hematite     EI   \n",
       "Vaes2021_1                    Vaes et al., 2021            hematite     EI   \n",
       "Vaes2021_2                    Vaes et al., 2021            hematite     EI   \n",
       "Vaes2021_3                    Vaes et al., 2021            hematite     EI   \n",
       "Vaes2021_4                    Vaes et al., 2021            hematite     EI   \n",
       "Vaes2021_5                    Vaes et al., 2021            hematite     EI   \n",
       "Vaes2021_6                    Vaes et al., 2021            hematite     EI   \n",
       "Vaes2021_7                    Vaes et al., 2021            hematite     EI   \n",
       "Vaes2021_8                    Vaes et al., 2021            hematite     EI   \n",
       "Vaes2021_9                    Vaes et al., 2021            hematite     EI   \n",
       "Tauxe2005                           Tauxe, 2005            hematite     EI   \n",
       "Kirsher2014                 Kirsher et al, 2014  hematite/magnetite     EI   \n",
       "Tanetal2010                     Tan et al, 2010            hematite     EI   \n",
       "KentTauxe2005_1            Kent and Tauxe, 2005            hematite     EI   \n",
       "KentTauxe2005_2            Kent and Tauxe, 2005            hematite     EI   \n",
       "KentTauxe2005_3            Kent and Tauxe, 2005            hematite     EI   \n",
       "KentTauxe2005_4            Kent and Tauxe, 2005            hematite     EI   \n",
       "KentTauxe2005_5            Kent and Tauxe, 2005            hematite     EI   \n",
       "KentTauxe2005_6            Kent and Tauxe, 2005            hematite     EI   \n",
       "KentTauxe2005_7            Kent and Tauxe, 2005            hematite     EI   \n",
       "KentTauxe2005_8            Kent and Tauxe, 2005            hematite     EI   \n",
       "KentTauxe2005_9            Kent and Tauxe, 2005            hematite     EI   \n",
       "KentTauxe2005_10           Kent and Tauxe, 2005            hematite     EI   \n",
       "KrijgsmanTauxe2004_1  Krijgsman and Tauxe, 2004               mixed     EI   \n",
       "KrijgsmanTauxe2004_2  Krijgsman and Tauxe, 2004               mixed     EI   \n",
       "Chenetal2015                   Chen et al, 2017               mixed     EI   \n",
       "Tauxeetal2008                  Chen et al, 2015               mixed     EI   \n",
       "Costaetal2009                 Costa et al, 2009            hematite     EI   \n",
       "Agninietal2011               Agnini et al, 2011           magnetite     EI   \n",
       "Borghetal2013                 Borgh et al, 2013           magnetite     EI   \n",
       "Huangetal2015                 Huang et al, 2015            hematite     EI   \n",
       "Lancietal2013                 Lanci et al, 2013           magnetite     EI   \n",
       "KentOlsen2008              Kent and Olsen, 2008            hematite     EI   \n",
       "Tongetal2013                   Tong et al, 2013            hematite     EI   \n",
       "Channelletal2010_1         Channell et al, 2010            hematite     EI   \n",
       "Channelletal2010_2         Channell et al, 2010            hematite     EI   \n",
       "Channelletal2010_3         Channell et al, 2010            hematite     EI   \n",
       "Channelletal2010_4         Channell et al, 2010            hematite     EI   \n",
       "Channelletal2010_5         Channell et al, 2010            hematite     EI   \n",
       "Channelletal2010_6         Channell et al, 2010            hematite     EI   \n",
       "Channelletal2010_7         Channell et al, 2010            hematite     EI   \n",
       "Channelletal2010_8         Channell et al, 2010            hematite     EI   \n",
       "Channelletal2010_9         Channell et al, 2010            hematite     EI   \n",
       "\n",
       "                        n  \n",
       "Li2022                 87  \n",
       "Tauxe2004             222  \n",
       "Vaes2021_1            128  \n",
       "Vaes2021_2            145  \n",
       "Vaes2021_3            129  \n",
       "Vaes2021_4            137  \n",
       "Vaes2021_5            156  \n",
       "Vaes2021_6            133  \n",
       "Vaes2021_7            113  \n",
       "Vaes2021_8            167  \n",
       "Vaes2021_9            167  \n",
       "Tauxe2005               0  \n",
       "Kirsher2014           100  \n",
       "Tanetal2010           377  \n",
       "KentTauxe2005_1       333  \n",
       "KentTauxe2005_2       148  \n",
       "KentTauxe2005_3       194  \n",
       "KentTauxe2005_4       308  \n",
       "KentTauxe2005_5       336  \n",
       "KentTauxe2005_6       309  \n",
       "KentTauxe2005_7       246  \n",
       "KentTauxe2005_8       302  \n",
       "KentTauxe2005_9        27  \n",
       "KentTauxe2005_10      222  \n",
       "KrijgsmanTauxe2004_1  648  \n",
       "KrijgsmanTauxe2004_2  686  \n",
       "Chenetal2015          174  \n",
       "Tauxeetal2008         102  \n",
       "Costaetal2009         221  \n",
       "Agninietal2011        159  \n",
       "Borghetal2013         800  \n",
       "Huangetal2015          64  \n",
       "Lancietal2013         136  \n",
       "KentOlsen2008         315  \n",
       "Tongetal2013           23  \n",
       "Channelletal2010_1    249  \n",
       "Channelletal2010_2     83  \n",
       "Channelletal2010_3     85  \n",
       "Channelletal2010_4     58  \n",
       "Channelletal2010_5     87  \n",
       "Channelletal2010_6    135  \n",
       "Channelletal2010_7    113  \n",
       "Channelletal2010_8    122  \n",
       "Channelletal2010_9     97  "
      ]
     },
     "execution_count": 99,
     "metadata": {},
     "output_type": "execute_result"
    }
   ],
   "source": [
    "f_compilation"
   ]
  },
  {
   "cell_type": "markdown",
   "metadata": {
    "tags": []
   },
   "source": [
    "## Hunag et al., 2015b"
   ]
  },
  {
   "cell_type": "code",
   "execution_count": 18,
   "metadata": {},
   "outputs": [
    {
     "name": "stdout",
     "output_type": "stream",
     "text": [
      "[0.96]\n",
      "[1.04]\n",
      "[0.7]\n"
     ]
    }
   ],
   "source": [
    "Io = [-42]\n",
    "Ilow = [-40.8]\n",
    "IEI = [-43.2]\n",
    "Ihigh = [-52]\n",
    "\n",
    "print([np.round(np.tan(np.radians(Io[i]))/np.tan(np.radians(IEI[i])),2) for i in range(len(Io))])\n",
    "print([np.round(np.tan(np.radians(Io[i]))/np.tan(np.radians(Ilow[i])),2) for i in range(len(Io))])\n",
    "print([np.round(np.tan(np.radians(Io[i]))/np.tan(np.radians(Ihigh[i])),2) for i in range(len(Io))])"
   ]
  },
  {
   "cell_type": "markdown",
   "metadata": {
    "tags": []
   },
   "source": [
    "## Bilardello and Kodama2010b"
   ]
  },
  {
   "cell_type": "code",
   "execution_count": 19,
   "metadata": {},
   "outputs": [
    {
     "name": "stdout",
     "output_type": "stream",
     "text": [
      "[0.76]\n",
      "[1.03]\n",
      "[0.52]\n"
     ]
    }
   ],
   "source": [
    "Io = [33.7]\n",
    "Ilow = [33]\n",
    "IEI = [41.1]\n",
    "Ihigh = [52]\n",
    "\n",
    "print([np.round(np.tan(np.radians(Io[i]))/np.tan(np.radians(IEI[i])),2) for i in range(len(Io))])\n",
    "print([np.round(np.tan(np.radians(Io[i]))/np.tan(np.radians(Ilow[i])),2) for i in range(len(Io))])\n",
    "print([np.round(np.tan(np.radians(Io[i]))/np.tan(np.radians(Ihigh[i])),2) for i in range(len(Io))])"
   ]
  },
  {
   "cell_type": "markdown",
   "metadata": {
    "tags": []
   },
   "source": [
    "## van Hisbergen et al., 2007"
   ]
  },
  {
   "cell_type": "code",
   "execution_count": 20,
   "metadata": {},
   "outputs": [
    {
     "name": "stdout",
     "output_type": "stream",
     "text": [
      "[0.84, 0.59]\n",
      "[1.03, 0.89]\n",
      "[0.46, 0.37]\n"
     ]
    }
   ],
   "source": [
    "Io = [48.4,-42.1]\n",
    "Ilow = [47.6,-45.5]\n",
    "IEI = [53.4,-56.9]\n",
    "Ihigh = [67.9,-67.5]\n",
    "\n",
    "print([np.round(np.tan(np.radians(Io[i]))/np.tan(np.radians(IEI[i])),2) for i in range(len(Io))])\n",
    "print([np.round(np.tan(np.radians(Io[i]))/np.tan(np.radians(Ilow[i])),2) for i in range(len(Io))])\n",
    "print([np.round(np.tan(np.radians(Io[i]))/np.tan(np.radians(Ihigh[i])),2) for i in range(len(Io))])"
   ]
  },
  {
   "cell_type": "markdown",
   "metadata": {
    "tags": []
   },
   "source": [
    "## Maron et al., 2015"
   ]
  },
  {
   "cell_type": "code",
   "execution_count": 21,
   "metadata": {},
   "outputs": [
    {
     "name": "stdout",
     "output_type": "stream",
     "text": [
      "[0.58]\n",
      "[0.79]\n",
      "[0.47]\n"
     ]
    }
   ],
   "source": [
    "Io = [32.5]\n",
    "Ilow = [39]\n",
    "IEI = [47.7]\n",
    "Ihigh = [53.7]\n",
    "\n",
    "print([np.round(np.tan(np.radians(Io[i]))/np.tan(np.radians(IEI[i])),2) for i in range(len(Io))])\n",
    "print([np.round(np.tan(np.radians(Io[i]))/np.tan(np.radians(Ilow[i])),2) for i in range(len(Io))])\n",
    "print([np.round(np.tan(np.radians(Io[i]))/np.tan(np.radians(Ihigh[i])),2) for i in range(len(Io))])"
   ]
  },
  {
   "cell_type": "markdown",
   "metadata": {
    "tags": []
   },
   "source": [
    "## Vasiliev et al., 2007"
   ]
  },
  {
   "cell_type": "code",
   "execution_count": 22,
   "metadata": {},
   "outputs": [
    {
     "name": "stdout",
     "output_type": "stream",
     "text": [
      "[0.44, 0.57]\n",
      "[0.84, 0.88]\n",
      "[0.25, 0.31]\n"
     ]
    }
   ],
   "source": [
    "Io = [50.5, 52.7]\n",
    "Ilow = [55.3, 56.2]\n",
    "IEI = [69.9, 66.6]\n",
    "Ihigh = [78.4,76.8]\n",
    "\n",
    "print([np.round(np.tan(np.radians(Io[i]))/np.tan(np.radians(IEI[i])),2) for i in range(len(Io))])\n",
    "print([np.round(np.tan(np.radians(Io[i]))/np.tan(np.radians(Ilow[i])),2) for i in range(len(Io))])\n",
    "print([np.round(np.tan(np.radians(Io[i]))/np.tan(np.radians(Ihigh[i])),2) for i in range(len(Io))])"
   ]
  },
  {
   "cell_type": "markdown",
   "metadata": {
    "tags": []
   },
   "source": [
    "## Yu et al., 2014"
   ]
  },
  {
   "cell_type": "code",
   "execution_count": 23,
   "metadata": {},
   "outputs": [
    {
     "name": "stdout",
     "output_type": "stream",
     "text": [
      "[0.82]\n",
      "[0.99]\n",
      "[0.65]\n"
     ]
    }
   ],
   "source": [
    "Io = [46]\n",
    "Ilow = [46.4]\n",
    "IEI = [51.7]\n",
    "Ihigh = [57.7]\n",
    "\n",
    "print([np.round(np.tan(np.radians(Io[i]))/np.tan(np.radians(IEI[i])),2) for i in range(len(Io))])\n",
    "print([np.round(np.tan(np.radians(Io[i]))/np.tan(np.radians(Ilow[i])),2) for i in range(len(Io))])\n",
    "print([np.round(np.tan(np.radians(Io[i]))/np.tan(np.radians(Ihigh[i])),2) for i in range(len(Io))])"
   ]
  },
  {
   "cell_type": "markdown",
   "metadata": {
    "tags": []
   },
   "source": [
    "## Tong et al., 2017"
   ]
  },
  {
   "cell_type": "code",
   "execution_count": 24,
   "metadata": {},
   "outputs": [
    {
     "name": "stdout",
     "output_type": "stream",
     "text": [
      "[0.62, 0.73]\n",
      "[0.78, 0.94]\n",
      "[0.52, 0.58]\n"
     ]
    }
   ],
   "source": [
    "Io = [27.8, 31.8]\n",
    "Ilow = [34,33.5]\n",
    "IEI = [40.3,40.4]\n",
    "Ihigh = [45.3,46.7]\n",
    "\n",
    "print([np.round(np.tan(np.radians(Io[i]))/np.tan(np.radians(IEI[i])),2) for i in range(len(Io))])\n",
    "print([np.round(np.tan(np.radians(Io[i]))/np.tan(np.radians(Ilow[i])),2) for i in range(len(Io))])\n",
    "print([np.round(np.tan(np.radians(Io[i]))/np.tan(np.radians(Ihigh[i])),2) for i in range(len(Io))])"
   ]
  },
  {
   "cell_type": "markdown",
   "metadata": {
    "tags": []
   },
   "source": [
    "## Krijgsman and Tauxe, 2006"
   ]
  },
  {
   "cell_type": "code",
   "execution_count": 25,
   "metadata": {},
   "outputs": [
    {
     "name": "stdout",
     "output_type": "stream",
     "text": [
      "[0.7]\n",
      "[0.9]\n",
      "[0.57]\n"
     ]
    }
   ],
   "source": [
    "Io = [57]\n",
    "Ilow = [56]\n",
    "IEI = [58]\n",
    "Ihigh = [64]\n",
    "\n",
    "print([np.round(np.tan(np.radians(Io[i]))/np.tan(np.radians(IEI[i])),2) for i in range(len(Io))])\n",
    "print([np.round(np.tan(np.radians(Io[i]))/np.tan(np.radians(Ilow[i])),2) for i in range(len(Io))])\n",
    "print([np.round(np.tan(np.radians(Io[i]))/np.tan(np.radians(Ihigh[i])),2) for i in range(len(Io))])"
   ]
  },
  {
   "cell_type": "code",
   "execution_count": 27,
   "metadata": {},
   "outputs": [
    {
     "name": "stdout",
     "output_type": "stream",
     "text": [
      "[0.7]\n",
      "[0.9]\n",
      "[0.57]\n"
     ]
    }
   ],
   "source": [
    "Io = [47]\n",
    "Ilow = [50]\n",
    "IEI = [57]\n",
    "Ihigh = [62]\n",
    "\n",
    "print([np.round(np.tan(np.radians(Io[i]))/np.tan(np.radians(IEI[i])),2) for i in range(len(Io))])\n",
    "print([np.round(np.tan(np.radians(Io[i]))/np.tan(np.radians(Ilow[i])),2) for i in range(len(Io))])\n",
    "print([np.round(np.tan(np.radians(Io[i]))/np.tan(np.radians(Ihigh[i])),2) for i in range(len(Io))])"
   ]
  },
  {
   "cell_type": "markdown",
   "metadata": {
    "tags": []
   },
   "source": [
    "## Yu et al., 2014"
   ]
  },
  {
   "cell_type": "code",
   "execution_count": 25,
   "metadata": {},
   "outputs": [
    {
     "name": "stdout",
     "output_type": "stream",
     "text": [
      "[0.7]\n",
      "[0.9]\n",
      "[0.57]\n"
     ]
    }
   ],
   "source": [
    "Io = [57]\n",
    "Ilow = [52]\n",
    "IEI = [57.1]\n",
    "Ihigh = [62]\n",
    "\n",
    "print([np.round(np.tan(np.radians(Io[i]))/np.tan(np.radians(IEI[i])),2) for i in range(len(Io))])\n",
    "print([np.round(np.tan(np.radians(Io[i]))/np.tan(np.radians(Ilow[i])),2) for i in range(len(Io))])\n",
    "print([np.round(np.tan(np.radians(Io[i]))/np.tan(np.radians(Ihigh[i])),2) for i in range(len(Io))])"
   ]
  },
  {
   "cell_type": "code",
   "execution_count": null,
   "metadata": {},
   "outputs": [],
   "source": []
  },
  {
   "cell_type": "code",
   "execution_count": null,
   "metadata": {},
   "outputs": [],
   "source": []
  },
  {
   "cell_type": "code",
   "execution_count": null,
   "metadata": {},
   "outputs": [],
   "source": []
  }
 ],
 "metadata": {
  "kernelspec": {
   "display_name": "Python 3",
   "language": "python",
   "name": "python3"
  },
  "language_info": {
   "codemirror_mode": {
    "name": "ipython",
    "version": 3
   },
   "file_extension": ".py",
   "mimetype": "text/x-python",
   "name": "python",
   "nbconvert_exporter": "python",
   "pygments_lexer": "ipython3",
   "version": "3.8.3"
  }
 },
 "nbformat": 4,
 "nbformat_minor": 5
}
