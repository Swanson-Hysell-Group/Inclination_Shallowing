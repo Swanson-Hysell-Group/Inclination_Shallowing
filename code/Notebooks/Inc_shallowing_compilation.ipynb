{
 "cells": [
  {
   "cell_type": "markdown",
   "id": "57ceedf5-c444-4e14-add1-f23a485aaac4",
   "metadata": {
    "tags": []
   },
   "source": [
    "# Notebook for compiling inclination shallowing data"
   ]
  },
  {
   "cell_type": "code",
   "execution_count": 5,
   "id": "fa649b3c-d47c-43ed-8ca6-cdf6102831b6",
   "metadata": {},
   "outputs": [],
   "source": [
    "import numpy as np\n",
    "import pandas as pd\n",
    "import pmagpy.pmag as pmag"
   ]
  },
  {
   "cell_type": "markdown",
   "id": "e97e8877-ab56-419b-b27e-266ce084b988",
   "metadata": {},
   "source": [
    "Let's create an empty dataframe that will be populated with pole means called 'pole_means'.\n",
    "\n",
    "<b>formation | lithology | f | f_min | f_max | ref | mineralogy | method | n |</b>\n",
    "\n",
    "<b>formation</b> = Name of formation for which f was estimated <br>\n",
    "<b>lithology</b> = lithology type with categories of 'siliciclastic', 'carbonate', and 'mixed'<br>\n",
    "<b>f</b> = estimated f factor<br>\n",
    "<b>f_min</b> = lower bound on 95% confidence of f<br>\n",
    "<b>f_max</b> = upper bound on 95% confidence of f<br>\n",
    "<b>ref</b> = reference<br>\n",
    "<b>mineralogy</b> = magnetic mineralogy with categories of 'magnetite', 'hematite', and 'greigite'<br>\n",
    "<b>method</b> = method used to estimate f<br>\n",
    "<b>n</b> = number of samples used (for E/I method)<br>"
   ]
  },
  {
   "cell_type": "code",
   "execution_count": 6,
   "id": "c22f1054-66d0-4352-aa5a-586d49b0956b",
   "metadata": {},
   "outputs": [],
   "source": [
    "f_compiliation = pd.DataFrame(columns=['formation','lithology','f','f_min','f_max','ref',\n",
    "                                   'mineralogy','method','n'])"
   ]
  },
  {
   "cell_type": "code",
   "execution_count": 7,
   "id": "c43cff15-f810-4e2e-9031-a98b30f6f6e6",
   "metadata": {},
   "outputs": [],
   "source": [
    "def f_calc(Io,Ilow,IEI,Ihigh):\n",
    "    f_EI = [np.round(np.tan(np.radians(Io[i]))/np.tan(np.radians(IEI[i])),2) for i in range(len(Io))]\n",
    "    f_min = [np.round(np.tan(np.radians(Io[i]))/np.tan(np.radians(Ilow[i])),2) for i in range(len(Io))]\n",
    "    f_max = [np.round(np.tan(np.radians(Io[i]))/np.tan(np.radians(Ihigh[i])),2) for i in range(len(Io))]\n",
    "    print(f_EI,f_min,f_max)\n",
    "    return f_EI,f_min,f_max"
   ]
  },
  {
   "cell_type": "markdown",
   "id": "d6f25942-4f84-4728-adeb-017f03c71f2d",
   "metadata": {},
   "source": [
    "## Li et al. 2022\n",
    "\n",
    "*New paleomagnetic results of the Upper Cretaceous to Lower Eocene sedimentary rocks from the Xigaze forearc basin and their tectonic implications*\n",
    "\n",
    "> \"the magnetic minerals in the samples are mainly magnetite and titanomagnetite.\""
   ]
  },
  {
   "cell_type": "code",
   "execution_count": 10,
   "id": "e02c8908-c049-432d-9a32-741af57368b3",
   "metadata": {},
   "outputs": [
    {
     "name": "stdout",
     "output_type": "stream",
     "text": [
      "[0.81] [0.99] [0.62]\n"
     ]
    }
   ],
   "source": [
    "Io = [35.7]\n",
    "Ilow = [36.0]\n",
    "IEI = [41.6]\n",
    "Ihigh = [49.0]\n",
    "n = [87]\n",
    "\n",
    "f_EI,f_min,f_max = f_calc(Io,Ilow,IEI,Ihigh)"
   ]
  },
  {
   "cell_type": "code",
   "execution_count": 15,
   "id": "1371337d-18b6-4e91-9d31-5db188dab1dc",
   "metadata": {},
   "outputs": [],
   "source": [
    "f_compiliation.loc['Li2022'] = pd.Series({'formation' : 'Qubeiya and Jialazi Fms',\n",
    "                                          'lithology' : 'mixed',\n",
    "                                           'f' : f_EI[0],\n",
    "                                           'f_min' : f_min[0],\n",
    "                                           'f_max' : f_max[0],\n",
    "                                           'ref' : 'Li et al., 2022',\n",
    "                                           'mineralogy' : 'magnetite',\n",
    "                                           'method' : 'EI',\n",
    "                                           'n' : 87})"
   ]
  },
  {
   "cell_type": "code",
   "execution_count": 16,
   "id": "ed06ef62-9566-4be6-965b-f3f6230d70a0",
   "metadata": {},
   "outputs": [
    {
     "data": {
      "text/html": [
       "<div>\n",
       "<style scoped>\n",
       "    .dataframe tbody tr th:only-of-type {\n",
       "        vertical-align: middle;\n",
       "    }\n",
       "\n",
       "    .dataframe tbody tr th {\n",
       "        vertical-align: top;\n",
       "    }\n",
       "\n",
       "    .dataframe thead th {\n",
       "        text-align: right;\n",
       "    }\n",
       "</style>\n",
       "<table border=\"1\" class=\"dataframe\">\n",
       "  <thead>\n",
       "    <tr style=\"text-align: right;\">\n",
       "      <th></th>\n",
       "      <th>formation</th>\n",
       "      <th>lithology</th>\n",
       "      <th>f</th>\n",
       "      <th>f_min</th>\n",
       "      <th>f_max</th>\n",
       "      <th>ref</th>\n",
       "      <th>mineralogy</th>\n",
       "      <th>method</th>\n",
       "      <th>n</th>\n",
       "    </tr>\n",
       "  </thead>\n",
       "  <tbody>\n",
       "    <tr>\n",
       "      <th>Li2022</th>\n",
       "      <td>Qubeiya and Jialazi Fms</td>\n",
       "      <td>mixed</td>\n",
       "      <td>0.81</td>\n",
       "      <td>0.99</td>\n",
       "      <td>0.62</td>\n",
       "      <td>Li et al., 2022</td>\n",
       "      <td>magnetite</td>\n",
       "      <td>EI</td>\n",
       "      <td>87</td>\n",
       "    </tr>\n",
       "  </tbody>\n",
       "</table>\n",
       "</div>"
      ],
      "text/plain": [
       "                      formation lithology     f f_min f_max              ref  \\\n",
       "Li2022  Qubeiya and Jialazi Fms     mixed  0.81  0.99  0.62  Li et al., 2022   \n",
       "\n",
       "       mineralogy method   n  \n",
       "Li2022  magnetite     EI  87  "
      ]
     },
     "execution_count": 16,
     "metadata": {},
     "output_type": "execute_result"
    }
   ],
   "source": [
    "f_compiliation"
   ]
  },
  {
   "cell_type": "markdown",
   "id": "46c380af-6b0f-4c12-bb8b-9778c436d393",
   "metadata": {},
   "source": [
    "## Vaes et al., 2021"
   ]
  },
  {
   "cell_type": "code",
   "execution_count": 52,
   "id": "60157246-2c4f-4a8f-a242-c247072f5c12",
   "metadata": {},
   "outputs": [
    {
     "name": "stdout",
     "output_type": "stream",
     "text": [
      "[0.46, 0.56, 0.64, 0.47, 0.48, 0.44, 0.2, 0.52, 0.65]\n",
      "[0.68, 0.8, 0.84, 0.64, 0.69, 0.62, 0.53, 0.7, 0.84]\n",
      "[0.32, 0.43, 0.48, 0.35, 0.33, 0.31, 0.15, 0.41, 0.51]\n"
     ]
    }
   ],
   "source": [
    "Io = [21.5,25.7, 28.6, 27.4, 27.5, 27.1, 37.0, 26.0, 29.5]\n",
    "Ilow = [30.1, 31.0, 32.9, 39.0, 36.9, 39.4, 54.9, 34.9, 34.0]\n",
    "IEI = [40.8, 40.8, 40.6, 47.8, 47.1, 49.4, 74.8, 43.0, 41.0]\n",
    "Ihigh = [50.5, 48.5, 48.8, 56.3, 57.4, 58.7, 78.4, 50.1, 48.1]\n",
    "\n",
    "print([np.round(np.tan(np.radians(Io[i]))/np.tan(np.radians(IEI[i])),2) for i in range(len(Io))])\n",
    "print([np.round(np.tan(np.radians(Io[i]))/np.tan(np.radians(Ilow[i])),2) for i in range(len(Io))])\n",
    "print([np.round(np.tan(np.radians(Io[i]))/np.tan(np.radians(Ihigh[i])),2) for i in range(len(Io))])"
   ]
  },
  {
   "cell_type": "markdown",
   "id": "39f2cbb1-e4af-4bdb-9639-e12258a4af55",
   "metadata": {},
   "source": [
    "## Dupont-Nivet et al., 2008"
   ]
  },
  {
   "cell_type": "code",
   "execution_count": 54,
   "id": "d2edb07e-c231-480a-a67c-c4fa1207ca17",
   "metadata": {},
   "outputs": [
    {
     "name": "stdout",
     "output_type": "stream",
     "text": [
      "[0.78, 0.9, 0.68, 0.63, 0.49, 0.69, 0.91]\n",
      "[1.0, 1.04, 0.78, 0.75, 0.65, 0.9, 0.71]\n",
      "[0.51, 0.72, 0.54, 0.51, 0.37, 0.49, 1.25]\n"
     ]
    }
   ],
   "source": [
    "Io = [45,50,43,44,44,9,-10]\n",
    "Ilow = [45,49,50,52,56,10,-14]\n",
    "IEI = [52,53,54,57,63,13,-11]\n",
    "Ihigh = [63,59,60,62,69,18,-8]\n",
    "\n",
    "print([np.round(np.tan(np.radians(Io[i]))/np.tan(np.radians(IEI[i])),2) for i in range(len(Io))])\n",
    "print([np.round(np.tan(np.radians(Io[i]))/np.tan(np.radians(Ilow[i])),2) for i in range(len(Io))])\n",
    "print([np.round(np.tan(np.radians(Io[i]))/np.tan(np.radians(Ihigh[i])),2) for i in range(len(Io))])"
   ]
  },
  {
   "cell_type": "markdown",
   "id": "a4aeb20a-c202-4cbc-9d3e-c9b288090fef",
   "metadata": {},
   "source": [
    "## Tauxe 2005 Potwater"
   ]
  },
  {
   "cell_type": "code",
   "execution_count": 55,
   "id": "532e7ae5-9729-4a1b-9048-b20dc54f2f07",
   "metadata": {},
   "outputs": [
    {
     "name": "stdout",
     "output_type": "stream",
     "text": [
      "[0.77]\n",
      "[0.99]\n",
      "[0.58]\n"
     ]
    }
   ],
   "source": [
    "Io = [33.7]\n",
    "Ilow = [34]\n",
    "IEI = [41]\n",
    "Ihigh = [49]\n",
    "\n",
    "print([np.round(np.tan(np.radians(Io[i]))/np.tan(np.radians(IEI[i])),2) for i in range(len(Io))])\n",
    "print([np.round(np.tan(np.radians(Io[i]))/np.tan(np.radians(Ilow[i])),2) for i in range(len(Io))])\n",
    "print([np.round(np.tan(np.radians(Io[i]))/np.tan(np.radians(Ihigh[i])),2) for i in range(len(Io))])"
   ]
  },
  {
   "cell_type": "markdown",
   "id": "09cc4ea4-9172-41e7-a167-bddf795b4532",
   "metadata": {},
   "source": [
    "## Kirscher e al., 2014 Kyrgyzstan\n"
   ]
  },
  {
   "cell_type": "code",
   "execution_count": 56,
   "id": "ede37a62-6048-4208-8469-46fd48f0e36e",
   "metadata": {},
   "outputs": [
    {
     "name": "stdout",
     "output_type": "stream",
     "text": [
      "[0.58]\n",
      "[0.79]\n",
      "[0.44]\n"
     ]
    }
   ],
   "source": [
    "Io = [-35]\n",
    "Ilow = [-41.4]\n",
    "IEI = [-50.3]\n",
    "Ihigh = [-57.9]\n",
    "\n",
    "print([np.round(np.tan(np.radians(Io[i]))/np.tan(np.radians(IEI[i])),2) for i in range(len(Io))])\n",
    "print([np.round(np.tan(np.radians(Io[i]))/np.tan(np.radians(Ilow[i])),2) for i in range(len(Io))])\n",
    "print([np.round(np.tan(np.radians(Io[i]))/np.tan(np.radians(Ihigh[i])),2) for i in range(len(Io))])"
   ]
  },
  {
   "cell_type": "markdown",
   "id": "01e3ed66-e410-4ba8-8264-777adeaeb71d",
   "metadata": {
    "tags": []
   },
   "source": [
    "## Tan et al., 2010 Lhasa block"
   ]
  },
  {
   "cell_type": "code",
   "execution_count": 57,
   "id": "2df3ec18-af7b-4de9-bba1-255edff7154a",
   "metadata": {},
   "outputs": [
    {
     "name": "stdout",
     "output_type": "stream",
     "text": [
      "[0.52]\n",
      "[0.56]\n",
      "[0.48]\n"
     ]
    }
   ],
   "source": [
    "Io = [23.5]\n",
    "Ilow = [37.7]\n",
    "IEI = [39.7]\n",
    "Ihigh = [41.9]\n",
    "\n",
    "print([np.round(np.tan(np.radians(Io[i]))/np.tan(np.radians(IEI[i])),2) for i in range(len(Io))])\n",
    "print([np.round(np.tan(np.radians(Io[i]))/np.tan(np.radians(Ilow[i])),2) for i in range(len(Io))])\n",
    "print([np.round(np.tan(np.radians(Io[i]))/np.tan(np.radians(Ihigh[i])),2) for i in range(len(Io))])"
   ]
  },
  {
   "cell_type": "markdown",
   "id": "b74d8e6e-0894-4008-b8dd-623819f135f3",
   "metadata": {},
   "source": [
    "## Kent and Tauxe 2005 Late Triassic Latitudes"
   ]
  },
  {
   "cell_type": "code",
   "execution_count": 60,
   "id": "23e292f9-6e48-41ef-8c52-d0cd5df865ca",
   "metadata": {},
   "outputs": [
    {
     "name": "stdout",
     "output_type": "stream",
     "text": [
      "[0.59, 0.57, 0.4, 0.63, 0.66, 0.63, 0.49, 0.49, 0.68, 0.58]\n",
      "[0.74, 1.04, 0.54, 0.76, 0.73, 0.73, 0.59, 0.59, 1.02, 0.81]\n",
      "[0.49, 0.39, 0.33, 0.54, 0.57, 0.53, 0.42, 0.42, 0.59, 0.47]\n"
     ]
    }
   ],
   "source": [
    "Io = [5.9,5.2,8.8,13,14.2,15.7,17.5,18.2,33.4,45.1]\n",
    "Ilow = [8,5,16,17,19,21,28,29,33,51]\n",
    "IEI = [10,9,21,20,21,24,33,34,44,60]\n",
    "Ihigh = [12,13,25,23,24,28,37,38,48,65]\n",
    "\n",
    "print([np.round(np.tan(np.radians(Io[i]))/np.tan(np.radians(IEI[i])),2) for i in range(len(Io))])\n",
    "print([np.round(np.tan(np.radians(Io[i]))/np.tan(np.radians(Ilow[i])),2) for i in range(len(Io))])\n",
    "print([np.round(np.tan(np.radians(Io[i]))/np.tan(np.radians(Ihigh[i])),2) for i in range(len(Io))])"
   ]
  },
  {
   "cell_type": "markdown",
   "id": "5b3574bf-f05e-42a7-84d7-74e4ed40e6ed",
   "metadata": {
    "tags": []
   },
   "source": [
    "## Hunag et al., 2013 Linzizong"
   ]
  },
  {
   "cell_type": "code",
   "execution_count": 61,
   "id": "459e38f6-37d2-44bb-a337-fcfae1b5c25f",
   "metadata": {},
   "outputs": [
    {
     "name": "stdout",
     "output_type": "stream",
     "text": [
      "[0.45]\n",
      "[0.57]\n",
      "[0.32]\n"
     ]
    }
   ],
   "source": [
    "Io = [20.5]\n",
    "Ilow = [33.1]\n",
    "IEI = [40.0]\n",
    "Ihigh = [49.5]\n",
    "\n",
    "print([np.round(np.tan(np.radians(Io[i]))/np.tan(np.radians(IEI[i])),2) for i in range(len(Io))])\n",
    "print([np.round(np.tan(np.radians(Io[i]))/np.tan(np.radians(Ilow[i])),2) for i in range(len(Io))])\n",
    "print([np.round(np.tan(np.radians(Io[i]))/np.tan(np.radians(Ihigh[i])),2) for i in range(len(Io))])"
   ]
  },
  {
   "cell_type": "markdown",
   "id": "d4cf61b6-6b3f-4036-85b4-4b2a103c2444",
   "metadata": {
    "tags": []
   },
   "source": [
    "## Krijgsman and Tauxe 2004 "
   ]
  },
  {
   "cell_type": "code",
   "execution_count": 62,
   "id": "7ff45f29-b1ec-4243-a8ba-5a69408a1e2c",
   "metadata": {},
   "outputs": [
    {
     "name": "stdout",
     "output_type": "stream",
     "text": [
      "[0.73]\n",
      "[0.84]\n",
      "[0.63]\n"
     ]
    }
   ],
   "source": [
    "Io = [44]\n",
    "Ilow = [49]\n",
    "IEI = [53]\n",
    "Ihigh = [57]\n",
    "\n",
    "print([np.round(np.tan(np.radians(Io[i]))/np.tan(np.radians(IEI[i])),2) for i in range(len(Io))])\n",
    "print([np.round(np.tan(np.radians(Io[i]))/np.tan(np.radians(Ilow[i])),2) for i in range(len(Io))])\n",
    "print([np.round(np.tan(np.radians(Io[i]))/np.tan(np.radians(Ihigh[i])),2) for i in range(len(Io))])"
   ]
  },
  {
   "cell_type": "code",
   "execution_count": 63,
   "id": "b0b268be-683c-48da-b3af-f0a1e227258e",
   "metadata": {},
   "outputs": [
    {
     "name": "stdout",
     "output_type": "stream",
     "text": [
      "[0.74]\n",
      "[0.86]\n",
      "[0.61]\n"
     ]
    }
   ],
   "source": [
    "Io = [45.6]\n",
    "Ilow = [50]\n",
    "IEI = [54]\n",
    "Ihigh = [59]\n",
    "\n",
    "print([np.round(np.tan(np.radians(Io[i]))/np.tan(np.radians(IEI[i])),2) for i in range(len(Io))])\n",
    "print([np.round(np.tan(np.radians(Io[i]))/np.tan(np.radians(Ilow[i])),2) for i in range(len(Io))])\n",
    "print([np.round(np.tan(np.radians(Io[i]))/np.tan(np.radians(Ihigh[i])),2) for i in range(len(Io))])"
   ]
  },
  {
   "cell_type": "markdown",
   "id": "3ac08635-6f83-4010-a380-489cdc558f4e",
   "metadata": {},
   "source": [
    "## Chen et al., 2015"
   ]
  },
  {
   "cell_type": "code",
   "execution_count": 3,
   "id": "4fb30ab3-8f34-4dc7-a38f-9da30d68ad87",
   "metadata": {},
   "outputs": [
    {
     "name": "stdout",
     "output_type": "stream",
     "text": [
      "[0.61]\n",
      "[0.76]\n",
      "[0.49]\n"
     ]
    }
   ],
   "source": [
    "Io = [34.2]\n",
    "Ilow = [41.9]\n",
    "IEI = [47.9]\n",
    "Ihigh = [54.3]\n",
    "\n",
    "print([np.round(np.tan(np.radians(Io[i]))/np.tan(np.radians(IEI[i])),2) for i in range(len(Io))])\n",
    "print([np.round(np.tan(np.radians(Io[i]))/np.tan(np.radians(Ilow[i])),2) for i in range(len(Io))])\n",
    "print([np.round(np.tan(np.radians(Io[i]))/np.tan(np.radians(Ihigh[i])),2) for i in range(len(Io))])"
   ]
  },
  {
   "cell_type": "markdown",
   "id": "bc4530f6-1c92-4625-b2bc-85fa2c5284b5",
   "metadata": {},
   "source": [
    "## Tauxe et al., 2008"
   ]
  },
  {
   "cell_type": "code",
   "execution_count": 4,
   "id": "30ae1848-bf7f-43a4-b156-8eaacf8603a2",
   "metadata": {},
   "outputs": [
    {
     "name": "stdout",
     "output_type": "stream",
     "text": [
      "[0.84]\n",
      "[1.01]\n",
      "[0.5]\n"
     ]
    }
   ],
   "source": [
    "Io = [51.2]\n",
    "Ilow = [50.8]\n",
    "IEI = [56.1]\n",
    "Ihigh = [68.2]\n",
    "\n",
    "print([np.round(np.tan(np.radians(Io[i]))/np.tan(np.radians(IEI[i])),2) for i in range(len(Io))])\n",
    "print([np.round(np.tan(np.radians(Io[i]))/np.tan(np.radians(Ilow[i])),2) for i in range(len(Io))])\n",
    "print([np.round(np.tan(np.radians(Io[i]))/np.tan(np.radians(Ihigh[i])),2) for i in range(len(Io))])"
   ]
  },
  {
   "cell_type": "markdown",
   "id": "efe013d3-4e81-46d6-9c8e-5edf762d9759",
   "metadata": {},
   "source": [
    "## Gong et al., 2008"
   ]
  },
  {
   "cell_type": "code",
   "execution_count": 5,
   "id": "b270057e-9c23-4c42-a4fb-e4d1f132d5ca",
   "metadata": {},
   "outputs": [
    {
     "name": "stdout",
     "output_type": "stream",
     "text": [
      "[0.94, 0.93, 0.95, 0.94, 0.96, 0.95, 0.95, 0.97, 0.93]\n",
      "[1.01, 1.03, 1.01, 1.01, 1.03, 1.01, 1.01, 1.01, 1.0]\n",
      "[0.56, 0.61, 0.6, 0.69, 0.7, 0.61, 0.6, 0.63, 0.5]\n"
     ]
    }
   ],
   "source": [
    "Io = [45.4,45.9,45.2,49.9,55.3,55.1,52.9,56.7,57.2]\n",
    "Ilow = [45,45.1,44.9,49.7,54.4,54.8,52.7,56.4,57.3]\n",
    "IEI = [47.2,48.1,46.8,51.7,56.3,56.5,54.3,57.5,59.1]\n",
    "Ihigh = [61.2,59.6,59.3,59.9,64.2,67,65.6,67.6,72.3]\n",
    "\n",
    "print([np.round(np.tan(np.radians(Io[i]))/np.tan(np.radians(IEI[i])),2) for i in range(len(Io))])\n",
    "print([np.round(np.tan(np.radians(Io[i]))/np.tan(np.radians(Ilow[i])),2) for i in range(len(Io))])\n",
    "print([np.round(np.tan(np.radians(Io[i]))/np.tan(np.radians(Ihigh[i])),2) for i in range(len(Io))])"
   ]
  },
  {
   "cell_type": "markdown",
   "id": "d944d357-24fe-4dbc-9457-63158ef3a40e",
   "metadata": {},
   "source": [
    "## Costa et al., 2009"
   ]
  },
  {
   "cell_type": "code",
   "execution_count": 6,
   "id": "f6a8d634-39af-4c33-a9cc-9440529230d3",
   "metadata": {},
   "outputs": [
    {
     "name": "stdout",
     "output_type": "stream",
     "text": [
      "[0.58]\n",
      "[0.77]\n",
      "[0.42]\n"
     ]
    }
   ],
   "source": [
    "Io = [41]\n",
    "Ilow = [48.4]\n",
    "IEI = [56.2]\n",
    "Ihigh = [64.2]\n",
    "\n",
    "print([np.round(np.tan(np.radians(Io[i]))/np.tan(np.radians(IEI[i])),2) for i in range(len(Io))])\n",
    "print([np.round(np.tan(np.radians(Io[i]))/np.tan(np.radians(Ilow[i])),2) for i in range(len(Io))])\n",
    "print([np.round(np.tan(np.radians(Io[i]))/np.tan(np.radians(Ihigh[i])),2) for i in range(len(Io))])"
   ]
  },
  {
   "cell_type": "markdown",
   "id": "c5d18f9d-c90b-4502-9bf7-ce3ad8fd2d1b",
   "metadata": {},
   "source": [
    "## Agnini et al., 2011"
   ]
  },
  {
   "cell_type": "code",
   "execution_count": 7,
   "id": "02a6c586-b560-46e7-9fa3-2ee8eae7b628",
   "metadata": {},
   "outputs": [
    {
     "name": "stdout",
     "output_type": "stream",
     "text": [
      "[0.62]\n",
      "[0.92]\n",
      "[0.32]\n"
     ]
    }
   ],
   "source": [
    "Io = [39.5]\n",
    "Ilow = [42]\n",
    "IEI = [53]\n",
    "Ihigh = [69]\n",
    "\n",
    "print([np.round(np.tan(np.radians(Io[i]))/np.tan(np.radians(IEI[i])),2) for i in range(len(Io))])\n",
    "print([np.round(np.tan(np.radians(Io[i]))/np.tan(np.radians(Ilow[i])),2) for i in range(len(Io))])\n",
    "print([np.round(np.tan(np.radians(Io[i]))/np.tan(np.radians(Ihigh[i])),2) for i in range(len(Io))])"
   ]
  },
  {
   "cell_type": "markdown",
   "id": "8eb2d45e-478f-4702-8950-ea2f4e72f303",
   "metadata": {},
   "source": [
    "## Borgh et al., 2013"
   ]
  },
  {
   "cell_type": "code",
   "execution_count": 8,
   "id": "b8bcd901-cdf7-4062-beb3-8070f1a8ca18",
   "metadata": {},
   "outputs": [
    {
     "name": "stdout",
     "output_type": "stream",
     "text": [
      "[0.74]\n",
      "[0.97]\n",
      "[0.34]\n"
     ]
    }
   ],
   "source": [
    "Io = [58.5]\n",
    "Ilow = [59.3]\n",
    "IEI = [65.5]\n",
    "Ihigh = [78.1]\n",
    "\n",
    "print([np.round(np.tan(np.radians(Io[i]))/np.tan(np.radians(IEI[i])),2) for i in range(len(Io))])\n",
    "print([np.round(np.tan(np.radians(Io[i]))/np.tan(np.radians(Ilow[i])),2) for i in range(len(Io))])\n",
    "print([np.round(np.tan(np.radians(Io[i]))/np.tan(np.radians(Ihigh[i])),2) for i in range(len(Io))])"
   ]
  },
  {
   "cell_type": "markdown",
   "id": "3c4575ad-be34-4a64-b2bd-f94e6940beac",
   "metadata": {},
   "source": [
    "## Huang et al., 2015"
   ]
  },
  {
   "cell_type": "code",
   "execution_count": 9,
   "id": "03aa590f-2179-4f8e-90d1-831003cb9478",
   "metadata": {},
   "outputs": [
    {
     "name": "stdout",
     "output_type": "stream",
     "text": [
      "[0.51]\n",
      "[0.65]\n",
      "[0.39]\n"
     ]
    }
   ],
   "source": [
    "Io = [16.6]\n",
    "Ilow = [24.8]\n",
    "IEI = [30.2]\n",
    "Ihigh = [37.3]\n",
    "\n",
    "print([np.round(np.tan(np.radians(Io[i]))/np.tan(np.radians(IEI[i])),2) for i in range(len(Io))])\n",
    "print([np.round(np.tan(np.radians(Io[i]))/np.tan(np.radians(Ilow[i])),2) for i in range(len(Io))])\n",
    "print([np.round(np.tan(np.radians(Io[i]))/np.tan(np.radians(Ihigh[i])),2) for i in range(len(Io))])"
   ]
  },
  {
   "cell_type": "markdown",
   "id": "47b1ed2b-672d-4317-a74b-cadf1b251ca9",
   "metadata": {},
   "source": [
    "## Lanci et al., 2013"
   ]
  },
  {
   "cell_type": "code",
   "execution_count": 10,
   "id": "5741e058-8f63-4743-b24e-33d63f1e0ee4",
   "metadata": {},
   "outputs": [
    {
     "name": "stdout",
     "output_type": "stream",
     "text": [
      "[0.7]\n",
      "[0.9]\n",
      "[0.41]\n"
     ]
    }
   ],
   "source": [
    "Io = [53]\n",
    "Ilow = [56]\n",
    "IEI = [62.2]\n",
    "Ihigh = [73]\n",
    "\n",
    "print([np.round(np.tan(np.radians(Io[i]))/np.tan(np.radians(IEI[i])),2) for i in range(len(Io))])\n",
    "print([np.round(np.tan(np.radians(Io[i]))/np.tan(np.radians(Ilow[i])),2) for i in range(len(Io))])\n",
    "print([np.round(np.tan(np.radians(Io[i]))/np.tan(np.radians(Ihigh[i])),2) for i in range(len(Io))])"
   ]
  },
  {
   "cell_type": "markdown",
   "id": "ad471327-6ca3-49ef-b636-436fadfef0c6",
   "metadata": {
    "tags": []
   },
   "source": [
    "## Kent and Olsen, 2008"
   ]
  },
  {
   "cell_type": "code",
   "execution_count": 11,
   "id": "0e03e0eb-5c25-4c36-b872-b6e651a44a41",
   "metadata": {},
   "outputs": [
    {
     "name": "stdout",
     "output_type": "stream",
     "text": [
      "[0.54]\n",
      "[0.62]\n",
      "[0.48]\n"
     ]
    }
   ],
   "source": [
    "Io = [21.1]\n",
    "Ilow = [32]\n",
    "IEI = [35.5]\n",
    "Ihigh = [39]\n",
    "\n",
    "print([np.round(np.tan(np.radians(Io[i]))/np.tan(np.radians(IEI[i])),2) for i in range(len(Io))])\n",
    "print([np.round(np.tan(np.radians(Io[i]))/np.tan(np.radians(Ilow[i])),2) for i in range(len(Io))])\n",
    "print([np.round(np.tan(np.radians(Io[i]))/np.tan(np.radians(Ihigh[i])),2) for i in range(len(Io))])"
   ]
  },
  {
   "cell_type": "markdown",
   "id": "5b4f99ca-7c5c-47f2-a20a-07103d38c362",
   "metadata": {
    "tags": []
   },
   "source": [
    "## Tong et al., 2013"
   ]
  },
  {
   "cell_type": "code",
   "execution_count": 12,
   "id": "555ee422-2022-4494-bcb1-e4d6d3237113",
   "metadata": {},
   "outputs": [
    {
     "name": "stdout",
     "output_type": "stream",
     "text": [
      "[0.45]\n",
      "[0.55]\n",
      "[0.38]\n"
     ]
    }
   ],
   "source": [
    "Io = [23.6]\n",
    "Ilow = [38.3]\n",
    "IEI = [44.1]\n",
    "Ihigh = [49.3]\n",
    "\n",
    "print([np.round(np.tan(np.radians(Io[i]))/np.tan(np.radians(IEI[i])),2) for i in range(len(Io))])\n",
    "print([np.round(np.tan(np.radians(Io[i]))/np.tan(np.radians(Ilow[i])),2) for i in range(len(Io))])\n",
    "print([np.round(np.tan(np.radians(Io[i]))/np.tan(np.radians(Ihigh[i])),2) for i in range(len(Io))])"
   ]
  },
  {
   "cell_type": "markdown",
   "id": "011e9802-e26f-42bb-890c-cdc05f098bfb",
   "metadata": {
    "tags": []
   },
   "source": [
    "## Channell et al., 2010"
   ]
  },
  {
   "cell_type": "code",
   "execution_count": 17,
   "id": "e1fe0acd-487b-4ad4-b71b-32723f7a03b5",
   "metadata": {},
   "outputs": [
    {
     "name": "stdout",
     "output_type": "stream",
     "text": [
      "[0.76, 0.99, 0.95, 0.91, 0.89, 0.89, 0.84, 0.84, 0.96]\n"
     ]
    }
   ],
   "source": [
    "Io = [29.9, 54.5, 54.6, 34.8,28.5,36.3, 35,30,30.7]\n",
    "Plat_EI = [20.6,35.4,36.5,20.9,17,22.4,22.7,19,17.2]\n",
    "IEI = pmag.pinc(Plat_EI)\n",
    "print([np.round(np.tan(np.radians(Io[i]))/np.tan(np.radians(IEI[i])),2) for i in range(len(Io))])"
   ]
  },
  {
   "cell_type": "markdown",
   "id": "d02b3797-6798-45ea-b271-10c3013c6551",
   "metadata": {
    "tags": []
   },
   "source": [
    "## Hunag et al., 2015b"
   ]
  },
  {
   "cell_type": "code",
   "execution_count": 18,
   "id": "63d5fe85-e33a-419c-a9d1-710a377cfffa",
   "metadata": {},
   "outputs": [
    {
     "name": "stdout",
     "output_type": "stream",
     "text": [
      "[0.96]\n",
      "[1.04]\n",
      "[0.7]\n"
     ]
    }
   ],
   "source": [
    "Io = [-42]\n",
    "Ilow = [-40.8]\n",
    "IEI = [-43.2]\n",
    "Ihigh = [-52]\n",
    "\n",
    "print([np.round(np.tan(np.radians(Io[i]))/np.tan(np.radians(IEI[i])),2) for i in range(len(Io))])\n",
    "print([np.round(np.tan(np.radians(Io[i]))/np.tan(np.radians(Ilow[i])),2) for i in range(len(Io))])\n",
    "print([np.round(np.tan(np.radians(Io[i]))/np.tan(np.radians(Ihigh[i])),2) for i in range(len(Io))])"
   ]
  },
  {
   "cell_type": "markdown",
   "id": "b6362f94-2368-4723-aa6a-7814adc69502",
   "metadata": {
    "tags": []
   },
   "source": [
    "## Bilardello and Kodama2010b"
   ]
  },
  {
   "cell_type": "code",
   "execution_count": 19,
   "id": "ff8d9713-e302-4f3a-b192-89f7e2639671",
   "metadata": {},
   "outputs": [
    {
     "name": "stdout",
     "output_type": "stream",
     "text": [
      "[0.76]\n",
      "[1.03]\n",
      "[0.52]\n"
     ]
    }
   ],
   "source": [
    "Io = [33.7]\n",
    "Ilow = [33]\n",
    "IEI = [41.1]\n",
    "Ihigh = [52]\n",
    "\n",
    "print([np.round(np.tan(np.radians(Io[i]))/np.tan(np.radians(IEI[i])),2) for i in range(len(Io))])\n",
    "print([np.round(np.tan(np.radians(Io[i]))/np.tan(np.radians(Ilow[i])),2) for i in range(len(Io))])\n",
    "print([np.round(np.tan(np.radians(Io[i]))/np.tan(np.radians(Ihigh[i])),2) for i in range(len(Io))])"
   ]
  },
  {
   "cell_type": "markdown",
   "id": "50074992-06f4-480b-bb4c-98e9f7862c8c",
   "metadata": {
    "tags": []
   },
   "source": [
    "## van Hisbergen et al., 2007"
   ]
  },
  {
   "cell_type": "code",
   "execution_count": 20,
   "id": "4002c80b-8b21-4709-8fdd-e1d37c9cf7e2",
   "metadata": {},
   "outputs": [
    {
     "name": "stdout",
     "output_type": "stream",
     "text": [
      "[0.84, 0.59]\n",
      "[1.03, 0.89]\n",
      "[0.46, 0.37]\n"
     ]
    }
   ],
   "source": [
    "Io = [48.4,-42.1]\n",
    "Ilow = [47.6,-45.5]\n",
    "IEI = [53.4,-56.9]\n",
    "Ihigh = [67.9,-67.5]\n",
    "\n",
    "print([np.round(np.tan(np.radians(Io[i]))/np.tan(np.radians(IEI[i])),2) for i in range(len(Io))])\n",
    "print([np.round(np.tan(np.radians(Io[i]))/np.tan(np.radians(Ilow[i])),2) for i in range(len(Io))])\n",
    "print([np.round(np.tan(np.radians(Io[i]))/np.tan(np.radians(Ihigh[i])),2) for i in range(len(Io))])"
   ]
  },
  {
   "cell_type": "markdown",
   "id": "d59ca981-e102-4879-99d5-88487d3175b9",
   "metadata": {
    "tags": []
   },
   "source": [
    "## Maron et al., 2015"
   ]
  },
  {
   "cell_type": "code",
   "execution_count": 21,
   "id": "42ce5294-716a-4d78-a8bf-8e6fb8f25087",
   "metadata": {},
   "outputs": [
    {
     "name": "stdout",
     "output_type": "stream",
     "text": [
      "[0.58]\n",
      "[0.79]\n",
      "[0.47]\n"
     ]
    }
   ],
   "source": [
    "Io = [32.5]\n",
    "Ilow = [39]\n",
    "IEI = [47.7]\n",
    "Ihigh = [53.7]\n",
    "\n",
    "print([np.round(np.tan(np.radians(Io[i]))/np.tan(np.radians(IEI[i])),2) for i in range(len(Io))])\n",
    "print([np.round(np.tan(np.radians(Io[i]))/np.tan(np.radians(Ilow[i])),2) for i in range(len(Io))])\n",
    "print([np.round(np.tan(np.radians(Io[i]))/np.tan(np.radians(Ihigh[i])),2) for i in range(len(Io))])"
   ]
  },
  {
   "cell_type": "markdown",
   "id": "ab91aea3-4089-4caf-8105-0867988bf8fd",
   "metadata": {
    "tags": []
   },
   "source": [
    "## Vasiliev et al., 2007"
   ]
  },
  {
   "cell_type": "code",
   "execution_count": 22,
   "id": "f5df758f-7df2-45be-8acb-378db6720c30",
   "metadata": {},
   "outputs": [
    {
     "name": "stdout",
     "output_type": "stream",
     "text": [
      "[0.44, 0.57]\n",
      "[0.84, 0.88]\n",
      "[0.25, 0.31]\n"
     ]
    }
   ],
   "source": [
    "Io = [50.5, 52.7]\n",
    "Ilow = [55.3, 56.2]\n",
    "IEI = [69.9, 66.6]\n",
    "Ihigh = [78.4,76.8]\n",
    "\n",
    "print([np.round(np.tan(np.radians(Io[i]))/np.tan(np.radians(IEI[i])),2) for i in range(len(Io))])\n",
    "print([np.round(np.tan(np.radians(Io[i]))/np.tan(np.radians(Ilow[i])),2) for i in range(len(Io))])\n",
    "print([np.round(np.tan(np.radians(Io[i]))/np.tan(np.radians(Ihigh[i])),2) for i in range(len(Io))])"
   ]
  },
  {
   "cell_type": "markdown",
   "id": "85ca0634-d7a1-421c-a6a3-3b8ce903517c",
   "metadata": {
    "tags": []
   },
   "source": [
    "## Yu et al., 2014"
   ]
  },
  {
   "cell_type": "code",
   "execution_count": 23,
   "id": "ec39972d-717d-4b16-bbf0-f179ade6e521",
   "metadata": {},
   "outputs": [
    {
     "name": "stdout",
     "output_type": "stream",
     "text": [
      "[0.82]\n",
      "[0.99]\n",
      "[0.65]\n"
     ]
    }
   ],
   "source": [
    "Io = [46]\n",
    "Ilow = [46.4]\n",
    "IEI = [51.7]\n",
    "Ihigh = [57.7]\n",
    "\n",
    "print([np.round(np.tan(np.radians(Io[i]))/np.tan(np.radians(IEI[i])),2) for i in range(len(Io))])\n",
    "print([np.round(np.tan(np.radians(Io[i]))/np.tan(np.radians(Ilow[i])),2) for i in range(len(Io))])\n",
    "print([np.round(np.tan(np.radians(Io[i]))/np.tan(np.radians(Ihigh[i])),2) for i in range(len(Io))])"
   ]
  },
  {
   "cell_type": "markdown",
   "id": "0c7381a4-cb4a-4994-9e42-c9d576f50964",
   "metadata": {
    "tags": []
   },
   "source": [
    "## Tong et al., 2017"
   ]
  },
  {
   "cell_type": "code",
   "execution_count": 24,
   "id": "6523ab71-7adb-44e2-8d3a-5f9b2efa5adb",
   "metadata": {},
   "outputs": [
    {
     "name": "stdout",
     "output_type": "stream",
     "text": [
      "[0.62, 0.73]\n",
      "[0.78, 0.94]\n",
      "[0.52, 0.58]\n"
     ]
    }
   ],
   "source": [
    "Io = [27.8, 31.8]\n",
    "Ilow = [34,33.5]\n",
    "IEI = [40.3,40.4]\n",
    "Ihigh = [45.3,46.7]\n",
    "\n",
    "print([np.round(np.tan(np.radians(Io[i]))/np.tan(np.radians(IEI[i])),2) for i in range(len(Io))])\n",
    "print([np.round(np.tan(np.radians(Io[i]))/np.tan(np.radians(Ilow[i])),2) for i in range(len(Io))])\n",
    "print([np.round(np.tan(np.radians(Io[i]))/np.tan(np.radians(Ihigh[i])),2) for i in range(len(Io))])"
   ]
  },
  {
   "cell_type": "markdown",
   "id": "b46968eb-360e-4409-90ad-1fbfaefcbafc",
   "metadata": {
    "tags": []
   },
   "source": [
    "## Krijgsman and Tauxe, 2006"
   ]
  },
  {
   "cell_type": "code",
   "execution_count": 25,
   "id": "86ba0caa-7e80-4066-b0fe-90f0acf4071a",
   "metadata": {},
   "outputs": [
    {
     "name": "stdout",
     "output_type": "stream",
     "text": [
      "[0.7]\n",
      "[0.9]\n",
      "[0.57]\n"
     ]
    }
   ],
   "source": [
    "Io = [57]\n",
    "Ilow = [56]\n",
    "IEI = [58]\n",
    "Ihigh = [64]\n",
    "\n",
    "print([np.round(np.tan(np.radians(Io[i]))/np.tan(np.radians(IEI[i])),2) for i in range(len(Io))])\n",
    "print([np.round(np.tan(np.radians(Io[i]))/np.tan(np.radians(Ilow[i])),2) for i in range(len(Io))])\n",
    "print([np.round(np.tan(np.radians(Io[i]))/np.tan(np.radians(Ihigh[i])),2) for i in range(len(Io))])"
   ]
  },
  {
   "cell_type": "code",
   "execution_count": 27,
   "id": "b053d54f-53ec-4924-b364-783f1258266e",
   "metadata": {},
   "outputs": [
    {
     "name": "stdout",
     "output_type": "stream",
     "text": [
      "[0.7]\n",
      "[0.9]\n",
      "[0.57]\n"
     ]
    }
   ],
   "source": [
    "Io = [47]\n",
    "Ilow = [50]\n",
    "IEI = [57]\n",
    "Ihigh = [62]\n",
    "\n",
    "print([np.round(np.tan(np.radians(Io[i]))/np.tan(np.radians(IEI[i])),2) for i in range(len(Io))])\n",
    "print([np.round(np.tan(np.radians(Io[i]))/np.tan(np.radians(Ilow[i])),2) for i in range(len(Io))])\n",
    "print([np.round(np.tan(np.radians(Io[i]))/np.tan(np.radians(Ihigh[i])),2) for i in range(len(Io))])"
   ]
  },
  {
   "cell_type": "markdown",
   "id": "c8986816-7c6a-42d1-adb5-26924a46c3fc",
   "metadata": {
    "tags": []
   },
   "source": [
    "## Yu et al., 2014"
   ]
  },
  {
   "cell_type": "code",
   "execution_count": 25,
   "id": "bdfebd20-6390-49a6-9617-d999e8238a7e",
   "metadata": {},
   "outputs": [
    {
     "name": "stdout",
     "output_type": "stream",
     "text": [
      "[0.7]\n",
      "[0.9]\n",
      "[0.57]\n"
     ]
    }
   ],
   "source": [
    "Io = [57]\n",
    "Ilow = [52]\n",
    "IEI = [57.1]\n",
    "Ihigh = [62]\n",
    "\n",
    "print([np.round(np.tan(np.radians(Io[i]))/np.tan(np.radians(IEI[i])),2) for i in range(len(Io))])\n",
    "print([np.round(np.tan(np.radians(Io[i]))/np.tan(np.radians(Ilow[i])),2) for i in range(len(Io))])\n",
    "print([np.round(np.tan(np.radians(Io[i]))/np.tan(np.radians(Ihigh[i])),2) for i in range(len(Io))])"
   ]
  },
  {
   "cell_type": "code",
   "execution_count": null,
   "id": "0df6e2bb-82d5-437f-bdac-610de06315b1",
   "metadata": {},
   "outputs": [],
   "source": []
  },
  {
   "cell_type": "code",
   "execution_count": null,
   "id": "88fb69d3-58d2-4d18-a4a5-ab1da3d140e6",
   "metadata": {},
   "outputs": [],
   "source": []
  },
  {
   "cell_type": "code",
   "execution_count": null,
   "id": "60fd95e6-62d0-45d4-9711-7046b4f4a618",
   "metadata": {},
   "outputs": [],
   "source": []
  }
 ],
 "metadata": {
  "kernelspec": {
   "display_name": "Python 3 (ipykernel)",
   "language": "python",
   "name": "python3"
  },
  "language_info": {
   "codemirror_mode": {
    "name": "ipython",
    "version": 3
   },
   "file_extension": ".py",
   "mimetype": "text/x-python",
   "name": "python",
   "nbconvert_exporter": "python",
   "pygments_lexer": "ipython3",
   "version": "3.8.13"
  }
 },
 "nbformat": 4,
 "nbformat_minor": 5
}
