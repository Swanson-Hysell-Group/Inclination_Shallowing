{
 "cells": [
  {
   "cell_type": "markdown",
   "metadata": {},
   "source": [
    "# Notebook for comparing the empirically derived f factor and that derived from the E/I method for Cut Face Sandstone"
   ]
  },
  {
   "cell_type": "code",
   "execution_count": 2,
   "metadata": {},
   "outputs": [],
   "source": [
    "import numpy as np\n",
    "import pandas as pd\n",
    "pd.set_option('display.max_columns', None)\n",
    "\n",
    "import pmagpy.ipmag as ipmag\n",
    "import pmagpy.pmag as pmag\n",
    "\n",
    "import scipy.stats as st\n",
    "import matplotlib.pyplot as plt\n",
    "from IPython.display import display\n",
    "import matplotlib as mpl\n",
    "from matplotlib import cm\n",
    "import math as math\n",
    "\n",
    "%config InlineBackend.figure_format = 'retina'"
   ]
  },
  {
   "cell_type": "markdown",
   "metadata": {},
   "source": [
    "## Load Cut Face demagnetization data"
   ]
  },
  {
   "cell_type": "code",
   "execution_count": 3,
   "metadata": {},
   "outputs": [],
   "source": [
    "Cutface_specimens = pd.read_csv('../../data/Pmag/cutface/specimens.txt', sep='\\t', header=1)\n",
    "specimens_mt_tc = Cutface_specimens[(Cutface_specimens['dir_comp']=='mt') & (Cutface_specimens['dir_tilt_correction']==100)]\n",
    "specimens_ht_tc = Cutface_specimens[(Cutface_specimens['dir_comp']=='ht') & (Cutface_specimens['dir_tilt_correction']==100)]"
   ]
  },
  {
   "cell_type": "code",
   "execution_count": 4,
   "metadata": {},
   "outputs": [
    {
     "data": {
      "text/plain": [
       "{'dec': 286.49699313337345,\n",
       " 'inc': 42.003560540334476,\n",
       " 'n': 167,\n",
       " 'r': 163.55867702232504,\n",
       " 'k': 48.23726255190197,\n",
       " 'alpha95': 1.5861242493209464,\n",
       " 'csd': 11.662554654251615}"
      ]
     },
     "execution_count": 4,
     "metadata": {},
     "output_type": "execute_result"
    }
   ],
   "source": [
    "mean_mt = ipmag.fisher_mean(specimens_mt_tc['dir_dec'].tolist(),specimens_mt_tc['dir_inc'].tolist())\n",
    "mean_mt"
   ]
  },
  {
   "cell_type": "code",
   "execution_count": 5,
   "metadata": {},
   "outputs": [
    {
     "data": {
      "text/plain": [
       "{'dec': 286.57662835036626,\n",
       " 'inc': 29.430252935780295,\n",
       " 'n': 157,\n",
       " 'r': 152.63958083558612,\n",
       " 'k': 35.77637702199419,\n",
       " 'alpha95': 1.9070660543868,\n",
       " 'csd': 13.542125665843008}"
      ]
     },
     "execution_count": 5,
     "metadata": {},
     "output_type": "execute_result"
    }
   ],
   "source": [
    "mean_ht = ipmag.fisher_mean(specimens_ht_tc['dir_dec'].tolist(),specimens_ht_tc['dir_inc'].tolist())\n",
    "mean_ht"
   ]
  },
  {
   "cell_type": "markdown",
   "metadata": {},
   "source": [
    "## Load North Shore Volcanic Group site level paleodirection data"
   ]
  },
  {
   "cell_type": "code",
   "execution_count": 6,
   "metadata": {},
   "outputs": [
    {
     "data": {
      "text/plain": [
       "{'dec': 291.3242830230793,\n",
       " 'inc': 40.25007073978004,\n",
       " 'n': 28,\n",
       " 'r': 27.15979233643242,\n",
       " 'k': 32.134912796862814,\n",
       " 'alpha95': 4.883450101163713,\n",
       " 'csd': 14.288822983259386}"
      ]
     },
     "execution_count": 6,
     "metadata": {},
     "output_type": "execute_result"
    }
   ],
   "source": [
    "NSVG_Data=pd.read_csv('../../data/data_Compiled/Tauxe2009/pmag_results.txt',sep='\\t',skiprows=1)\n",
    "nneu_site_list = ['ns002',\n",
    "                  'ns003',\n",
    "                  'ns004',\n",
    "                  'ns005',\n",
    "                  'ns016',\n",
    "                  'ns018',\n",
    "                  'ns019',\n",
    "                  'ns020',\n",
    "                  'ns021',\n",
    "                  'ns022',\n",
    "                  'ns023',\n",
    "                  'ns028',\n",
    "                  'ns030',\n",
    "                  'ns031',\n",
    "                  'ns032']\n",
    "nneu_data = NSVG_Data.loc[NSVG_Data['er_site_names'].isin(nneu_site_list)]\n",
    "Books1972_sites = pd.read_csv('../../data/data_compiled/Books1972/sites.txt',sep='\\t',header=1)\n",
    "Books1972_MN_sites = Books1972_sites[Books1972_sites.location == 'North Shore Volcanic Group:Minnesota']\n",
    "nneu_nmil_sites_B72 = ['NS269','NS378','NS227']\n",
    "nneu_nkcr_sites_B72 = ['NS229','NS375']\n",
    "nneu_nrcb_sites_B72 = ['NS226']\n",
    "nneu_ncvb_sites_B72 = ['NS362','NS365']\n",
    "nneu_ngha_sites_B72 = ['NS367','NS265']\n",
    "nneu_ntpb_sites_B72 = ['NS368',\n",
    "                       'NS369',\n",
    "                       'NS374',\n",
    "                       'NS376',\n",
    "                       'NS377',\n",
    "                       'NS169',\n",
    "                       'NS170',\n",
    "                       'NS171']\n",
    "nneu_norl_sites_B72 = ['NS370',\n",
    "                       'NS371',\n",
    "                       'NS372']\n",
    "nneu_B72_site_list = nneu_nmil_sites_B72 + nneu_nkcr_sites_B72 + nneu_nrcb_sites_B72 + nneu_ncvb_sites_B72 + nneu_ngha_sites_B72 + nneu_norl_sites_B72 \n",
    "nneu_data_B72 = Books1972_MN_sites.loc[Books1972_MN_sites['site'].isin(nneu_B72_site_list)]\n",
    "nneu_combined_dir_dec = nneu_data_B72.dir_dec.tolist() + nneu_data.average_dec.tolist()\n",
    "nneu_combined_dir_inc = nneu_data_B72.dir_inc.tolist() + nneu_data.average_inc.tolist()\n",
    "\n",
    "\n",
    "nneu_dirs = ipmag.make_di_block(nneu_combined_dir_dec,\n",
    "                                nneu_combined_dir_inc)\n",
    "nneu_dir_mean=pmag.fisher_mean(nneu_dirs)\n",
    "nneu_dir_mean"
   ]
  },
  {
   "cell_type": "markdown",
   "metadata": {},
   "source": [
    "## common mean test for CF-MT vs CF-HT (with f factors ranging from 0.1 to 1)"
   ]
  },
  {
   "cell_type": "code",
   "execution_count": 7,
   "metadata": {},
   "outputs": [],
   "source": [
    "mt_directions_block=ipmag.make_di_block(specimens_mt_tc['dir_dec'].tolist(),specimens_mt_tc['dir_inc'].tolist())\n",
    "ht_directions_block=ipmag.make_di_block(specimens_ht_tc['dir_dec'].tolist(),specimens_ht_tc['dir_inc'].tolist())\n",
    "\n",
    "spec_ht_inc=specimens_ht_tc['dir_inc'].tolist()\n",
    "spec_ht_dec=specimens_ht_tc['dir_dec'].tolist()"
   ]
  },
  {
   "cell_type": "code",
   "execution_count": 7,
   "metadata": {},
   "outputs": [],
   "source": [
    "f_factors = np.arange(0.1,1,.005)\n",
    "\n",
    "all_f_factors_mt = []\n",
    "all_angles_mt = []\n",
    "\n",
    "for f_fact in f_factors:\n",
    "\n",
    "    ht_unsquished_incs = ipmag.unsquish(spec_ht_inc, f_fact)\n",
    "    ht_unsquished_directions_block = ipmag.make_di_block(spec_ht_dec,ht_unsquished_incs)\n",
    "    watson_common_mean = ipmag.common_mean_watson(ht_unsquished_directions_block, mt_directions_block,NumSims=100,print_result=False)\n",
    "    all_f_factors_mt.append(f_fact)\n",
    "    all_angles_mt.append(watson_common_mean[1])\n",
    "\n"
   ]
  },
  {
   "cell_type": "code",
   "execution_count": 8,
   "metadata": {},
   "outputs": [],
   "source": [
    "#all_f_factors_mt=np.array(all_f_factors_mt)\n",
    "#np.savetxt('../code_output/all_factors_mt.txt',all_f_factors_mt)\n",
    "#all_angles_f_mt=np.array(all_angles_mt)\n",
    "#np.savetxt('../code_output/all_angles_mt.txt',all_angles_f_mt)"
   ]
  },
  {
   "cell_type": "markdown",
   "metadata": {},
   "source": [
    "## common mean test for CF-MT vs CF-HT (with f factors ranging from 0.5 to 0.7)\n",
    "\n",
    "common mean test between the mid-temperature component and the high-temperature component of Cut Face directions\n",
    "\n",
    "This method is for empirically deriving the f factor by interating through a range of values for f to unsquish the high-temperature component of specimen directions and use the Watson commen mean test for judging whether the resulting directions share a common mean with the mid-temperature directions which are interepreted to be CRMs and do not suffer from inclination shallowing."
   ]
  },
  {
   "cell_type": "code",
   "execution_count": 9,
   "metadata": {},
   "outputs": [],
   "source": [
    "f_factors = np.arange(0.5,0.7,.001)\n",
    "\n",
    "successful_f_factors_mt = []\n",
    "successful_angles_mt = []\n",
    "\n",
    "for f_fact in f_factors:\n",
    "\n",
    "    ht_unsquished_incs = ipmag.unsquish(spec_ht_inc, f_fact)\n",
    "    ht_unsquished_directions_block = ipmag.make_di_block(spec_ht_dec,ht_unsquished_incs)\n",
    "    watson_common_mean = ipmag.common_mean_watson(ht_unsquished_directions_block, mt_directions_block,NumSims=300,print_result=False)\n",
    "    if watson_common_mean[0] == 1:\n",
    "        successful_f_factors_mt.append(f_fact)\n",
    "        successful_angles_mt.append(watson_common_mean[1])"
   ]
  },
  {
   "cell_type": "code",
   "execution_count": 10,
   "metadata": {},
   "outputs": [],
   "source": [
    "#good_f_factors_mt=np.array(successful_f_factors_mt)\n",
    "#np.savetxt('../code_output/good_f_factors_mt.txt',good_f_factors_mt)\n",
    "#good_angles_mt=np.array(successful_angles_mt)\n",
    "#np.savetxt('../code_output/good_angles_mt.txt',good_angles_mt)"
   ]
  },
  {
   "cell_type": "markdown",
   "metadata": {},
   "source": [
    "## common mean test for CF-MT vs CF-HT - high resolution (with f factors ranging from 0.5 to 0.7)"
   ]
  },
  {
   "cell_type": "code",
   "execution_count": 9,
   "metadata": {},
   "outputs": [],
   "source": [
    "f_factors = np.arange(0.1,1,.001)\n",
    "\n",
    "all_001__f_factors_mt = []\n",
    "all_001_angles_mt = []\n",
    "\n",
    "for f_fact in f_factors:\n",
    "\n",
    "    ht_unsquished_incs = ipmag.unsquish(spec_ht_inc, f_fact)\n",
    "    ht_unsquished_directions_block = ipmag.make_di_block(spec_ht_dec,ht_unsquished_incs)\n",
    "    watson_common_mean = ipmag.common_mean_watson(ht_unsquished_directions_block, mt_directions_block,NumSims=300,print_result=False)\n",
    "    all_001__f_factors_mt.append(f_fact)\n",
    "    all_001_angles_mt.append(watson_common_mean[1])"
   ]
  },
  {
   "cell_type": "code",
   "execution_count": 10,
   "metadata": {},
   "outputs": [],
   "source": [
    "all_001__f_factors_mt=np.array(all_001__f_factors_mt)\n",
    "np.savetxt('../code_output/all_001_f_factors_mt.txt',all_001__f_factors_mt)\n",
    "all_001_angles_mt=np.array(all_001_angles_mt)\n",
    "np.savetxt('../code_output/all_001_angles_mt.txt',all_001_angles_mt)"
   ]
  },
  {
   "cell_type": "markdown",
   "metadata": {},
   "source": [
    "## common mean test for NSVG vs CF-HT (with f factors ranging from 0.1 to 1)\n"
   ]
  },
  {
   "cell_type": "code",
   "execution_count": 11,
   "metadata": {},
   "outputs": [],
   "source": [
    "f_factors = np.arange(0.1,1,.005)\n",
    "\n",
    "all_factors_nsvg = []\n",
    "all_angles_nsvg = []\n",
    "\n",
    "for f_fact_nsvg in f_factors:\n",
    "\n",
    "    ht_unsquished_incs = ipmag.unsquish(spec_ht_inc, f_fact_nsvg)\n",
    "    ht_unsquished_directions_block = ipmag.make_di_block(spec_ht_dec,ht_unsquished_incs)\n",
    "    watson_common_mean = ipmag.common_mean_watson(ht_unsquished_directions_block, nneu_dirs,NumSims=100,print_result=False)\n",
    "    all_factors_nsvg.append(f_fact_nsvg)\n",
    "    all_angles_nsvg.append(watson_common_mean[1])"
   ]
  },
  {
   "cell_type": "code",
   "execution_count": 12,
   "metadata": {},
   "outputs": [],
   "source": [
    "#all_factors_nsvg=np.array(all_factors_nsvg)\n",
    "#np.savetxt('../code_output/all_factors_nsvg.txt',all_factors_nsvg)\n",
    "#all_angles_nsvg=np.array(all_angles_nsvg)\n",
    "#np.savetxt('../code_output/all_angles_nsvg.txt',all_angles_nsvg)"
   ]
  },
  {
   "cell_type": "markdown",
   "metadata": {},
   "source": [
    "## common mean test for NSVG vs CF-HT (with f factors ranging from 0.5 to 0.8)\n",
    "\n",
    "common mean test between the North Shore Volcanic Group directions that do not suffer from inclination shallowing and the high-temperature component of Cut Face directions."
   ]
  },
  {
   "cell_type": "code",
   "execution_count": 13,
   "metadata": {},
   "outputs": [],
   "source": [
    "f_factors = np.arange(0.5,0.8,.001)\n",
    "\n",
    "successful_f_factors_nsvg = []\n",
    "successful_angles_nsvg = []\n",
    "\n",
    "for f_fact_nsvg in f_factors:\n",
    "\n",
    "    ht_unsquished_incs = ipmag.unsquish(spec_ht_inc, f_fact_nsvg)\n",
    "    ht_unsquished_directions_block = ipmag.make_di_block(spec_ht_dec,ht_unsquished_incs)\n",
    "    watson_common_mean = ipmag.common_mean_watson(ht_unsquished_directions_block, nneu_dirs,NumSims=300,print_result=False)\n",
    "    if watson_common_mean[0] == 1:\n",
    "        successful_f_factors_nsvg.append(f_fact_nsvg)\n",
    "        successful_angles_nsvg.append(watson_common_mean[1])"
   ]
  },
  {
   "cell_type": "code",
   "execution_count": 14,
   "metadata": {},
   "outputs": [],
   "source": [
    "#successful_f_factors_nsvg=np.array(successful_f_factors_nsvg)\n",
    "#np.savetxt('../code_output/good_f_factors_nsvg.txt',successful_f_factors_nsvg)\n",
    "#good_angles_mt=np.array(successful_angles_nsvg)\n",
    "#np.savetxt('../code_output/good_angles_nsvg.txt',successful_angles_nsvg)"
   ]
  },
  {
   "cell_type": "markdown",
   "metadata": {},
   "source": [
    "### Common mean test for NSVG vs CF-HT - high resolution 0.1 to 1"
   ]
  },
  {
   "cell_type": "code",
   "execution_count": null,
   "metadata": {},
   "outputs": [],
   "source": [
    "f_factors = np.arange(0.1,1,.001)\n",
    "\n",
    "all_001_f_factors_nsvg = []\n",
    "all_001_angles_nsvg = []\n",
    "\n",
    "for f_fact_nsvg in f_factors:\n",
    "\n",
    "    ht_unsquished_incs = ipmag.unsquish(spec_ht_inc, f_fact_nsvg)\n",
    "    ht_unsquished_directions_block = ipmag.make_di_block(spec_ht_dec,ht_unsquished_incs)\n",
    "    watson_common_mean = ipmag.common_mean_watson(ht_unsquished_directions_block, nneu_dirs,NumSims=300,print_result=False)\n",
    "    all_001_f_factors_nsvg.append(f_fact_nsvg)\n",
    "    all_001_angles_nsvg.append(watson_common_mean[1])"
   ]
  },
  {
   "cell_type": "code",
   "execution_count": null,
   "metadata": {},
   "outputs": [],
   "source": [
    "all_001_f_factors_nsvg=np.array(all_001_f_factors_nsvg)\n",
    "np.savetxt('../code_output/all_001_f_factors_nsvg.txt',all_001_f_factors_nsvg)\n",
    "all_001_angles_nsvg=np.array(all_001_angles_nsvg)\n",
    "np.savetxt('../code_output/all_001_angles_nsvg.txt',all_001_angles_nsvg)"
   ]
  },
  {
   "cell_type": "markdown",
   "metadata": {},
   "source": [
    "## Performing empirical commen mean method and E/I method in context of grain sizes of Cut Face sandstone"
   ]
  },
  {
   "cell_type": "code",
   "execution_count": 7,
   "metadata": {},
   "outputs": [],
   "source": [
    "cf_grain_sizes=pd.read_csv('../../data/Pmag/cf_specimen_lithologies.csv')\n",
    "cf_specimens_directions_and_grain=pd.merge(cf_grain_sizes,Cutface_specimens,on='specimen')"
   ]
  },
  {
   "cell_type": "code",
   "execution_count": 8,
   "metadata": {},
   "outputs": [],
   "source": [
    "cf_fm_grain=cf_specimens_directions_and_grain[(cf_specimens_directions_and_grain['primary_grain_size']>=3) & \n",
    "                                                  (cf_specimens_directions_and_grain['dir_comp']=='ht')&\n",
    "                                                  (cf_specimens_directions_and_grain['dir_tilt_correction']==100)]\n",
    "\n",
    "cf_vfs_grain=cf_specimens_directions_and_grain[(cf_specimens_directions_and_grain['primary_grain_size']==2) & \n",
    "                                               (cf_specimens_directions_and_grain['dir_comp']=='ht')&\n",
    "                                               (cf_specimens_directions_and_grain['dir_tilt_correction']==100)]\n",
    "\n",
    "cf_silt_grain=cf_specimens_directions_and_grain[(cf_specimens_directions_and_grain['primary_grain_size']<=1) & \n",
    "                                                (cf_specimens_directions_and_grain['dir_comp']=='ht')&\n",
    "                                                (cf_specimens_directions_and_grain['dir_tilt_correction']==100)]"
   ]
  },
  {
   "cell_type": "markdown",
   "metadata": {},
   "source": [
    "### Clay and Silt empirical f\n",
    "Watson common mean test for NSVG vs CF fine-grained specimen directions"
   ]
  },
  {
   "cell_type": "code",
   "execution_count": 8,
   "metadata": {},
   "outputs": [],
   "source": [
    "cf_silt_grain_incs=cf_silt_grain['dir_inc']\n",
    "cf_silt_grain_decs=cf_silt_grain['dir_dec']"
   ]
  },
  {
   "cell_type": "code",
   "execution_count": 10,
   "metadata": {},
   "outputs": [],
   "source": [
    "f_factors = np.arange(0.3,0.7,.005)\n",
    "\n",
    "good_factors_silt_grain = []\n",
    "good_angles_silt_grain = []\n",
    "\n",
    "for f_fact_nsvg in f_factors:\n",
    "\n",
    "    silt_grain_unsquished_incs = ipmag.unsquish(cf_silt_grain_incs.tolist(), f_fact_nsvg)\n",
    "    silt_grain_unsquished_directions_block = ipmag.make_di_block(cf_silt_grain_decs.tolist(),silt_grain_unsquished_incs)\n",
    "    watson_common_mean = ipmag.common_mean_watson(silt_grain_unsquished_directions_block, nneu_dirs,NumSims=100,print_result=False)\n",
    "    if watson_common_mean[0] == 1: \n",
    "        good_factors_silt_grain.append(f_fact_nsvg)\n",
    "        good_angles_silt_grain.append(watson_common_mean[1])"
   ]
  },
  {
   "cell_type": "code",
   "execution_count": 11,
   "metadata": {},
   "outputs": [
    {
     "name": "stdout",
     "output_type": "stream",
     "text": [
      "0.56 for specimens predominantly clay and silt\n"
     ]
    }
   ],
   "source": [
    "print(round(good_factors_silt_grain[good_angles_silt_grain.index(min(good_angles_silt_grain))],4),'for specimens predominantly clay and silt')"
   ]
  },
  {
   "cell_type": "code",
   "execution_count": 12,
   "metadata": {},
   "outputs": [],
   "source": [
    "np.savetxt('../code_output/good_f_factors_silt.txt',np.array(good_factors_silt_grain))\n",
    "np.savetxt('../code_output/good_angles_silt.txt',np.array(good_angles_silt_grain))"
   ]
  },
  {
   "cell_type": "markdown",
   "metadata": {},
   "source": [
    "### Very fine sand grain f\n",
    "\n",
    "Watson common mean test for NSVG vs CF very fine-grained specimen directions"
   ]
  },
  {
   "cell_type": "code",
   "execution_count": 9,
   "metadata": {},
   "outputs": [],
   "source": [
    "cf_vf_grain_incs=cf_vfs_grain['dir_inc']\n",
    "cf_vf_grain_decs=cf_vfs_grain['dir_dec']"
   ]
  },
  {
   "cell_type": "code",
   "execution_count": 10,
   "metadata": {},
   "outputs": [],
   "source": [
    "f_factors = np.arange(0.4,.8,.005)\n",
    "\n",
    "good_factors_vf_grain = []\n",
    "good_angles_vf_grain = []\n",
    "\n",
    "for f_fact_nsvg in f_factors:\n",
    "\n",
    "    cf_vf_unsquished_incs = ipmag.unsquish(cf_vf_grain_incs.tolist(), f_fact_nsvg)\n",
    "    cf_vf_unsquished_directions_block = ipmag.make_di_block(cf_vf_grain_decs.tolist(),cf_vf_unsquished_incs)\n",
    "    watson_common_mean = ipmag.common_mean_watson(cf_vf_unsquished_directions_block, nneu_dirs,NumSims=100,print_result=False)\n",
    "    if watson_common_mean[0] == 1: \n",
    "        good_factors_vf_grain.append(f_fact_nsvg)\n",
    "        good_angles_vf_grain.append(watson_common_mean[1])"
   ]
  },
  {
   "cell_type": "code",
   "execution_count": 11,
   "metadata": {},
   "outputs": [
    {
     "name": "stdout",
     "output_type": "stream",
     "text": [
      "0.66 for specimens predominantly very fine sand\n"
     ]
    }
   ],
   "source": [
    "print(round(good_factors_vf_grain[good_angles_vf_grain.index(min(good_angles_vf_grain))],4),'for specimens predominantly very fine sand')"
   ]
  },
  {
   "cell_type": "code",
   "execution_count": 12,
   "metadata": {},
   "outputs": [],
   "source": [
    "np.savetxt('../code_output/good_f_factors_vf.txt',np.array(good_factors_vf_grain))\n",
    "np.savetxt('../code_output/good_angles_vf.txt',np.array(good_angles_vf_grain))"
   ]
  },
  {
   "cell_type": "markdown",
   "metadata": {},
   "source": [
    "### fine and medium sand f"
   ]
  },
  {
   "cell_type": "code",
   "execution_count": 13,
   "metadata": {},
   "outputs": [],
   "source": [
    "cf_fm_grain_incs=cf_fm_grain['dir_inc']\n",
    "cf_fm_grain_decs=cf_fm_grain['dir_dec']"
   ]
  },
  {
   "cell_type": "code",
   "execution_count": 14,
   "metadata": {},
   "outputs": [],
   "source": [
    "f_factors = np.arange(0.55,.9,.005)\n",
    "\n",
    "good_factors_fm_grain = []\n",
    "good_angles_fm_grain = []\n",
    "\n",
    "for f_fact_nsvg in f_factors:\n",
    "\n",
    "    cf_fm_unsquished_incs = ipmag.unsquish(cf_fm_grain_incs.tolist(), f_fact_nsvg)\n",
    "    cf_fm_unsquished_directions_block = ipmag.make_di_block(cf_fm_grain_decs.tolist(),cf_fm_unsquished_incs)\n",
    "    watson_common_mean = ipmag.common_mean_watson(cf_fm_unsquished_directions_block, nneu_dirs,NumSims=500,print_result=False)\n",
    "    if watson_common_mean[0] == 1: \n",
    "        good_factors_fm_grain.append(f_fact_nsvg)\n",
    "        good_angles_fm_grain.append(watson_common_mean[1])"
   ]
  },
  {
   "cell_type": "code",
   "execution_count": 15,
   "metadata": {},
   "outputs": [
    {
     "name": "stdout",
     "output_type": "stream",
     "text": [
      "0.74 for specimens predominantly fine and medium sand\n"
     ]
    }
   ],
   "source": [
    "print(round(good_factors_fm_grain[good_angles_fm_grain.index(min(good_angles_fm_grain))],4),'for specimens predominantly fine and medium sand')"
   ]
  },
  {
   "cell_type": "code",
   "execution_count": 16,
   "metadata": {},
   "outputs": [],
   "source": [
    "np.savetxt('../code_output/good_f_factors_fm.txt',np.array(good_factors_fm_grain))\n",
    "np.savetxt('../code_output/good_angles_fm.txt',np.array(good_angles_fm_grain))"
   ]
  },
  {
   "cell_type": "code",
   "execution_count": 21,
   "metadata": {},
   "outputs": [
    {
     "data": {
      "text/plain": [
       "0.5431906404825989"
      ]
     },
     "execution_count": 21,
     "metadata": {},
     "output_type": "execute_result"
    }
   ],
   "source": [
    "np.tan(np.radians(41))/np.tan(np.radians(58))"
   ]
  },
  {
   "cell_type": "code",
   "execution_count": 22,
   "metadata": {},
   "outputs": [
    {
     "data": {
      "text/plain": [
       "0.5060092240090853"
      ]
     },
     "execution_count": 22,
     "metadata": {},
     "output_type": "execute_result"
    }
   ],
   "source": [
    "np.tan(np.radians(39))/np.tan(np.radians(58))"
   ]
  },
  {
   "cell_type": "code",
   "execution_count": null,
   "metadata": {},
   "outputs": [],
   "source": []
  },
  {
   "cell_type": "code",
   "execution_count": null,
   "metadata": {},
   "outputs": [],
   "source": []
  }
 ],
 "metadata": {
  "kernelspec": {
   "display_name": "Python 3",
   "language": "python",
   "name": "python3"
  },
  "language_info": {
   "codemirror_mode": {
    "name": "ipython",
    "version": 3
   },
   "file_extension": ".py",
   "mimetype": "text/x-python",
   "name": "python",
   "nbconvert_exporter": "python",
   "pygments_lexer": "ipython3",
   "version": "3.8.3"
  }
 },
 "nbformat": 4,
 "nbformat_minor": 4
}
