{
 "cells": [
  {
   "cell_type": "code",
   "execution_count": 1,
   "metadata": {},
   "outputs": [],
   "source": [
    "import numpy as np\n",
    "import pandas as pd\n",
    "pd.set_option('display.max_columns', None)\n",
    "\n",
    "import pmagpy.ipmag as ipmag\n",
    "import pmagpy.pmag as pmag\n",
    "\n",
    "import scipy.stats as st\n",
    "import matplotlib.pyplot as plt\n",
    "from IPython.display import display\n",
    "import matplotlib as mpl\n",
    "from matplotlib import cm\n",
    "import math as math\n",
    "\n",
    "%config InlineBackend.figure_format = 'retina'"
   ]
  },
  {
   "cell_type": "code",
   "execution_count": 2,
   "metadata": {},
   "outputs": [],
   "source": [
    "Cutface_specimens = pd.read_csv('../data/Pmag/cutface/specimens.txt', sep='\\t', header=1)\n",
    "specimens_mt_tc = Cutface_specimens[(Cutface_specimens['dir_comp']=='mt') & (Cutface_specimens['dir_tilt_correction']==100)]\n",
    "specimens_ht_tc = Cutface_specimens[(Cutface_specimens['dir_comp']=='ht') & (Cutface_specimens['dir_tilt_correction']==100)]"
   ]
  },
  {
   "cell_type": "markdown",
   "metadata": {},
   "source": [
    "## Watson common mean test for CF-MT vs CF-HT "
   ]
  },
  {
   "cell_type": "code",
   "execution_count": 3,
   "metadata": {},
   "outputs": [],
   "source": [
    "mt_directions_block=ipmag.make_di_block(specimens_mt_tc['dir_dec'].tolist(),specimens_mt_tc['dir_inc'].tolist())\n",
    "ht_directions_block=ipmag.make_di_block(specimens_ht_tc['dir_dec'].tolist(),specimens_ht_tc['dir_inc'].tolist())\n",
    "\n",
    "spec_ht_inc=specimens_ht_tc['dir_inc'].tolist()\n",
    "spec_ht_dec=specimens_ht_tc['dir_dec'].tolist()"
   ]
  },
  {
   "cell_type": "code",
   "execution_count": 12,
   "metadata": {},
   "outputs": [
    {
     "ename": "KeyboardInterrupt",
     "evalue": "",
     "output_type": "error",
     "traceback": [
      "\u001b[0;31m---------------------------------------------------------------------------\u001b[0m",
      "\u001b[0;31mKeyboardInterrupt\u001b[0m                         Traceback (most recent call last)",
      "\u001b[0;32m<ipython-input-12-c7bc3374220e>\u001b[0m in \u001b[0;36m<module>\u001b[0;34m\u001b[0m\n\u001b[1;32m      8\u001b[0m     \u001b[0mht_unsquished_incs\u001b[0m \u001b[0;34m=\u001b[0m \u001b[0mipmag\u001b[0m\u001b[0;34m.\u001b[0m\u001b[0munsquish\u001b[0m\u001b[0;34m(\u001b[0m\u001b[0mspec_ht_inc\u001b[0m\u001b[0;34m,\u001b[0m \u001b[0mf_fact\u001b[0m\u001b[0;34m)\u001b[0m\u001b[0;34m\u001b[0m\u001b[0;34m\u001b[0m\u001b[0m\n\u001b[1;32m      9\u001b[0m     \u001b[0mht_unsquished_directions_block\u001b[0m \u001b[0;34m=\u001b[0m \u001b[0mipmag\u001b[0m\u001b[0;34m.\u001b[0m\u001b[0mmake_di_block\u001b[0m\u001b[0;34m(\u001b[0m\u001b[0mspec_ht_dec\u001b[0m\u001b[0;34m,\u001b[0m\u001b[0mht_unsquished_incs\u001b[0m\u001b[0;34m)\u001b[0m\u001b[0;34m\u001b[0m\u001b[0;34m\u001b[0m\u001b[0m\n\u001b[0;32m---> 10\u001b[0;31m     \u001b[0mwatson_common_mean\u001b[0m \u001b[0;34m=\u001b[0m \u001b[0mipmag\u001b[0m\u001b[0;34m.\u001b[0m\u001b[0mcommon_mean_watson\u001b[0m\u001b[0;34m(\u001b[0m\u001b[0mht_unsquished_directions_block\u001b[0m\u001b[0;34m,\u001b[0m \u001b[0mmt_directions_block\u001b[0m\u001b[0;34m,\u001b[0m\u001b[0mNumSims\u001b[0m\u001b[0;34m=\u001b[0m\u001b[0;36m5000\u001b[0m\u001b[0;34m,\u001b[0m\u001b[0mprint_result\u001b[0m\u001b[0;34m=\u001b[0m\u001b[0;32mFalse\u001b[0m\u001b[0;34m)\u001b[0m\u001b[0;34m\u001b[0m\u001b[0;34m\u001b[0m\u001b[0m\n\u001b[0m\u001b[1;32m     11\u001b[0m     \u001b[0;32mif\u001b[0m \u001b[0mwatson_common_mean\u001b[0m\u001b[0;34m[\u001b[0m\u001b[0;36m0\u001b[0m\u001b[0;34m]\u001b[0m \u001b[0;34m==\u001b[0m \u001b[0;36m1\u001b[0m\u001b[0;34m:\u001b[0m\u001b[0;34m\u001b[0m\u001b[0;34m\u001b[0m\u001b[0m\n\u001b[1;32m     12\u001b[0m         \u001b[0msuccessful_f_factors_mt\u001b[0m\u001b[0;34m.\u001b[0m\u001b[0mappend\u001b[0m\u001b[0;34m(\u001b[0m\u001b[0mf_fact\u001b[0m\u001b[0;34m)\u001b[0m\u001b[0;34m\u001b[0m\u001b[0;34m\u001b[0m\u001b[0m\n",
      "\u001b[0;32m~/opt/anaconda3/lib/python3.8/site-packages/pmagpy/ipmag.py\u001b[0m in \u001b[0;36mcommon_mean_watson\u001b[0;34m(Data1, Data2, NumSims, print_result, plot, save, save_folder, fmt)\u001b[0m\n\u001b[1;32m    957\u001b[0m         \u001b[0mDirp\u001b[0m \u001b[0;34m=\u001b[0m \u001b[0;34m[\u001b[0m\u001b[0;34m]\u001b[0m\u001b[0;34m\u001b[0m\u001b[0;34m\u001b[0m\u001b[0m\n\u001b[1;32m    958\u001b[0m         \u001b[0;32mfor\u001b[0m \u001b[0mi\u001b[0m \u001b[0;32min\u001b[0m \u001b[0mrange\u001b[0m\u001b[0;34m(\u001b[0m\u001b[0mpars_1\u001b[0m\u001b[0;34m[\u001b[0m\u001b[0;34m\"n\"\u001b[0m\u001b[0;34m]\u001b[0m\u001b[0;34m)\u001b[0m\u001b[0;34m:\u001b[0m\u001b[0;34m\u001b[0m\u001b[0;34m\u001b[0m\u001b[0m\n\u001b[0;32m--> 959\u001b[0;31m             \u001b[0mDirp\u001b[0m\u001b[0;34m.\u001b[0m\u001b[0mappend\u001b[0m\u001b[0;34m(\u001b[0m\u001b[0mpmag\u001b[0m\u001b[0;34m.\u001b[0m\u001b[0mfshdev\u001b[0m\u001b[0;34m(\u001b[0m\u001b[0mpars_1\u001b[0m\u001b[0;34m[\u001b[0m\u001b[0;34m\"k\"\u001b[0m\u001b[0;34m]\u001b[0m\u001b[0;34m)\u001b[0m\u001b[0;34m)\u001b[0m\u001b[0;34m\u001b[0m\u001b[0;34m\u001b[0m\u001b[0m\n\u001b[0m\u001b[1;32m    960\u001b[0m         \u001b[0mpars_p1\u001b[0m \u001b[0;34m=\u001b[0m \u001b[0mpmag\u001b[0m\u001b[0;34m.\u001b[0m\u001b[0mfisher_mean\u001b[0m\u001b[0;34m(\u001b[0m\u001b[0mDirp\u001b[0m\u001b[0;34m)\u001b[0m\u001b[0;34m\u001b[0m\u001b[0;34m\u001b[0m\u001b[0m\n\u001b[1;32m    961\u001b[0m     \u001b[0;31m# get a set of N2 fisher distributed vectors with k2,\u001b[0m\u001b[0;34m\u001b[0m\u001b[0;34m\u001b[0m\u001b[0;34m\u001b[0m\u001b[0m\n",
      "\u001b[0;32m~/opt/anaconda3/lib/python3.8/site-packages/pmagpy/pmag.py\u001b[0m in \u001b[0;36mfshdev\u001b[0;34m(k)\u001b[0m\n\u001b[1;32m   5985\u001b[0m         \u001b[0mn\u001b[0m \u001b[0;34m=\u001b[0m \u001b[0;36m1\u001b[0m\u001b[0;34m\u001b[0m\u001b[0;34m\u001b[0m\u001b[0m\n\u001b[1;32m   5986\u001b[0m     \u001b[0mR1\u001b[0m \u001b[0;34m=\u001b[0m \u001b[0mrandom\u001b[0m\u001b[0;34m.\u001b[0m\u001b[0mrandom\u001b[0m\u001b[0;34m(\u001b[0m\u001b[0msize\u001b[0m\u001b[0;34m=\u001b[0m\u001b[0mn\u001b[0m\u001b[0;34m)\u001b[0m\u001b[0;34m\u001b[0m\u001b[0;34m\u001b[0m\u001b[0m\n\u001b[0;32m-> 5987\u001b[0;31m     \u001b[0mR2\u001b[0m \u001b[0;34m=\u001b[0m \u001b[0mrandom\u001b[0m\u001b[0;34m.\u001b[0m\u001b[0mrandom\u001b[0m\u001b[0;34m(\u001b[0m\u001b[0msize\u001b[0m\u001b[0;34m=\u001b[0m\u001b[0mn\u001b[0m\u001b[0;34m)\u001b[0m\u001b[0;34m\u001b[0m\u001b[0;34m\u001b[0m\u001b[0m\n\u001b[0m\u001b[1;32m   5988\u001b[0m     \u001b[0mL\u001b[0m \u001b[0;34m=\u001b[0m \u001b[0mnp\u001b[0m\u001b[0;34m.\u001b[0m\u001b[0mexp\u001b[0m\u001b[0;34m(\u001b[0m\u001b[0;34m-\u001b[0m\u001b[0;36m2\u001b[0m \u001b[0;34m*\u001b[0m \u001b[0mk\u001b[0m\u001b[0;34m)\u001b[0m\u001b[0;34m\u001b[0m\u001b[0;34m\u001b[0m\u001b[0m\n\u001b[1;32m   5989\u001b[0m     \u001b[0ma\u001b[0m \u001b[0;34m=\u001b[0m \u001b[0mR1\u001b[0m \u001b[0;34m*\u001b[0m \u001b[0;34m(\u001b[0m\u001b[0;36m1\u001b[0m \u001b[0;34m-\u001b[0m \u001b[0mL\u001b[0m\u001b[0;34m)\u001b[0m \u001b[0;34m+\u001b[0m \u001b[0mL\u001b[0m\u001b[0;34m\u001b[0m\u001b[0;34m\u001b[0m\u001b[0m\n",
      "\u001b[0;31mKeyboardInterrupt\u001b[0m: "
     ]
    }
   ],
   "source": [
    "f_factors = np.arange(0.5,0.8,.001)\n",
    "\n",
    "successful_f_factors_mt = []\n",
    "successful_angles_mt = []\n",
    "\n",
    "for f_fact in f_factors:\n",
    "\n",
    "    ht_unsquished_incs = ipmag.unsquish(spec_ht_inc, f_fact)\n",
    "    ht_unsquished_directions_block = ipmag.make_di_block(spec_ht_dec,ht_unsquished_incs)\n",
    "    watson_common_mean = ipmag.common_mean_watson(ht_unsquished_directions_block, mt_directions_block,NumSims=5000,print_result=False)\n",
    "    if watson_common_mean[0] == 1:\n",
    "        successful_f_factors_mt.append(f_fact)\n",
    "        successful_angles_mt.append(watson_common_mean[1])"
   ]
  },
  {
   "cell_type": "code",
   "execution_count": 5,
   "metadata": {},
   "outputs": [],
   "source": [
    "good_f_factors_mt=np.array(successful_f_factors_mt)\n",
    "np.savetxt('good_f_factors_mt.txt',good_f_factors_mt)\n",
    "good_angles_mt=np.array(successful_angles_mt)\n",
    "np.savetxt('good_angles_mt.txt',good_angles_mt)"
   ]
  },
  {
   "cell_type": "markdown",
   "metadata": {},
   "source": [
    "## Watson common mean test for NSVG vs CF-HT"
   ]
  },
  {
   "cell_type": "code",
   "execution_count": 6,
   "metadata": {
    "jupyter": {
     "source_hidden": true
    }
   },
   "outputs": [],
   "source": [
    "NSVG_Data=pd.read_csv('../data/data_Compiled/Tauxe2009/pmag_results.txt',sep='\\t',skiprows=1)\n",
    "nneu_site_list = ['ns002',\n",
    "                  'ns003',\n",
    "                  'ns004',\n",
    "                  'ns005',\n",
    "                  'ns016',\n",
    "                  'ns018',\n",
    "                  'ns019',\n",
    "                  'ns020',\n",
    "                  'ns021',\n",
    "                  'ns022',\n",
    "                  'ns023',\n",
    "                  'ns028',\n",
    "                  'ns030',\n",
    "                  'ns031',\n",
    "                  'ns032']\n",
    "nneu_data = NSVG_Data.loc[NSVG_Data['er_site_names'].isin(nneu_site_list)]\n",
    "Books1972_sites = pd.read_csv('../data/data_compiled/Books1972/sites.txt',sep='\\t',header=1)\n",
    "Books1972_MN_sites = Books1972_sites[Books1972_sites.location == 'North Shore Volcanic Group:Minnesota']\n",
    "nneu_nmil_sites_B72 = ['NS269','NS378','NS227']\n",
    "nneu_nkcr_sites_B72 = ['NS229','NS375']\n",
    "nneu_nrcb_sites_B72 = ['NS226']\n",
    "nneu_ncvb_sites_B72 = ['NS362','NS365']\n",
    "nneu_ngha_sites_B72 = ['NS367','NS265']\n",
    "nneu_ntpb_sites_B72 = ['NS368',\n",
    "                       'NS369',\n",
    "                       'NS374',\n",
    "                       'NS376',\n",
    "                       'NS377',\n",
    "                       'NS169',\n",
    "                       'NS170',\n",
    "                       'NS171']\n",
    "nneu_norl_sites_B72 = ['NS370',\n",
    "                       'NS371',\n",
    "                       'NS372']\n",
    "nneu_B72_site_list = nneu_nmil_sites_B72 + nneu_nkcr_sites_B72 + nneu_nrcb_sites_B72 + nneu_ncvb_sites_B72 + nneu_ngha_sites_B72 + nneu_norl_sites_B72 \n",
    "nneu_data_B72 = Books1972_MN_sites.loc[Books1972_MN_sites['site'].isin(nneu_B72_site_list)]\n",
    "nneu_combined_dir_dec = nneu_data_B72.dir_dec.tolist() + nneu_data.average_dec.tolist()\n",
    "nneu_combined_dir_inc = nneu_data_B72.dir_inc.tolist() + nneu_data.average_inc.tolist()\n",
    "\n",
    "\n",
    "nneu_dirs = ipmag.make_di_block(nneu_combined_dir_dec,\n",
    "                                nneu_combined_dir_inc)\n",
    "nneu_dir_mean=pmag.fisher_mean(nneu_dirs)"
   ]
  },
  {
   "cell_type": "code",
   "execution_count": null,
   "metadata": {},
   "outputs": [],
   "source": [
    "f_factors = np.arange(0.5,.85,.001)\n",
    "\n",
    "successful_f_factors_nsvg = []\n",
    "successful_angles_nsvg = []\n",
    "\n",
    "for f_fact_nsvg in f_factors:\n",
    "\n",
    "    ht_unsquished_incs = ipmag.unsquish(spec_ht_inc, f_fact_nsvg)\n",
    "    ht_unsquished_directions_block = ipmag.make_di_block(spec_ht_dec,ht_unsquished_incs)\n",
    "    watson_common_mean = ipmag.common_mean_watson(ht_unsquished_directions_block, nneu_dirs,NumSims=5000,print_result=False)\n",
    "    if watson_common_mean[0] == 1:\n",
    "        successful_f_factors_nsvg.append(f_fact_nsvg)\n",
    "        successful_angles_nsvg.append(watson_common_mean[1])"
   ]
  },
  {
   "cell_type": "code",
   "execution_count": 8,
   "metadata": {},
   "outputs": [],
   "source": [
    "good_f_factors_nsvg=np.array(successful_f_factors_nsvg)\n",
    "np.savetxt('good_f_factors_nsvg.txt',good_f_factors_nsvg)\n",
    "good_angles_nsvg=np.array(successful_angles_nsvg)\n",
    "np.savetxt('good_angles_nsvg.txt',good_angles_nsvg)\n",
    "#good_f_factors_nsvg"
   ]
  },
  {
   "cell_type": "markdown",
   "metadata": {},
   "source": [
    "## Watson common mean test for NSVG vs CF-HT, zoomed out version"
   ]
  },
  {
   "cell_type": "code",
   "execution_count": 10,
   "metadata": {},
   "outputs": [],
   "source": [
    "f_factors = np.arange(0.1,1,.005)\n",
    "\n",
    "all_factors = []\n",
    "all_angles = []\n",
    "\n",
    "for f_fact_nsvg in f_factors:\n",
    "\n",
    "    ht_unsquished_incs = ipmag.unsquish(spec_ht_inc, f_fact_nsvg)\n",
    "    ht_unsquished_directions_block = ipmag.make_di_block(spec_ht_dec,ht_unsquished_incs)\n",
    "    watson_common_mean = ipmag.common_mean_watson(ht_unsquished_directions_block, nneu_dirs,NumSims=400,print_result=False)\n",
    "    all_factors.append(f_fact_nsvg)\n",
    "    all_angles.append(watson_common_mean[1])"
   ]
  },
  {
   "cell_type": "code",
   "execution_count": 11,
   "metadata": {},
   "outputs": [],
   "source": [
    "all_factors=np.array(all_factors)\n",
    "np.savetxt('all_factors.txt',all_factors)\n",
    "all_angles=np.array(all_angles)\n",
    "np.savetxt('all_angles.txt',all_angles)"
   ]
  },
  {
   "cell_type": "code",
   "execution_count": null,
   "metadata": {},
   "outputs": [],
   "source": []
  }
 ],
 "metadata": {
  "kernelspec": {
   "display_name": "Python 3",
   "language": "python",
   "name": "python3"
  },
  "language_info": {
   "codemirror_mode": {
    "name": "ipython",
    "version": 3
   },
   "file_extension": ".py",
   "mimetype": "text/x-python",
   "name": "python",
   "nbconvert_exporter": "python",
   "pygments_lexer": "ipython3",
   "version": "3.8.3"
  }
 },
 "nbformat": 4,
 "nbformat_minor": 4
}
