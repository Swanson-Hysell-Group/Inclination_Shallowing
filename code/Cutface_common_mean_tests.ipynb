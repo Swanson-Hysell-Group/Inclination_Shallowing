{
 "cells": [
  {
   "cell_type": "markdown",
   "metadata": {},
   "source": [
    "# Empirical f factor determination for the Cut Face Sandstone\n",
    "\n",
    "This notebook implements common mean tests between the detrital remanent magnetization (DRM) 'ht' component of the Cutface Creek Sandstone and directions for pigmentary hematite 'mt' and the North Shore volcanic group for progressively applied f factors to the DRM directions. "
   ]
  },
  {
   "cell_type": "code",
   "execution_count": 1,
   "metadata": {},
   "outputs": [],
   "source": [
    "import numpy as np\n",
    "import pandas as pd\n",
    "pd.set_option('display.max_columns', None)\n",
    "\n",
    "import pmagpy.ipmag as ipmag\n",
    "import pmagpy.pmag as pmag\n",
    "\n",
    "import scipy.stats as st\n",
    "import matplotlib.pyplot as plt\n",
    "from IPython.display import display\n",
    "import matplotlib as mpl\n",
    "from matplotlib import cm\n",
    "import math as math\n",
    "\n",
    "%config InlineBackend.figure_format = 'retina'"
   ]
  },
  {
   "cell_type": "markdown",
   "metadata": {},
   "source": [
    "## Import Cut Face specimen directions\n",
    "\n",
    "From the MagIC file we import the fits to the Cut Face specimen data and filter them by 'mt' and 'ht' tilt corrected data. We then calculate their means."
   ]
  },
  {
   "cell_type": "code",
   "execution_count": 2,
   "metadata": {},
   "outputs": [],
   "source": [
    "Cutface_specimens = pd.read_csv('../data/Pmag/cutface/specimens.txt', sep='\\t', header=1)\n",
    "specimens_mt_tc = Cutface_specimens[(Cutface_specimens['dir_comp']=='mt') & (Cutface_specimens['dir_tilt_correction']==100)]\n",
    "specimens_ht_tc = Cutface_specimens[(Cutface_specimens['dir_comp']=='ht') & (Cutface_specimens['dir_tilt_correction']==100)]"
   ]
  },
  {
   "cell_type": "code",
   "execution_count": 3,
   "metadata": {},
   "outputs": [],
   "source": [
    "mt_directions_block=ipmag.make_di_block(specimens_mt_tc['dir_dec'].tolist(),specimens_mt_tc['dir_inc'].tolist())\n",
    "ht_directions_block=ipmag.make_di_block(specimens_ht_tc['dir_dec'].tolist(),specimens_ht_tc['dir_inc'].tolist())\n",
    "\n",
    "spec_ht_inc=specimens_ht_tc['dir_inc'].tolist()\n",
    "spec_ht_dec=specimens_ht_tc['dir_dec'].tolist()"
   ]
  },
  {
   "cell_type": "code",
   "execution_count": 4,
   "metadata": {},
   "outputs": [
    {
     "data": {
      "text/plain": [
       "{'dec': 286.49699313337345,\n",
       " 'inc': 42.003560540334476,\n",
       " 'n': 167,\n",
       " 'r': 163.55867702232504,\n",
       " 'k': 48.23726255190197,\n",
       " 'alpha95': 1.5861242493209464,\n",
       " 'csd': 11.662554654251615}"
      ]
     },
     "execution_count": 4,
     "metadata": {},
     "output_type": "execute_result"
    }
   ],
   "source": [
    "mean_mt = ipmag.fisher_mean(specimens_mt_tc['dir_dec'].tolist(),specimens_mt_tc['dir_inc'].tolist())\n",
    "mean_mt"
   ]
  },
  {
   "cell_type": "code",
   "execution_count": 5,
   "metadata": {},
   "outputs": [
    {
     "data": {
      "text/plain": [
       "{'dec': 286.57662835036626,\n",
       " 'inc': 29.430252935780295,\n",
       " 'n': 157,\n",
       " 'r': 152.63958083558612,\n",
       " 'k': 35.77637702199419,\n",
       " 'alpha95': 1.9070660543868,\n",
       " 'csd': 13.542125665843008}"
      ]
     },
     "execution_count": 5,
     "metadata": {},
     "output_type": "execute_result"
    }
   ],
   "source": [
    "mean_ht = ipmag.fisher_mean(specimens_ht_tc['dir_dec'].tolist(),specimens_ht_tc['dir_inc'].tolist())\n",
    "mean_ht"
   ]
  },
  {
   "cell_type": "markdown",
   "metadata": {},
   "source": [
    "## Load North Shore Volcanic Group site level paleodirection data\n",
    "\n",
    "We follow the compilation of Swanson-Hysell et al., 2019 in combining data from study of Tauxe et al. 2009 and Books 1972 for the upper northeast sequence of the North Shore Volcanic Group. The code in the cell below comes from the Keweenawan_Track.ipynb notebook of https://github.com/Swanson-Hysell-Group/2019_Midcontinent_Rift"
   ]
  },
  {
   "cell_type": "code",
   "execution_count": 6,
   "metadata": {},
   "outputs": [],
   "source": [
    "NSVG_Data=pd.read_csv('../data/data_Compiled/Tauxe2009/pmag_results.txt',sep='\\t',skiprows=1)\n",
    "nneu_site_list = ['ns002',\n",
    "                  'ns003',\n",
    "                  'ns004',\n",
    "                  'ns005',\n",
    "                  'ns016',\n",
    "                  'ns018',\n",
    "                  'ns019',\n",
    "                  'ns020',\n",
    "                  'ns021',\n",
    "                  'ns022',\n",
    "                  'ns023',\n",
    "                  'ns028',\n",
    "                  'ns030',\n",
    "                  'ns031',\n",
    "                  'ns032']\n",
    "nneu_data = NSVG_Data.loc[NSVG_Data['er_site_names'].isin(nneu_site_list)]\n",
    "Books1972_sites = pd.read_csv('../data/data_compiled/Books1972/sites.txt',sep='\\t',header=1)\n",
    "Books1972_MN_sites = Books1972_sites[Books1972_sites.location == 'North Shore Volcanic Group:Minnesota']\n",
    "nneu_nmil_sites_B72 = ['NS269','NS378','NS227']\n",
    "nneu_nkcr_sites_B72 = ['NS229','NS375']\n",
    "nneu_nrcb_sites_B72 = ['NS226']\n",
    "nneu_ncvb_sites_B72 = ['NS362','NS365']\n",
    "nneu_ngha_sites_B72 = ['NS367','NS265']\n",
    "nneu_ntpb_sites_B72 = ['NS368',\n",
    "                       'NS369',\n",
    "                       'NS374',\n",
    "                       'NS376',\n",
    "                       'NS377',\n",
    "                       'NS169',\n",
    "                       'NS170',\n",
    "                       'NS171']\n",
    "nneu_norl_sites_B72 = ['NS370',\n",
    "                       'NS371',\n",
    "                       'NS372']\n",
    "nneu_B72_site_list = nneu_nmil_sites_B72 + nneu_nkcr_sites_B72 + nneu_nrcb_sites_B72 + nneu_ncvb_sites_B72 + nneu_ngha_sites_B72 + nneu_norl_sites_B72 \n",
    "nneu_data_B72 = Books1972_MN_sites.loc[Books1972_MN_sites['site'].isin(nneu_B72_site_list)]\n",
    "nneu_combined_dir_dec = nneu_data_B72.dir_dec.tolist() + nneu_data.average_dec.tolist()\n",
    "nneu_combined_dir_inc = nneu_data_B72.dir_inc.tolist() + nneu_data.average_inc.tolist()"
   ]
  },
  {
   "cell_type": "markdown",
   "metadata": {},
   "source": [
    "The directional data from these sites can be used to calculate an overall mean. "
   ]
  },
  {
   "cell_type": "code",
   "execution_count": 7,
   "metadata": {},
   "outputs": [
    {
     "data": {
      "text/plain": [
       "{'dec': 291.3242830230793,\n",
       " 'inc': 40.25007073978004,\n",
       " 'n': 28,\n",
       " 'r': 27.15979233643242,\n",
       " 'k': 32.134912796862814,\n",
       " 'alpha95': 4.883450101163713,\n",
       " 'csd': 14.288822983259386}"
      ]
     },
     "execution_count": 7,
     "metadata": {},
     "output_type": "execute_result"
    }
   ],
   "source": [
    "nneu_dir_mean=ipmag.fisher_mean(nneu_combined_dir_dec,\n",
    "                                nneu_combined_dir_inc)\n",
    "nneu_dir_mean"
   ]
  },
  {
   "cell_type": "markdown",
   "metadata": {},
   "source": [
    "However, given that these data were developed from sites at different locations, they should be transformed to be at a common location of the Cut Face locality. To do this, we can take the VGPs from the sites and use the `pmag.vpg_di` function to transform them to declinations and inclinations at the Cut Face section. This does not make a large difference, but is the correct approach."
   ]
  },
  {
   "cell_type": "code",
   "execution_count": 8,
   "metadata": {},
   "outputs": [
    {
     "name": "stdout",
     "output_type": "stream",
     "text": [
      "Plon: 181.7  Plat: 31.1\n",
      "Number of directions in mean (n): 28\n",
      "Angular radius of 95% confidence (A_95): 4.2\n",
      "Precision parameter (k) estimate: 42.2\n"
     ]
    }
   ],
   "source": [
    "nneu_combined_vgp_lon = nneu_data_B72.vgp_lon.tolist() + nneu_data.vgp_lon.tolist()\n",
    "nneu_combined_vgp_lat = nneu_data_B72.vgp_lat.tolist() + nneu_data.vgp_lat.tolist()\n",
    "\n",
    "nneu_VGPs = ipmag.make_di_block(nneu_combined_vgp_lon,\n",
    "                                nneu_combined_vgp_lat)\n",
    "nneu_mean=pmag.fisher_mean(nneu_VGPs)\n",
    "ipmag.print_pole_mean(nneu_mean)"
   ]
  },
  {
   "cell_type": "code",
   "execution_count": 9,
   "metadata": {},
   "outputs": [
    {
     "data": {
      "text/plain": [
       "{'dec': 291.2520666319885,\n",
       " 'inc': 40.329538870827285,\n",
       " 'n': 28,\n",
       " 'r': 27.167632766747904,\n",
       " 'k': 32.43760556804931,\n",
       " 'alpha95': 4.859896063610683,\n",
       " 'csd': 14.221998371546082}"
      ]
     },
     "execution_count": 9,
     "metadata": {},
     "output_type": "execute_result"
    }
   ],
   "source": [
    "Cut_Face_lon = -90.44128\n",
    "Cut_Face_lat = 47.73055\n",
    "\n",
    "nneu_dec_at_CF = []\n",
    "nneu_inc_at_CF = []\n",
    "\n",
    "for n in range(0,len(nneu_combined_vgp_lon)):\n",
    "    di_tuple = pmag.vgp_di(nneu_combined_vgp_lat[n],\n",
    "                           nneu_combined_vgp_lon[n],\n",
    "                           Cut_Face_lat,\n",
    "                           Cut_Face_lon)\n",
    "    nneu_dec_at_CF.append(di_tuple[0])\n",
    "    nneu_inc_at_CF.append(di_tuple[1])\n",
    "    \n",
    "nneu_dir_at_CF_mean=ipmag.fisher_mean(nneu_dec_at_CF,\n",
    "                                      nneu_inc_at_CF)\n",
    "nneu_dir_at_CF_mean"
   ]
  },
  {
   "cell_type": "markdown",
   "metadata": {},
   "source": [
    "However, the best estimate of the expected direction at Cutface Creek should come from converting the volcanic mean pole position to direction rather than the mean of the volcanics in directional space."
   ]
  },
  {
   "cell_type": "code",
   "execution_count": 10,
   "metadata": {},
   "outputs": [
    {
     "data": {
      "text/plain": [
       "(290.66292912267966, 41.436690497945015)"
      ]
     },
     "execution_count": 10,
     "metadata": {},
     "output_type": "execute_result"
    }
   ],
   "source": [
    "pmag.vgp_di(nneu_mean['inc'],nneu_mean['dec'],Cut_Face_lat,Cut_Face_lon)"
   ]
  },
  {
   "cell_type": "markdown",
   "metadata": {},
   "source": [
    "## Common mean test for CF-MT vs CF-HT (with f factors ranging from 0.1 to 1.0)\n",
    "\n",
    "Here we conduct common mean test between the mid-temperature component and the high-temperature component of Cut Face directions. This method is for empirically deriving the f factor by interating through a range of values for f to unsquish the high-temperature component of specimen directions and use the Watson common mean test for judging whether the resulting directions share a common mean with the mid-temperature directions which are interpreted to be CRMs and do not suffer from inclination shallowing.\n",
    "\n",
    "The code cell below calculates the angle between the mean of the 'mt' directions and the mean of the 'ht' directions as they are progressively unsquished."
   ]
  },
  {
   "cell_type": "code",
   "execution_count": 11,
   "metadata": {},
   "outputs": [],
   "source": [
    "all_f_factors_mt = np.arange(0.1,1.0,.001)\n",
    "all_angles_mt = []\n",
    "\n",
    "mt_fisher_mean = ipmag.fisher_mean(di_block = mt_directions_block)\n",
    "\n",
    "for f_factor in all_f_factors_mt:\n",
    "\n",
    "    ht_unsquished_incs = ipmag.unsquish(spec_ht_inc, f_factor)\n",
    "\n",
    "    ht_unsquished_directions_block = ipmag.make_di_block(spec_ht_dec,ht_unsquished_incs)\n",
    "    ht_unsquished_fisher_mean = ipmag.fisher_mean(di_block = ht_unsquished_directions_block)\n",
    "\n",
    "    angle =  pmag.angle((ht_unsquished_fisher_mean['dec'],ht_unsquished_fisher_mean['inc']),\n",
    "                   (mt_fisher_mean['dec'],mt_fisher_mean['inc']))\n",
    "\n",
    "    all_angles_mt.append(angle)"
   ]
  },
  {
   "cell_type": "markdown",
   "metadata": {},
   "source": [
    "This code cell zooms in on the range where the angle is getting small in order to conduct common mean tests. Because common mean tests implement a resampling algorithm, this code cell takes a long time to run. The critical angle that is the threshold for the test changes as a function of the unsquishing of the data. Finding the critical angle requires a large number of simulations.\n",
    "\n",
    "**If the three cells below have been run already, skip running them and import the saved csv**"
   ]
  },
  {
   "cell_type": "code",
   "execution_count": 12,
   "metadata": {},
   "outputs": [
    {
     "name": "stdout",
     "output_type": "stream",
     "text": [
      "Wall time: 1h 17min 36s\n"
     ]
    }
   ],
   "source": [
    "%%time\n",
    "common_mean_f_factors = np.arange(0.54,0.68,.001)\n",
    "angles_mt = []\n",
    "critical_angles = []\n",
    "common_mean_result = []\n",
    "\n",
    "for f_factor in common_mean_f_factors:\n",
    "    ht_unsquished_incs = ipmag.unsquish(spec_ht_inc, f_factor)\n",
    "    ht_unsquished_directions_block = ipmag.make_di_block(spec_ht_dec,ht_unsquished_incs)\n",
    "    watson_common_mean = ipmag.common_mean_watson(ht_unsquished_directions_block, \n",
    "                                                  mt_directions_block,\n",
    "                                                  NumSims=5000,\n",
    "                                                  print_result=False)\n",
    "    critical_angles.append(watson_common_mean[2])\n",
    "    angles_mt.append(watson_common_mean[1])\n",
    "    if watson_common_mean[0] == 1:\n",
    "        common_mean_result.append('pass')\n",
    "    elif watson_common_mean[0] == 0:\n",
    "        common_mean_result.append('fail')"
   ]
  },
  {
   "cell_type": "code",
   "execution_count": 13,
   "metadata": {},
   "outputs": [],
   "source": [
    "common_mean_mt = pd.DataFrame({'f_factors':common_mean_f_factors,\n",
    "                               'angles':angles_mt,\n",
    "                               'critical_angles':critical_angles,\n",
    "                               'result':common_mean_result})"
   ]
  },
  {
   "cell_type": "code",
   "execution_count": 14,
   "metadata": {},
   "outputs": [
    {
     "data": {
      "text/html": [
       "<div>\n",
       "<style scoped>\n",
       "    .dataframe tbody tr th:only-of-type {\n",
       "        vertical-align: middle;\n",
       "    }\n",
       "\n",
       "    .dataframe tbody tr th {\n",
       "        vertical-align: top;\n",
       "    }\n",
       "\n",
       "    .dataframe thead th {\n",
       "        text-align: right;\n",
       "    }\n",
       "</style>\n",
       "<table border=\"1\" class=\"dataframe\">\n",
       "  <thead>\n",
       "    <tr style=\"text-align: right;\">\n",
       "      <th></th>\n",
       "      <th>f_factors</th>\n",
       "      <th>angles</th>\n",
       "      <th>critical_angles</th>\n",
       "      <th>result</th>\n",
       "    </tr>\n",
       "  </thead>\n",
       "  <tbody>\n",
       "    <tr>\n",
       "      <th>0</th>\n",
       "      <td>0.540</td>\n",
       "      <td>3.100433</td>\n",
       "      <td>2.545167</td>\n",
       "      <td>fail</td>\n",
       "    </tr>\n",
       "    <tr>\n",
       "      <th>1</th>\n",
       "      <td>0.541</td>\n",
       "      <td>3.051402</td>\n",
       "      <td>2.517951</td>\n",
       "      <td>fail</td>\n",
       "    </tr>\n",
       "    <tr>\n",
       "      <th>2</th>\n",
       "      <td>0.542</td>\n",
       "      <td>3.002459</td>\n",
       "      <td>2.457671</td>\n",
       "      <td>fail</td>\n",
       "    </tr>\n",
       "    <tr>\n",
       "      <th>3</th>\n",
       "      <td>0.543</td>\n",
       "      <td>2.953605</td>\n",
       "      <td>2.559907</td>\n",
       "      <td>fail</td>\n",
       "    </tr>\n",
       "    <tr>\n",
       "      <th>4</th>\n",
       "      <td>0.544</td>\n",
       "      <td>2.904839</td>\n",
       "      <td>2.474164</td>\n",
       "      <td>fail</td>\n",
       "    </tr>\n",
       "  </tbody>\n",
       "</table>\n",
       "</div>"
      ],
      "text/plain": [
       "   f_factors    angles  critical_angles result\n",
       "0      0.540  3.100433         2.545167   fail\n",
       "1      0.541  3.051402         2.517951   fail\n",
       "2      0.542  3.002459         2.457671   fail\n",
       "3      0.543  2.953605         2.559907   fail\n",
       "4      0.544  2.904839         2.474164   fail"
      ]
     },
     "execution_count": 14,
     "metadata": {},
     "output_type": "execute_result"
    }
   ],
   "source": [
    "# common_mean_mt.to_csv('./code_output/common_mean_mt.csv',index=0)\n",
    "common_mean_mt.head()"
   ]
  },
  {
   "cell_type": "markdown",
   "metadata": {},
   "source": [
    "**If the three cells above have been run already, skip running them and import the saved csv**"
   ]
  },
  {
   "cell_type": "code",
   "execution_count": 12,
   "metadata": {},
   "outputs": [
    {
     "name": "stdout",
     "output_type": "stream",
     "text": [
      "The smallest angle between data sets is 0.01 which corresponds to an f factor of 0.61\n"
     ]
    }
   ],
   "source": [
    "common_mean_mt = pd.read_csv('./code_output/common_mean_mt.csv')\n",
    "\n",
    "index_angle_mt=np.argmin(common_mean_mt['angles'])\n",
    "best_angle_mt = round(common_mean_mt['angles'][index_angle_mt], 2)\n",
    "best_f_mt = round(common_mean_mt['f_factors'][index_angle_mt], 2)\n",
    "\n",
    "print('The smallest angle between data sets is',round(best_angle_mt,2), 'which corresponds to an f factor of', best_f_mt)"
   ]
  },
  {
   "cell_type": "code",
   "execution_count": 13,
   "metadata": {},
   "outputs": [
    {
     "data": {
      "text/html": [
       "<div>\n",
       "<style scoped>\n",
       "    .dataframe tbody tr th:only-of-type {\n",
       "        vertical-align: middle;\n",
       "    }\n",
       "\n",
       "    .dataframe tbody tr th {\n",
       "        vertical-align: top;\n",
       "    }\n",
       "\n",
       "    .dataframe thead th {\n",
       "        text-align: right;\n",
       "    }\n",
       "</style>\n",
       "<table border=\"1\" class=\"dataframe\">\n",
       "  <thead>\n",
       "    <tr style=\"text-align: right;\">\n",
       "      <th></th>\n",
       "      <th>index</th>\n",
       "      <th>f_factors</th>\n",
       "      <th>angles</th>\n",
       "      <th>critical_angles</th>\n",
       "      <th>result</th>\n",
       "    </tr>\n",
       "  </thead>\n",
       "  <tbody>\n",
       "    <tr>\n",
       "      <th>0</th>\n",
       "      <td>12</td>\n",
       "      <td>0.552</td>\n",
       "      <td>2.517859</td>\n",
       "      <td>2.539750</td>\n",
       "      <td>pass</td>\n",
       "    </tr>\n",
       "    <tr>\n",
       "      <th>1</th>\n",
       "      <td>13</td>\n",
       "      <td>0.553</td>\n",
       "      <td>2.469877</td>\n",
       "      <td>2.594076</td>\n",
       "      <td>pass</td>\n",
       "    </tr>\n",
       "    <tr>\n",
       "      <th>2</th>\n",
       "      <td>14</td>\n",
       "      <td>0.554</td>\n",
       "      <td>2.421981</td>\n",
       "      <td>2.597594</td>\n",
       "      <td>pass</td>\n",
       "    </tr>\n",
       "    <tr>\n",
       "      <th>3</th>\n",
       "      <td>15</td>\n",
       "      <td>0.555</td>\n",
       "      <td>2.374172</td>\n",
       "      <td>2.533047</td>\n",
       "      <td>pass</td>\n",
       "    </tr>\n",
       "    <tr>\n",
       "      <th>4</th>\n",
       "      <td>16</td>\n",
       "      <td>0.556</td>\n",
       "      <td>2.326448</td>\n",
       "      <td>2.536840</td>\n",
       "      <td>pass</td>\n",
       "    </tr>\n",
       "  </tbody>\n",
       "</table>\n",
       "</div>"
      ],
      "text/plain": [
       "   index  f_factors    angles  critical_angles result\n",
       "0     12      0.552  2.517859         2.539750   pass\n",
       "1     13      0.553  2.469877         2.594076   pass\n",
       "2     14      0.554  2.421981         2.597594   pass\n",
       "3     15      0.555  2.374172         2.533047   pass\n",
       "4     16      0.556  2.326448         2.536840   pass"
      ]
     },
     "execution_count": 13,
     "metadata": {},
     "output_type": "execute_result"
    }
   ],
   "source": [
    "common_mean_mt_pass = common_mean_mt[common_mean_mt['result']=='pass']\n",
    "common_mean_mt_pass.reset_index(inplace=True)\n",
    "common_mean_mt_pass.head()"
   ]
  },
  {
   "cell_type": "code",
   "execution_count": 14,
   "metadata": {},
   "outputs": [
    {
     "name": "stdout",
     "output_type": "stream",
     "text": [
      "The optimal f factor is: 0.61 with the lowest f of: 0.55 and the highest f of: 0.67\n"
     ]
    }
   ],
   "source": [
    "common_mean_mt_f_low = common_mean_mt_pass['f_factors'].min()\n",
    "common_mean_mt_f_high = common_mean_mt_pass['f_factors'].max()\n",
    "\n",
    "print('The optimal f factor is:', round(best_f_mt,2),\n",
    "      'with the lowest f of:', round(common_mean_mt_f_low,2),\n",
    "       'and the highest f of:', round(common_mean_mt_f_high,2))"
   ]
  },
  {
   "cell_type": "code",
   "execution_count": 15,
   "metadata": {},
   "outputs": [
    {
     "data": {
      "image/png": "[encoded data removed]",
      "text/plain": [
       "<Figure size 648x648 with 1 Axes>"
      ]
     },
     "metadata": {
      "image/png": {
       "height": 551,
       "width": 576
      },
      "needs_background": "light"
     },
     "output_type": "display_data"
    }
   ],
   "source": [
    "fig,inset = plt.subplots(figsize=(9,9))\n",
    "inset.scatter(all_f_factors_mt,all_angles_mt,s=4,color='black',\n",
    "             label='$f$ factors failing\\ncommon mean test')\n",
    "inset.scatter(common_mean_mt_pass['f_factors'],\n",
    "              common_mean_mt_pass['angles'],\n",
    "              s=4,color='lightgreen',label='$f$ factors passing\\ncommon mean test')\n",
    "inset.plot(common_mean_mt['f_factors'],\n",
    "           common_mean_mt['critical_angles'],\n",
    "           color='red',ls='--',label='critical angle')\n",
    "inset.legend(loc='lower right',fontsize=15,markerscale=2)\n",
    "\n",
    "fig_inset=inset.inset_axes([.1,.5,.45,.45])\n",
    "fig_inset.scatter(all_f_factors_mt,all_angles_mt,s=3,color='black')\n",
    "fig_inset.scatter(common_mean_mt_pass['f_factors'],common_mean_mt_pass['angles'],s=3,color='lightgreen')\n",
    "fig_inset.tick_params(labelsize=12)\n",
    "fig_inset.invert_xaxis()\n",
    "fig_inset.plot(common_mean_mt['f_factors'],common_mean_mt['critical_angles'],\n",
    "               color='red',ls='-',label='critical angle')\n",
    "fig_inset.text(0.61, 2.7, 'critical angle ≈ '+str(round(np.mean(common_mean_mt['critical_angles']), 1)), \n",
    "               fontsize=14, horizontalalignment='center')\n",
    "fig_inset.set_xlim(.68,.54)\n",
    "fig_inset.set_ylim(0,3.2)\n",
    "\n",
    "plt.xlabel('flattening factor',fontsize=16)\n",
    "plt.ylabel('angle between CRM and unsquished DRM directions',fontsize=16)\n",
    "\n",
    "plt.xticks(fontsize=16)\n",
    "plt.yticks(fontsize=16)\n",
    "\n",
    "plt.xlim(1,0)\n",
    "plt.ylim(0,35)\n",
    "\n",
    "plt.savefig('code_output/angle_vs_f_MT.pdf',bbox_inches='tight',transparent=True)\n",
    "\n",
    "plt.show()"
   ]
  },
  {
   "cell_type": "markdown",
   "metadata": {},
   "source": [
    "## Common mean test for NSVG vs CF-HT (with f factors ranging from 0.1 to 1)\n",
    "\n",
    "Here we conduct common mean test between the NSVG northeast sequence lava directions (calculated to be the expected directions at Cut Face) and the high-temperature component of Cut Face directions. This method is for empirically deriving the f factor by interating through a range of values for f to unsquish the high-temperature component of specimen directions and use the Watson common mean test for judging whether the resulting directions share a common mean with the NSVG directions which do not suffer from inclination shallowing.\n",
    "\n",
    "The code cell below calculates the angle between the mean of the 'nneu' directions and the mean of the 'ht' directions as they are progressively unsquished."
   ]
  },
  {
   "cell_type": "code",
   "execution_count": 16,
   "metadata": {},
   "outputs": [],
   "source": [
    "nneu_dir_at_CF_block=ipmag.make_di_block(nneu_dec_at_CF,\n",
    "                                      nneu_inc_at_CF)"
   ]
  },
  {
   "cell_type": "code",
   "execution_count": 17,
   "metadata": {},
   "outputs": [],
   "source": [
    "all_f_factors_nneu = np.arange(0.1,1.0,.001)\n",
    "all_angles_nneu = []\n",
    "\n",
    "for f_factor in all_f_factors_mt:\n",
    "\n",
    "    ht_unsquished_incs = ipmag.unsquish(spec_ht_inc, f_factor)\n",
    "\n",
    "    ht_unsquished_directions_block = ipmag.make_di_block(spec_ht_dec,ht_unsquished_incs)\n",
    "    ht_unsquished_fisher_mean = ipmag.fisher_mean(di_block = ht_unsquished_directions_block)\n",
    "\n",
    "    angle =  pmag.angle((ht_unsquished_fisher_mean['dec'],ht_unsquished_fisher_mean['inc']),\n",
    "                   (nneu_dir_at_CF_mean['dec'],nneu_dir_at_CF_mean['inc']))\n",
    "\n",
    "    all_angles_nneu.append(angle)"
   ]
  },
  {
   "cell_type": "markdown",
   "metadata": {},
   "source": [
    "This code cell zooms in on the range where the angle is getting small in order to conduct common mean tests. Because common mean tests implement a resampling algorithm, this code cell takes a long time to run. The critical angle that is the threshold for the test changes as a function of the unsquishing of the data. Finding the critical angle requires a large number of simulations.\n",
    "\n",
    "**If the three cells below have been run already, skip running them and import the saved csv**"
   ]
  },
  {
   "cell_type": "code",
   "execution_count": 29,
   "metadata": {},
   "outputs": [
    {
     "name": "stdout",
     "output_type": "stream",
     "text": [
      "Wall time: 1h 36min 51s\n"
     ]
    }
   ],
   "source": [
    "%%time\n",
    "common_mean_f_factors_nneu = np.arange(0.5,0.8,.001)\n",
    "angles_nneu = []\n",
    "critical_angles_nneu = []\n",
    "common_mean_result_nneu = []\n",
    "\n",
    "for f_factor in common_mean_f_factors_nneu:\n",
    "    ht_unsquished_incs = ipmag.unsquish(spec_ht_inc, f_factor)\n",
    "    ht_unsquished_directions_block = ipmag.make_di_block(spec_ht_dec,ht_unsquished_incs)\n",
    "    watson_common_mean = ipmag.common_mean_watson(ht_unsquished_directions_block, \n",
    "                                                  nneu_dir_at_CF_block,\n",
    "                                                  NumSims=5000,\n",
    "                                                  print_result=False)\n",
    "    critical_angles_nneu.append(watson_common_mean[2])\n",
    "    angles_nneu.append(watson_common_mean[1])\n",
    "    if watson_common_mean[0] == 1:\n",
    "        common_mean_result_nneu.append('pass')\n",
    "    elif watson_common_mean[0] == 0:\n",
    "        common_mean_result_nneu.append('fail')"
   ]
  },
  {
   "cell_type": "code",
   "execution_count": 32,
   "metadata": {},
   "outputs": [],
   "source": [
    "common_mean_nneu = pd.DataFrame({'f_factors':common_mean_f_factors_nneu,\n",
    "                               'angles':angles_nneu,\n",
    "                               'critical_angles':critical_angles_nneu,\n",
    "                               'result':common_mean_result_nneu})"
   ]
  },
  {
   "cell_type": "code",
   "execution_count": 34,
   "metadata": {},
   "outputs": [
    {
     "data": {
      "text/html": [
       "<div>\n",
       "<style scoped>\n",
       "    .dataframe tbody tr th:only-of-type {\n",
       "        vertical-align: middle;\n",
       "    }\n",
       "\n",
       "    .dataframe tbody tr th {\n",
       "        vertical-align: top;\n",
       "    }\n",
       "\n",
       "    .dataframe thead th {\n",
       "        text-align: right;\n",
       "    }\n",
       "</style>\n",
       "<table border=\"1\" class=\"dataframe\">\n",
       "  <thead>\n",
       "    <tr style=\"text-align: right;\">\n",
       "      <th></th>\n",
       "      <th>f_factors</th>\n",
       "      <th>angles</th>\n",
       "      <th>critical_angles</th>\n",
       "      <th>result</th>\n",
       "    </tr>\n",
       "  </thead>\n",
       "  <tbody>\n",
       "    <tr>\n",
       "      <th>0</th>\n",
       "      <td>0.500</td>\n",
       "      <td>7.643924</td>\n",
       "      <td>5.215435</td>\n",
       "      <td>fail</td>\n",
       "    </tr>\n",
       "    <tr>\n",
       "      <th>1</th>\n",
       "      <td>0.501</td>\n",
       "      <td>7.597590</td>\n",
       "      <td>5.223397</td>\n",
       "      <td>fail</td>\n",
       "    </tr>\n",
       "    <tr>\n",
       "      <th>2</th>\n",
       "      <td>0.502</td>\n",
       "      <td>7.551424</td>\n",
       "      <td>5.157791</td>\n",
       "      <td>fail</td>\n",
       "    </tr>\n",
       "    <tr>\n",
       "      <th>3</th>\n",
       "      <td>0.503</td>\n",
       "      <td>7.505427</td>\n",
       "      <td>5.152676</td>\n",
       "      <td>fail</td>\n",
       "    </tr>\n",
       "    <tr>\n",
       "      <th>4</th>\n",
       "      <td>0.504</td>\n",
       "      <td>7.459599</td>\n",
       "      <td>5.177210</td>\n",
       "      <td>fail</td>\n",
       "    </tr>\n",
       "  </tbody>\n",
       "</table>\n",
       "</div>"
      ],
      "text/plain": [
       "   f_factors    angles  critical_angles result\n",
       "0      0.500  7.643924         5.215435   fail\n",
       "1      0.501  7.597590         5.223397   fail\n",
       "2      0.502  7.551424         5.157791   fail\n",
       "3      0.503  7.505427         5.152676   fail\n",
       "4      0.504  7.459599         5.177210   fail"
      ]
     },
     "execution_count": 34,
     "metadata": {},
     "output_type": "execute_result"
    }
   ],
   "source": [
    "common_mean_nneu.to_csv('./code_output/common_mean_nneu.csv',index=0)\n",
    "common_mean_nneu.head()"
   ]
  },
  {
   "cell_type": "markdown",
   "metadata": {},
   "source": [
    "**If the three cells above have been run already, skip running them and import the saved csv**"
   ]
  },
  {
   "cell_type": "code",
   "execution_count": 18,
   "metadata": {},
   "outputs": [
    {
     "name": "stdout",
     "output_type": "stream",
     "text": [
      "The smallest angle between data sets is 3.63 which corresponds to an f factor of 0.65\n"
     ]
    }
   ],
   "source": [
    "common_mean_nneu = pd.read_csv('./code_output/common_mean_nneu.csv')\n",
    "\n",
    "index_angle_nneu=np.argmin(common_mean_nneu['angles'])\n",
    "best_angle_nneu = round(common_mean_nneu['angles'][index_angle_nneu], 2)\n",
    "best_f_nneu = round(common_mean_nneu['f_factors'][index_angle_nneu], 2)\n",
    "\n",
    "print('The smallest angle between data sets is',round(best_angle_nneu,2), 'which corresponds to an f factor of', best_f_nneu)"
   ]
  },
  {
   "cell_type": "code",
   "execution_count": 19,
   "metadata": {},
   "outputs": [
    {
     "data": {
      "text/html": [
       "<div>\n",
       "<style scoped>\n",
       "    .dataframe tbody tr th:only-of-type {\n",
       "        vertical-align: middle;\n",
       "    }\n",
       "\n",
       "    .dataframe tbody tr th {\n",
       "        vertical-align: top;\n",
       "    }\n",
       "\n",
       "    .dataframe thead th {\n",
       "        text-align: right;\n",
       "    }\n",
       "</style>\n",
       "<table border=\"1\" class=\"dataframe\">\n",
       "  <thead>\n",
       "    <tr style=\"text-align: right;\">\n",
       "      <th></th>\n",
       "      <th>index</th>\n",
       "      <th>f_factors</th>\n",
       "      <th>angles</th>\n",
       "      <th>critical_angles</th>\n",
       "      <th>result</th>\n",
       "    </tr>\n",
       "  </thead>\n",
       "  <tbody>\n",
       "    <tr>\n",
       "      <th>0</th>\n",
       "      <td>60</td>\n",
       "      <td>0.560</td>\n",
       "      <td>5.203646</td>\n",
       "      <td>5.225162</td>\n",
       "      <td>pass</td>\n",
       "    </tr>\n",
       "    <tr>\n",
       "      <th>1</th>\n",
       "      <td>61</td>\n",
       "      <td>0.561</td>\n",
       "      <td>5.169867</td>\n",
       "      <td>5.199535</td>\n",
       "      <td>pass</td>\n",
       "    </tr>\n",
       "    <tr>\n",
       "      <th>2</th>\n",
       "      <td>62</td>\n",
       "      <td>0.562</td>\n",
       "      <td>5.136360</td>\n",
       "      <td>5.145365</td>\n",
       "      <td>pass</td>\n",
       "    </tr>\n",
       "    <tr>\n",
       "      <th>3</th>\n",
       "      <td>63</td>\n",
       "      <td>0.563</td>\n",
       "      <td>5.103128</td>\n",
       "      <td>5.324226</td>\n",
       "      <td>pass</td>\n",
       "    </tr>\n",
       "    <tr>\n",
       "      <th>4</th>\n",
       "      <td>64</td>\n",
       "      <td>0.564</td>\n",
       "      <td>5.070175</td>\n",
       "      <td>5.239973</td>\n",
       "      <td>pass</td>\n",
       "    </tr>\n",
       "  </tbody>\n",
       "</table>\n",
       "</div>"
      ],
      "text/plain": [
       "   index  f_factors    angles  critical_angles result\n",
       "0     60      0.560  5.203646         5.225162   pass\n",
       "1     61      0.561  5.169867         5.199535   pass\n",
       "2     62      0.562  5.136360         5.145365   pass\n",
       "3     63      0.563  5.103128         5.324226   pass\n",
       "4     64      0.564  5.070175         5.239973   pass"
      ]
     },
     "execution_count": 19,
     "metadata": {},
     "output_type": "execute_result"
    }
   ],
   "source": [
    "common_mean_nneu_pass = common_mean_nneu[common_mean_nneu['result']=='pass']\n",
    "common_mean_nneu_pass.reset_index(inplace=True)\n",
    "common_mean_nneu_pass.head()"
   ]
  },
  {
   "cell_type": "code",
   "execution_count": 20,
   "metadata": {},
   "outputs": [
    {
     "name": "stdout",
     "output_type": "stream",
     "text": [
      "The optimal f factor is: 0.65 with the lowest f of: 0.56 and the highest f of: 0.75\n"
     ]
    }
   ],
   "source": [
    "common_mean_nneu_f_low = common_mean_nneu_pass['f_factors'].min()\n",
    "common_mean_nneu_f_high = common_mean_nneu_pass['f_factors'].max()\n",
    "\n",
    "print('The optimal f factor is:', round(best_f_nneu,2),\n",
    "      'with the lowest f of:', round(common_mean_nneu_f_low,2),\n",
    "       'and the highest f of:', round(common_mean_nneu_f_high,2))"
   ]
  },
  {
   "cell_type": "code",
   "execution_count": 21,
   "metadata": {},
   "outputs": [
    {
     "data": {
      "image/png": "[encoded data removed]",
      "text/plain": [
       "<Figure size 648x648 with 1 Axes>"
      ]
     },
     "metadata": {
      "image/png": {
       "height": 551,
       "width": 576
      },
      "needs_background": "light"
     },
     "output_type": "display_data"
    }
   ],
   "source": [
    "fig,inset = plt.subplots(figsize=(9,9))\n",
    "inset.scatter(all_f_factors_nneu,all_angles_nneu,s=4,color='black',\n",
    "             label='$f$ factors failing\\ncommon mean test')\n",
    "inset.scatter(common_mean_nneu_pass['f_factors'],\n",
    "              common_mean_nneu_pass['angles'],\n",
    "              s=4,color='lightgreen',label='$f$ factors passing\\ncommon mean test')\n",
    "inset.plot(common_mean_nneu['f_factors'],\n",
    "           common_mean_nneu['critical_angles'],\n",
    "           color='red',ls='--',label='critical angle')\n",
    "inset.legend(loc='lower right',fontsize=15,markerscale=2)\n",
    "\n",
    "fig_inset=inset.inset_axes([.1,.5,.45,.45])\n",
    "fig_inset.scatter(all_f_factors_nneu,all_angles_nneu,s=3,color='black')\n",
    "fig_inset.scatter(common_mean_nneu_pass['f_factors'],common_mean_nneu_pass['angles'],s=3,color='lightgreen')\n",
    "fig_inset.tick_params(labelsize=12)\n",
    "fig_inset.invert_xaxis()\n",
    "fig_inset.plot(common_mean_nneu['f_factors'],common_mean_nneu['critical_angles'],color='red',ls='-',label='critical angle')\n",
    "fig_inset.text(0.565, 5.5, 'critical angle ≈ '+str(round(np.mean(common_mean_nneu['critical_angles']), 1)), fontsize=14)\n",
    "fig_inset.set_xlim(.5,.8)\n",
    "fig_inset.set_ylim(3.5,6)\n",
    "\n",
    "plt.xlabel('flattening factor',fontsize=16)\n",
    "plt.ylabel('angle between NSVG and unsquished DRM directions',fontsize=16)\n",
    "\n",
    "plt.xticks(fontsize=16)\n",
    "plt.yticks(fontsize=16)\n",
    "\n",
    "plt.xlim(1,0)\n",
    "plt.ylim(0,35)\n",
    "\n",
    "plt.savefig('./code_output/angle_vs_f_NSVG.pdf',bbox_inches='tight',transparent=True)\n",
    "\n",
    "plt.show()"
   ]
  },
  {
   "cell_type": "markdown",
   "metadata": {},
   "source": [
    "## Common mean test on NSVG vs CF-HT for Cut Face Creek Sandstone grouped by grain size"
   ]
  },
  {
   "cell_type": "code",
   "execution_count": 22,
   "metadata": {},
   "outputs": [],
   "source": [
    "cf_grain_sizes=pd.read_csv('../data/Pmag/cf_specimen_lithologies.csv')\n",
    "cf_specimens_directions_and_grain=pd.merge(cf_grain_sizes,Cutface_specimens,on='specimen')"
   ]
  },
  {
   "cell_type": "code",
   "execution_count": 23,
   "metadata": {},
   "outputs": [],
   "source": [
    "cf_fm_grain=cf_specimens_directions_and_grain[(cf_specimens_directions_and_grain['primary_grain_size']>=3) & \n",
    "                                                  (cf_specimens_directions_and_grain['dir_comp']=='ht')&\n",
    "                                                  (cf_specimens_directions_and_grain['dir_tilt_correction']==100)].reset_index(drop=1)\n",
    "\n",
    "cf_vfs_grain=cf_specimens_directions_and_grain[(cf_specimens_directions_and_grain['primary_grain_size']==2) & \n",
    "                                               (cf_specimens_directions_and_grain['dir_comp']=='ht')&\n",
    "                                               (cf_specimens_directions_and_grain['dir_tilt_correction']==100)].reset_index(drop=1)\n",
    "\n",
    "cf_silt_grain=cf_specimens_directions_and_grain[(cf_specimens_directions_and_grain['primary_grain_size']<=1) & \n",
    "                                                (cf_specimens_directions_and_grain['dir_comp']=='ht')&\n",
    "                                                (cf_specimens_directions_and_grain['dir_tilt_correction']==100)].reset_index(drop=1)"
   ]
  },
  {
   "cell_type": "markdown",
   "metadata": {},
   "source": [
    "### Clay and Silt empirical f\n",
    "Watson common mean test between NSVG and CF claystone/siltstone specimen directions"
   ]
  },
  {
   "cell_type": "code",
   "execution_count": 59,
   "metadata": {},
   "outputs": [],
   "source": [
    "cf_silt_grain_incs=cf_silt_grain['dir_inc']\n",
    "cf_silt_grain_decs=cf_silt_grain['dir_dec']"
   ]
  },
  {
   "cell_type": "code",
   "execution_count": 60,
   "metadata": {},
   "outputs": [
    {
     "name": "stdout",
     "output_type": "stream",
     "text": [
      "Wall time: 12min 57s\n"
     ]
    }
   ],
   "source": [
    "%%time\n",
    "common_mean_f_factors_silt = np.arange(0.3,0.7,.005)\n",
    "angles_silt = []\n",
    "critical_angles_silt = []\n",
    "common_mean_result_silt = []\n",
    "\n",
    "for f_factor in common_mean_f_factors_silt:\n",
    "    silt_unsquished_incs = ipmag.unsquish(cf_silt_grain_incs, f_factor)\n",
    "    silt_unsquished_directions_block = ipmag.make_di_block(cf_silt_grain_decs,silt_unsquished_incs)\n",
    "    watson_common_mean = ipmag.common_mean_watson(silt_unsquished_directions_block, \n",
    "                                                  nneu_dir_at_CF_block,\n",
    "                                                  NumSims=5000,\n",
    "                                                  print_result=False)\n",
    "    critical_angles_silt.append(watson_common_mean[2])\n",
    "    angles_silt.append(watson_common_mean[1])\n",
    "    if watson_common_mean[0] == 1:\n",
    "        common_mean_result_silt.append('pass')\n",
    "    elif watson_common_mean[0] == 0:\n",
    "        common_mean_result_silt.append('fail')"
   ]
  },
  {
   "cell_type": "code",
   "execution_count": 61,
   "metadata": {},
   "outputs": [],
   "source": [
    "common_mean_silt = pd.DataFrame({'f_factors':common_mean_f_factors_silt,\n",
    "                               'angles':angles_silt,\n",
    "                               'critical_angles':critical_angles_silt,\n",
    "                               'result':common_mean_result_silt})"
   ]
  },
  {
   "cell_type": "code",
   "execution_count": 62,
   "metadata": {},
   "outputs": [
    {
     "data": {
      "text/html": [
       "<div>\n",
       "<style scoped>\n",
       "    .dataframe tbody tr th:only-of-type {\n",
       "        vertical-align: middle;\n",
       "    }\n",
       "\n",
       "    .dataframe tbody tr th {\n",
       "        vertical-align: top;\n",
       "    }\n",
       "\n",
       "    .dataframe thead th {\n",
       "        text-align: right;\n",
       "    }\n",
       "</style>\n",
       "<table border=\"1\" class=\"dataframe\">\n",
       "  <thead>\n",
       "    <tr style=\"text-align: right;\">\n",
       "      <th></th>\n",
       "      <th>f_factors</th>\n",
       "      <th>angles</th>\n",
       "      <th>critical_angles</th>\n",
       "      <th>result</th>\n",
       "    </tr>\n",
       "  </thead>\n",
       "  <tbody>\n",
       "    <tr>\n",
       "      <th>0</th>\n",
       "      <td>0.300</td>\n",
       "      <td>16.460833</td>\n",
       "      <td>5.570721</td>\n",
       "      <td>fail</td>\n",
       "    </tr>\n",
       "    <tr>\n",
       "      <th>1</th>\n",
       "      <td>0.305</td>\n",
       "      <td>16.061634</td>\n",
       "      <td>5.499454</td>\n",
       "      <td>fail</td>\n",
       "    </tr>\n",
       "    <tr>\n",
       "      <th>2</th>\n",
       "      <td>0.310</td>\n",
       "      <td>15.667137</td>\n",
       "      <td>5.633427</td>\n",
       "      <td>fail</td>\n",
       "    </tr>\n",
       "    <tr>\n",
       "      <th>3</th>\n",
       "      <td>0.315</td>\n",
       "      <td>15.277309</td>\n",
       "      <td>5.478565</td>\n",
       "      <td>fail</td>\n",
       "    </tr>\n",
       "    <tr>\n",
       "      <th>4</th>\n",
       "      <td>0.320</td>\n",
       "      <td>14.892120</td>\n",
       "      <td>5.505495</td>\n",
       "      <td>fail</td>\n",
       "    </tr>\n",
       "  </tbody>\n",
       "</table>\n",
       "</div>"
      ],
      "text/plain": [
       "   f_factors     angles  critical_angles result\n",
       "0      0.300  16.460833         5.570721   fail\n",
       "1      0.305  16.061634         5.499454   fail\n",
       "2      0.310  15.667137         5.633427   fail\n",
       "3      0.315  15.277309         5.478565   fail\n",
       "4      0.320  14.892120         5.505495   fail"
      ]
     },
     "execution_count": 62,
     "metadata": {},
     "output_type": "execute_result"
    }
   ],
   "source": [
    "common_mean_silt.to_csv('./code_output/common_mean_silt.csv',index=0)\n",
    "common_mean_silt.head()"
   ]
  },
  {
   "cell_type": "code",
   "execution_count": 24,
   "metadata": {},
   "outputs": [
    {
     "name": "stdout",
     "output_type": "stream",
     "text": [
      "The smallest angle between data sets is 2.99 which corresponds to an f factor of 0.56\n",
      "The optimal f factor is: 0.56 with the lowest f of: 0.47 and the highest f of: 0.67\n"
     ]
    }
   ],
   "source": [
    "common_mean_silt = pd.read_csv('./code_output/common_mean_silt.csv')\n",
    "common_mean_silt_pass = common_mean_silt[common_mean_silt['result']=='pass']\n",
    "common_mean_silt_pass.reset_index(inplace=True)\n",
    "\n",
    "index_angle = np.argmin(common_mean_silt['angles'])\n",
    "common_mean_silt_best_angle = round(common_mean_silt['angles'][index_angle], 2)\n",
    "common_mean_silt_best_f = round(common_mean_silt['f_factors'][index_angle], 2)\n",
    "\n",
    "print('The smallest angle between data sets is',round(common_mean_silt_best_angle,2), 'which corresponds to an f factor of', common_mean_silt_best_f)\n",
    "\n",
    "common_mean_silt_f_low = common_mean_silt_pass['f_factors'].min()\n",
    "common_mean_silt_f_high = common_mean_silt_pass['f_factors'].max()\n",
    "\n",
    "print('The optimal f factor is:', round(common_mean_silt_best_f,2),\n",
    "      'with the lowest f of:', round(common_mean_silt_f_low,2),\n",
    "       'and the highest f of:', round(common_mean_silt_f_high,2))"
   ]
  },
  {
   "cell_type": "markdown",
   "metadata": {},
   "source": [
    "### Very fine sand grain f\n",
    "\n",
    "Watson common mean test between NSVG and CF very fine sandstone specimen directions"
   ]
  },
  {
   "cell_type": "code",
   "execution_count": 63,
   "metadata": {},
   "outputs": [],
   "source": [
    "cf_vf_grain_incs=cf_vfs_grain['dir_inc']\n",
    "cf_vf_grain_decs=cf_vfs_grain['dir_dec']"
   ]
  },
  {
   "cell_type": "code",
   "execution_count": 64,
   "metadata": {},
   "outputs": [
    {
     "name": "stdout",
     "output_type": "stream",
     "text": [
      "Wall time: 10min 27s\n"
     ]
    }
   ],
   "source": [
    "%%time\n",
    "common_mean_f_factors_vf = np.arange(0.4,0.8,.005)\n",
    "angles_vf = []\n",
    "critical_angles_vf = []\n",
    "common_mean_result_vf = []\n",
    "\n",
    "for f_factor in common_mean_f_factors_vf:\n",
    "    vf_unsquished_incs = ipmag.unsquish(cf_vf_grain_incs, f_factor)\n",
    "    vf_unsquished_directions_block = ipmag.make_di_block(cf_vf_grain_decs,vf_unsquished_incs)\n",
    "    watson_common_mean = ipmag.common_mean_watson(vf_unsquished_directions_block, \n",
    "                                                  nneu_dir_at_CF_block,\n",
    "                                                  NumSims=5000,\n",
    "                                                  print_result=False)\n",
    "    critical_angles_vf.append(watson_common_mean[2])\n",
    "    angles_vf.append(watson_common_mean[1])\n",
    "    if watson_common_mean[0] == 1:\n",
    "        common_mean_result_vf.append('pass')\n",
    "    elif watson_common_mean[0] == 0:\n",
    "        common_mean_result_vf.append('fail')"
   ]
  },
  {
   "cell_type": "code",
   "execution_count": 65,
   "metadata": {},
   "outputs": [],
   "source": [
    "common_mean_vf = pd.DataFrame({'f_factors':common_mean_f_factors_vf,\n",
    "                               'angles':angles_vf,\n",
    "                               'critical_angles':critical_angles_vf,\n",
    "                               'result':common_mean_result_vf})"
   ]
  },
  {
   "cell_type": "code",
   "execution_count": 66,
   "metadata": {},
   "outputs": [
    {
     "data": {
      "text/html": [
       "<div>\n",
       "<style scoped>\n",
       "    .dataframe tbody tr th:only-of-type {\n",
       "        vertical-align: middle;\n",
       "    }\n",
       "\n",
       "    .dataframe tbody tr th {\n",
       "        vertical-align: top;\n",
       "    }\n",
       "\n",
       "    .dataframe thead th {\n",
       "        text-align: right;\n",
       "    }\n",
       "</style>\n",
       "<table border=\"1\" class=\"dataframe\">\n",
       "  <thead>\n",
       "    <tr style=\"text-align: right;\">\n",
       "      <th></th>\n",
       "      <th>f_factors</th>\n",
       "      <th>angles</th>\n",
       "      <th>critical_angles</th>\n",
       "      <th>result</th>\n",
       "    </tr>\n",
       "  </thead>\n",
       "  <tbody>\n",
       "    <tr>\n",
       "      <th>0</th>\n",
       "      <td>0.400</td>\n",
       "      <td>13.523458</td>\n",
       "      <td>6.402127</td>\n",
       "      <td>fail</td>\n",
       "    </tr>\n",
       "    <tr>\n",
       "      <th>1</th>\n",
       "      <td>0.405</td>\n",
       "      <td>13.224987</td>\n",
       "      <td>6.396933</td>\n",
       "      <td>fail</td>\n",
       "    </tr>\n",
       "    <tr>\n",
       "      <th>2</th>\n",
       "      <td>0.410</td>\n",
       "      <td>12.929809</td>\n",
       "      <td>6.367477</td>\n",
       "      <td>fail</td>\n",
       "    </tr>\n",
       "    <tr>\n",
       "      <th>3</th>\n",
       "      <td>0.415</td>\n",
       "      <td>12.637927</td>\n",
       "      <td>6.384665</td>\n",
       "      <td>fail</td>\n",
       "    </tr>\n",
       "    <tr>\n",
       "      <th>4</th>\n",
       "      <td>0.420</td>\n",
       "      <td>12.349346</td>\n",
       "      <td>6.343328</td>\n",
       "      <td>fail</td>\n",
       "    </tr>\n",
       "  </tbody>\n",
       "</table>\n",
       "</div>"
      ],
      "text/plain": [
       "   f_factors     angles  critical_angles result\n",
       "0      0.400  13.523458         6.402127   fail\n",
       "1      0.405  13.224987         6.396933   fail\n",
       "2      0.410  12.929809         6.367477   fail\n",
       "3      0.415  12.637927         6.384665   fail\n",
       "4      0.420  12.349346         6.343328   fail"
      ]
     },
     "execution_count": 66,
     "metadata": {},
     "output_type": "execute_result"
    }
   ],
   "source": [
    "common_mean_vf.to_csv('./code_output/common_mean_vf.csv',index=0)\n",
    "common_mean_vf.head()"
   ]
  },
  {
   "cell_type": "code",
   "execution_count": 25,
   "metadata": {},
   "outputs": [
    {
     "name": "stdout",
     "output_type": "stream",
     "text": [
      "The smallest angle between data sets is 3.9 which corresponds to an f factor of 0.66\n",
      "The optimal f factor is: 0.66 with the lowest f of: 0.55 and the highest f of: 0.79\n"
     ]
    }
   ],
   "source": [
    "common_mean_vf = pd.read_csv('./code_output/common_mean_vf.csv')\n",
    "common_mean_vf_pass = common_mean_vf[common_mean_vf['result']=='pass']\n",
    "common_mean_vf_pass.reset_index(inplace=True)\n",
    "\n",
    "index_angle = np.argmin(common_mean_vf['angles'])\n",
    "common_mean_vf_best_angle = round(common_mean_vf['angles'][index_angle], 2)\n",
    "common_mean_vf_best_f = round(common_mean_vf['f_factors'][index_angle], 2)\n",
    "\n",
    "print('The smallest angle between data sets is',round(common_mean_vf_best_angle,2), 'which corresponds to an f factor of', common_mean_vf_best_f)\n",
    "\n",
    "common_mean_vf_f_low = common_mean_vf_pass['f_factors'].min()\n",
    "common_mean_vf_f_high = common_mean_vf_pass['f_factors'].max()\n",
    "\n",
    "print('The optimal f factor is:', round(common_mean_vf_best_f,2),\n",
    "      'with the lowest f of:', round(common_mean_vf_f_low,2),\n",
    "       'and the highest f of:', round(common_mean_vf_f_high,2))"
   ]
  },
  {
   "cell_type": "markdown",
   "metadata": {},
   "source": [
    "### fine and medium sand f\n",
    "\n",
    "Watson common mean test between NSVG and CF fine and medium sandstone specimen directions"
   ]
  },
  {
   "cell_type": "code",
   "execution_count": 67,
   "metadata": {},
   "outputs": [],
   "source": [
    "cf_fm_grain_incs=cf_fm_grain['dir_inc']\n",
    "cf_fm_grain_decs=cf_fm_grain['dir_dec']"
   ]
  },
  {
   "cell_type": "code",
   "execution_count": 68,
   "metadata": {},
   "outputs": [
    {
     "name": "stdout",
     "output_type": "stream",
     "text": [
      "Wall time: 10min 50s\n"
     ]
    }
   ],
   "source": [
    "%%time\n",
    "common_mean_f_factors_fm = np.arange(0.55,0.9,.005)\n",
    "angles_fm = []\n",
    "critical_angles_fm = []\n",
    "common_mean_result_fm = []\n",
    "\n",
    "for f_factor in common_mean_f_factors_fm:\n",
    "    fm_unsquished_incs = ipmag.unsquish(cf_fm_grain_incs, f_factor)\n",
    "    fm_unsquished_directions_block = ipmag.make_di_block(cf_fm_grain_decs,fm_unsquished_incs)\n",
    "    watson_common_mean = ipmag.common_mean_watson(fm_unsquished_directions_block, \n",
    "                                                  nneu_dir_at_CF_block,\n",
    "                                                  NumSims=5000,\n",
    "                                                  print_result=False)\n",
    "    critical_angles_fm.append(watson_common_mean[2])\n",
    "    angles_fm.append(watson_common_mean[1])\n",
    "    if watson_common_mean[0] == 1:\n",
    "        common_mean_result_fm.append('pass')\n",
    "    elif watson_common_mean[0] == 0:\n",
    "        common_mean_result_fm.append('fail')"
   ]
  },
  {
   "cell_type": "code",
   "execution_count": 69,
   "metadata": {},
   "outputs": [],
   "source": [
    "common_mean_fm = pd.DataFrame({'f_factors':common_mean_f_factors_fm,\n",
    "                               'angles':angles_fm,\n",
    "                               'critical_angles':critical_angles_fm,\n",
    "                               'result':common_mean_result_fm})"
   ]
  },
  {
   "cell_type": "code",
   "execution_count": 70,
   "metadata": {},
   "outputs": [
    {
     "data": {
      "text/html": [
       "<div>\n",
       "<style scoped>\n",
       "    .dataframe tbody tr th:only-of-type {\n",
       "        vertical-align: middle;\n",
       "    }\n",
       "\n",
       "    .dataframe tbody tr th {\n",
       "        vertical-align: top;\n",
       "    }\n",
       "\n",
       "    .dataframe thead th {\n",
       "        text-align: right;\n",
       "    }\n",
       "</style>\n",
       "<table border=\"1\" class=\"dataframe\">\n",
       "  <thead>\n",
       "    <tr style=\"text-align: right;\">\n",
       "      <th></th>\n",
       "      <th>f_factors</th>\n",
       "      <th>angles</th>\n",
       "      <th>critical_angles</th>\n",
       "      <th>result</th>\n",
       "    </tr>\n",
       "  </thead>\n",
       "  <tbody>\n",
       "    <tr>\n",
       "      <th>0</th>\n",
       "      <td>0.550</td>\n",
       "      <td>8.944027</td>\n",
       "      <td>5.698267</td>\n",
       "      <td>fail</td>\n",
       "    </tr>\n",
       "    <tr>\n",
       "      <th>1</th>\n",
       "      <td>0.555</td>\n",
       "      <td>8.731662</td>\n",
       "      <td>5.814232</td>\n",
       "      <td>fail</td>\n",
       "    </tr>\n",
       "    <tr>\n",
       "      <th>2</th>\n",
       "      <td>0.560</td>\n",
       "      <td>8.522486</td>\n",
       "      <td>5.643601</td>\n",
       "      <td>fail</td>\n",
       "    </tr>\n",
       "    <tr>\n",
       "      <th>3</th>\n",
       "      <td>0.565</td>\n",
       "      <td>8.316561</td>\n",
       "      <td>5.708978</td>\n",
       "      <td>fail</td>\n",
       "    </tr>\n",
       "    <tr>\n",
       "      <th>4</th>\n",
       "      <td>0.570</td>\n",
       "      <td>8.113949</td>\n",
       "      <td>5.731333</td>\n",
       "      <td>fail</td>\n",
       "    </tr>\n",
       "  </tbody>\n",
       "</table>\n",
       "</div>"
      ],
      "text/plain": [
       "   f_factors    angles  critical_angles result\n",
       "0      0.550  8.944027         5.698267   fail\n",
       "1      0.555  8.731662         5.814232   fail\n",
       "2      0.560  8.522486         5.643601   fail\n",
       "3      0.565  8.316561         5.708978   fail\n",
       "4      0.570  8.113949         5.731333   fail"
      ]
     },
     "execution_count": 70,
     "metadata": {},
     "output_type": "execute_result"
    }
   ],
   "source": [
    "common_mean_fm.to_csv('./code_output/common_mean_fm.csv',index=0)\n",
    "common_mean_fm.head()"
   ]
  },
  {
   "cell_type": "code",
   "execution_count": 26,
   "metadata": {},
   "outputs": [
    {
     "name": "stdout",
     "output_type": "stream",
     "text": [
      "The smallest angle between data sets is 4.16 which corresponds to an f factor of 0.74\n",
      "The optimal f factor is: 0.74 with the lowest f of: 0.64 and the highest f of: 0.87\n"
     ]
    }
   ],
   "source": [
    "common_mean_fm = pd.read_csv('./code_output/common_mean_fm.csv')\n",
    "common_mean_fm_pass = common_mean_fm[common_mean_fm['result']=='pass']\n",
    "common_mean_fm_pass.reset_index(inplace=True)\n",
    "\n",
    "index_angle = np.argmin(common_mean_fm['angles'])\n",
    "common_mean_fm_best_angle = round(common_mean_fm['angles'][index_angle], 2)\n",
    "common_mean_fm_best_f = round(common_mean_fm['f_factors'][index_angle], 2)\n",
    "\n",
    "print('The smallest angle between data sets is',round(common_mean_fm_best_angle,2), 'which corresponds to an f factor of', common_mean_fm_best_f)\n",
    "\n",
    "common_mean_fm_f_low = common_mean_fm_pass['f_factors'].min()\n",
    "common_mean_fm_f_high = common_mean_fm_pass['f_factors'].max()\n",
    "\n",
    "print('The optimal f factor is:', round(common_mean_fm_best_f,2),\n",
    "      'with the lowest f of:', round(common_mean_fm_f_low,2),\n",
    "       'and the highest f of:', round(common_mean_fm_f_high,2))"
   ]
  },
  {
   "cell_type": "code",
   "execution_count": null,
   "metadata": {},
   "outputs": [],
   "source": []
  }
 ],
 "metadata": {
  "kernelspec": {
   "display_name": "Python 3 (ipykernel)",
   "language": "python",
   "name": "python3"
  },
  "language_info": {
   "codemirror_mode": {
    "name": "ipython",
    "version": 3
   },
   "file_extension": ".py",
   "mimetype": "text/x-python",
   "name": "python",
   "nbconvert_exporter": "python",
   "pygments_lexer": "ipython3",
   "version": "3.9.12"
  }
 },
 "nbformat": 4,
 "nbformat_minor": 4
}
