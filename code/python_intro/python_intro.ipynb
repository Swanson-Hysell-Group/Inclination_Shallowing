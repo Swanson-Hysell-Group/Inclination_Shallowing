{
 "cells": [
  {
   "cell_type": "markdown",
   "metadata": {},
   "source": [
    "# Python Intro notebook"
   ]
  },
  {
   "cell_type": "markdown",
   "metadata": {},
   "source": [
    "## 12/30\n",
    "- Python I/O\n",
    "- Loops\n",
    "- functions"
   ]
  },
  {
   "cell_type": "code",
   "execution_count": null,
   "metadata": {},
   "outputs": [],
   "source": [
    "# comment here: this is the absolute path to the file\n",
    "# filepath = '/Users/yimingzhang/Github/Cut_Face/data/Pmag/2020_thermal_demag_1/CF-1a'\n",
    "# file = open(filepath)\n",
    "# comment: this is the relative path to the file\n",
    "# file = open('../../data/Pmag/2020_thermal_demag_1/CF-1a')\n",
    "filepath = '../../data/Pmag/2020_thermal_demag_1/CF-1a'\n",
    "file = open(filepath)\n",
    "\n",
    "\n",
    "lines = file.readlines()"
   ]
  },
  {
   "cell_type": "code",
   "execution_count": null,
   "metadata": {},
   "outputs": [],
   "source": [
    "file"
   ]
  },
  {
   "cell_type": "code",
   "execution_count": null,
   "metadata": {},
   "outputs": [],
   "source": [
    "lines"
   ]
  },
  {
   "cell_type": "code",
   "execution_count": null,
   "metadata": {},
   "outputs": [],
   "source": [
    "reversed_lines = lines[::-1]"
   ]
  },
  {
   "cell_type": "code",
   "execution_count": null,
   "metadata": {},
   "outputs": [],
   "source": [
    "lines"
   ]
  },
  {
   "cell_type": "code",
   "execution_count": null,
   "metadata": {},
   "outputs": [],
   "source": [
    "reversed_lines"
   ]
  },
  {
   "cell_type": "code",
   "execution_count": null,
   "metadata": {},
   "outputs": [],
   "source": [
    "# get the data lines\n",
    "data_lines = lines[2:]\n",
    "data_lines"
   ]
  },
  {
   "cell_type": "code",
   "execution_count": null,
   "metadata": {},
   "outputs": [],
   "source": [
    "data_lines[0]"
   ]
  },
  {
   "cell_type": "code",
   "execution_count": null,
   "metadata": {},
   "outputs": [],
   "source": [
    "items_list = data_lines[0].split()\n",
    "items_list"
   ]
  },
  {
   "cell_type": "code",
   "execution_count": null,
   "metadata": {},
   "outputs": [],
   "source": [
    "float(items_list[1])"
   ]
  },
  {
   "cell_type": "code",
   "execution_count": null,
   "metadata": {},
   "outputs": [],
   "source": [
    "items_list[1]"
   ]
  },
  {
   "cell_type": "code",
   "execution_count": null,
   "metadata": {},
   "outputs": [],
   "source": [
    "float(items_list[2])"
   ]
  },
  {
   "cell_type": "code",
   "execution_count": null,
   "metadata": {},
   "outputs": [],
   "source": [
    "def f(x):\n",
    "    return (x**2-4*x+4)\n",
    "\n",
    "def loop_fx(xs):\n",
    "    output = []\n",
    "    for i in range(len(xs)):\n",
    "        output.append(f(xs[i]))\n",
    "    return output"
   ]
  },
  {
   "cell_type": "code",
   "execution_count": null,
   "metadata": {},
   "outputs": [],
   "source": [
    "xs = [-1,0,1,2,3,4,5]"
   ]
  },
  {
   "cell_type": "code",
   "execution_count": null,
   "metadata": {},
   "outputs": [],
   "source": [
    "loop_fx(xs)"
   ]
  },
  {
   "cell_type": "code",
   "execution_count": null,
   "metadata": {},
   "outputs": [],
   "source": [
    "data_lines"
   ]
  },
  {
   "cell_type": "code",
   "execution_count": null,
   "metadata": {},
   "outputs": [],
   "source": [
    "def get_directions(data):\n",
    "    dec_list = []\n",
    "    inc_list = []\n",
    "    \n",
    "    for i in range(len(data)):\n",
    "        # get to the line\n",
    "        this_line = data[i]\n",
    "        this_line_items = this_line.split()\n",
    "        if this_line_items[0] == 'NRM':\n",
    "            dec_list.append(float(this_line_items[1]))\n",
    "            inc_list.append(float(this_line_items[2]))\n",
    "        else:\n",
    "            dec_list.append(float(this_line_items[2]))\n",
    "            inc_list.append(float(this_line_items[3]))\n",
    "    return dec_list, inc_list"
   ]
  },
  {
   "cell_type": "code",
   "execution_count": null,
   "metadata": {},
   "outputs": [],
   "source": [
    "data_lines[0]"
   ]
  },
  {
   "cell_type": "code",
   "execution_count": null,
   "metadata": {},
   "outputs": [],
   "source": [
    "items_list"
   ]
  },
  {
   "cell_type": "code",
   "execution_count": null,
   "metadata": {},
   "outputs": [],
   "source": [
    "get_directions(data_lines)"
   ]
  },
  {
   "cell_type": "code",
   "execution_count": null,
   "metadata": {},
   "outputs": [],
   "source": [
    "def get_magnitude(data):\n",
    "    mag_list = []\n",
    "    for i in range(len(data)):\n",
    "        # get to the line\n",
    "        this_line = data[i]\n",
    "        this_line_items = this_line.split()\n",
    "        if this_line_items[0] == 'NRM':\n",
    "            mag_list.append(float(this_line_items[5])) \n",
    "        else:\n",
    "            mag_list.append(float(this_line_items[6]))\n",
    "    return mag_list"
   ]
  },
  {
   "cell_type": "code",
   "execution_count": null,
   "metadata": {},
   "outputs": [],
   "source": [
    "get_magnitude(data_lines)"
   ]
  },
  {
   "cell_type": "code",
   "execution_count": null,
   "metadata": {},
   "outputs": [],
   "source": [
    "data_mag_list = get_magnitude(data_lines)\n",
    "data_mag_list"
   ]
  },
  {
   "cell_type": "code",
   "execution_count": null,
   "metadata": {},
   "outputs": [],
   "source": [
    "def magnitude_difference(data):\n",
    "    mag_diff = []\n",
    "    for i in range(1,len(data)):\n",
    "        diff = data[i]-data[i-1]\n",
    "        mag_diff.append(diff)\n",
    "    return mag_diff"
   ]
  },
  {
   "cell_type": "code",
   "execution_count": null,
   "metadata": {},
   "outputs": [],
   "source": [
    "magnitude_difference(data_mag_list)"
   ]
  },
  {
   "cell_type": "code",
   "execution_count": null,
   "metadata": {},
   "outputs": [],
   "source": [
    "import pandas as pd"
   ]
  },
  {
   "cell_type": "code",
   "execution_count": null,
   "metadata": {},
   "outputs": [],
   "source": [
    "final_mag_list = magnitude_difference(data_mag_list)\n",
    "final_mag_list"
   ]
  },
  {
   "cell_type": "code",
   "execution_count": null,
   "metadata": {},
   "outputs": [],
   "source": []
  },
  {
   "cell_type": "code",
   "execution_count": null,
   "metadata": {},
   "outputs": [],
   "source": [
    "len(final_mag_list)"
   ]
  },
  {
   "cell_type": "code",
   "execution_count": null,
   "metadata": {},
   "outputs": [],
   "source": []
  },
  {
   "cell_type": "code",
   "execution_count": null,
   "metadata": {},
   "outputs": [],
   "source": []
  },
  {
   "cell_type": "code",
   "execution_count": null,
   "metadata": {},
   "outputs": [],
   "source": [
    "filepath_cf2 = '../../data/Pmag/2020_thermal_demag_1/CF-2a'\n",
    "cf2_data = open(filepath_cf2)\n",
    "cf2_data = cf2_data.readlines"
   ]
  },
  {
   "cell_type": "code",
   "execution_count": 1,
   "metadata": {},
   "outputs": [
    {
     "data": {
      "text/plain": [
       "['NRM    296.4  50.9 296.4  50.9 8.69E-04 000.9 171.6  47.0 0.495647 1.152974 0.456777 hargrave 2020-08-30 18:46:45 \\n',\n",
       " 'TT 100 295.4  49.7 295.4  49.7 8.54E-04 001.4 170.6  45.8 1.471800 0.510096 1.286266 hargrave 2020-09-01 16:27:59 \\n',\n",
       " 'TT 200 286.8  41.3 286.8  41.3 6.70E-04 002.3 162.3  37.5 1.205439 2.217384 0.863679 hargrave 2020-09-05 16:17:13 \\n',\n",
       " 'TT 300 286.5  35.8 286.5  35.8 5.11E-04 003.9 161.9  32.0 0.780483 3.355722 0.572495 hargrave 2020-09-06 18:48:59 \\n',\n",
       " 'TT 400 290.0  33.3 290.0  33.3 3.53E-04 009.1 165.1  29.4 1.584714 5.408215 0.314405 hargrave 2020-09-15 15:46:29 \\n',\n",
       " 'TT 400 286.6  32.8 286.6  32.8 3.57E-04 001.6 161.8  29.0 0.243480 0.935923 0.258172 hargrave 2020-09-15 17:50:08 \\n',\n",
       " 'TT 450 291.9  34.1 291.9  34.1 3.06E-04 003.9 166.9  30.2 0.697300 1.919530 0.427889 hargrave 2020-09-17 22:35:09 \\n',\n",
       " 'TT 500 288.3  30.0 288.3  30.0 2.52E-04 002.0 163.4  26.2 0.327753 0.776835 0.318384 hargrave 2020-09-19 15:00:46 \\n',\n",
       " 'TT 525 284.5  31.0 284.5  31.0 2.27E-04 002.0 159.8  27.2 0.078694 0.568071 0.524074 hargrave 2020-09-19 20:00:13 \\n',\n",
       " 'TT 550 287.2  29.7 287.2  29.7 2.00E-04 005.7 162.4  25.9 0.761556 1.789866 0.447144 hargrave 2020-09-22 15:33:37 \\n',\n",
       " 'TT 560 289.6  29.4 289.6  29.4 1.84E-04 001.5 164.7  25.6 0.135280 0.284419 0.362483 hargrave 2020-09-24 20:00:30 \\n',\n",
       " 'TT 570 286.5  29.5 286.5  29.5 1.66E-04 001.3 161.7  25.7 0.148874 0.062900 0.354316 hargrave 2020-09-26 14:37:44 \\n',\n",
       " 'TT 580 285.2  27.3 285.2  27.3 1.42E-04 001.8 160.3  23.5 0.074683 0.365684 0.239841 hargrave 2020-09-27 13:43:40 \\n',\n",
       " 'TT 590 285.8  23.9 285.8  23.9 1.42E-04 000.8 160.9  20.1 0.054342 0.129178 0.131982 hargrave 2020-10-03 13:40:25 \\n',\n",
       " 'TT 600 281.3  24.6 281.3  24.6 1.31E-04 003.7 156.5  21.0 0.335883 0.775077 0.089309 hargrave 2020-10-07 21:26:11 \\n',\n",
       " 'TT 610 281.7  28.4 281.7  28.4 1.08E-04 011.1 157.0  24.7 0.822589 1.948169 0.074097 hargrave 2020-10-08 20:55:24 \\n',\n",
       " 'TT 610 292.3  28.0 292.3  28.0 1.10E-04 003.9 167.3  24.1 0.181881 0.718010 0.102359 hargrave 2020-10-09 08:51:06 \\n',\n",
       " 'TT 620 289.5  22.5 289.5  22.5 9.74E-05 001.2 164.5  18.7 0.063227 0.192925 0.073457 hargrave 2020-10-10 09:27:59 \\n',\n",
       " 'TT 630 287.5  21.6 287.5  21.6 8.21E-05 001.7 162.5  17.8 0.101552 0.209240 0.069741 hargrave 2020-10-10 21:13:40 \\n',\n",
       " 'TT 640 285.0  22.7 285.0  22.7 7.56E-05 008.8 160.1  18.9 0.387961 1.106398 0.066968 hargrave 2020-10-13 13:45:44 \\n',\n",
       " 'TT 640 281.0  21.9 281.0  21.9 7.72E-05 000.7 156.1  18.3 0.089998 0.077711 0.054517 hargrave 2020-10-13 15:01:45 \\n',\n",
       " 'TT 650 295.7  23.2 295.7  23.2 5.67E-05 004.8 170.4  19.2 0.080406 0.467685 0.048770 hargrave 2020-10-14 08:58:51 \\n',\n",
       " 'TT 660 293.4  20.5 293.4  20.5 5.61E-05 005.3 168.2  16.6 0.142135 0.495288 0.092214 hargrave 2020-10-16 16:54:26 \\n',\n",
       " 'TT 664 283.8  15.6 283.8  15.6 4.74E-05 002.5 158.7  11.9 0.106270 0.185664 0.053921 hargrave 2020-10-30 11:53:04 \\n',\n",
       " 'TT 668 292.7  16.3 292.7  16.3 4.39E-05 002.9 167.4  12.4 0.088876 0.208555 0.069682 hargrave 2020-10-30 18:35:18 \\n',\n",
       " 'TT 672 293.6  16.2 293.6  16.2 3.22E-05 001.9 168.3  12.3 0.101615 0.092534 0.047144 hargrave 2020-11-09 00:25:00 \\n',\n",
       " 'TT 674 292.3  15.6 292.3  15.6 2.61E-05 001.5 167.0  11.7 0.048478 0.056098 0.035152 hargrave 2020-11-15 17:48:39 \\n',\n",
       " 'TT 675 312.5  09.7 312.5  09.7 1.61E-05 003.3 187.0  05.7 0.035862 0.088459 0.026692 hargrave 2020-11-16 00:54:59 \\n',\n",
       " 'TT 676 281.4  11.2 281.4  11.2 1.57E-05 001.3 156.1  07.5 0.031944 0.027976 0.021209 hargrave 2020-11-19 11:00:31 \\n',\n",
       " 'TT 677 320.1  10.6 320.1  10.6 1.07E-05 002.1 194.4  06.7 0.022571 0.039672 0.007594 hargrave 2020-11-19 17:10:12 \\n',\n",
       " 'TT 678 276.1  11.5 276.1  11.5 1.43E-05 001.1 151.0  08.0 0.026946 0.024273 0.010349 hargrave 2020-11-19 23:13:17 \\n',\n",
       " 'TT 679 313.0  16.9 313.0  16.9 1.30E-05 001.3 187.3  12.9 0.023832 0.025705 0.012207 hargrave 2020-11-22 10:06:26 \\n',\n",
       " 'TT 680 265.6  12.5 265.6  12.5 1.28E-05 002.0 140.6  09.4 0.034080 0.034550 0.008848 hargrave 2020-11-22 16:07:03 \\n',\n",
       " 'TT 681 291.3  26.1 291.3  26.1 1.07E-05 002.8 166.2  22.2 0.152402 0.028192 0.015179 hargrave 2020-11-24 21:38:59 \\n']"
      ]
     },
     "execution_count": 1,
     "metadata": {},
     "output_type": "execute_result"
    }
   ],
   "source": [
    "cf3_path = '/Users/jamespierce/Desktop/Git_hub/Cut_Face/data/Pmag/2020_thermal_demag_1/CF-3a'\n",
    "cf3_path_open = open(cf3_path)\n",
    "cf3_data_all = cf3_path_open.readlines()\n",
    "cf3_data = cf3_data_all[2:]\n",
    "cf3_data"
   ]
  },
  {
   "cell_type": "code",
   "execution_count": 10,
   "metadata": {},
   "outputs": [],
   "source": [
    "def get_mag(q):\n",
    "    q_mag_list = []\n",
    "    for i in range(len(q)):\n",
    "        each_line = q[i]\n",
    "        q_broken = each_line.split()\n",
    "        if q_broken[0] == 'NRM':\n",
    "            q_mag_list.append(float(q_broken[5]))\n",
    "        else:\n",
    "            q_mag_list.append(float(q_broken[6]))\n",
    "    return q_mag_list"
   ]
  },
  {
   "cell_type": "code",
   "execution_count": 11,
   "metadata": {},
   "outputs": [
    {
     "data": {
      "text/plain": [
       "[0.000869,\n",
       " 0.000854,\n",
       " 0.00067,\n",
       " 0.000511,\n",
       " 0.000353,\n",
       " 0.000357,\n",
       " 0.000306,\n",
       " 0.000252,\n",
       " 0.000227,\n",
       " 0.0002,\n",
       " 0.000184,\n",
       " 0.000166,\n",
       " 0.000142,\n",
       " 0.000142,\n",
       " 0.000131,\n",
       " 0.000108,\n",
       " 0.00011,\n",
       " 9.74e-05,\n",
       " 8.21e-05,\n",
       " 7.56e-05,\n",
       " 7.72e-05,\n",
       " 5.67e-05,\n",
       " 5.61e-05,\n",
       " 4.74e-05,\n",
       " 4.39e-05,\n",
       " 3.22e-05,\n",
       " 2.61e-05,\n",
       " 1.61e-05,\n",
       " 1.57e-05,\n",
       " 1.07e-05,\n",
       " 1.43e-05,\n",
       " 1.3e-05,\n",
       " 1.28e-05,\n",
       " 1.07e-05]"
      ]
     },
     "execution_count": 11,
     "metadata": {},
     "output_type": "execute_result"
    }
   ],
   "source": [
    "get_mag(cf3_data)"
   ]
  },
  {
   "cell_type": "code",
   "execution_count": null,
   "metadata": {},
   "outputs": [],
   "source": []
  }
 ],
 "metadata": {
  "kernelspec": {
   "display_name": "Python 3",
   "language": "python",
   "name": "python3"
  },
  "language_info": {
   "codemirror_mode": {
    "name": "ipython",
    "version": 3
   },
   "file_extension": ".py",
   "mimetype": "text/x-python",
   "name": "python",
   "nbconvert_exporter": "python",
   "pygments_lexer": "ipython3",
   "version": "3.8.3"
  }
 },
 "nbformat": 4,
 "nbformat_minor": 4
}
